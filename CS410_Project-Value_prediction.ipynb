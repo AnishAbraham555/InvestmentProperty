{
 "cells": [
  {
   "cell_type": "markdown",
   "metadata": {},
   "source": [
    "# Investment Property Tool\n",
    "\n",
    "## CS410 Project\n",
    "\n",
    "Submitted By: Anish Abraham\n",
    "    \n",
    "Date        : December 14, 2018\n",
    "\n",
    "\n",
    "## Project Overview:\n",
    "\n",
    "There are several property websites where buyers can browse through properties listed for sale and get more details like viewing pictures and locations. However, property market is not very liquid and determining a fair price for a property is not very straightforward. \n",
    "\n",
    "An investor or even someone looking for a home and keen to personalize the home to their liking would prefer to purchase an undervalued home and spend money to personalize the property. It is always a challenge for the prospective buyer to determine whether the home which he is trying to buy is worth the money spent. \n",
    "\n",
    "This project tries to solve the problem by building a predictive model for finding the value with text retrieval and mining techniques. There are several websites which showcases the estimated price and the actual price of a property there by giving the customer a way to understand whether the amount they are spending is comparable to the estimated price of that property. Here we are trying to predict the value of the homes there by the customer will have a baseline for all the different homes irrespective of the location or the year in which it was built or the facilities available in that home. \n",
    "\n",
    "Zillow is one of the popular property listing websites in US. Using Zillow's GetUpdatedPropertyDetails API, we extracted the data. This data included details like full address, posting details, images, home facts such as bedrooms, bathrooms, year built, squarefoot, roof type, number of rooms, home description, neighborhood and school information.\n",
    "\n",
    "### Problem Statement\n",
    "\n",
    "Determining the value for money for a real estate property is not that easy. Different websites shows different estimated price for the same/ or similar property. This is primarily because of the way in which the features are being selected for obtaining the estimate. \n",
    "\n",
    "### Proposed Solution\n",
    "\n",
    "The current property websites does not showcase the real value of a property which could be used to compare multiple properties. Hence we are trying to build a predictive model for finding the value by feature extraction involving textual data. The intended workflow for this project is mentioned below.\n",
    "\n",
    "1. Extract the data from Zillow website using API GetUpdatedPropertyDetails.\n",
    "    - Using the zillow ID , extract a range of data.\n",
    "    - Store the deisred columns during the scraping process.\n",
    "    - Validate the data before storing the field values.\n",
    "    - Skip the values if the corresponding column is missing in the XML response.\n",
    "    \n",
    "    \n",
    "2. Preprocess the data\n",
    "    - Remove features which are not helpful for predicting the value.\n",
    "    - Remove incomplete listings if the major feature values are missing.\n",
    "    - Impute missing values: most frequent for text and median for others.\n",
    "        \n",
    "     \n",
    "3. Feature Engineering\n",
    "    - Topic modeling using LDA.\n",
    "    - Convert corpus into Document Term Matrix\n",
    "    \n",
    "   \n",
    "4. Build the model\n",
    "    - Linear regression method is used to build the model.\n",
    "    - Train the model\n",
    "    \n",
    "    \n",
    "5. Test the model\n",
    "    - Test the model built\n",
    "    - Mean squared error is used for measuring model accuracy.\n",
    "    \n",
    "\n",
    "6. Explore other characterisitcs of the data\n",
    "    - Bag of words representation\n",
    "    - TF-IDF\n",
    "    \n",
    "\n"
   ]
  },
  {
   "cell_type": "markdown",
   "metadata": {},
   "source": [
    "### Initial Setup"
   ]
  },
  {
   "cell_type": "code",
   "execution_count": 1,
   "metadata": {},
   "outputs": [
    {
     "name": "stderr",
     "output_type": "stream",
     "text": [
      "C:\\Users\\anish\\Anaconda3\\lib\\site-packages\\gensim\\utils.py:1212: UserWarning: detected Windows; aliasing chunkize to chunkize_serial\n",
      "  warnings.warn(\"detected Windows; aliasing chunkize to chunkize_serial\")\n"
     ]
    }
   ],
   "source": [
    "import pandas as pd\n",
    "import os\n",
    "import re\n",
    "import numpy as np\n",
    "import seaborn as sns\n",
    "\n",
    "import matplotlib as mpl\n",
    "import matplotlib.pyplot as plt\n",
    "\n",
    "import nltk\n",
    "from nltk import word_tokenize\n",
    "from nltk.tokenize import RegexpTokenizer\n",
    "from nltk.corpus import stopwords\n",
    "from nltk.stem import WordNetLemmatizer\n",
    "\n",
    "from sklearn.preprocessing import Imputer\n",
    "from sklearn.model_selection import cross_val_score\n",
    "from sklearn.model_selection import train_test_split\n",
    "\n",
    "from gensim.corpora.dictionary import Dictionary\n",
    "from gensim.models.tfidfmodel import TfidfModel\n",
    "from gensim.models.ldamodel import LdaModel\n",
    "\n",
    "import itertools\n",
    "from collections import Counter\n",
    "#from collections import defaultdict"
   ]
  },
  {
   "cell_type": "markdown",
   "metadata": {},
   "source": [
    "### Read the CSV file generated using the API"
   ]
  },
  {
   "cell_type": "code",
   "execution_count": 2,
   "metadata": {},
   "outputs": [
    {
     "data": {
      "text/html": [
       "<div>\n",
       "<style scoped>\n",
       "    .dataframe tbody tr th:only-of-type {\n",
       "        vertical-align: middle;\n",
       "    }\n",
       "\n",
       "    .dataframe tbody tr th {\n",
       "        vertical-align: top;\n",
       "    }\n",
       "\n",
       "    .dataframe thead th {\n",
       "        text-align: right;\n",
       "    }\n",
       "</style>\n",
       "<table border=\"1\" class=\"dataframe\">\n",
       "  <thead>\n",
       "    <tr style=\"text-align: right;\">\n",
       "      <th></th>\n",
       "      <th>street</th>\n",
       "      <th>zipcode</th>\n",
       "      <th>city</th>\n",
       "      <th>state</th>\n",
       "      <th>latitude</th>\n",
       "      <th>longitude</th>\n",
       "      <th>price</th>\n",
       "      <th>bedrooms</th>\n",
       "      <th>bathrooms</th>\n",
       "      <th>finishedSqFt</th>\n",
       "      <th>...</th>\n",
       "      <th>yearUpdated</th>\n",
       "      <th>numFloors</th>\n",
       "      <th>view</th>\n",
       "      <th>parkingType</th>\n",
       "      <th>heatingSources</th>\n",
       "      <th>heatingSystem</th>\n",
       "      <th>rooms</th>\n",
       "      <th>neighborhood</th>\n",
       "      <th>schoolDistrict</th>\n",
       "      <th>homeDescription</th>\n",
       "    </tr>\n",
       "    <tr>\n",
       "      <th>zpid</th>\n",
       "      <th></th>\n",
       "      <th></th>\n",
       "      <th></th>\n",
       "      <th></th>\n",
       "      <th></th>\n",
       "      <th></th>\n",
       "      <th></th>\n",
       "      <th></th>\n",
       "      <th></th>\n",
       "      <th></th>\n",
       "      <th></th>\n",
       "      <th></th>\n",
       "      <th></th>\n",
       "      <th></th>\n",
       "      <th></th>\n",
       "      <th></th>\n",
       "      <th></th>\n",
       "      <th></th>\n",
       "      <th></th>\n",
       "      <th></th>\n",
       "      <th></th>\n",
       "    </tr>\n",
       "  </thead>\n",
       "  <tbody>\n",
       "    <tr>\n",
       "      <th>40000003</th>\n",
       "      <td>60 Montrose Ave</td>\n",
       "      <td>7023.0</td>\n",
       "      <td>FANWOOD</td>\n",
       "      <td>NJ</td>\n",
       "      <td>40.649677</td>\n",
       "      <td>-74.389070</td>\n",
       "      <td>NaN</td>\n",
       "      <td>3.0</td>\n",
       "      <td>1.5</td>\n",
       "      <td>NaN</td>\n",
       "      <td>...</td>\n",
       "      <td>NaN</td>\n",
       "      <td>NaN</td>\n",
       "      <td>NaN</td>\n",
       "      <td>NaN</td>\n",
       "      <td>NaN</td>\n",
       "      <td>NaN</td>\n",
       "      <td>NaN</td>\n",
       "      <td>NaN</td>\n",
       "      <td>NaN</td>\n",
       "      <td>Beautifully maintained and landscaped home con...</td>\n",
       "    </tr>\n",
       "    <tr>\n",
       "      <th>40000004</th>\n",
       "      <td>117 Pleasant Ave</td>\n",
       "      <td>7023.0</td>\n",
       "      <td>FANWOOD</td>\n",
       "      <td>NJ</td>\n",
       "      <td>40.649500</td>\n",
       "      <td>-74.388788</td>\n",
       "      <td>NaN</td>\n",
       "      <td>4.0</td>\n",
       "      <td>2.5</td>\n",
       "      <td>1641.0</td>\n",
       "      <td>...</td>\n",
       "      <td>NaN</td>\n",
       "      <td>NaN</td>\n",
       "      <td>NaN</td>\n",
       "      <td>NaN</td>\n",
       "      <td>NaN</td>\n",
       "      <td>NaN</td>\n",
       "      <td>NaN</td>\n",
       "      <td>NaN</td>\n",
       "      <td>NaN</td>\n",
       "      <td>NaN</td>\n",
       "    </tr>\n",
       "    <tr>\n",
       "      <th>40000009</th>\n",
       "      <td>79 Pleasant Ave</td>\n",
       "      <td>7023.0</td>\n",
       "      <td>FANWOOD</td>\n",
       "      <td>NJ</td>\n",
       "      <td>40.648488</td>\n",
       "      <td>-74.389920</td>\n",
       "      <td>NaN</td>\n",
       "      <td>4.0</td>\n",
       "      <td>2.5</td>\n",
       "      <td>1969.0</td>\n",
       "      <td>...</td>\n",
       "      <td>NaN</td>\n",
       "      <td>NaN</td>\n",
       "      <td>NaN</td>\n",
       "      <td>NaN</td>\n",
       "      <td>NaN</td>\n",
       "      <td>NaN</td>\n",
       "      <td>NaN</td>\n",
       "      <td>NaN</td>\n",
       "      <td>NaN</td>\n",
       "      <td>Totally renovated colonial, open floor plan, h...</td>\n",
       "    </tr>\n",
       "    <tr>\n",
       "      <th>40000010</th>\n",
       "      <td>75 Pleasant Ave</td>\n",
       "      <td>7023.0</td>\n",
       "      <td>FANWOOD</td>\n",
       "      <td>NJ</td>\n",
       "      <td>40.648331</td>\n",
       "      <td>-74.390096</td>\n",
       "      <td>NaN</td>\n",
       "      <td>3.0</td>\n",
       "      <td>2.0</td>\n",
       "      <td>1415.0</td>\n",
       "      <td>...</td>\n",
       "      <td>NaN</td>\n",
       "      <td>2.0</td>\n",
       "      <td>NaN</td>\n",
       "      <td>Garage - Attached</td>\n",
       "      <td>Gas</td>\n",
       "      <td>Baseboard, Other</td>\n",
       "      <td>Office, Workshop, Family room, Laundry room</td>\n",
       "      <td>NaN</td>\n",
       "      <td>NaN</td>\n",
       "      <td>NEW PRICE!!!!! POSSIBILITIES ARE ENDLESS FOR S...</td>\n",
       "    </tr>\n",
       "    <tr>\n",
       "      <th>40000012</th>\n",
       "      <td>61 Pleasant Ave</td>\n",
       "      <td>7023.0</td>\n",
       "      <td>FANWOOD</td>\n",
       "      <td>NJ</td>\n",
       "      <td>40.648016</td>\n",
       "      <td>-74.390447</td>\n",
       "      <td>NaN</td>\n",
       "      <td>4.0</td>\n",
       "      <td>2.0</td>\n",
       "      <td>1356.0</td>\n",
       "      <td>...</td>\n",
       "      <td>NaN</td>\n",
       "      <td>NaN</td>\n",
       "      <td>NaN</td>\n",
       "      <td>NaN</td>\n",
       "      <td>NaN</td>\n",
       "      <td>NaN</td>\n",
       "      <td>NaN</td>\n",
       "      <td>NaN</td>\n",
       "      <td>NaN</td>\n",
       "      <td>Charming Cape Cod Style home with an Oversized...</td>\n",
       "    </tr>\n",
       "  </tbody>\n",
       "</table>\n",
       "<p>5 rows × 22 columns</p>\n",
       "</div>"
      ],
      "text/plain": [
       "                   street    zipcode     city   state    latitude   \\\n",
       "zpid                                                                 \n",
       "40000003   60 Montrose Ave     7023.0  FANWOOD      NJ   40.649677   \n",
       "40000004  117 Pleasant Ave     7023.0  FANWOOD      NJ   40.649500   \n",
       "40000009   79 Pleasant Ave     7023.0  FANWOOD      NJ   40.648488   \n",
       "40000010   75 Pleasant Ave     7023.0  FANWOOD      NJ   40.648331   \n",
       "40000012   61 Pleasant Ave     7023.0  FANWOOD      NJ   40.648016   \n",
       "\n",
       "           longitude    price    bedrooms    bathrooms    finishedSqFt   \\\n",
       "zpid                                                                      \n",
       "40000003   -74.389070      NaN         3.0          1.5             NaN   \n",
       "40000004   -74.388788      NaN         4.0          2.5          1641.0   \n",
       "40000009   -74.389920      NaN         4.0          2.5          1969.0   \n",
       "40000010   -74.390096      NaN         3.0          2.0          1415.0   \n",
       "40000012   -74.390447      NaN         4.0          2.0          1356.0   \n",
       "\n",
       "                                ...                           yearUpdated   \\\n",
       "zpid                            ...                                          \n",
       "40000003                        ...                                    NaN   \n",
       "40000004                        ...                                    NaN   \n",
       "40000009                        ...                                    NaN   \n",
       "40000010                        ...                                    NaN   \n",
       "40000012                        ...                                    NaN   \n",
       "\n",
       "           numFloors    view        parkingType   heatingSources   \\\n",
       "zpid                                                                \n",
       "40000003          NaN     NaN                NaN              NaN   \n",
       "40000004          NaN     NaN                NaN              NaN   \n",
       "40000009          NaN     NaN                NaN              NaN   \n",
       "40000010          2.0     NaN  Garage - Attached              Gas   \n",
       "40000012          NaN     NaN                NaN              NaN   \n",
       "\n",
       "            heatingSystem                                        rooms   \\\n",
       "zpid                                                                      \n",
       "40000003               NaN                                          NaN   \n",
       "40000004               NaN                                          NaN   \n",
       "40000009               NaN                                          NaN   \n",
       "40000010  Baseboard, Other  Office, Workshop, Family room, Laundry room   \n",
       "40000012               NaN                                          NaN   \n",
       "\n",
       "          neighborhood   schoolDistrict   \\\n",
       "zpid                                       \n",
       "40000003            NaN              NaN   \n",
       "40000004            NaN              NaN   \n",
       "40000009            NaN              NaN   \n",
       "40000010            NaN              NaN   \n",
       "40000012            NaN              NaN   \n",
       "\n",
       "                                           homeDescription   \n",
       "zpid                                                         \n",
       "40000003  Beautifully maintained and landscaped home con...  \n",
       "40000004                                                NaN  \n",
       "40000009  Totally renovated colonial, open floor plan, h...  \n",
       "40000010  NEW PRICE!!!!! POSSIBILITIES ARE ENDLESS FOR S...  \n",
       "40000012  Charming Cape Cod Style home with an Oversized...  \n",
       "\n",
       "[5 rows x 22 columns]"
      ]
     },
     "execution_count": 2,
     "metadata": {},
     "output_type": "execute_result"
    }
   ],
   "source": [
    "df = pd.read_csv('HousingData_Zillow_final.csv',  encoding='latin-1',header=0, index_col=0)\n",
    "df.head()"
   ]
  },
  {
   "cell_type": "code",
   "execution_count": 3,
   "metadata": {},
   "outputs": [
    {
     "name": "stdout",
     "output_type": "stream",
     "text": [
      "Dataframe has 1063 rows and 22 columns.\n"
     ]
    }
   ],
   "source": [
    "print(\"Dataframe has {} rows and {} columns.\".format(*df.shape))"
   ]
  },
  {
   "cell_type": "markdown",
   "metadata": {},
   "source": [
    "### Data Exploration\n",
    "\n",
    "The dataset extracted through the Zillow API has 1063 rows and 22 columns. Based on the available column values we need to downselect the relevant features. here ideally we should include more features which we could use to determine the value. The current dataset have only limited information. Hence we are selecting the relevant features from the set available.\n",
    "\n",
    "The 14 features downselected are as follows.\n",
    "\n",
    "    homeDescription - Home description \n",
    "    latitude        - Latitude of property\n",
    "    longitude       - Longitude of property  \n",
    "    bedrooms        - Number of bedrooms \n",
    "    bathrooms       - Number of bathrooms\n",
    "    finishedSqFt    - Size of home\n",
    "    lotSizeSqFt     - Size of the lot\n",
    "    yearBuilt       - Year in which the home was built\n",
    "    yearUpdated     - Year in which home was last modified\n",
    "    numFloors       - Number of floors\n",
    "    parkingType     - Parking facility\n",
    "    heatingSources  - Sources used for heating\n",
    "    heatingSystem   - Heating systems available \n",
    "    rooms           - Type of rooms"
   ]
  },
  {
   "cell_type": "code",
   "execution_count": 4,
   "metadata": {},
   "outputs": [
    {
     "name": "stdout",
     "output_type": "stream",
     "text": [
      "['street', 'zipcode', 'city', 'state', 'latitude', 'longitude', 'price', 'bedrooms', 'bathrooms', 'finishedSqFt', 'lotSizeSqFt', 'yearBuilt', 'yearUpdated', 'numFloors', 'view', 'parkingType', 'heatingSources', 'heatingSystem', 'rooms', 'neighborhood', 'schoolDistrict', 'homeDescription']\n"
     ]
    }
   ],
   "source": [
    "df.columns = df.columns.to_series().apply(lambda x: x.strip())\n",
    "print(list(df))"
   ]
  },
  {
   "cell_type": "code",
   "execution_count": 5,
   "metadata": {},
   "outputs": [
    {
     "name": "stdout",
     "output_type": "stream",
     "text": [
      "Dataframe has 1063 rows and 14 columns.\n"
     ]
    },
    {
     "data": {
      "text/html": [
       "<div>\n",
       "<style scoped>\n",
       "    .dataframe tbody tr th:only-of-type {\n",
       "        vertical-align: middle;\n",
       "    }\n",
       "\n",
       "    .dataframe tbody tr th {\n",
       "        vertical-align: top;\n",
       "    }\n",
       "\n",
       "    .dataframe thead th {\n",
       "        text-align: right;\n",
       "    }\n",
       "</style>\n",
       "<table border=\"1\" class=\"dataframe\">\n",
       "  <thead>\n",
       "    <tr style=\"text-align: right;\">\n",
       "      <th></th>\n",
       "      <th>homeDescription</th>\n",
       "      <th>latitude</th>\n",
       "      <th>longitude</th>\n",
       "      <th>bedrooms</th>\n",
       "      <th>bathrooms</th>\n",
       "      <th>finishedSqFt</th>\n",
       "      <th>lotSizeSqFt</th>\n",
       "      <th>yearBuilt</th>\n",
       "      <th>yearUpdated</th>\n",
       "      <th>numFloors</th>\n",
       "      <th>parkingType</th>\n",
       "      <th>heatingSources</th>\n",
       "      <th>heatingSystem</th>\n",
       "      <th>rooms</th>\n",
       "    </tr>\n",
       "    <tr>\n",
       "      <th>zpid</th>\n",
       "      <th></th>\n",
       "      <th></th>\n",
       "      <th></th>\n",
       "      <th></th>\n",
       "      <th></th>\n",
       "      <th></th>\n",
       "      <th></th>\n",
       "      <th></th>\n",
       "      <th></th>\n",
       "      <th></th>\n",
       "      <th></th>\n",
       "      <th></th>\n",
       "      <th></th>\n",
       "      <th></th>\n",
       "    </tr>\n",
       "  </thead>\n",
       "  <tbody>\n",
       "    <tr>\n",
       "      <th>40000003</th>\n",
       "      <td>Beautifully maintained and landscaped home con...</td>\n",
       "      <td>40.649677</td>\n",
       "      <td>-74.389070</td>\n",
       "      <td>3.0</td>\n",
       "      <td>1.5</td>\n",
       "      <td>NaN</td>\n",
       "      <td>10454.0</td>\n",
       "      <td>1964.0</td>\n",
       "      <td>NaN</td>\n",
       "      <td>NaN</td>\n",
       "      <td>NaN</td>\n",
       "      <td>NaN</td>\n",
       "      <td>NaN</td>\n",
       "      <td>NaN</td>\n",
       "    </tr>\n",
       "    <tr>\n",
       "      <th>40000004</th>\n",
       "      <td>NaN</td>\n",
       "      <td>40.649500</td>\n",
       "      <td>-74.388788</td>\n",
       "      <td>4.0</td>\n",
       "      <td>2.5</td>\n",
       "      <td>1641.0</td>\n",
       "      <td>9583.0</td>\n",
       "      <td>1951.0</td>\n",
       "      <td>NaN</td>\n",
       "      <td>NaN</td>\n",
       "      <td>NaN</td>\n",
       "      <td>NaN</td>\n",
       "      <td>NaN</td>\n",
       "      <td>NaN</td>\n",
       "    </tr>\n",
       "    <tr>\n",
       "      <th>40000009</th>\n",
       "      <td>Totally renovated colonial, open floor plan, h...</td>\n",
       "      <td>40.648488</td>\n",
       "      <td>-74.389920</td>\n",
       "      <td>4.0</td>\n",
       "      <td>2.5</td>\n",
       "      <td>1969.0</td>\n",
       "      <td>7501.0</td>\n",
       "      <td>1950.0</td>\n",
       "      <td>NaN</td>\n",
       "      <td>NaN</td>\n",
       "      <td>NaN</td>\n",
       "      <td>NaN</td>\n",
       "      <td>NaN</td>\n",
       "      <td>NaN</td>\n",
       "    </tr>\n",
       "    <tr>\n",
       "      <th>40000010</th>\n",
       "      <td>NEW PRICE!!!!! POSSIBILITIES ARE ENDLESS FOR S...</td>\n",
       "      <td>40.648331</td>\n",
       "      <td>-74.390096</td>\n",
       "      <td>3.0</td>\n",
       "      <td>2.0</td>\n",
       "      <td>1415.0</td>\n",
       "      <td>7405.0</td>\n",
       "      <td>1950.0</td>\n",
       "      <td>NaN</td>\n",
       "      <td>2.0</td>\n",
       "      <td>Garage - Attached</td>\n",
       "      <td>Gas</td>\n",
       "      <td>Baseboard, Other</td>\n",
       "      <td>Office, Workshop, Family room, Laundry room</td>\n",
       "    </tr>\n",
       "    <tr>\n",
       "      <th>40000012</th>\n",
       "      <td>Charming Cape Cod Style home with an Oversized...</td>\n",
       "      <td>40.648016</td>\n",
       "      <td>-74.390447</td>\n",
       "      <td>4.0</td>\n",
       "      <td>2.0</td>\n",
       "      <td>1356.0</td>\n",
       "      <td>7501.0</td>\n",
       "      <td>1954.0</td>\n",
       "      <td>NaN</td>\n",
       "      <td>NaN</td>\n",
       "      <td>NaN</td>\n",
       "      <td>NaN</td>\n",
       "      <td>NaN</td>\n",
       "      <td>NaN</td>\n",
       "    </tr>\n",
       "  </tbody>\n",
       "</table>\n",
       "</div>"
      ],
      "text/plain": [
       "                                            homeDescription   latitude  \\\n",
       "zpid                                                                     \n",
       "40000003  Beautifully maintained and landscaped home con...  40.649677   \n",
       "40000004                                                NaN  40.649500   \n",
       "40000009  Totally renovated colonial, open floor plan, h...  40.648488   \n",
       "40000010  NEW PRICE!!!!! POSSIBILITIES ARE ENDLESS FOR S...  40.648331   \n",
       "40000012  Charming Cape Cod Style home with an Oversized...  40.648016   \n",
       "\n",
       "          longitude  bedrooms  bathrooms  finishedSqFt  lotSizeSqFt  \\\n",
       "zpid                                                                  \n",
       "40000003 -74.389070       3.0        1.5           NaN      10454.0   \n",
       "40000004 -74.388788       4.0        2.5        1641.0       9583.0   \n",
       "40000009 -74.389920       4.0        2.5        1969.0       7501.0   \n",
       "40000010 -74.390096       3.0        2.0        1415.0       7405.0   \n",
       "40000012 -74.390447       4.0        2.0        1356.0       7501.0   \n",
       "\n",
       "          yearBuilt  yearUpdated  numFloors        parkingType heatingSources  \\\n",
       "zpid                                                                            \n",
       "40000003     1964.0          NaN        NaN                NaN            NaN   \n",
       "40000004     1951.0          NaN        NaN                NaN            NaN   \n",
       "40000009     1950.0          NaN        NaN                NaN            NaN   \n",
       "40000010     1950.0          NaN        2.0  Garage - Attached            Gas   \n",
       "40000012     1954.0          NaN        NaN                NaN            NaN   \n",
       "\n",
       "             heatingSystem                                        rooms  \n",
       "zpid                                                                     \n",
       "40000003               NaN                                          NaN  \n",
       "40000004               NaN                                          NaN  \n",
       "40000009               NaN                                          NaN  \n",
       "40000010  Baseboard, Other  Office, Workshop, Family room, Laundry room  \n",
       "40000012               NaN                                          NaN  "
      ]
     },
     "execution_count": 5,
     "metadata": {},
     "output_type": "execute_result"
    }
   ],
   "source": [
    "# Select the features from the data\n",
    "#House_data = House_data[[0,1,2]]\n",
    "df = df[[ 'homeDescription', 'latitude', 'longitude', 'bedrooms', 'bathrooms','finishedSqFt', 'lotSizeSqFt','yearBuilt', 'yearUpdated', 'numFloors', 'parkingType', 'heatingSources', 'heatingSystem', 'rooms' ]]\n",
    "\n",
    "print(\"Dataframe has {} rows and {} columns.\".format(*df.shape))\n",
    "df.head()"
   ]
  },
  {
   "cell_type": "code",
   "execution_count": 6,
   "metadata": {},
   "outputs": [
    {
     "name": "stdout",
     "output_type": "stream",
     "text": [
      "[1.0, 3.0, 4.0, nan, 2.0, 5.0, 6.0, 7.0, 8.0, 9.0]\n"
     ]
    }
   ],
   "source": [
    "a = df['bedrooms'].unique()\n",
    "print (sorted(a))"
   ]
  },
  {
   "cell_type": "markdown",
   "metadata": {},
   "source": [
    "#### Cleanse numeric features"
   ]
  },
  {
   "cell_type": "code",
   "execution_count": 7,
   "metadata": {},
   "outputs": [
    {
     "name": "stdout",
     "output_type": "stream",
     "text": [
      "Dataframe has 1063 rows and 14 columns.\n"
     ]
    }
   ],
   "source": [
    "\n",
    "numeric_features = ['bedrooms', 'bathrooms','finishedSqFt', 'lotSizeSqFt','yearBuilt', 'yearUpdated', 'numFloors']\n",
    "df[numeric_features] = df[numeric_features].replace('[\\$,]', '', regex=True)\n",
    "df[numeric_features] = df[numeric_features].apply(pd.to_numeric, errors='coerce')\n",
    "print(\"Dataframe has {} rows and {} columns.\".format(*df.shape))\n"
   ]
  },
  {
   "cell_type": "markdown",
   "metadata": {},
   "source": [
    "#### Summary of all selected columns"
   ]
  },
  {
   "cell_type": "code",
   "execution_count": 8,
   "metadata": {},
   "outputs": [
    {
     "data": {
      "text/html": [
       "<div>\n",
       "<style scoped>\n",
       "    .dataframe tbody tr th:only-of-type {\n",
       "        vertical-align: middle;\n",
       "    }\n",
       "\n",
       "    .dataframe tbody tr th {\n",
       "        vertical-align: top;\n",
       "    }\n",
       "\n",
       "    .dataframe thead th {\n",
       "        text-align: right;\n",
       "    }\n",
       "</style>\n",
       "<table border=\"1\" class=\"dataframe\">\n",
       "  <thead>\n",
       "    <tr style=\"text-align: right;\">\n",
       "      <th></th>\n",
       "      <th>latitude</th>\n",
       "      <th>longitude</th>\n",
       "      <th>bedrooms</th>\n",
       "      <th>bathrooms</th>\n",
       "      <th>finishedSqFt</th>\n",
       "      <th>lotSizeSqFt</th>\n",
       "      <th>yearBuilt</th>\n",
       "      <th>yearUpdated</th>\n",
       "      <th>numFloors</th>\n",
       "    </tr>\n",
       "  </thead>\n",
       "  <tbody>\n",
       "    <tr>\n",
       "      <th>count</th>\n",
       "      <td>1058.000000</td>\n",
       "      <td>1058.000000</td>\n",
       "      <td>1017.000000</td>\n",
       "      <td>1018.000000</td>\n",
       "      <td>884.000000</td>\n",
       "      <td>1.055000e+03</td>\n",
       "      <td>1002.000000</td>\n",
       "      <td>171.000000</td>\n",
       "      <td>518.000000</td>\n",
       "    </tr>\n",
       "    <tr>\n",
       "      <th>mean</th>\n",
       "      <td>40.648493</td>\n",
       "      <td>-74.359670</td>\n",
       "      <td>3.411996</td>\n",
       "      <td>2.057024</td>\n",
       "      <td>1926.830317</td>\n",
       "      <td>3.036242e+05</td>\n",
       "      <td>1946.416168</td>\n",
       "      <td>2004.619883</td>\n",
       "      <td>2.009653</td>\n",
       "    </tr>\n",
       "    <tr>\n",
       "      <th>std</th>\n",
       "      <td>0.041694</td>\n",
       "      <td>0.050001</td>\n",
       "      <td>0.917016</td>\n",
       "      <td>0.740082</td>\n",
       "      <td>3410.255988</td>\n",
       "      <td>9.346682e+06</td>\n",
       "      <td>23.126708</td>\n",
       "      <td>16.354581</td>\n",
       "      <td>0.647793</td>\n",
       "    </tr>\n",
       "    <tr>\n",
       "      <th>min</th>\n",
       "      <td>39.835319</td>\n",
       "      <td>-74.776126</td>\n",
       "      <td>1.000000</td>\n",
       "      <td>1.000000</td>\n",
       "      <td>1.000000</td>\n",
       "      <td>5.200000e+01</td>\n",
       "      <td>1830.000000</td>\n",
       "      <td>1924.000000</td>\n",
       "      <td>1.000000</td>\n",
       "    </tr>\n",
       "    <tr>\n",
       "      <th>25%</th>\n",
       "      <td>40.638829</td>\n",
       "      <td>-74.387120</td>\n",
       "      <td>3.000000</td>\n",
       "      <td>1.500000</td>\n",
       "      <td>1347.500000</td>\n",
       "      <td>5.462500e+03</td>\n",
       "      <td>1930.000000</td>\n",
       "      <td>2005.000000</td>\n",
       "      <td>2.000000</td>\n",
       "    </tr>\n",
       "    <tr>\n",
       "      <th>50%</th>\n",
       "      <td>40.644940</td>\n",
       "      <td>-74.381143</td>\n",
       "      <td>3.000000</td>\n",
       "      <td>2.000000</td>\n",
       "      <td>1641.500000</td>\n",
       "      <td>7.405000e+03</td>\n",
       "      <td>1950.000000</td>\n",
       "      <td>2008.000000</td>\n",
       "      <td>2.000000</td>\n",
       "    </tr>\n",
       "    <tr>\n",
       "      <th>75%</th>\n",
       "      <td>40.650111</td>\n",
       "      <td>-74.327818</td>\n",
       "      <td>4.000000</td>\n",
       "      <td>2.500000</td>\n",
       "      <td>2060.500000</td>\n",
       "      <td>9.583000e+03</td>\n",
       "      <td>1957.000000</td>\n",
       "      <td>2013.000000</td>\n",
       "      <td>2.000000</td>\n",
       "    </tr>\n",
       "    <tr>\n",
       "      <th>max</th>\n",
       "      <td>41.161080</td>\n",
       "      <td>-74.121724</td>\n",
       "      <td>9.000000</td>\n",
       "      <td>5.500000</td>\n",
       "      <td>99999.000000</td>\n",
       "      <td>3.035696e+08</td>\n",
       "      <td>2018.000000</td>\n",
       "      <td>2018.000000</td>\n",
       "      <td>5.000000</td>\n",
       "    </tr>\n",
       "  </tbody>\n",
       "</table>\n",
       "</div>"
      ],
      "text/plain": [
       "          latitude    longitude     bedrooms    bathrooms  finishedSqFt  \\\n",
       "count  1058.000000  1058.000000  1017.000000  1018.000000    884.000000   \n",
       "mean     40.648493   -74.359670     3.411996     2.057024   1926.830317   \n",
       "std       0.041694     0.050001     0.917016     0.740082   3410.255988   \n",
       "min      39.835319   -74.776126     1.000000     1.000000      1.000000   \n",
       "25%      40.638829   -74.387120     3.000000     1.500000   1347.500000   \n",
       "50%      40.644940   -74.381143     3.000000     2.000000   1641.500000   \n",
       "75%      40.650111   -74.327818     4.000000     2.500000   2060.500000   \n",
       "max      41.161080   -74.121724     9.000000     5.500000  99999.000000   \n",
       "\n",
       "        lotSizeSqFt    yearBuilt  yearUpdated   numFloors  \n",
       "count  1.055000e+03  1002.000000   171.000000  518.000000  \n",
       "mean   3.036242e+05  1946.416168  2004.619883    2.009653  \n",
       "std    9.346682e+06    23.126708    16.354581    0.647793  \n",
       "min    5.200000e+01  1830.000000  1924.000000    1.000000  \n",
       "25%    5.462500e+03  1930.000000  2005.000000    2.000000  \n",
       "50%    7.405000e+03  1950.000000  2008.000000    2.000000  \n",
       "75%    9.583000e+03  1957.000000  2013.000000    2.000000  \n",
       "max    3.035696e+08  2018.000000  2018.000000    5.000000  "
      ]
     },
     "execution_count": 8,
     "metadata": {},
     "output_type": "execute_result"
    }
   ],
   "source": [
    "\n",
    "df.describe()"
   ]
  },
  {
   "cell_type": "markdown",
   "metadata": {},
   "source": [
    "#### Remove the outliers"
   ]
  },
  {
   "cell_type": "code",
   "execution_count": 9,
   "metadata": {},
   "outputs": [
    {
     "name": "stdout",
     "output_type": "stream",
     "text": [
      "Dataframe has 1012 rows and 14 columns.\n"
     ]
    }
   ],
   "source": [
    "# Remove where bedroom is more than 6\n",
    "df = df.query('bedrooms <= 6')\n",
    "print(\"Dataframe has {} rows and {} columns.\".format(*df.shape))"
   ]
  },
  {
   "cell_type": "code",
   "execution_count": 10,
   "metadata": {},
   "outputs": [
    {
     "name": "stdout",
     "output_type": "stream",
     "text": [
      "[1.0, 2.0, 3.0, 4.0, 5.0, 6.0]\n"
     ]
    }
   ],
   "source": [
    "a = df['bedrooms'].unique()\n",
    "print (sorted(a))"
   ]
  },
  {
   "cell_type": "markdown",
   "metadata": {},
   "source": [
    "#### Frequency of parkingType"
   ]
  },
  {
   "cell_type": "code",
   "execution_count": 11,
   "metadata": {},
   "outputs": [
    {
     "data": {
      "text/plain": [
       "Garage - Attached                                              295\n",
       "Garage - Detached                                              120\n",
       "Off-street                                                      41\n",
       "Garage - Attached, Off-street                                   27\n",
       "Garage - Detached, Off-street                                   20\n",
       "On-street                                                       17\n",
       "Off-street, On-street                                           13\n",
       "Garage - Attached, Off-street, On-street                        11\n",
       "Garage - Attached, On-street                                     8\n",
       "Garage - Detached, Off-street, On-street                         8\n",
       "Garage - Detached, On-street                                     5\n",
       "None                                                             3\n",
       "Garage - Attached, On-street, Off-street                         1\n",
       "Garage - Attached, Garage - Detached, Off-street, On-street      1\n",
       "Garage - Detached, Garage - Attached, Off-street                 1\n",
       "Garage - Attached, Garage - Detached                             1\n",
       "Carport, Garage - Attached                                       1\n",
       "Name: parkingType, dtype: int64"
      ]
     },
     "execution_count": 11,
     "metadata": {},
     "output_type": "execute_result"
    }
   ],
   "source": [
    "# rare category\n",
    "df['parkingType'].value_counts()"
   ]
  },
  {
   "cell_type": "code",
   "execution_count": 12,
   "metadata": {},
   "outputs": [
    {
     "data": {
      "text/html": [
       "<div>\n",
       "<style scoped>\n",
       "    .dataframe tbody tr th:only-of-type {\n",
       "        vertical-align: middle;\n",
       "    }\n",
       "\n",
       "    .dataframe tbody tr th {\n",
       "        vertical-align: top;\n",
       "    }\n",
       "\n",
       "    .dataframe thead th {\n",
       "        text-align: right;\n",
       "    }\n",
       "</style>\n",
       "<table border=\"1\" class=\"dataframe\">\n",
       "  <thead>\n",
       "    <tr style=\"text-align: right;\">\n",
       "      <th></th>\n",
       "      <th>homeDescription</th>\n",
       "      <th>latitude</th>\n",
       "      <th>longitude</th>\n",
       "      <th>bedrooms</th>\n",
       "      <th>bathrooms</th>\n",
       "      <th>finishedSqFt</th>\n",
       "      <th>lotSizeSqFt</th>\n",
       "      <th>yearBuilt</th>\n",
       "      <th>yearUpdated</th>\n",
       "      <th>numFloors</th>\n",
       "      <th>parkingType</th>\n",
       "      <th>heatingSources</th>\n",
       "      <th>heatingSystem</th>\n",
       "      <th>rooms</th>\n",
       "    </tr>\n",
       "    <tr>\n",
       "      <th>zpid</th>\n",
       "      <th></th>\n",
       "      <th></th>\n",
       "      <th></th>\n",
       "      <th></th>\n",
       "      <th></th>\n",
       "      <th></th>\n",
       "      <th></th>\n",
       "      <th></th>\n",
       "      <th></th>\n",
       "      <th></th>\n",
       "      <th></th>\n",
       "      <th></th>\n",
       "      <th></th>\n",
       "      <th></th>\n",
       "    </tr>\n",
       "  </thead>\n",
       "  <tbody>\n",
       "    <tr>\n",
       "      <th>40000003</th>\n",
       "      <td>Beautifully maintained and landscaped home con...</td>\n",
       "      <td>40.649677</td>\n",
       "      <td>-74.389070</td>\n",
       "      <td>3.0</td>\n",
       "      <td>1.5</td>\n",
       "      <td>NaN</td>\n",
       "      <td>10454.0</td>\n",
       "      <td>1964.0</td>\n",
       "      <td>NaN</td>\n",
       "      <td>NaN</td>\n",
       "      <td>NaN</td>\n",
       "      <td>NaN</td>\n",
       "      <td>NaN</td>\n",
       "      <td>NaN</td>\n",
       "    </tr>\n",
       "    <tr>\n",
       "      <th>40000004</th>\n",
       "      <td>NaN</td>\n",
       "      <td>40.649500</td>\n",
       "      <td>-74.388788</td>\n",
       "      <td>4.0</td>\n",
       "      <td>2.5</td>\n",
       "      <td>1641.0</td>\n",
       "      <td>9583.0</td>\n",
       "      <td>1951.0</td>\n",
       "      <td>NaN</td>\n",
       "      <td>NaN</td>\n",
       "      <td>NaN</td>\n",
       "      <td>NaN</td>\n",
       "      <td>NaN</td>\n",
       "      <td>NaN</td>\n",
       "    </tr>\n",
       "    <tr>\n",
       "      <th>40000009</th>\n",
       "      <td>Totally renovated colonial, open floor plan, h...</td>\n",
       "      <td>40.648488</td>\n",
       "      <td>-74.389920</td>\n",
       "      <td>4.0</td>\n",
       "      <td>2.5</td>\n",
       "      <td>1969.0</td>\n",
       "      <td>7501.0</td>\n",
       "      <td>1950.0</td>\n",
       "      <td>NaN</td>\n",
       "      <td>NaN</td>\n",
       "      <td>NaN</td>\n",
       "      <td>NaN</td>\n",
       "      <td>NaN</td>\n",
       "      <td>NaN</td>\n",
       "    </tr>\n",
       "    <tr>\n",
       "      <th>40000010</th>\n",
       "      <td>NEW PRICE!!!!! POSSIBILITIES ARE ENDLESS FOR S...</td>\n",
       "      <td>40.648331</td>\n",
       "      <td>-74.390096</td>\n",
       "      <td>3.0</td>\n",
       "      <td>2.0</td>\n",
       "      <td>1415.0</td>\n",
       "      <td>7405.0</td>\n",
       "      <td>1950.0</td>\n",
       "      <td>NaN</td>\n",
       "      <td>2.0</td>\n",
       "      <td>Garage - Attached</td>\n",
       "      <td>Gas</td>\n",
       "      <td>Baseboard, Other</td>\n",
       "      <td>Office, Workshop, Family room, Laundry room</td>\n",
       "    </tr>\n",
       "    <tr>\n",
       "      <th>40000012</th>\n",
       "      <td>Charming Cape Cod Style home with an Oversized...</td>\n",
       "      <td>40.648016</td>\n",
       "      <td>-74.390447</td>\n",
       "      <td>4.0</td>\n",
       "      <td>2.0</td>\n",
       "      <td>1356.0</td>\n",
       "      <td>7501.0</td>\n",
       "      <td>1954.0</td>\n",
       "      <td>NaN</td>\n",
       "      <td>NaN</td>\n",
       "      <td>NaN</td>\n",
       "      <td>NaN</td>\n",
       "      <td>NaN</td>\n",
       "      <td>NaN</td>\n",
       "    </tr>\n",
       "  </tbody>\n",
       "</table>\n",
       "</div>"
      ],
      "text/plain": [
       "                                            homeDescription   latitude  \\\n",
       "zpid                                                                     \n",
       "40000003  Beautifully maintained and landscaped home con...  40.649677   \n",
       "40000004                                                NaN  40.649500   \n",
       "40000009  Totally renovated colonial, open floor plan, h...  40.648488   \n",
       "40000010  NEW PRICE!!!!! POSSIBILITIES ARE ENDLESS FOR S...  40.648331   \n",
       "40000012  Charming Cape Cod Style home with an Oversized...  40.648016   \n",
       "\n",
       "          longitude  bedrooms  bathrooms  finishedSqFt  lotSizeSqFt  \\\n",
       "zpid                                                                  \n",
       "40000003 -74.389070       3.0        1.5           NaN      10454.0   \n",
       "40000004 -74.388788       4.0        2.5        1641.0       9583.0   \n",
       "40000009 -74.389920       4.0        2.5        1969.0       7501.0   \n",
       "40000010 -74.390096       3.0        2.0        1415.0       7405.0   \n",
       "40000012 -74.390447       4.0        2.0        1356.0       7501.0   \n",
       "\n",
       "          yearBuilt  yearUpdated  numFloors        parkingType heatingSources  \\\n",
       "zpid                                                                            \n",
       "40000003     1964.0          NaN        NaN                NaN            NaN   \n",
       "40000004     1951.0          NaN        NaN                NaN            NaN   \n",
       "40000009     1950.0          NaN        NaN                NaN            NaN   \n",
       "40000010     1950.0          NaN        2.0  Garage - Attached            Gas   \n",
       "40000012     1954.0          NaN        NaN                NaN            NaN   \n",
       "\n",
       "             heatingSystem                                        rooms  \n",
       "zpid                                                                     \n",
       "40000003               NaN                                          NaN  \n",
       "40000004               NaN                                          NaN  \n",
       "40000009               NaN                                          NaN  \n",
       "40000010  Baseboard, Other  Office, Workshop, Family room, Laundry room  \n",
       "40000012               NaN                                          NaN  "
      ]
     },
     "execution_count": 12,
     "metadata": {},
     "output_type": "execute_result"
    }
   ],
   "source": [
    "df.head()"
   ]
  },
  {
   "cell_type": "markdown",
   "metadata": {},
   "source": [
    "#### Calculate the 'value'\n",
    "With the available features we could try to calculate the value of the listing.\n",
    "\n",
    "Value  = (no:of bedrooms) X (no: of bathrooms) X (home sqft) X (no: of floors) X (year built)\n",
    "\n",
    "Potentially the other features such as year built and the year updated could also be used. Also offsetting the value could also be considered."
   ]
  },
  {
   "cell_type": "code",
   "execution_count": 13,
   "metadata": {},
   "outputs": [
    {
     "name": "stderr",
     "output_type": "stream",
     "text": [
      "C:\\Users\\anish\\AppData\\Roaming\\Python\\Python36\\site-packages\\scipy\\stats\\stats.py:1713: FutureWarning: Using a non-tuple sequence for multidimensional indexing is deprecated; use `arr[tuple(seq)]` instead of `arr[seq]`. In the future this will be interpreted as an array index, `arr[np.array(seq)]`, which will result either in an error or a different result.\n",
      "  return np.add.reduce(sorted[indexer] * weights, axis=axis) / sumval\n",
      "C:\\Users\\anish\\AppData\\Roaming\\Python\\Python36\\site-packages\\matplotlib\\axes\\_axes.py:6462: UserWarning: The 'normed' kwarg is deprecated, and has been replaced by the 'density' kwarg.\n",
      "  warnings.warn(\"The 'normed' kwarg is deprecated, and has been \"\n",
      "C:\\Users\\anish\\AppData\\Roaming\\Python\\Python36\\site-packages\\matplotlib\\axes\\_axes.py:6462: UserWarning: The 'normed' kwarg is deprecated, and has been replaced by the 'density' kwarg.\n",
      "  warnings.warn(\"The 'normed' kwarg is deprecated, and has been \"\n"
     ]
    },
    {
     "data": {
      "text/plain": [
       "<matplotlib.axes._subplots.AxesSubplot at 0x1c203f6c4e0>"
      ]
     },
     "execution_count": 13,
     "metadata": {},
     "output_type": "execute_result"
    },
    {
     "data": {
      "image/png": "[encoded data removed]",
      "text/plain": [
       "<Figure size 1152x288 with 2 Axes>"
      ]
     },
     "metadata": {},
     "output_type": "display_data"
    }
   ],
   "source": [
    "#Distribution of value\n",
    "%matplotlib inline\n",
    "\n",
    "fig, axs = plt.subplots(ncols=2, figsize=(16, 4))\n",
    "fig.suptitle('Distribution of variables for calculation of value')\n",
    "x_axis=df['bedrooms'].dropna()\n",
    "sns.distplot(pd.Series(x_axis, name=x_axis.name), ax=axs[0])\n",
    "x_axis=df['bathrooms'].dropna()\n",
    "sns.distplot(pd.Series(x_axis, name=x_axis.name), ax=axs[1])\n"
   ]
  },
  {
   "cell_type": "code",
   "execution_count": 14,
   "metadata": {},
   "outputs": [
    {
     "name": "stderr",
     "output_type": "stream",
     "text": [
      "C:\\Users\\anish\\AppData\\Roaming\\Python\\Python36\\site-packages\\scipy\\stats\\stats.py:1713: FutureWarning: Using a non-tuple sequence for multidimensional indexing is deprecated; use `arr[tuple(seq)]` instead of `arr[seq]`. In the future this will be interpreted as an array index, `arr[np.array(seq)]`, which will result either in an error or a different result.\n",
      "  return np.add.reduce(sorted[indexer] * weights, axis=axis) / sumval\n",
      "C:\\Users\\anish\\AppData\\Roaming\\Python\\Python36\\site-packages\\matplotlib\\axes\\_axes.py:6462: UserWarning: The 'normed' kwarg is deprecated, and has been replaced by the 'density' kwarg.\n",
      "  warnings.warn(\"The 'normed' kwarg is deprecated, and has been \"\n",
      "C:\\Users\\anish\\AppData\\Roaming\\Python\\Python36\\site-packages\\matplotlib\\axes\\_axes.py:6462: UserWarning: The 'normed' kwarg is deprecated, and has been replaced by the 'density' kwarg.\n",
      "  warnings.warn(\"The 'normed' kwarg is deprecated, and has been \"\n"
     ]
    },
    {
     "data": {
      "text/plain": [
       "<matplotlib.axes._subplots.AxesSubplot at 0x1c20635eda0>"
      ]
     },
     "execution_count": 14,
     "metadata": {},
     "output_type": "execute_result"
    },
    {
     "data": {
      "image/png": "[encoded data removed]",
      "text/plain": [
       "<Figure size 1152x288 with 2 Axes>"
      ]
     },
     "metadata": {},
     "output_type": "display_data"
    }
   ],
   "source": [
    "fig, axs = plt.subplots(ncols=2, figsize=(16, 4))\n",
    "fig.suptitle('Distribution of variables for calculation of value')\n",
    "\n",
    "x_axis=df['finishedSqFt'].dropna()\n",
    "sns.distplot(pd.Series(x_axis, name=x_axis.name), ax=axs[0])\n",
    "x_axis=df['numFloors'].dropna()\n",
    "sns.distplot(pd.Series(x_axis, name=x_axis.name), ax=axs[1])\n"
   ]
  },
  {
   "cell_type": "code",
   "execution_count": 15,
   "metadata": {},
   "outputs": [
    {
     "name": "stdout",
     "output_type": "stream",
     "text": [
      "Dataframe has 1012 rows and 15 columns.\n"
     ]
    }
   ],
   "source": [
    "# Calculate value\n",
    "\n",
    "#Value  = bed*bath*sqft*floor*builtyear\n",
    "\n",
    "df['value'] = df['bedrooms'] *  df['bathrooms'] * df['finishedSqFt'] * df['numFloors'] * df['yearBuilt'] \n",
    "\n",
    "\n",
    "print(\"Dataframe has {} rows and {} columns.\".format(*df.shape))"
   ]
  },
  {
   "cell_type": "code",
   "execution_count": 16,
   "metadata": {},
   "outputs": [
    {
     "name": "stderr",
     "output_type": "stream",
     "text": [
      "C:\\Users\\anish\\AppData\\Roaming\\Python\\Python36\\site-packages\\scipy\\stats\\stats.py:1713: FutureWarning: Using a non-tuple sequence for multidimensional indexing is deprecated; use `arr[tuple(seq)]` instead of `arr[seq]`. In the future this will be interpreted as an array index, `arr[np.array(seq)]`, which will result either in an error or a different result.\n",
      "  return np.add.reduce(sorted[indexer] * weights, axis=axis) / sumval\n",
      "C:\\Users\\anish\\AppData\\Roaming\\Python\\Python36\\site-packages\\matplotlib\\axes\\_axes.py:6462: UserWarning: The 'normed' kwarg is deprecated, and has been replaced by the 'density' kwarg.\n",
      "  warnings.warn(\"The 'normed' kwarg is deprecated, and has been \"\n"
     ]
    },
    {
     "data": {
      "image/png": "[encoded data removed]",
      "text/plain": [
       "<Figure size 1080x432 with 1 Axes>"
      ]
     },
     "metadata": {},
     "output_type": "display_data"
    }
   ],
   "source": [
    "%matplotlib inline\n",
    "fig, ax = plt.subplots(figsize=(15,6))\n",
    "fig.suptitle('Distribution of Value' )\n",
    "x_axes = df['value'].dropna()\n",
    "x = pd.Series(x_axis, name='No: of rooms')\n",
    "ax = sns.distplot(x)"
   ]
  },
  {
   "cell_type": "markdown",
   "metadata": {},
   "source": [
    "#### Summary of calculated value"
   ]
  },
  {
   "cell_type": "code",
   "execution_count": 17,
   "metadata": {},
   "outputs": [
    {
     "data": {
      "text/plain": [
       "count    4.320000e+02\n",
       "mean     7.348704e+07\n",
       "std      8.553314e+07\n",
       "min      1.158000e+05\n",
       "25%      3.008081e+07\n",
       "50%      4.863997e+07\n",
       "75%      8.122338e+07\n",
       "max      8.819118e+08\n",
       "Name: value, dtype: float64"
      ]
     },
     "execution_count": 17,
     "metadata": {},
     "output_type": "execute_result"
    }
   ],
   "source": [
    "df['value'].describe()"
   ]
  },
  {
   "cell_type": "code",
   "execution_count": 18,
   "metadata": {},
   "outputs": [
    {
     "data": {
      "text/html": [
       "<div>\n",
       "<style scoped>\n",
       "    .dataframe tbody tr th:only-of-type {\n",
       "        vertical-align: middle;\n",
       "    }\n",
       "\n",
       "    .dataframe tbody tr th {\n",
       "        vertical-align: top;\n",
       "    }\n",
       "\n",
       "    .dataframe thead th {\n",
       "        text-align: right;\n",
       "    }\n",
       "</style>\n",
       "<table border=\"1\" class=\"dataframe\">\n",
       "  <thead>\n",
       "    <tr style=\"text-align: right;\">\n",
       "      <th></th>\n",
       "      <th>homeDescription</th>\n",
       "      <th>latitude</th>\n",
       "      <th>longitude</th>\n",
       "      <th>bedrooms</th>\n",
       "      <th>bathrooms</th>\n",
       "      <th>finishedSqFt</th>\n",
       "      <th>lotSizeSqFt</th>\n",
       "      <th>yearBuilt</th>\n",
       "      <th>yearUpdated</th>\n",
       "      <th>numFloors</th>\n",
       "      <th>parkingType</th>\n",
       "      <th>heatingSources</th>\n",
       "      <th>heatingSystem</th>\n",
       "      <th>rooms</th>\n",
       "      <th>value</th>\n",
       "    </tr>\n",
       "    <tr>\n",
       "      <th>zpid</th>\n",
       "      <th></th>\n",
       "      <th></th>\n",
       "      <th></th>\n",
       "      <th></th>\n",
       "      <th></th>\n",
       "      <th></th>\n",
       "      <th></th>\n",
       "      <th></th>\n",
       "      <th></th>\n",
       "      <th></th>\n",
       "      <th></th>\n",
       "      <th></th>\n",
       "      <th></th>\n",
       "      <th></th>\n",
       "      <th></th>\n",
       "    </tr>\n",
       "  </thead>\n",
       "  <tbody>\n",
       "    <tr>\n",
       "      <th>40000003</th>\n",
       "      <td>Beautifully maintained and landscaped home con...</td>\n",
       "      <td>40.649677</td>\n",
       "      <td>-74.389070</td>\n",
       "      <td>3.0</td>\n",
       "      <td>1.5</td>\n",
       "      <td>NaN</td>\n",
       "      <td>10454.0</td>\n",
       "      <td>1964.0</td>\n",
       "      <td>NaN</td>\n",
       "      <td>NaN</td>\n",
       "      <td>NaN</td>\n",
       "      <td>NaN</td>\n",
       "      <td>NaN</td>\n",
       "      <td>NaN</td>\n",
       "      <td>NaN</td>\n",
       "    </tr>\n",
       "    <tr>\n",
       "      <th>40000004</th>\n",
       "      <td>NaN</td>\n",
       "      <td>40.649500</td>\n",
       "      <td>-74.388788</td>\n",
       "      <td>4.0</td>\n",
       "      <td>2.5</td>\n",
       "      <td>1641.0</td>\n",
       "      <td>9583.0</td>\n",
       "      <td>1951.0</td>\n",
       "      <td>NaN</td>\n",
       "      <td>NaN</td>\n",
       "      <td>NaN</td>\n",
       "      <td>NaN</td>\n",
       "      <td>NaN</td>\n",
       "      <td>NaN</td>\n",
       "      <td>NaN</td>\n",
       "    </tr>\n",
       "    <tr>\n",
       "      <th>40000009</th>\n",
       "      <td>Totally renovated colonial, open floor plan, h...</td>\n",
       "      <td>40.648488</td>\n",
       "      <td>-74.389920</td>\n",
       "      <td>4.0</td>\n",
       "      <td>2.5</td>\n",
       "      <td>1969.0</td>\n",
       "      <td>7501.0</td>\n",
       "      <td>1950.0</td>\n",
       "      <td>NaN</td>\n",
       "      <td>NaN</td>\n",
       "      <td>NaN</td>\n",
       "      <td>NaN</td>\n",
       "      <td>NaN</td>\n",
       "      <td>NaN</td>\n",
       "      <td>NaN</td>\n",
       "    </tr>\n",
       "    <tr>\n",
       "      <th>40000010</th>\n",
       "      <td>NEW PRICE!!!!! POSSIBILITIES ARE ENDLESS FOR S...</td>\n",
       "      <td>40.648331</td>\n",
       "      <td>-74.390096</td>\n",
       "      <td>3.0</td>\n",
       "      <td>2.0</td>\n",
       "      <td>1415.0</td>\n",
       "      <td>7405.0</td>\n",
       "      <td>1950.0</td>\n",
       "      <td>NaN</td>\n",
       "      <td>2.0</td>\n",
       "      <td>Garage - Attached</td>\n",
       "      <td>Gas</td>\n",
       "      <td>Baseboard, Other</td>\n",
       "      <td>Office, Workshop, Family room, Laundry room</td>\n",
       "      <td>33111000.0</td>\n",
       "    </tr>\n",
       "    <tr>\n",
       "      <th>40000012</th>\n",
       "      <td>Charming Cape Cod Style home with an Oversized...</td>\n",
       "      <td>40.648016</td>\n",
       "      <td>-74.390447</td>\n",
       "      <td>4.0</td>\n",
       "      <td>2.0</td>\n",
       "      <td>1356.0</td>\n",
       "      <td>7501.0</td>\n",
       "      <td>1954.0</td>\n",
       "      <td>NaN</td>\n",
       "      <td>NaN</td>\n",
       "      <td>NaN</td>\n",
       "      <td>NaN</td>\n",
       "      <td>NaN</td>\n",
       "      <td>NaN</td>\n",
       "      <td>NaN</td>\n",
       "    </tr>\n",
       "  </tbody>\n",
       "</table>\n",
       "</div>"
      ],
      "text/plain": [
       "                                            homeDescription   latitude  \\\n",
       "zpid                                                                     \n",
       "40000003  Beautifully maintained and landscaped home con...  40.649677   \n",
       "40000004                                                NaN  40.649500   \n",
       "40000009  Totally renovated colonial, open floor plan, h...  40.648488   \n",
       "40000010  NEW PRICE!!!!! POSSIBILITIES ARE ENDLESS FOR S...  40.648331   \n",
       "40000012  Charming Cape Cod Style home with an Oversized...  40.648016   \n",
       "\n",
       "          longitude  bedrooms  bathrooms  finishedSqFt  lotSizeSqFt  \\\n",
       "zpid                                                                  \n",
       "40000003 -74.389070       3.0        1.5           NaN      10454.0   \n",
       "40000004 -74.388788       4.0        2.5        1641.0       9583.0   \n",
       "40000009 -74.389920       4.0        2.5        1969.0       7501.0   \n",
       "40000010 -74.390096       3.0        2.0        1415.0       7405.0   \n",
       "40000012 -74.390447       4.0        2.0        1356.0       7501.0   \n",
       "\n",
       "          yearBuilt  yearUpdated  numFloors        parkingType heatingSources  \\\n",
       "zpid                                                                            \n",
       "40000003     1964.0          NaN        NaN                NaN            NaN   \n",
       "40000004     1951.0          NaN        NaN                NaN            NaN   \n",
       "40000009     1950.0          NaN        NaN                NaN            NaN   \n",
       "40000010     1950.0          NaN        2.0  Garage - Attached            Gas   \n",
       "40000012     1954.0          NaN        NaN                NaN            NaN   \n",
       "\n",
       "             heatingSystem                                        rooms  \\\n",
       "zpid                                                                      \n",
       "40000003               NaN                                          NaN   \n",
       "40000004               NaN                                          NaN   \n",
       "40000009               NaN                                          NaN   \n",
       "40000010  Baseboard, Other  Office, Workshop, Family room, Laundry room   \n",
       "40000012               NaN                                          NaN   \n",
       "\n",
       "               value  \n",
       "zpid                  \n",
       "40000003         NaN  \n",
       "40000004         NaN  \n",
       "40000009         NaN  \n",
       "40000010  33111000.0  \n",
       "40000012         NaN  "
      ]
     },
     "execution_count": 18,
     "metadata": {},
     "output_type": "execute_result"
    }
   ],
   "source": [
    "df.head()"
   ]
  },
  {
   "cell_type": "markdown",
   "metadata": {},
   "source": [
    "#### Missing values\n",
    "\n",
    "The dataframe has missing values in some features such as yearUpdated, numFloors, parkingType and heatingSources. If majority of the values are missing for a column, we should remove that.\n",
    "\n",
    "We can now impute the missing values. Categorical features needs to be imputed with most frequent category and numerical features with median."
   ]
  },
  {
   "cell_type": "code",
   "execution_count": 19,
   "metadata": {},
   "outputs": [
    {
     "data": {
      "text/plain": [
       "513"
      ]
     },
     "execution_count": 19,
     "metadata": {},
     "output_type": "execute_result"
    }
   ],
   "source": [
    "sum(pd.isnull(df['numFloors']))"
   ]
  },
  {
   "cell_type": "code",
   "execution_count": 20,
   "metadata": {},
   "outputs": [],
   "source": [
    "from sklearn.base import TransformerMixin\n",
    "\n",
    "class ImputeDataSet(TransformerMixin):\n",
    "\n",
    "    def __init__(self):\n",
    "        \"\"\"Impute missing values\n",
    "        \"\"\"\n",
    "    def fit(self, X, y=None):\n",
    "\n",
    "        self.fill = pd.Series([X[c].value_counts().index[0]\n",
    "            if X[c].dtype == np.dtype('O') else X[c].mean() for c in X],\n",
    "            index=X.columns)\n",
    "\n",
    "        return self\n",
    "\n",
    "    def transform(self, X, y=None):\n",
    "        return X.fillna(self.fill)"
   ]
  },
  {
   "cell_type": "code",
   "execution_count": 21,
   "metadata": {},
   "outputs": [],
   "source": [
    "# Remove missing values\n",
    "df = df.dropna(subset=['value'])"
   ]
  },
  {
   "cell_type": "code",
   "execution_count": 22,
   "metadata": {},
   "outputs": [
    {
     "name": "stdout",
     "output_type": "stream",
     "text": [
      "Dataframe has 432 rows and 15 columns.\n"
     ]
    }
   ],
   "source": [
    "# Imputing most frequent for categorical features\n",
    "categorical_features = df.select_dtypes(include=['object']).columns\n",
    "df[categorical_features] = ImputeDataSet().fit_transform(df[categorical_features])\n",
    "\n",
    "# Imputing median for numerical features\n",
    "numeric_features = df.select_dtypes(include=[np.number]).columns\n",
    "imp = Imputer(missing_values=np.nan, strategy='median', axis=0)\n",
    "df[numeric_features] = imp.fit_transform(df[numeric_features])\n",
    "\n",
    "print(\"Dataframe has {} rows and {} columns.\".format(*df.shape))"
   ]
  },
  {
   "cell_type": "code",
   "execution_count": 23,
   "metadata": {},
   "outputs": [
    {
     "data": {
      "text/plain": [
       "homeDescription    0\n",
       "latitude           0\n",
       "longitude          0\n",
       "bedrooms           0\n",
       "bathrooms          0\n",
       "finishedSqFt       0\n",
       "lotSizeSqFt        0\n",
       "yearBuilt          0\n",
       "yearUpdated        0\n",
       "numFloors          0\n",
       "parkingType        0\n",
       "heatingSources     0\n",
       "heatingSystem      0\n",
       "rooms              0\n",
       "value              0\n",
       "dtype: int64"
      ]
     },
     "execution_count": 23,
     "metadata": {},
     "output_type": "execute_result"
    }
   ],
   "source": [
    "df.isnull().sum(axis=0)"
   ]
  },
  {
   "cell_type": "code",
   "execution_count": 24,
   "metadata": {},
   "outputs": [
    {
     "data": {
      "text/plain": [
       "False"
      ]
     },
     "execution_count": 24,
     "metadata": {},
     "output_type": "execute_result"
    }
   ],
   "source": [
    "# check for any nulls in the final dataframe\n",
    "df.isnull().values.any()"
   ]
  },
  {
   "cell_type": "markdown",
   "metadata": {},
   "source": [
    "### Topic Modeling\n",
    "\n",
    "We are using a Natural Language Processing pipeline for converting the corpus into a document-term-matrix. Then apply the Latent Dirrichlet Allocation (LDA) to discover inherent topics in the corpus. Classify this corpus according to the topics learned and use them as features for the regression model.\n",
    "\n",
    "LDA is a generative statistical model that allows sets of observations to be explained by unobserved groups that explain why some parts of the data are similar."
   ]
  },
  {
   "cell_type": "code",
   "execution_count": 25,
   "metadata": {},
   "outputs": [
    {
     "name": "stdout",
     "output_type": "stream",
     "text": [
      "Dataframe has 432 rows and 14 columns.\n"
     ]
    }
   ],
   "source": [
    "#Topic Model\n",
    "\n",
    "# Seperate NLP features\n",
    "nlp_features = ['homeDescription']\n",
    "corpus = df[nlp_features]\n",
    "df = df.drop(nlp_features, axis = 1)\n",
    "print(\"Dataframe has {} rows and {} columns.\".format(*df.shape))"
   ]
  },
  {
   "cell_type": "code",
   "execution_count": 26,
   "metadata": {},
   "outputs": [],
   "source": [
    "def text_preprocess(corpus):\n",
    "    \"\"\"Applies basic preprocessing steps to a corpus in list format. \n",
    "    Word tokenization, removal of English stop words, convert to lower case\n",
    "    and lemmatization are done.\"\"\"\n",
    "    modified_corpus = []\n",
    "    english_words = set(nltk.corpus.words.words())\n",
    "    english_stopwords = set(stopwords.words('english'))\n",
    "    wordnet_lemmatizer = WordNetLemmatizer()\n",
    "    tokenizer = RegexpTokenizer(r'[\\w|!]+')\n",
    "    for row in corpus:\n",
    "        word_tokens = tokenizer.tokenize(row)\n",
    "        word_tokens_lower = [t.lower() for t in word_tokens]\n",
    "        word_tokens_lower_english = [t for t in word_tokens_lower if t in english_words or not t.isalpha()]\n",
    "        word_tokens_no_stops = [t for t in word_tokens_lower_english if not t in english_stopwords]\n",
    "        word_tokens_no_stops_lemmatized = [wordnet_lemmatizer.lemmatize(t) for t in word_tokens_no_stops]\n",
    "        modified_corpus.append(word_tokens_no_stops_lemmatized)\n",
    "    return modified_corpus"
   ]
  },
  {
   "cell_type": "code",
   "execution_count": 27,
   "metadata": {},
   "outputs": [],
   "source": [
    "def nlp_pipeline(modified_corpus):\n",
    "    \"\"\"Takes processed corpus and produce dictionary, doc_term_matrix and LDA model\"\"\"\n",
    "    # Creates the term dictionary (every unique term in corpus is assigned an index)\n",
    "    dictionary = Dictionary(modified_corpus)\n",
    "    # Convert corpus into Document Term Matrix using dictionary prepared above\n",
    "    doc_term_matrix = [dictionary.doc2bow(listing) for listing in modified_corpus]    \n",
    "    return dictionary, doc_term_matrix"
   ]
  },
  {
   "cell_type": "code",
   "execution_count": 28,
   "metadata": {},
   "outputs": [],
   "source": [
    "def Topic_modelling_LDA(doc_term_matrix, dictionary, num_topics=3, passes=2):\n",
    "    # Create an object for LDA model and train it on Document-Term-Matrix\n",
    "    LDA = LdaModel\n",
    "    ldamodel = LDA(doc_term_matrix, num_topics=num_topics, id2word = dictionary, passes=passes)\n",
    "    return ldamodel"
   ]
  },
  {
   "cell_type": "code",
   "execution_count": 29,
   "metadata": {},
   "outputs": [
    {
     "data": {
      "text/html": [
       "<div>\n",
       "<style scoped>\n",
       "    .dataframe tbody tr th:only-of-type {\n",
       "        vertical-align: middle;\n",
       "    }\n",
       "\n",
       "    .dataframe tbody tr th {\n",
       "        vertical-align: top;\n",
       "    }\n",
       "\n",
       "    .dataframe thead th {\n",
       "        text-align: right;\n",
       "    }\n",
       "</style>\n",
       "<table border=\"1\" class=\"dataframe\">\n",
       "  <thead>\n",
       "    <tr style=\"text-align: right;\">\n",
       "      <th></th>\n",
       "      <th>homeDescription</th>\n",
       "    </tr>\n",
       "    <tr>\n",
       "      <th>zpid</th>\n",
       "      <th></th>\n",
       "    </tr>\n",
       "  </thead>\n",
       "  <tbody>\n",
       "    <tr>\n",
       "      <th>40000010</th>\n",
       "      <td>NEW PRICE!!!!! POSSIBILITIES ARE ENDLESS FOR S...</td>\n",
       "    </tr>\n",
       "    <tr>\n",
       "      <th>40000018</th>\n",
       "      <td>Welcome home to this fabulous 1500 Sq Ft Henry...</td>\n",
       "    </tr>\n",
       "    <tr>\n",
       "      <th>40000025</th>\n",
       "      <td>Charming traditional elements and modern conve...</td>\n",
       "    </tr>\n",
       "    <tr>\n",
       "      <th>40000028</th>\n",
       "      <td>A welcoming entry opens to a spectacular home ...</td>\n",
       "    </tr>\n",
       "    <tr>\n",
       "      <th>40000029</th>\n",
       "      <td>A welcoming entry opens to a spectacular home ...</td>\n",
       "    </tr>\n",
       "  </tbody>\n",
       "</table>\n",
       "</div>"
      ],
      "text/plain": [
       "                                            homeDescription\n",
       "zpid                                                       \n",
       "40000010  NEW PRICE!!!!! POSSIBILITIES ARE ENDLESS FOR S...\n",
       "40000018  Welcome home to this fabulous 1500 Sq Ft Henry...\n",
       "40000025  Charming traditional elements and modern conve...\n",
       "40000028  A welcoming entry opens to a spectacular home ...\n",
       "40000029  A welcoming entry opens to a spectacular home ..."
      ]
     },
     "execution_count": 29,
     "metadata": {},
     "output_type": "execute_result"
    }
   ],
   "source": [
    "corpus.head()"
   ]
  },
  {
   "cell_type": "code",
   "execution_count": 30,
   "metadata": {},
   "outputs": [],
   "source": [
    "corpus_description = corpus['homeDescription'].astype(str)\n",
    "modified_corpus_description = text_preprocess(corpus_description)\n",
    "dictionary_description, doc_term_matrix_description = nlp_pipeline(modified_corpus_description)"
   ]
  },
  {
   "cell_type": "code",
   "execution_count": 31,
   "metadata": {},
   "outputs": [
    {
     "name": "stdout",
     "output_type": "stream",
     "text": [
      "Dictionary(1573 unique tokens: ['1', '1st', '2', '2nd', '9x7']...)\n"
     ]
    }
   ],
   "source": [
    "print(dictionary_description)"
   ]
  },
  {
   "cell_type": "code",
   "execution_count": 32,
   "metadata": {},
   "outputs": [
    {
     "name": "stdout",
     "output_type": "stream",
     "text": [
      "[[(0, 1), (1, 1), (2, 1), (3, 1), (4, 1), (5, 1), (6, 1), (7, 1), (8, 2), (9, 1), (10, 1), (11, 2), (12, 1), (13, 1), (14, 1), (15, 1), (16, 1), (17, 2), (18, 1), (19, 1), (20, 1), (21, 1), (22, 1), (23, 1), (24, 1), (25, 1), (26, 1), (27, 1), (28, 1), (29, 1), (30, 1), (31, 1), (32, 1), (33, 1), (34, 1), (35, 1), (36, 1), (37, 2), (38, 1), (39, 1), (40, 1), (41, 1), (42, 1), (43, 1), (44, 1), (45, 1), (46, 1), (47, 1), (48, 1), (49, 1), (50, 1), (51, 1), (52, 2), (53, 5), (54, 2), (55, 1), (56, 1), (57, 1), (58, 1)], [(8, 1), (17, 1), (19, 1), (24, 1), (26, 1), (28, 1), (31, 2), (32, 1), (36, 3), (41, 1), (45, 1), (46, 1), (54, 1), (56, 1), (59, 1), (60, 1), (61, 1), (62, 1), (63, 1), (64, 1), (65, 1), (66, 1), (67, 1), (68, 1), (69, 1), (70, 1), (71, 1), (72, 2), (73, 1), (74, 2), (75, 1), (76, 1), (77, 1), (78, 1), (79, 1), (80, 1), (81, 4), (82, 1), (83, 1), (84, 1), (85, 1), (86, 1), (87, 1), (88, 2), (89, 1), (90, 1), (91, 1), (92, 1), (93, 1), (94, 1), (95, 1), (96, 1), (97, 1), (98, 1), (99, 4), (100, 1), (101, 1), (102, 1), (103, 1), (104, 1)], [(6, 1), (8, 1), (11, 1), (17, 1), (27, 1), (30, 1), (31, 2), (34, 1), (35, 1), (38, 1), (39, 1), (40, 1), (54, 2), (56, 1), (58, 1), (64, 1), (69, 1), (72, 1), (80, 1), (81, 2), (85, 1), (88, 1), (99, 1), (105, 1), (106, 1), (107, 1), (108, 1), (109, 1), (110, 1), (111, 1), (112, 1), (113, 1), (114, 1), (115, 1), (116, 1), (117, 1), (118, 1), (119, 1), (120, 1), (121, 1), (122, 1), (123, 1), (124, 1), (125, 1), (126, 1), (127, 1), (128, 1), (129, 1), (130, 1), (131, 1), (132, 1), (133, 1), (134, 1), (135, 1), (136, 1), (137, 2), (138, 1), (139, 1), (140, 1), (141, 1), (142, 1), (143, 1), (144, 1)], [(1, 1), (3, 1), (5, 1), (8, 2), (11, 2), (17, 1), (21, 1), (24, 1), (26, 1), (30, 1), (31, 2), (34, 2), (36, 1), (51, 1), (54, 1), (64, 1), (65, 1), (80, 1), (81, 3), (83, 1), (85, 1), (88, 2), (95, 1), (99, 6), (106, 1), (129, 2), (133, 1), (134, 1), (137, 1), (145, 1), (146, 1), (147, 1), (148, 1), (149, 2), (150, 1), (151, 1), (152, 1), (153, 1), (154, 1), (155, 1), (156, 1), (157, 1), (158, 1), (159, 3), (160, 2), (161, 1), (162, 1), (163, 1), (164, 1), (165, 1), (166, 1), (167, 2), (168, 1), (169, 1), (170, 1), (171, 1), (172, 1)], [(1, 1), (3, 1), (5, 1), (8, 2), (11, 2), (17, 1), (21, 1), (24, 1), (26, 1), (30, 1), (31, 2), (34, 2), (36, 1), (51, 1), (54, 1), (64, 1), (65, 1), (80, 1), (81, 3), (83, 1), (85, 1), (88, 2), (95, 1), (99, 6), (106, 1), (129, 2), (133, 1), (134, 1), (137, 1), (145, 1), (146, 1), (147, 1), (148, 1), (149, 2), (150, 1), (151, 1), (152, 1), (153, 1), (154, 1), (155, 1), (156, 1), (157, 1), (158, 1), (159, 3), (160, 2), (161, 1), (162, 1), (163, 1), (164, 1), (165, 1), (166, 1), (167, 2), (168, 1), (169, 1), (170, 1), (171, 1), (172, 1)], [(1, 1), (3, 1), (5, 1), (8, 2), (11, 2), (17, 1), (21, 1), (24, 1), (26, 1), (30, 1), (31, 2), (34, 2), (36, 1), (51, 1), (54, 1), (64, 1), (65, 1), (80, 1), (81, 3), (83, 1), (85, 1), (88, 2), (95, 1), (99, 6), (106, 1), (129, 2), (133, 1), (134, 1), (137, 1), (145, 1), (146, 1), (147, 1), (148, 1), (149, 2), (150, 1), (151, 1), (152, 1), (153, 1), (154, 1), (155, 1), (156, 1), (157, 1), (158, 1), (159, 3), (160, 2), (161, 1), (162, 1), (163, 1), (164, 1), (165, 1), (166, 1), (167, 2), (168, 1), (169, 1), (170, 1), (171, 1), (172, 1)], [(0, 1), (2, 1), (8, 1), (11, 1), (17, 1), (19, 1), (24, 1), (26, 1), (31, 1), (34, 1), (35, 1), (36, 1), (39, 1), (54, 1), (62, 1), (64, 1), (80, 1), (81, 2), (83, 1), (88, 1), (99, 6), (106, 2), (110, 2), (129, 1), (142, 1), (149, 1), (159, 1), (161, 1), (173, 1), (174, 1), (175, 2), (176, 1), (177, 1), (178, 1), (179, 1), (180, 1), (181, 1), (182, 1)], [(26, 1), (97, 1), (167, 1), (183, 1), (184, 1), (185, 1), (186, 1), (187, 1)], [(40, 1), (72, 1), (109, 1), (138, 1), (188, 1), (189, 1), (190, 1), (191, 1), (192, 1)], [(1, 1), (3, 1), (5, 1), (8, 2), (11, 2), (17, 1), (21, 1), (24, 1), (26, 1), (30, 1), (31, 2), (34, 2), (36, 1), (51, 1), (54, 1), (64, 1), (65, 1), (80, 1), (81, 3), (83, 1), (85, 1), (88, 2), (95, 1), (99, 6), (106, 1), (129, 2), (133, 1), (134, 1), (137, 1), (145, 1), (146, 1), (147, 1), (148, 1), (149, 2), (150, 1), (151, 1), (152, 1), (153, 1), (154, 1), (155, 1), (156, 1), (157, 1), (158, 1), (159, 3), (160, 2), (161, 1), (162, 1), (163, 1), (164, 1), (165, 1), (166, 1), (167, 2), (168, 1), (169, 1), (170, 1), (171, 1), (172, 1)], [(0, 2), (8, 1), (16, 1), (24, 1), (31, 1), (37, 1), (65, 1), (82, 1), (85, 1), (88, 1), (99, 1), (132, 1), (159, 1), (183, 1), (185, 1), (193, 1), (194, 1), (195, 1), (196, 1), (197, 1), (198, 1), (199, 1), (200, 1), (201, 1), (202, 1)], [(0, 1), (8, 1), (31, 1), (37, 4), (45, 1), (85, 1), (88, 1), (106, 1), (114, 1), (133, 1), (134, 1), (137, 1), (149, 1), (183, 1), (196, 1), (197, 1), (198, 1), (199, 1), (201, 1), (203, 1), (204, 2), (205, 1), (206, 1), (207, 1), (208, 1), (209, 1), (210, 1), (211, 1), (212, 1), (213, 1), (214, 1), (215, 1), (216, 1), (217, 1), (218, 1), (219, 1), (220, 1), (221, 1)], [(6, 1), (16, 1), (17, 1), (31, 3), (37, 2), (45, 1), (66, 1), (85, 1), (88, 1), (91, 1), (99, 1), (106, 1), (107, 1), (108, 1), (114, 1), (130, 1), (133, 1), (134, 1), (149, 1), (161, 1), (196, 1), (198, 1), (207, 1), (208, 1), (215, 1), (216, 1), (218, 1), (219, 1), (222, 1), (223, 1), (224, 1), (225, 1), (226, 1), (227, 1), (228, 1), (229, 1), (230, 1), (231, 1), (232, 1), (233, 1), (234, 1), (235, 1), (236, 1), (237, 1), (238, 1), (239, 1), (240, 1), (241, 1), (242, 1), (243, 1), (244, 1), (245, 1), (246, 2), (247, 1), (248, 1)], [(1, 1), (3, 1), (5, 1), (8, 2), (11, 2), (17, 1), (21, 1), (24, 1), (26, 1), (30, 1), (31, 2), (34, 2), (36, 1), (51, 1), (54, 1), (64, 1), (65, 1), (80, 1), (81, 3), (83, 1), (85, 1), (88, 2), (95, 1), (99, 6), (106, 1), (129, 2), (133, 1), (134, 1), (137, 1), (145, 1), (146, 1), (147, 1), (148, 1), (149, 2), (150, 1), (151, 1), (152, 1), (153, 1), (154, 1), (155, 1), (156, 1), (157, 1), (158, 1), (159, 3), (160, 2), (161, 1), (162, 1), (163, 1), (164, 1), (165, 1), (166, 1), (167, 2), (168, 1), (169, 1), (170, 1), (171, 1), (172, 1)], [(31, 1), (37, 2), (56, 1), (88, 1), (164, 1), (186, 1), (187, 1), (229, 1), (235, 1), (241, 1), (249, 1), (250, 1), (251, 1), (252, 1), (253, 1), (254, 1), (255, 1)], [(1, 1), (3, 1), (5, 1), (8, 2), (11, 2), (17, 1), (21, 1), (24, 1), (26, 1), (30, 1), (31, 2), (34, 2), (36, 1), (51, 1), (54, 1), (64, 1), (65, 1), (80, 1), (81, 3), (83, 1), (85, 1), (88, 2), (95, 1), (99, 6), (106, 1), (129, 2), (133, 1), (134, 1), (137, 1), (145, 1), (146, 1), (147, 1), (148, 1), (149, 2), (150, 1), (151, 1), (152, 1), (153, 1), (154, 1), (155, 1), (156, 1), (157, 1), (158, 1), (159, 3), (160, 2), (161, 1), (162, 1), (163, 1), (164, 1), (165, 1), (166, 1), (167, 2), (168, 1), (169, 1), (170, 1), (171, 1), (172, 1)], [(11, 1), (18, 1), (24, 1), (31, 1), (33, 1), (37, 3), (40, 1), (49, 1), (53, 2), (58, 1), (64, 1), (66, 1), (85, 1), (87, 1), (99, 1), (108, 1), (132, 1), (142, 1), (145, 1), (159, 2), (175, 1), (176, 1), (216, 1), (226, 1), (228, 1), (256, 1), (257, 1), (258, 1), (259, 1), (260, 1), (261, 1), (262, 1), (263, 1), (264, 1), (265, 1), (266, 1), (267, 1), (268, 1), (269, 1), (270, 1)], [(2, 1), (5, 1), (17, 1), (18, 1), (24, 2), (26, 1), (28, 1), (31, 1), (34, 2), (36, 1), (39, 1), (48, 1), (49, 1), (50, 1), (51, 1), (53, 1), (54, 2), (55, 1), (58, 1), (65, 1), (72, 1), (83, 1), (93, 1), (99, 5), (130, 1), (142, 1), (145, 2), (149, 1), (155, 1), (159, 1), (160, 1), (161, 2), (164, 1), (169, 1), (246, 1), (271, 1), (272, 1), (273, 1), (274, 1), (275, 1), (276, 1), (277, 2), (278, 1), (279, 1), (280, 1), (281, 1), (282, 2), (283, 1), (284, 1), (285, 1), (286, 1), (287, 1), (288, 1), (289, 1), (290, 1), (291, 1), (292, 1), (293, 1), (294, 1), (295, 1)], [(1, 1), (3, 1), (5, 1), (8, 2), (11, 2), (17, 1), (21, 1), (24, 1), (26, 1), (30, 1), (31, 2), (34, 2), (36, 1), (51, 1), (54, 1), (64, 1), (65, 1), (80, 1), (81, 3), (83, 1), (85, 1), (88, 2), (95, 1), (99, 6), (106, 1), (129, 2), (133, 1), (134, 1), (137, 1), (145, 1), (146, 1), (147, 1), (148, 1), (149, 2), (150, 1), (151, 1), (152, 1), (153, 1), (154, 1), (155, 1), (156, 1), (157, 1), (158, 1), (159, 3), (160, 2), (161, 1), (162, 1), (163, 1), (164, 1), (165, 1), (166, 1), (167, 2), (168, 1), (169, 1), (170, 1), (171, 1), (172, 1)], [(1, 1), (3, 1), (5, 1), (8, 2), (11, 2), (17, 1), (21, 1), (24, 1), (26, 1), (30, 1), (31, 2), (34, 2), (36, 1), (51, 1), (54, 1), (64, 1), (65, 1), (80, 1), (81, 3), (83, 1), (85, 1), (88, 2), (95, 1), (99, 6), (106, 1), (129, 2), (133, 1), (134, 1), (137, 1), (145, 1), (146, 1), (147, 1), (148, 1), (149, 2), (150, 1), (151, 1), (152, 1), (153, 1), (154, 1), (155, 1), (156, 1), (157, 1), (158, 1), (159, 3), (160, 2), (161, 1), (162, 1), (163, 1), (164, 1), (165, 1), (166, 1), (167, 2), (168, 1), (169, 1), (170, 1), (171, 1), (172, 1)], [(24, 1), (34, 2), (51, 1), (64, 1), (70, 1), (80, 1), (91, 1), (124, 1), (140, 1), (185, 1), (199, 1), (201, 1), (211, 1), (219, 1), (241, 1), (290, 1), (291, 1), (296, 1), (297, 1), (298, 1), (299, 1), (300, 1), (301, 1), (302, 1), (303, 1), (304, 1), (305, 1), (306, 1), (307, 1)], [(31, 1), (58, 1), (83, 1), (88, 1), (93, 1), (117, 1), (121, 1), (157, 1), (199, 1), (201, 1), (218, 1), (261, 1), (306, 1), (308, 1), (309, 1), (310, 1), (311, 1)], [(3, 1), (8, 2), (9, 1), (11, 1), (18, 1), (19, 1), (26, 1), (34, 1), (36, 1), (37, 1), (39, 1), (45, 1), (49, 1), (53, 3), (56, 1), (58, 1), (64, 1), (81, 1), (87, 1), (88, 1), (93, 1), (99, 1), (103, 1), (114, 1), (130, 1), (159, 2), (162, 1), (167, 1), (169, 1), (199, 2), (201, 1), (223, 1), (228, 1), (230, 1), (270, 1), (312, 1), (313, 1), (314, 1), (315, 1), (316, 1), (317, 1), (318, 1), (319, 1), (320, 1), (321, 1), (322, 1), (323, 1), (324, 1), (325, 1), (326, 1), (327, 1), (328, 1), (329, 1), (330, 1)], [(1, 1), (3, 1), (5, 1), (8, 2), (11, 2), (17, 1), (21, 1), (24, 1), (26, 1), (30, 1), (31, 2), (34, 2), (36, 1), (51, 1), (54, 1), (64, 1), (65, 1), (80, 1), (81, 3), (83, 1), (85, 1), (88, 2), (95, 1), (99, 6), (106, 1), (129, 2), (133, 1), (134, 1), (137, 1), (145, 1), (146, 1), (147, 1), (148, 1), (149, 2), (150, 1), (151, 1), (152, 1), (153, 1), (154, 1), (155, 1), (156, 1), (157, 1), (158, 1), (159, 3), (160, 2), (161, 1), (162, 1), (163, 1), (164, 1), (165, 1), (166, 1), (167, 2), (168, 1), (169, 1), (170, 1), (171, 1), (172, 1)], [(31, 1), (48, 1), (164, 1), (199, 1), (200, 1), (209, 1), (223, 1), (324, 1), (331, 1), (332, 1), (333, 1), (334, 1), (335, 1), (336, 1), (337, 1)], [(1, 1), (3, 1), (5, 1), (8, 2), (11, 2), (17, 1), (21, 1), (24, 1), (26, 1), (30, 1), (31, 2), (34, 2), (36, 1), (51, 1), (54, 1), (64, 1), (65, 1), (80, 1), (81, 3), (83, 1), (85, 1), (88, 2), (95, 1), (99, 6), (106, 1), (129, 2), (133, 1), (134, 1), (137, 1), (145, 1), (146, 1), (147, 1), (148, 1), (149, 2), (150, 1), (151, 1), (152, 1), (153, 1), (154, 1), (155, 1), (156, 1), (157, 1), (158, 1), (159, 3), (160, 2), (161, 1), (162, 1), (163, 1), (164, 1), (165, 1), (166, 1), (167, 2), (168, 1), (169, 1), (170, 1), (171, 1), (172, 1)], [(5, 2), (8, 1), (16, 1), (18, 2), (24, 1), (31, 2), (37, 2), (48, 1), (51, 1), (62, 1), (65, 2), (79, 1), (88, 1), (89, 1), (98, 1), (99, 2), (129, 1), (132, 1), (140, 2), (149, 1), (156, 1), (161, 1), (164, 1), (187, 2), (203, 1), (204, 1), (230, 2), (256, 1), (261, 2), (264, 1), (279, 1), (290, 1), (300, 1), (307, 1), (322, 1), (326, 1), (338, 1), (339, 1), (340, 1), (341, 1), (342, 1), (343, 1), (344, 1), (345, 2), (346, 1), (347, 1), (348, 1), (349, 1), (350, 1), (351, 1), (352, 1), (353, 1), (354, 1), (355, 1), (356, 1), (357, 1)], [(0, 1), (21, 1), (34, 1), (37, 1), (40, 1), (45, 1), (51, 1), (114, 1), (132, 1), (159, 1), (183, 1), (195, 1), (201, 1), (202, 1), (203, 1), (215, 1), (226, 1), (229, 1), (241, 1), (261, 2), (263, 1), (290, 1), (321, 1), (322, 1), (323, 1), (326, 1), (336, 1), (346, 1), (349, 1), (358, 1), (359, 1), (360, 1), (361, 1), (362, 1), (363, 1), (364, 1), (365, 1), (366, 1), (367, 1), (368, 1)], [(1, 1), (3, 1), (5, 1), (8, 2), (11, 2), (17, 1), (21, 1), (24, 1), (26, 1), (30, 1), (31, 2), (34, 2), (36, 1), (51, 1), (54, 1), (64, 1), (65, 1), (80, 1), (81, 3), (83, 1), (85, 1), (88, 2), (95, 1), (99, 6), (106, 1), (129, 2), (133, 1), (134, 1), (137, 1), (145, 1), (146, 1), (147, 1), (148, 1), (149, 2), (150, 1), (151, 1), (152, 1), (153, 1), (154, 1), (155, 1), (156, 1), (157, 1), (158, 1), (159, 3), (160, 2), (161, 1), (162, 1), (163, 1), (164, 1), (165, 1), (166, 1), (167, 2), (168, 1), (169, 1), (170, 1), (171, 1), (172, 1)], [(0, 1), (30, 1), (31, 1), (48, 1), (64, 1), (99, 1), (108, 1), (114, 1), (159, 1), (261, 1), (311, 1), (328, 1), (341, 1), (369, 1), (370, 1), (371, 1), (372, 1), (373, 1), (374, 1), (375, 1), (376, 1), (377, 1), (378, 1)], [(3, 1), (10, 1), (31, 1), (48, 1), (50, 1), (51, 1), (81, 1), (82, 1), (88, 1), (99, 1), (103, 1), (108, 1), (114, 1), (137, 1), (149, 1), (155, 1), (169, 1), (250, 1), (264, 1), (265, 1), (274, 2), (296, 1), (315, 1), (361, 1), (363, 1), (379, 1), (380, 1), (381, 1), (382, 1), (383, 1), (384, 1), (385, 1), (386, 1)], [(5, 1), (8, 2), (11, 1), (17, 1), (24, 1), (26, 3), (28, 1), (31, 2), (36, 1), (47, 1), (54, 1), (58, 1), (64, 1), (68, 2), (72, 1), (74, 1), (80, 1), (81, 3), (83, 1), (87, 1), (88, 3), (99, 4), (107, 1), (109, 1), (114, 3), (116, 1), (131, 2), (132, 1), (133, 1), (134, 1), (135, 1), (136, 1), (142, 3), (147, 1), (149, 1), (150, 2), (156, 1), (159, 1), (161, 1), (167, 1), (176, 1), (184, 1), (187, 1), (217, 1), (220, 2), (260, 1), (302, 1), (306, 1), (310, 1), (329, 1), (336, 1), (341, 3), (349, 1), (350, 1), (387, 1), (388, 1), (389, 3), (390, 1), (391, 1), (392, 1), (393, 1), (394, 1), (395, 1), (396, 1), (397, 1), (398, 1), (399, 1), (400, 1), (401, 1), (402, 2), (403, 1), (404, 1), (405, 1), (406, 1), (407, 1), (408, 1), (409, 1), (410, 1), (411, 1), (412, 1), (413, 1), (414, 1), (415, 1), (416, 1), (417, 1), (418, 1), (419, 1), (420, 1), (421, 5), (422, 1), (423, 1), (424, 1), (425, 1), (426, 1), (427, 1), (428, 1), (429, 1), (430, 1)], [(31, 1), (110, 1), (356, 1), (357, 1), (431, 1), (432, 1), (433, 1)], [(261, 1), (366, 1)], [(1, 1), (3, 1), (5, 1), (8, 2), (11, 2), (17, 1), (21, 1), (24, 1), (26, 1), (30, 1), (31, 2), (34, 2), (36, 1), (51, 1), (54, 1), (64, 1), (65, 1), (80, 1), (81, 3), (83, 1), (85, 1), (88, 2), (95, 1), (99, 6), (106, 1), (129, 2), (133, 1), (134, 1), (137, 1), (145, 1), (146, 1), (147, 1), (148, 1), (149, 2), (150, 1), (151, 1), (152, 1), (153, 1), (154, 1), (155, 1), (156, 1), (157, 1), (158, 1), (159, 3), (160, 2), (161, 1), (162, 1), (163, 1), (164, 1), (165, 1), (166, 1), (167, 2), (168, 1), (169, 1), (170, 1), (171, 1), (172, 1)], [(0, 1), (2, 3), (3, 1), (8, 2), (11, 1), (16, 1), (17, 1), (26, 1), (30, 1), (31, 1), (35, 1), (36, 1), (54, 1), (58, 1), (64, 1), (77, 1), (80, 1), (81, 2), (83, 1), (85, 1), (87, 1), (88, 1), (95, 1), (99, 2), (109, 1), (114, 1), (117, 2), (124, 1), (133, 1), (134, 1), (145, 1), (149, 2), (161, 2), (167, 2), (175, 1), (176, 1), (216, 1), (228, 1), (243, 1), (245, 1), (248, 1), (342, 1), (350, 1), (369, 1), (395, 1), (421, 1), (434, 1), (435, 1), (436, 1), (437, 1), (438, 1), (439, 1), (440, 1), (441, 1), (442, 1)], [(361, 1), (363, 1), (443, 1), (444, 1), (445, 1), (446, 1), (447, 1), (448, 1), (449, 1), (450, 1), (451, 1)], [(2, 1), (6, 1), (30, 1), (31, 1), (34, 1), (36, 1), (45, 1), (55, 1), (58, 1), (81, 1), (82, 1), (88, 1), (99, 1), (110, 1), (114, 1), (207, 1), (216, 1), (264, 1), (308, 1), (367, 1), (369, 1), (452, 1), (453, 1), (454, 1), (455, 1), (456, 1), (457, 1), (458, 1), (459, 1), (460, 1), (461, 1)], [(1, 1), (3, 1), (5, 1), (8, 2), (11, 2), (17, 1), (21, 1), (24, 1), (26, 1), (30, 1), (31, 2), (34, 2), (36, 1), (51, 1), (54, 1), (64, 1), (65, 1), (80, 1), (81, 3), (83, 1), (85, 1), (88, 2), (95, 1), (99, 6), (106, 1), (129, 2), (133, 1), (134, 1), (137, 1), (145, 1), (146, 1), (147, 1), (148, 1), (149, 2), (150, 1), (151, 1), (152, 1), (153, 1), (154, 1), (155, 1), (156, 1), (157, 1), (158, 1), (159, 3), (160, 2), (161, 1), (162, 1), (163, 1), (164, 1), (165, 1), (166, 1), (167, 2), (168, 1), (169, 1), (170, 1), (171, 1), (172, 1)], [(0, 1), (2, 2), (8, 1), (11, 1), (31, 2), (54, 1), (62, 1), (64, 1), (79, 1), (80, 1), (81, 1), (88, 1), (110, 1), (161, 1), (206, 1), (215, 1), (219, 1), (246, 1), (264, 1), (265, 1), (345, 1), (347, 1), (461, 1), (462, 1), (463, 1), (464, 1), (465, 1), (466, 1)], [(1, 1), (3, 1), (5, 1), (8, 2), (11, 2), (17, 1), (21, 1), (24, 1), (26, 1), (30, 1), (31, 2), (34, 2), (36, 1), (51, 1), (54, 1), (64, 1), (65, 1), (80, 1), (81, 3), (83, 1), (85, 1), (88, 2), (95, 1), (99, 6), (106, 1), (129, 2), (133, 1), (134, 1), (137, 1), (145, 1), (146, 1), (147, 1), (148, 1), (149, 2), (150, 1), (151, 1), (152, 1), (153, 1), (154, 1), (155, 1), (156, 1), (157, 1), (158, 1), (159, 3), (160, 2), (161, 1), (162, 1), (163, 1), (164, 1), (165, 1), (166, 1), (167, 2), (168, 1), (169, 1), (170, 1), (171, 1), (172, 1)], [(0, 5), (2, 2), (8, 1), (13, 1), (19, 1), (30, 2), (31, 4), (34, 2), (36, 1), (37, 2), (58, 1), (65, 1), (72, 1), (88, 1), (97, 1), (99, 2), (102, 1), (114, 2), (117, 1), (121, 1), (137, 1), (174, 1), (185, 1), (203, 1), (204, 1), (235, 1), (237, 1), (261, 1), (297, 1), (329, 1), (342, 1), (357, 1), (377, 1), (389, 1), (467, 1), (468, 1), (469, 1), (470, 1), (471, 1), (472, 1), (473, 1), (474, 2), (475, 2), (476, 1), (477, 2), (478, 1), (479, 1), (480, 1), (481, 1), (482, 1), (483, 1), (484, 1), (485, 1), (486, 1), (487, 1), (488, 1), (489, 1)], [(0, 1), (3, 1), (17, 1), (19, 1), (24, 1), (28, 1), (30, 1), (31, 2), (32, 1), (35, 1), (36, 1), (46, 1), (55, 1), (61, 1), (64, 1), (70, 1), (87, 1), (88, 1), (99, 4), (114, 1), (117, 1), (149, 1), (169, 2), (183, 1), (185, 1), (195, 1), (199, 1), (201, 1), (261, 1), (350, 1), (369, 1), (418, 1), (457, 1), (490, 1), (491, 1), (492, 1), (493, 1), (494, 1), (495, 1), (496, 1), (497, 1)], [(1, 1), (3, 1), (5, 1), (8, 2), (11, 2), (17, 1), (21, 1), (24, 1), (26, 1), (30, 1), (31, 2), (34, 2), (36, 1), (51, 1), (54, 1), (64, 1), (65, 1), (80, 1), (81, 3), (83, 1), (85, 1), (88, 2), (95, 1), (99, 6), (106, 1), (129, 2), (133, 1), (134, 1), (137, 1), (145, 1), (146, 1), (147, 1), (148, 1), (149, 2), (150, 1), (151, 1), (152, 1), (153, 1), (154, 1), (155, 1), (156, 1), (157, 1), (158, 1), (159, 3), (160, 2), (161, 1), (162, 1), (163, 1), (164, 1), (165, 1), (166, 1), (167, 2), (168, 1), (169, 1), (170, 1), (171, 1), (172, 1)], [(1, 1), (3, 1), (6, 1), (16, 2), (17, 1), (26, 1), (31, 1), (34, 1), (37, 4), (40, 1), (58, 1), (69, 1), (79, 1), (81, 3), (83, 1), (85, 1), (88, 4), (99, 2), (108, 1), (109, 1), (114, 1), (129, 1), (133, 1), (134, 1), (138, 1), (143, 1), (150, 1), (157, 1), (183, 1), (187, 1), (196, 1), (198, 1), (200, 1), (218, 1), (264, 1), (287, 1), (302, 1), (308, 2), (328, 1), (336, 2), (376, 1), (398, 1), (401, 1), (419, 1), (453, 1), (457, 3), (461, 1), (478, 1), (490, 1), (498, 1), (499, 1), (500, 1), (501, 1), (502, 1), (503, 1), (504, 1), (505, 1), (506, 1), (507, 1), (508, 2), (509, 1), (510, 1), (511, 1)], [(1, 1), (3, 1), (5, 1), (8, 2), (11, 2), (17, 1), (21, 1), (24, 1), (26, 1), (30, 1), (31, 2), (34, 2), (36, 1), (51, 1), (54, 1), (64, 1), (65, 1), (80, 1), (81, 3), (83, 1), (85, 1), (88, 2), (95, 1), (99, 6), (106, 1), (129, 2), (133, 1), (134, 1), (137, 1), (145, 1), (146, 1), (147, 1), (148, 1), (149, 2), (150, 1), (151, 1), (152, 1), (153, 1), (154, 1), (155, 1), (156, 1), (157, 1), (158, 1), (159, 3), (160, 2), (161, 1), (162, 1), (163, 1), (164, 1), (165, 1), (166, 1), (167, 2), (168, 1), (169, 1), (170, 1), (171, 1), (172, 1)], [(16, 1), (31, 1), (37, 5), (56, 1), (64, 1), (81, 1), (84, 1), (88, 1), (136, 1), (248, 1), (306, 2), (323, 1), (341, 1), (396, 1), (512, 1), (513, 1), (514, 1), (515, 1), (516, 1), (517, 1)], [(1, 1), (3, 1), (5, 1), (8, 2), (11, 2), (17, 1), (21, 1), (24, 1), (26, 1), (30, 1), (31, 2), (34, 2), (36, 1), (51, 1), (54, 1), (64, 1), (65, 1), (80, 1), (81, 3), (83, 1), (85, 1), (88, 2), (95, 1), (99, 6), (106, 1), (129, 2), (133, 1), (134, 1), (137, 1), (145, 1), (146, 1), (147, 1), (148, 1), (149, 2), (150, 1), (151, 1), (152, 1), (153, 1), (154, 1), (155, 1), (156, 1), (157, 1), (158, 1), (159, 3), (160, 2), (161, 1), (162, 1), (163, 1), (164, 1), (165, 1), (166, 1), (167, 2), (168, 1), (169, 1), (170, 1), (171, 1), (172, 1)], [(1, 1), (3, 1), (5, 1), (8, 2), (11, 2), (17, 1), (21, 1), (24, 1), (26, 1), (30, 1), (31, 2), (34, 2), (36, 1), (51, 1), (54, 1), (64, 1), (65, 1), (80, 1), (81, 3), (83, 1), (85, 1), (88, 2), (95, 1), (99, 6), (106, 1), (129, 2), (133, 1), (134, 1), (137, 1), (145, 1), (146, 1), (147, 1), (148, 1), (149, 2), (150, 1), (151, 1), (152, 1), (153, 1), (154, 1), (155, 1), (156, 1), (157, 1), (158, 1), (159, 3), (160, 2), (161, 1), (162, 1), (163, 1), (164, 1), (165, 1), (166, 1), (167, 2), (168, 1), (169, 1), (170, 1), (171, 1), (172, 1)], [(1, 1), (3, 1), (5, 1), (8, 2), (11, 2), (17, 1), (21, 1), (24, 1), (26, 1), (30, 1), (31, 2), (34, 2), (36, 1), (51, 1), (54, 1), (64, 1), (65, 1), (80, 1), (81, 3), (83, 1), (85, 1), (88, 2), (95, 1), (99, 6), (106, 1), (129, 2), (133, 1), (134, 1), (137, 1), (145, 1), (146, 1), (147, 1), (148, 1), (149, 2), (150, 1), (151, 1), (152, 1), (153, 1), (154, 1), (155, 1), (156, 1), (157, 1), (158, 1), (159, 3), (160, 2), (161, 1), (162, 1), (163, 1), (164, 1), (165, 1), (166, 1), (167, 2), (168, 1), (169, 1), (170, 1), (171, 1), (172, 1)], [(1, 1), (3, 1), (5, 1), (8, 2), (11, 2), (17, 1), (21, 1), (24, 1), (26, 1), (30, 1), (31, 2), (34, 2), (36, 1), (51, 1), (54, 1), (64, 1), (65, 1), (80, 1), (81, 3), (83, 1), (85, 1), (88, 2), (95, 1), (99, 6), (106, 1), (129, 2), (133, 1), (134, 1), (137, 1), (145, 1), (146, 1), (147, 1), (148, 1), (149, 2), (150, 1), (151, 1), (152, 1), (153, 1), (154, 1), (155, 1), (156, 1), (157, 1), (158, 1), (159, 3), (160, 2), (161, 1), (162, 1), (163, 1), (164, 1), (165, 1), (166, 1), (167, 2), (168, 1), (169, 1), (170, 1), (171, 1), (172, 1)], [(1, 1), (3, 1), (5, 1), (8, 2), (11, 2), (17, 1), (21, 1), (24, 1), (26, 1), (30, 1), (31, 2), (34, 2), (36, 1), (51, 1), (54, 1), (64, 1), (65, 1), (80, 1), (81, 3), (83, 1), (85, 1), (88, 2), (95, 1), (99, 6), (106, 1), (129, 2), (133, 1), (134, 1), (137, 1), (145, 1), (146, 1), (147, 1), (148, 1), (149, 2), (150, 1), (151, 1), (152, 1), (153, 1), (154, 1), (155, 1), (156, 1), (157, 1), (158, 1), (159, 3), (160, 2), (161, 1), (162, 1), (163, 1), (164, 1), (165, 1), (166, 1), (167, 2), (168, 1), (169, 1), (170, 1), (171, 1), (172, 1)], [(1, 2), (2, 2), (3, 3), (8, 2), (18, 1), (24, 1), (26, 1), (28, 1), (29, 1), (31, 3), (34, 1), (35, 1), (54, 1), (64, 1), (65, 3), (66, 1), (67, 1), (80, 1), (81, 4), (83, 1), (85, 1), (87, 1), (88, 1), (89, 1), (93, 1), (95, 1), (99, 1), (109, 1), (114, 1), (137, 1), (145, 1), (149, 1), (159, 1), (160, 1), (161, 2), (196, 1), (198, 1), (200, 1), (203, 1), (216, 1), (242, 1), (243, 1), (248, 1), (253, 1), (270, 1), (395, 1), (477, 1), (479, 1), (503, 1), (518, 1), (519, 1), (520, 1), (521, 1), (522, 1), (523, 1), (524, 1), (525, 1), (526, 1), (527, 1), (528, 1), (529, 1), (530, 1), (531, 1), (532, 1), (533, 1), (534, 1), (535, 1), (536, 1), (537, 1)], [(2, 1), (199, 1), (490, 1), (538, 1), (539, 1)], [(1, 1), (3, 1), (5, 1), (8, 2), (11, 2), (17, 1), (21, 1), (24, 1), (26, 1), (30, 1), (31, 2), (34, 2), (36, 1), (51, 1), (54, 1), (64, 1), (65, 1), (80, 1), (81, 3), (83, 1), (85, 1), (88, 2), (95, 1), (99, 6), (106, 1), (129, 2), (133, 1), (134, 1), (137, 1), (145, 1), (146, 1), (147, 1), (148, 1), (149, 2), (150, 1), (151, 1), (152, 1), (153, 1), (154, 1), (155, 1), (156, 1), (157, 1), (158, 1), (159, 3), (160, 2), (161, 1), (162, 1), (163, 1), (164, 1), (165, 1), (166, 1), (167, 2), (168, 1), (169, 1), (170, 1), (171, 1), (172, 1)], [(2, 2), (8, 1), (24, 1), (26, 1), (30, 1), (31, 2), (34, 2), (35, 1), (51, 1), (54, 2), (55, 1), (66, 1), (70, 1), (74, 2), (81, 1), (83, 1), (85, 1), (87, 1), (88, 1), (89, 1), (99, 2), (103, 1), (106, 1), (108, 1), (109, 1), (114, 1), (123, 1), (125, 1), (131, 1), (133, 1), (134, 1), (137, 1), (149, 1), (157, 1), (161, 1), (163, 1), (169, 1), (199, 1), (203, 3), (207, 1), (210, 1), (216, 1), (223, 1), (229, 1), (246, 1), (248, 1), (274, 1), (305, 1), (336, 1), (369, 1), (372, 1), (375, 1), (457, 1), (490, 1), (498, 1), (507, 1), (528, 1), (540, 1), (541, 1), (542, 1), (543, 1), (544, 1), (545, 1), (546, 1), (547, 1), (548, 1), (549, 1), (550, 1)], [(1, 1), (3, 1), (5, 1), (8, 2), (11, 2), (17, 1), (21, 1), (24, 1), (26, 1), (30, 1), (31, 2), (34, 2), (36, 1), (51, 1), (54, 1), (64, 1), (65, 1), (80, 1), (81, 3), (83, 1), (85, 1), (88, 2), (95, 1), (99, 6), (106, 1), (129, 2), (133, 1), (134, 1), (137, 1), (145, 1), (146, 1), (147, 1), (148, 1), (149, 2), (150, 1), (151, 1), (152, 1), (153, 1), (154, 1), (155, 1), (156, 1), (157, 1), (158, 1), (159, 3), (160, 2), (161, 1), (162, 1), (163, 1), (164, 1), (165, 1), (166, 1), (167, 2), (168, 1), (169, 1), (170, 1), (171, 1), (172, 1)], [(2, 1), (9, 1), (16, 1), (17, 1), (24, 1), (26, 1), (28, 2), (29, 1), (30, 1), (34, 1), (36, 1), (53, 1), (54, 1), (56, 1), (58, 1), (64, 1), (70, 1), (72, 1), (80, 2), (107, 1), (109, 1), (124, 1), (137, 1), (159, 1), (169, 1), (217, 1), (225, 1), (266, 1), (272, 2), (341, 2), (370, 1), (392, 1), (429, 1), (473, 1), (490, 1), (551, 1), (552, 1), (553, 1), (554, 1), (555, 1), (556, 1)], [(16, 1), (24, 1), (31, 2), (34, 1), (39, 1), (49, 1), (51, 1), (55, 1), (58, 1), (72, 1), (88, 1), (92, 1), (99, 1), (108, 1), (109, 1), (114, 1), (117, 1), (121, 1), (125, 2), (130, 1), (138, 1), (150, 1), (159, 1), (165, 1), (176, 1), (185, 1), (258, 1), (266, 1), (296, 1), (366, 2), (388, 1), (392, 1), (412, 1), (475, 1), (479, 1), (552, 1), (557, 1), (558, 1), (559, 1), (560, 1), (561, 1), (562, 1), (563, 1), (564, 1), (565, 1), (566, 1), (567, 1), (568, 1), (569, 1)], [(8, 2), (30, 2), (31, 1), (35, 1), (37, 2), (53, 2), (64, 1), (68, 1), (82, 1), (88, 1), (99, 3), (114, 1), (119, 1), (125, 1), (142, 1), (145, 2), (197, 1), (202, 2), (272, 1), (286, 1), (338, 1), (369, 1), (392, 1), (453, 1), (471, 1), (509, 1), (556, 1), (570, 1), (571, 1), (572, 1), (573, 1), (574, 1), (575, 1), (576, 1), (577, 1), (578, 1), (579, 1), (580, 1)], [(1, 1), (3, 1), (5, 1), (8, 2), (11, 2), (17, 1), (21, 1), (24, 1), (26, 1), (30, 1), (31, 2), (34, 2), (36, 1), (51, 1), (54, 1), (64, 1), (65, 1), (80, 1), (81, 3), (83, 1), (85, 1), (88, 2), (95, 1), (99, 6), (106, 1), (129, 2), (133, 1), (134, 1), (137, 1), (145, 1), (146, 1), (147, 1), (148, 1), (149, 2), (150, 1), (151, 1), (152, 1), (153, 1), (154, 1), (155, 1), (156, 1), (157, 1), (158, 1), (159, 3), (160, 2), (161, 1), (162, 1), (163, 1), (164, 1), (165, 1), (166, 1), (167, 2), (168, 1), (169, 1), (170, 1), (171, 1), (172, 1)], [(1, 1), (3, 1), (5, 1), (8, 2), (11, 2), (17, 1), (21, 1), (24, 1), (26, 1), (30, 1), (31, 2), (34, 2), (36, 1), (51, 1), (54, 1), (64, 1), (65, 1), (80, 1), (81, 3), (83, 1), (85, 1), (88, 2), (95, 1), (99, 6), (106, 1), (129, 2), (133, 1), (134, 1), (137, 1), (145, 1), (146, 1), (147, 1), (148, 1), (149, 2), (150, 1), (151, 1), (152, 1), (153, 1), (154, 1), (155, 1), (156, 1), (157, 1), (158, 1), (159, 3), (160, 2), (161, 1), (162, 1), (163, 1), (164, 1), (165, 1), (166, 1), (167, 2), (168, 1), (169, 1), (170, 1), (171, 1), (172, 1)], [(1, 1), (3, 1), (5, 1), (8, 2), (11, 2), (17, 1), (21, 1), (24, 1), (26, 1), (30, 1), (31, 2), (34, 2), (36, 1), (51, 1), (54, 1), (64, 1), (65, 1), (80, 1), (81, 3), (83, 1), (85, 1), (88, 2), (95, 1), (99, 6), (106, 1), (129, 2), (133, 1), (134, 1), (137, 1), (145, 1), (146, 1), (147, 1), (148, 1), (149, 2), (150, 1), (151, 1), (152, 1), (153, 1), (154, 1), (155, 1), (156, 1), (157, 1), (158, 1), (159, 3), (160, 2), (161, 1), (162, 1), (163, 1), (164, 1), (165, 1), (166, 1), (167, 2), (168, 1), (169, 1), (170, 1), (171, 1), (172, 1)], [(1, 1), (3, 1), (5, 1), (8, 2), (11, 2), (17, 1), (21, 1), (24, 1), (26, 1), (30, 1), (31, 2), (34, 2), (36, 1), (51, 1), (54, 1), (64, 1), (65, 1), (80, 1), (81, 3), (83, 1), (85, 1), (88, 2), (95, 1), (99, 6), (106, 1), (129, 2), (133, 1), (134, 1), (137, 1), (145, 1), (146, 1), (147, 1), (148, 1), (149, 2), (150, 1), (151, 1), (152, 1), (153, 1), (154, 1), (155, 1), (156, 1), (157, 1), (158, 1), (159, 3), (160, 2), (161, 1), (162, 1), (163, 1), (164, 1), (165, 1), (166, 1), (167, 2), (168, 1), (169, 1), (170, 1), (171, 1), (172, 1)], [(3, 2), (8, 3), (11, 3), (12, 1), (17, 1), (19, 1), (21, 1), (24, 1), (26, 1), (28, 1), (29, 1), (30, 1), (32, 1), (33, 1), (34, 3), (35, 1), (36, 1), (50, 1), (51, 1), (53, 13), (54, 2), (64, 1), (69, 2), (81, 3), (83, 2), (85, 1), (88, 1), (91, 1), (93, 1), (95, 1), (99, 4), (110, 1), (121, 1), (129, 1), (136, 1), (142, 1), (143, 2), (159, 2), (161, 1), (169, 1), (170, 1), (174, 1), (184, 1), (189, 1), (196, 1), (198, 1), (206, 1), (216, 1), (246, 1), (261, 1), (272, 1), (291, 1), (296, 1), (305, 1), (306, 1), (309, 1), (318, 1), (329, 1), (338, 1), (366, 1), (452, 1), (499, 1), (520, 1), (525, 1), (530, 1), (532, 1), (542, 1), (544, 1), (550, 1), (560, 1), (581, 1), (582, 1), (583, 1), (584, 1), (585, 1), (586, 1), (587, 1), (588, 1), (589, 1), (590, 1), (591, 1), (592, 1), (593, 1), (594, 1), (595, 1), (596, 1), (597, 1), (598, 1), (599, 1), (600, 1), (601, 1)], [(0, 1), (1, 1), (7, 1), (8, 2), (16, 1), (17, 1), (19, 1), (28, 1), (31, 1), (35, 1), (36, 2), (49, 2), (51, 1), (56, 1), (64, 1), (65, 1), (74, 2), (80, 1), (81, 2), (88, 1), (99, 5), (108, 1), (109, 1), (114, 1), (129, 1), (131, 1), (136, 1), (137, 1), (138, 1), (145, 1), (149, 2), (159, 1), (199, 1), (203, 1), (261, 2), (306, 1), (311, 1), (339, 1), (495, 1), (552, 1), (560, 1), (569, 1), (584, 1), (602, 1), (603, 1), (604, 1), (605, 1), (606, 1), (607, 1), (608, 1), (609, 1)], [(2, 1), (17, 1), (24, 1), (28, 1), (48, 1), (51, 1), (64, 1), (80, 1), (88, 1), (99, 2), (108, 1), (114, 1), (145, 1), (167, 1), (199, 1), (201, 1), (296, 1), (527, 1), (610, 1), (611, 1), (612, 1)], [(2, 2), (8, 2), (18, 1), (24, 1), (31, 1), (35, 1), (36, 2), (37, 2), (39, 1), (49, 1), (51, 1), (52, 1), (53, 1), (64, 1), (72, 1), (80, 2), (88, 1), (89, 1), (97, 1), (99, 3), (137, 1), (149, 2), (159, 2), (169, 2), (183, 1), (190, 1), (199, 1), (215, 1), (216, 1), (223, 1), (261, 2), (264, 1), (272, 2), (305, 1), (322, 1), (324, 1), (326, 1), (344, 1), (490, 1), (544, 1), (613, 1), (614, 1), (615, 1), (616, 1), (617, 1), (618, 1), (619, 1)], [(1, 1), (3, 1), (5, 1), (8, 2), (11, 2), (17, 1), (21, 1), (24, 1), (26, 1), (30, 1), (31, 2), (34, 2), (36, 1), (51, 1), (54, 1), (64, 1), (65, 1), (80, 1), (81, 3), (83, 1), (85, 1), (88, 2), (95, 1), (99, 6), (106, 1), (129, 2), (133, 1), (134, 1), (137, 1), (145, 1), (146, 1), (147, 1), (148, 1), (149, 2), (150, 1), (151, 1), (152, 1), (153, 1), (154, 1), (155, 1), (156, 1), (157, 1), (158, 1), (159, 3), (160, 2), (161, 1), (162, 1), (163, 1), (164, 1), (165, 1), (166, 1), (167, 2), (168, 1), (169, 1), (170, 1), (171, 1), (172, 1)], [(1, 1), (3, 1), (5, 1), (8, 2), (11, 2), (17, 1), (21, 1), (24, 1), (26, 1), (30, 1), (31, 2), (34, 2), (36, 1), (51, 1), (54, 1), (64, 1), (65, 1), (80, 1), (81, 3), (83, 1), (85, 1), (88, 2), (95, 1), (99, 6), (106, 1), (129, 2), (133, 1), (134, 1), (137, 1), (145, 1), (146, 1), (147, 1), (148, 1), (149, 2), (150, 1), (151, 1), (152, 1), (153, 1), (154, 1), (155, 1), (156, 1), (157, 1), (158, 1), (159, 3), (160, 2), (161, 1), (162, 1), (163, 1), (164, 1), (165, 1), (166, 1), (167, 2), (168, 1), (169, 1), (170, 1), (171, 1), (172, 1)], [(2, 1), (17, 1), (24, 1), (26, 1), (28, 1), (36, 1), (88, 1), (99, 1), (106, 1), (109, 1), (114, 1), (175, 1), (176, 1), (620, 1), (621, 1)], [(11, 1), (16, 1), (17, 1), (24, 1), (26, 1), (28, 1), (31, 1), (34, 1), (36, 1), (51, 1), (53, 3), (56, 1), (58, 1), (65, 1), (68, 1), (88, 2), (99, 3), (108, 1), (114, 1), (117, 2), (123, 1), (125, 1), (138, 1), (150, 1), (154, 1), (164, 1), (181, 1), (184, 1), (234, 1), (258, 1), (261, 1), (310, 1), (320, 1), (336, 1), (441, 1), (488, 1), (556, 1), (572, 1), (622, 1), (623, 1), (624, 1), (625, 1), (626, 1), (627, 1), (628, 1), (629, 1)], [(3, 2), (8, 3), (11, 1), (16, 1), (17, 1), (26, 1), (31, 1), (34, 1), (36, 1), (41, 1), (50, 1), (51, 1), (54, 1), (56, 1), (58, 1), (65, 1), (74, 2), (81, 4), (83, 1), (84, 1), (88, 3), (95, 1), (99, 2), (109, 1), (110, 2), (117, 1), (133, 1), (137, 1), (142, 1), (149, 1), (150, 1), (159, 1), (161, 3), (167, 1), (169, 1), (175, 1), (176, 1), (183, 1), (185, 1), (216, 1), (227, 1), (235, 1), (243, 1), (245, 1), (246, 1), (248, 1), (260, 1), (291, 1), (316, 1), (341, 1), (452, 1), (477, 1), (478, 1), (485, 1), (503, 1), (525, 1), (528, 1), (589, 1), (630, 1), (631, 1), (632, 1), (633, 1), (634, 1), (635, 1)], [(0, 2), (2, 1), (8, 1), (18, 1), (26, 1), (50, 1), (51, 1), (61, 1), (65, 1), (70, 1), (72, 1), (82, 1), (88, 1), (106, 1), (109, 1), (114, 1), (145, 1), (149, 1), (160, 2), (167, 1), (183, 2), (209, 1), (261, 1), (302, 1), (322, 1), (326, 1), (349, 1), (357, 1), (419, 1), (477, 1), (480, 1), (508, 1), (636, 1), (637, 1), (638, 1), (639, 1), (640, 1), (641, 1), (642, 1)], [(18, 1), (31, 3), (51, 1), (58, 1), (65, 1), (67, 1), (81, 1), (85, 1), (88, 1), (92, 1), (99, 2), (108, 1), (114, 1), (117, 1), (135, 1), (136, 1), (154, 1), (167, 1), (189, 1), (205, 1), (222, 1), (229, 1), (242, 1), (250, 1), (261, 1), (310, 1), (356, 1), (366, 1), (367, 1), (370, 1), (430, 1), (588, 1), (620, 1), (643, 1), (644, 1), (645, 1), (646, 1), (647, 1), (648, 1), (649, 1), (650, 1), (651, 1), (652, 1), (653, 1), (654, 1), (655, 1), (656, 1), (657, 1), (658, 1), (659, 1)], [(34, 1), (51, 1), (58, 1), (240, 1), (261, 2), (302, 1), (401, 1), (660, 1), (661, 1), (662, 1), (663, 1), (664, 1), (665, 1)], [(2, 1), (3, 1), (8, 1), (18, 1), (19, 1), (28, 1), (29, 1), (31, 4), (34, 2), (36, 1), (39, 1), (81, 3), (88, 1), (92, 1), (99, 2), (103, 1), (106, 1), (109, 2), (117, 2), (131, 2), (161, 2), (183, 1), (196, 1), (302, 1), (367, 2), (389, 1), (401, 2), (404, 1), (475, 1), (502, 1), (546, 1), (552, 1), (585, 1), (607, 1), (618, 1), (666, 1), (667, 1), (668, 1), (669, 2), (670, 1), (671, 1), (672, 1), (673, 1), (674, 1), (675, 1), (676, 1), (677, 1), (678, 1), (679, 1), (680, 1), (681, 1)], [(1, 1), (3, 1), (5, 1), (8, 2), (11, 2), (17, 1), (21, 1), (24, 1), (26, 1), (30, 1), (31, 2), (34, 2), (36, 1), (51, 1), (54, 1), (64, 1), (65, 1), (80, 1), (81, 3), (83, 1), (85, 1), (88, 2), (95, 1), (99, 6), (106, 1), (129, 2), (133, 1), (134, 1), (137, 1), (145, 1), (146, 1), (147, 1), (148, 1), (149, 2), (150, 1), (151, 1), (152, 1), (153, 1), (154, 1), (155, 1), (156, 1), (157, 1), (158, 1), (159, 3), (160, 2), (161, 1), (162, 1), (163, 1), (164, 1), (165, 1), (166, 1), (167, 2), (168, 1), (169, 1), (170, 1), (171, 1), (172, 1)], [(164, 1), (475, 1), (494, 1), (682, 1), (683, 1), (684, 1), (685, 1)], [(50, 1), (51, 1), (65, 1), (67, 1), (91, 1), (109, 1), (196, 1), (300, 1), (307, 1), (334, 1), (495, 1), (671, 1), (686, 1), (687, 1)], [(2, 1), (33, 1), (34, 2), (37, 1), (50, 1), (51, 1), (66, 1), (74, 1), (85, 1), (138, 1), (150, 1), (185, 1), (206, 1), (261, 1), (305, 1), (344, 1), (366, 1), (477, 1), (526, 1), (533, 1), (547, 1), (620, 1), (688, 1), (689, 1)], [(17, 1), (18, 1), (26, 1), (28, 1), (30, 1), (31, 3), (36, 1), (50, 1), (51, 1), (62, 1), (64, 1), (70, 1), (88, 1), (91, 2), (99, 2), (114, 1), (142, 1), (159, 2), (177, 1), (261, 3), (264, 1), (265, 1), (310, 1), (322, 1), (326, 1), (366, 1), (369, 1), (461, 1), (471, 1), (475, 1), (690, 1), (691, 1), (692, 1)], [(0, 1), (53, 2), (117, 1), (135, 1), (183, 1), (203, 1), (333, 1), (350, 1), (693, 1), (694, 1)], [(1, 1), (3, 1), (5, 1), (8, 2), (11, 2), (17, 1), (21, 1), (24, 1), (26, 1), (30, 1), (31, 2), (34, 2), (36, 1), (51, 1), (54, 1), (64, 1), (65, 1), (80, 1), (81, 3), (83, 1), (85, 1), (88, 2), (95, 1), (99, 6), (106, 1), (129, 2), (133, 1), (134, 1), (137, 1), (145, 1), (146, 1), (147, 1), (148, 1), (149, 2), (150, 1), (151, 1), (152, 1), (153, 1), (154, 1), (155, 1), (156, 1), (157, 1), (158, 1), (159, 3), (160, 2), (161, 1), (162, 1), (163, 1), (164, 1), (165, 1), (166, 1), (167, 2), (168, 1), (169, 1), (170, 1), (171, 1), (172, 1)], [(31, 2), (40, 1), (58, 1), (99, 1), (109, 1), (142, 1), (197, 1), (266, 1), (286, 1), (295, 1), (316, 1), (478, 1), (495, 1), (534, 1), (634, 1), (668, 1), (684, 1), (695, 1), (696, 1), (697, 1), (698, 1), (699, 1), (700, 1), (701, 1), (702, 1)], [(3, 1), (5, 1), (8, 1), (17, 1), (26, 1), (29, 1), (34, 1), (35, 1), (36, 1), (37, 1), (39, 1), (49, 1), (54, 1), (55, 1), (58, 1), (65, 1), (68, 1), (81, 3), (88, 1), (93, 1), (98, 1), (99, 4), (106, 3), (109, 1), (110, 1), (114, 1), (129, 1), (131, 1), (156, 1), (157, 1), (159, 1), (167, 1), (170, 1), (177, 1), (189, 1), (199, 2), (200, 1), (216, 1), (237, 1), (261, 1), (302, 1), (342, 1), (389, 1), (395, 1), (396, 1), (398, 1), (401, 1), (599, 1), (607, 1), (668, 1), (703, 1), (704, 1), (705, 1), (706, 1), (707, 1), (708, 1), (709, 1)], [(1, 1), (3, 1), (5, 1), (8, 2), (11, 2), (17, 1), (21, 1), (24, 1), (26, 1), (30, 1), (31, 2), (34, 2), (36, 1), (51, 1), (54, 1), (64, 1), (65, 1), (80, 1), (81, 3), (83, 1), (85, 1), (88, 2), (95, 1), (99, 6), (106, 1), (129, 2), (133, 1), (134, 1), (137, 1), (145, 1), (146, 1), (147, 1), (148, 1), (149, 2), (150, 1), (151, 1), (152, 1), (153, 1), (154, 1), (155, 1), (156, 1), (157, 1), (158, 1), (159, 3), (160, 2), (161, 1), (162, 1), (163, 1), (164, 1), (165, 1), (166, 1), (167, 2), (168, 1), (169, 1), (170, 1), (171, 1), (172, 1)], [(2, 1), (8, 2), (16, 1), (17, 1), (18, 1), (30, 1), (31, 3), (36, 2), (39, 1), (50, 1), (51, 1), (52, 1), (55, 1), (58, 1), (62, 1), (64, 2), (66, 2), (80, 1), (81, 3), (85, 1), (88, 2), (91, 2), (95, 1), (97, 1), (99, 3), (103, 1), (108, 1), (110, 1), (114, 1), (125, 1), (130, 1), (133, 1), (134, 1), (143, 1), (149, 1), (159, 2), (176, 1), (208, 1), (216, 1), (219, 1), (223, 1), (242, 1), (290, 1), (306, 1), (369, 1), (648, 1), (710, 1), (711, 1), (712, 1)], [(1, 1), (3, 1), (5, 1), (8, 2), (11, 2), (17, 1), (21, 1), (24, 1), (26, 1), (30, 1), (31, 2), (34, 2), (36, 1), (51, 1), (54, 1), (64, 1), (65, 1), (80, 1), (81, 3), (83, 1), (85, 1), (88, 2), (95, 1), (99, 6), (106, 1), (129, 2), (133, 1), (134, 1), (137, 1), (145, 1), (146, 1), (147, 1), (148, 1), (149, 2), (150, 1), (151, 1), (152, 1), (153, 1), (154, 1), (155, 1), (156, 1), (157, 1), (158, 1), (159, 3), (160, 2), (161, 1), (162, 1), (163, 1), (164, 1), (165, 1), (166, 1), (167, 2), (168, 1), (169, 1), (170, 1), (171, 1), (172, 1)], [(1, 1), (3, 1), (5, 1), (8, 2), (11, 2), (17, 1), (21, 1), (24, 1), (26, 1), (30, 1), (31, 2), (34, 2), (36, 1), (51, 1), (54, 1), (64, 1), (65, 1), (80, 1), (81, 3), (83, 1), (85, 1), (88, 2), (95, 1), (99, 6), (106, 1), (129, 2), (133, 1), (134, 1), (137, 1), (145, 1), (146, 1), (147, 1), (148, 1), (149, 2), (150, 1), (151, 1), (152, 1), (153, 1), (154, 1), (155, 1), (156, 1), (157, 1), (158, 1), (159, 3), (160, 2), (161, 1), (162, 1), (163, 1), (164, 1), (165, 1), (166, 1), (167, 2), (168, 1), (169, 1), (170, 1), (171, 1), (172, 1)], [(1, 1), (3, 1), (5, 1), (8, 2), (11, 2), (17, 1), (21, 1), (24, 1), (26, 1), (30, 1), (31, 2), (34, 2), (36, 1), (51, 1), (54, 1), (64, 1), (65, 1), (80, 1), (81, 3), (83, 1), (85, 1), (88, 2), (95, 1), (99, 6), (106, 1), (129, 2), (133, 1), (134, 1), (137, 1), (145, 1), (146, 1), (147, 1), (148, 1), (149, 2), (150, 1), (151, 1), (152, 1), (153, 1), (154, 1), (155, 1), (156, 1), (157, 1), (158, 1), (159, 3), (160, 2), (161, 1), (162, 1), (163, 1), (164, 1), (165, 1), (166, 1), (167, 2), (168, 1), (169, 1), (170, 1), (171, 1), (172, 1)], [(7, 1), (31, 1), (37, 2), (39, 1), (40, 1), (49, 1), (50, 1), (51, 1), (64, 1), (106, 2), (123, 1), (204, 1), (226, 1), (229, 1), (241, 1), (263, 1), (274, 1), (290, 1), (300, 1), (307, 1), (508, 1), (527, 1), (635, 1), (713, 1)], [(0, 2), (2, 1), (17, 1), (19, 1), (24, 1), (28, 1), (30, 1), (37, 1), (72, 1), (88, 1), (99, 3), (114, 1), (127, 1), (129, 1), (144, 1), (174, 1), (183, 2), (199, 2), (201, 1), (203, 1), (210, 1), (211, 1), (213, 1), (217, 1), (238, 1), (302, 1), (321, 1), (323, 1), (369, 2), (457, 1), (576, 1), (714, 1)], [(333, 1)], [(8, 1), (17, 1), (18, 1), (27, 1), (37, 1), (40, 1), (44, 1), (52, 1), (53, 2), (85, 1), (88, 1), (89, 1), (99, 1), (108, 3), (138, 1), (149, 1), (184, 1), (187, 1), (200, 1), (215, 1), (219, 1), (266, 1), (281, 1), (290, 1), (296, 1), (302, 1), (311, 1), (315, 1), (336, 2), (341, 1), (434, 1), (563, 1), (583, 1), (692, 1), (715, 1), (716, 1), (717, 1), (718, 2), (719, 1), (720, 1)], [(19, 1), (28, 1), (30, 1), (31, 2), (36, 1), (50, 1), (51, 1), (58, 1), (61, 1), (64, 1), (65, 1), (70, 1), (88, 1), (99, 1), (103, 1), (114, 1), (117, 1), (130, 1), (138, 1), (159, 1), (167, 1), (174, 1), (177, 1), (261, 2), (266, 1), (288, 1), (290, 1), (296, 1), (302, 1), (304, 1), (308, 1), (310, 1), (317, 1), (330, 1), (336, 1), (356, 1), (404, 1), (479, 1), (618, 1), (651, 1), (721, 1), (722, 1), (723, 1)], [(2, 1), (16, 2), (27, 1), (31, 1), (32, 1), (34, 1), (37, 3), (40, 3), (44, 1), (45, 1), (51, 1), (58, 1), (82, 1), (85, 1), (88, 1), (102, 1), (108, 1), (138, 1), (155, 1), (161, 1), (187, 1), (194, 1), (196, 1), (219, 1), (226, 1), (229, 1), (246, 1), (263, 1), (272, 1), (296, 1), (297, 1), (300, 1), (307, 2), (319, 1), (323, 1), (327, 1), (338, 1), (389, 1), (474, 1), (490, 1), (491, 1), (493, 1), (532, 1), (576, 1), (620, 1), (635, 1), (655, 1), (702, 1), (724, 1), (725, 1), (726, 1), (727, 1), (728, 1), (729, 1), (730, 1), (731, 1), (732, 1), (733, 1)], [(0, 1), (16, 1), (17, 2), (24, 1), (28, 2), (30, 1), (31, 3), (36, 1), (51, 1), (62, 1), (64, 1), (65, 2), (80, 1), (81, 1), (88, 1), (99, 4), (108, 2), (155, 1), (169, 1), (174, 1), (175, 1), (176, 1), (183, 1), (187, 2), (199, 1), (201, 1), (203, 1), (261, 1), (265, 1), (290, 1), (296, 1), (323, 1), (328, 1), (712, 1), (734, 1), (735, 1), (736, 1), (737, 1)], [(0, 2), (2, 1), (8, 1), (31, 1), (56, 1), (61, 1), (70, 1), (149, 1), (183, 1), (199, 1), (201, 1), (288, 1), (495, 1), (738, 1), (739, 1), (740, 1)], [(1, 1), (3, 1), (5, 1), (8, 2), (11, 2), (17, 1), (21, 1), (24, 1), (26, 1), (30, 1), (31, 2), (34, 2), (36, 1), (51, 1), (54, 1), (64, 1), (65, 1), (80, 1), (81, 3), (83, 1), (85, 1), (88, 2), (95, 1), (99, 6), (106, 1), (129, 2), (133, 1), (134, 1), (137, 1), (145, 1), (146, 1), (147, 1), (148, 1), (149, 2), (150, 1), (151, 1), (152, 1), (153, 1), (154, 1), (155, 1), (156, 1), (157, 1), (158, 1), (159, 3), (160, 2), (161, 1), (162, 1), (163, 1), (164, 1), (165, 1), (166, 1), (167, 2), (168, 1), (169, 1), (170, 1), (171, 1), (172, 1)], [(11, 1), (26, 1), (54, 1), (81, 1), (85, 1), (110, 1), (114, 1), (149, 1), (161, 1), (167, 1), (201, 1), (246, 1), (552, 1), (610, 1)], [(37, 2), (45, 1), (68, 1), (81, 1), (95, 1), (97, 1), (114, 1), (142, 1), (216, 1), (229, 1), (345, 1), (741, 1), (742, 1), (743, 1), (744, 1), (745, 1)], [(24, 1), (31, 1), (173, 1), (697, 1), (746, 1)], [(8, 1), (16, 1), (17, 2), (24, 1), (26, 1), (28, 1), (30, 1), (31, 4), (34, 1), (36, 1), (37, 1), (51, 1), (58, 2), (62, 1), (64, 1), (66, 1), (70, 1), (81, 2), (85, 1), (88, 2), (99, 5), (108, 2), (114, 1), (117, 1), (129, 1), (133, 1), (134, 1), (138, 1), (142, 1), (159, 1), (161, 1), (164, 1), (167, 1), (177, 1), (187, 2), (204, 1), (228, 1), (229, 1), (261, 1), (296, 1), (308, 1), (310, 1), (323, 1), (369, 1), (416, 1), (422, 1), (477, 1), (651, 1), (691, 1), (698, 1), (747, 1), (748, 1), (749, 1)], [(17, 1), (24, 1), (29, 1), (31, 1), (35, 1), (37, 2), (40, 1), (61, 1), (81, 1), (85, 3), (88, 2), (93, 1), (99, 2), (102, 2), (114, 1), (133, 1), (137, 1), (159, 1), (199, 1), (206, 1), (229, 1), (241, 1), (263, 1), (274, 1), (300, 1), (305, 3), (306, 1), (307, 1), (336, 1), (338, 3), (453, 2), (509, 1), (510, 1), (530, 1), (536, 1), (544, 1), (565, 1), (587, 1), (596, 1), (645, 1), (750, 1), (751, 1), (752, 1), (753, 1), (754, 1)], [(0, 3), (2, 2), (8, 1), (11, 1), (17, 2), (19, 1), (24, 2), (28, 1), (30, 1), (31, 1), (34, 2), (35, 1), (36, 2), (37, 1), (48, 1), (49, 2), (65, 1), (80, 1), (81, 1), (88, 1), (89, 1), (91, 1), (95, 1), (99, 6), (106, 1), (117, 1), (132, 1), (135, 1), (147, 1), (149, 1), (157, 1), (159, 1), (166, 1), (167, 1), (183, 2), (199, 2), (216, 1), (260, 1), (283, 1), (319, 2), (328, 1), (329, 1), (336, 1), (342, 1), (369, 1), (372, 1), (402, 1), (404, 1), (422, 1), (482, 1), (495, 1), (517, 1), (535, 1), (537, 1), (560, 1), (584, 1), (588, 1), (684, 1), (705, 1), (755, 1), (756, 1), (757, 1), (758, 1), (759, 1), (760, 1), (761, 1), (762, 1)], [(1, 1), (3, 1), (5, 1), (8, 2), (11, 2), (17, 1), (21, 1), (24, 1), (26, 1), (30, 1), (31, 2), (34, 2), (36, 1), (51, 1), (54, 1), (64, 1), (65, 1), (80, 1), (81, 3), (83, 1), (85, 1), (88, 2), (95, 1), (99, 6), (106, 1), (129, 2), (133, 1), (134, 1), (137, 1), (145, 1), (146, 1), (147, 1), (148, 1), (149, 2), (150, 1), (151, 1), (152, 1), (153, 1), (154, 1), (155, 1), (156, 1), (157, 1), (158, 1), (159, 3), (160, 2), (161, 1), (162, 1), (163, 1), (164, 1), (165, 1), (166, 1), (167, 2), (168, 1), (169, 1), (170, 1), (171, 1), (172, 1)], [(31, 1), (56, 1), (64, 1), (66, 1), (69, 1), (80, 1), (82, 1), (110, 1), (131, 1), (137, 1), (149, 1), (159, 1), (199, 1), (201, 1), (225, 1), (306, 1), (349, 1), (474, 1), (637, 1), (645, 1), (739, 1), (763, 2)], [(187, 1), (764, 1), (765, 1), (766, 1)], [(24, 1), (27, 1), (34, 1), (40, 2), (44, 1), (50, 1), (51, 2), (55, 1), (57, 1), (64, 1), (99, 1), (113, 1), (132, 1), (138, 2), (164, 1), (185, 1), (229, 1), (241, 2), (290, 1), (300, 2), (302, 1), (307, 2), (475, 1), (684, 1)], [(8, 2), (11, 1), (24, 1), (26, 1), (31, 1), (34, 2), (36, 1), (37, 1), (51, 1), (54, 3), (65, 2), (69, 1), (74, 1), (81, 1), (83, 1), (85, 2), (88, 1), (93, 1), (95, 1), (99, 2), (114, 1), (123, 1), (130, 1), (133, 1), (134, 1), (149, 2), (159, 1), (161, 2), (194, 1), (198, 1), (216, 1), (218, 1), (219, 1), (243, 1), (246, 1), (296, 1), (491, 1), (493, 1), (495, 1), (510, 1), (530, 1), (552, 1), (576, 1), (684, 1), (767, 1), (768, 1), (769, 2), (770, 1)], [(31, 1), (319, 1), (771, 1)], [(51, 1), (108, 1), (296, 1), (328, 1)], [(24, 1), (31, 1), (72, 1), (270, 1), (772, 1), (773, 1), (774, 1)], [(0, 2), (13, 1), (17, 1), (18, 1), (19, 1), (24, 1), (26, 1), (27, 1), (30, 1), (31, 1), (36, 1), (40, 2), (44, 1), (48, 1), (53, 1), (54, 1), (64, 1), (88, 1), (91, 1), (99, 3), (149, 1), (159, 1), (174, 1), (183, 2), (199, 1), (201, 1), (229, 1), (241, 2), (263, 1), (302, 1), (304, 1), (369, 1), (612, 1)], [(31, 1), (49, 1), (53, 1), (74, 1), (775, 1), (776, 1)], [(1, 2), (2, 1), (8, 1), (16, 2), (24, 1), (31, 1), (35, 1), (36, 1), (39, 1), (50, 1), (51, 1), (55, 1), (58, 1), (62, 2), (64, 1), (81, 1), (85, 1), (88, 3), (99, 1), (108, 1), (133, 1), (134, 1), (150, 3), (159, 1), (160, 1), (167, 2), (169, 1), (181, 1), (183, 1), (199, 1), (208, 1), (219, 1), (245, 1), (248, 1), (264, 1), (300, 1), (341, 1), (342, 1), (438, 2), (477, 1), (509, 1), (580, 1), (639, 1), (663, 1), (717, 1), (777, 1), (778, 1), (779, 1), (780, 1), (781, 1), (782, 1), (783, 1), (784, 1), (785, 1), (786, 1), (787, 1), (788, 1), (789, 1)], [(1, 1), (3, 1), (5, 1), (8, 2), (11, 2), (17, 1), (21, 1), (24, 1), (26, 1), (30, 1), (31, 2), (34, 2), (36, 1), (51, 1), (54, 1), (64, 1), (65, 1), (80, 1), (81, 3), (83, 1), (85, 1), (88, 2), (95, 1), (99, 6), (106, 1), (129, 2), (133, 1), (134, 1), (137, 1), (145, 1), (146, 1), (147, 1), (148, 1), (149, 2), (150, 1), (151, 1), (152, 1), (153, 1), (154, 1), (155, 1), (156, 1), (157, 1), (158, 1), (159, 3), (160, 2), (161, 1), (162, 1), (163, 1), (164, 1), (165, 1), (166, 1), (167, 2), (168, 1), (169, 1), (170, 1), (171, 1), (172, 1)], [(5, 1), (13, 1), (17, 1), (28, 1), (31, 1), (34, 1), (36, 1), (40, 1), (41, 1), (48, 1), (53, 2), (58, 1), (64, 1), (80, 1), (81, 1), (88, 1), (99, 2), (106, 1), (110, 1), (142, 1), (149, 1), (175, 1), (242, 1), (266, 1), (279, 1), (300, 1), (307, 1), (333, 1), (366, 3), (635, 1), (790, 1), (791, 1)], [(1, 1), (3, 1), (5, 1), (8, 2), (11, 2), (17, 1), (21, 1), (24, 1), (26, 1), (30, 1), (31, 2), (34, 2), (36, 1), (51, 1), (54, 1), (64, 1), (65, 1), (80, 1), (81, 3), (83, 1), (85, 1), (88, 2), (95, 1), (99, 6), (106, 1), (129, 2), (133, 1), (134, 1), (137, 1), (145, 1), (146, 1), (147, 1), (148, 1), (149, 2), (150, 1), (151, 1), (152, 1), (153, 1), (154, 1), (155, 1), (156, 1), (157, 1), (158, 1), (159, 3), (160, 2), (161, 1), (162, 1), (163, 1), (164, 1), (165, 1), (166, 1), (167, 2), (168, 1), (169, 1), (170, 1), (171, 1), (172, 1)], [(88, 1), (792, 1)], [(13, 1), (16, 2), (17, 1), (18, 1), (24, 1), (28, 1), (30, 1), (31, 3), (35, 1), (36, 1), (45, 1), (50, 1), (51, 1), (58, 2), (62, 1), (65, 1), (84, 1), (88, 1), (99, 6), (103, 1), (108, 1), (117, 1), (121, 1), (142, 2), (159, 1), (167, 2), (176, 2), (185, 2), (208, 1), (218, 1), (219, 1), (233, 1), (261, 1), (296, 1), (306, 1), (350, 2), (366, 1), (369, 1), (476, 1), (491, 1), (493, 1), (511, 1), (537, 1), (577, 1), (589, 1), (793, 1), (794, 1)], [(1, 1), (3, 1), (5, 1), (8, 2), (11, 2), (17, 1), (21, 1), (24, 1), (26, 1), (30, 1), (31, 2), (34, 2), (36, 1), (51, 1), (54, 1), (64, 1), (65, 1), (80, 1), (81, 3), (83, 1), (85, 1), (88, 2), (95, 1), (99, 6), (106, 1), (129, 2), (133, 1), (134, 1), (137, 1), (145, 1), (146, 1), (147, 1), (148, 1), (149, 2), (150, 1), (151, 1), (152, 1), (153, 1), (154, 1), (155, 1), (156, 1), (157, 1), (158, 1), (159, 3), (160, 2), (161, 1), (162, 1), (163, 1), (164, 1), (165, 1), (166, 1), (167, 2), (168, 1), (169, 1), (170, 1), (171, 1), (172, 1)], [(2, 1), (8, 1), (30, 1), (31, 4), (48, 1), (58, 1), (62, 1), (65, 2), (74, 1), (81, 1), (88, 1), (91, 1), (99, 1), (106, 1), (110, 1), (114, 1), (130, 1), (131, 1), (136, 1), (138, 1), (159, 1), (160, 1), (161, 2), (164, 1), (167, 2), (174, 1), (183, 1), (197, 1), (201, 1), (203, 1), (209, 1), (219, 1), (246, 1), (258, 1), (274, 1), (281, 1), (284, 1), (286, 1), (295, 1), (311, 1), (328, 1), (367, 1), (419, 1), (441, 1), (458, 1), (491, 1), (493, 1), (495, 1), (526, 1), (531, 1), (622, 1), (684, 1), (795, 1), (796, 1), (797, 1), (798, 1), (799, 1)], [(1, 1), (3, 1), (5, 1), (8, 2), (11, 2), (17, 1), (21, 1), (24, 1), (26, 1), (30, 1), (31, 2), (34, 2), (36, 1), (51, 1), (54, 1), (64, 1), (65, 1), (80, 1), (81, 3), (83, 1), (85, 1), (88, 2), (95, 1), (99, 6), (106, 1), (129, 2), (133, 1), (134, 1), (137, 1), (145, 1), (146, 1), (147, 1), (148, 1), (149, 2), (150, 1), (151, 1), (152, 1), (153, 1), (154, 1), (155, 1), (156, 1), (157, 1), (158, 1), (159, 3), (160, 2), (161, 1), (162, 1), (163, 1), (164, 1), (165, 1), (166, 1), (167, 2), (168, 1), (169, 1), (170, 1), (171, 1), (172, 1)], [(1, 1), (3, 1), (5, 1), (8, 2), (11, 2), (17, 1), (21, 1), (24, 1), (26, 1), (30, 1), (31, 2), (34, 2), (36, 1), (51, 1), (54, 1), (64, 1), (65, 1), (80, 1), (81, 3), (83, 1), (85, 1), (88, 2), (95, 1), (99, 6), (106, 1), (129, 2), (133, 1), (134, 1), (137, 1), (145, 1), (146, 1), (147, 1), (148, 1), (149, 2), (150, 1), (151, 1), (152, 1), (153, 1), (154, 1), (155, 1), (156, 1), (157, 1), (158, 1), (159, 3), (160, 2), (161, 1), (162, 1), (163, 1), (164, 1), (165, 1), (166, 1), (167, 2), (168, 1), (169, 1), (170, 1), (171, 1), (172, 1)], [(1, 1), (3, 1), (5, 1), (8, 2), (11, 2), (17, 1), (21, 1), (24, 1), (26, 1), (30, 1), (31, 2), (34, 2), (36, 1), (51, 1), (54, 1), (64, 1), (65, 1), (80, 1), (81, 3), (83, 1), (85, 1), (88, 2), (95, 1), (99, 6), (106, 1), (129, 2), (133, 1), (134, 1), (137, 1), (145, 1), (146, 1), (147, 1), (148, 1), (149, 2), (150, 1), (151, 1), (152, 1), (153, 1), (154, 1), (155, 1), (156, 1), (157, 1), (158, 1), (159, 3), (160, 2), (161, 1), (162, 1), (163, 1), (164, 1), (165, 1), (166, 1), (167, 2), (168, 1), (169, 1), (170, 1), (171, 1), (172, 1)], [(8, 1), (11, 1), (17, 1), (24, 1), (31, 1), (49, 1), (53, 4), (54, 1), (56, 1), (62, 1), (72, 1), (74, 2), (81, 4), (88, 1), (95, 1), (99, 2), (100, 1), (110, 2), (120, 1), (131, 1), (137, 1), (142, 1), (149, 1), (150, 1), (153, 1), (161, 1), (166, 1), (167, 1), (207, 1), (216, 1), (227, 1), (258, 2), (272, 1), (297, 1), (310, 1), (319, 2), (344, 1), (407, 2), (431, 1), (466, 1), (477, 1), (521, 1), (553, 1), (559, 1), (584, 1), (597, 1), (618, 1), (629, 1), (676, 1), (690, 1), (720, 1), (777, 1), (781, 1), (800, 1), (801, 1), (802, 1), (803, 1), (804, 1), (805, 1), (806, 1), (807, 1), (808, 1), (809, 1), (810, 1), (811, 1), (812, 1), (813, 1), (814, 1), (815, 1), (816, 1)], [(1, 1), (3, 1), (5, 1), (8, 2), (11, 2), (17, 1), (21, 1), (24, 1), (26, 1), (30, 1), (31, 2), (34, 2), (36, 1), (51, 1), (54, 1), (64, 1), (65, 1), (80, 1), (81, 3), (83, 1), (85, 1), (88, 2), (95, 1), (99, 6), (106, 1), (129, 2), (133, 1), (134, 1), (137, 1), (145, 1), (146, 1), (147, 1), (148, 1), (149, 2), (150, 1), (151, 1), (152, 1), (153, 1), (154, 1), (155, 1), (156, 1), (157, 1), (158, 1), (159, 3), (160, 2), (161, 1), (162, 1), (163, 1), (164, 1), (165, 1), (166, 1), (167, 2), (168, 1), (169, 1), (170, 1), (171, 1), (172, 1)], [(2, 1), (8, 1), (16, 1), (23, 1), (34, 1), (51, 1), (53, 3), (58, 1), (145, 1), (159, 3), (161, 1), (183, 1), (189, 1), (199, 2), (201, 1), (264, 1), (307, 1), (323, 1), (461, 1), (525, 1), (587, 1), (817, 1)], [(1, 1), (3, 1), (5, 1), (8, 2), (11, 2), (17, 1), (21, 1), (24, 1), (26, 1), (30, 1), (31, 2), (34, 2), (36, 1), (51, 1), (54, 1), (64, 1), (65, 1), (80, 1), (81, 3), (83, 1), (85, 1), (88, 2), (95, 1), (99, 6), (106, 1), (129, 2), (133, 1), (134, 1), (137, 1), (145, 1), (146, 1), (147, 1), (148, 1), (149, 2), (150, 1), (151, 1), (152, 1), (153, 1), (154, 1), (155, 1), (156, 1), (157, 1), (158, 1), (159, 3), (160, 2), (161, 1), (162, 1), (163, 1), (164, 1), (165, 1), (166, 1), (167, 2), (168, 1), (169, 1), (170, 1), (171, 1), (172, 1)], [(1, 1), (3, 1), (5, 1), (8, 2), (11, 2), (17, 1), (21, 1), (24, 1), (26, 1), (30, 1), (31, 2), (34, 2), (36, 1), (51, 1), (54, 1), (64, 1), (65, 1), (80, 1), (81, 3), (83, 1), (85, 1), (88, 2), (95, 1), (99, 6), (106, 1), (129, 2), (133, 1), (134, 1), (137, 1), (145, 1), (146, 1), (147, 1), (148, 1), (149, 2), (150, 1), (151, 1), (152, 1), (153, 1), (154, 1), (155, 1), (156, 1), (157, 1), (158, 1), (159, 3), (160, 2), (161, 1), (162, 1), (163, 1), (164, 1), (165, 1), (166, 1), (167, 2), (168, 1), (169, 1), (170, 1), (171, 1), (172, 1)], [(2, 1), (3, 2), (8, 1), (31, 1), (34, 2), (37, 1), (39, 1), (40, 1), (49, 1), (58, 1), (65, 1), (74, 1), (81, 3), (88, 1), (99, 3), (106, 1), (108, 1), (110, 1), (114, 1), (125, 2), (135, 1), (138, 1), (159, 1), (215, 1), (228, 1), (260, 1), (264, 1), (266, 1), (281, 1), (321, 1), (326, 1), (328, 1), (336, 1), (375, 1), (478, 1), (482, 1), (546, 1), (610, 1), (616, 1), (660, 1), (668, 1), (791, 1), (818, 1), (819, 1), (820, 1), (821, 1), (822, 1)], [(2, 1), (8, 1), (72, 1), (145, 1), (167, 1), (201, 1), (203, 1), (219, 1), (290, 1), (553, 1), (727, 1), (798, 1)], [(8, 1), (125, 1), (145, 1), (149, 1), (157, 1), (183, 1), (199, 1), (201, 1), (235, 1), (389, 1), (684, 1), (717, 1), (823, 1), (824, 1), (825, 1), (826, 1), (827, 1)], [(3, 1), (8, 1), (13, 1), (16, 1), (17, 1), (24, 2), (26, 1), (28, 1), (29, 1), (31, 1), (36, 1), (51, 1), (56, 1), (65, 2), (69, 1), (81, 2), (85, 1), (88, 1), (99, 5), (103, 1), (108, 1), (114, 2), (117, 1), (129, 1), (143, 1), (149, 1), (161, 1), (167, 3), (183, 1), (228, 1), (233, 1), (243, 1), (258, 1), (261, 1), (296, 1), (315, 1), (318, 1), (323, 2), (329, 1), (434, 1), (477, 1), (482, 1), (663, 1), (699, 1), (749, 1), (793, 1), (828, 1), (829, 1)], [(1, 1), (3, 1), (5, 1), (8, 2), (11, 2), (17, 1), (21, 1), (24, 1), (26, 1), (30, 1), (31, 2), (34, 2), (36, 1), (51, 1), (54, 1), (64, 1), (65, 1), (80, 1), (81, 3), (83, 1), (85, 1), (88, 2), (95, 1), (99, 6), (106, 1), (129, 2), (133, 1), (134, 1), (137, 1), (145, 1), (146, 1), (147, 1), (148, 1), (149, 2), (150, 1), (151, 1), (152, 1), (153, 1), (154, 1), (155, 1), (156, 1), (157, 1), (158, 1), (159, 3), (160, 2), (161, 1), (162, 1), (163, 1), (164, 1), (165, 1), (166, 1), (167, 2), (168, 1), (169, 1), (170, 1), (171, 1), (172, 1)], [(1, 1), (2, 1), (3, 1), (31, 1), (35, 1), (51, 1), (81, 2), (159, 1), (200, 1), (296, 1), (321, 1), (333, 1), (441, 1), (674, 1), (678, 1), (830, 1), (831, 1)], [(2, 1), (3, 1), (30, 1), (31, 1), (37, 1), (45, 1), (54, 1), (64, 1), (65, 1), (80, 1), (85, 1), (88, 1), (108, 1), (114, 1), (133, 1), (134, 1), (159, 1), (169, 1), (206, 1), (218, 1), (235, 1), (261, 1), (264, 1), (265, 1), (315, 1), (328, 1), (348, 1), (350, 1), (461, 1), (475, 1), (510, 1), (550, 1), (554, 1), (613, 1), (639, 1), (645, 1), (679, 1), (691, 1), (748, 1), (832, 1), (833, 1), (834, 1), (835, 1)], [(1, 1), (3, 1), (5, 1), (8, 2), (11, 2), (17, 1), (21, 1), (24, 1), (26, 1), (30, 1), (31, 2), (34, 2), (36, 1), (51, 1), (54, 1), (64, 1), (65, 1), (80, 1), (81, 3), (83, 1), (85, 1), (88, 2), (95, 1), (99, 6), (106, 1), (129, 2), (133, 1), (134, 1), (137, 1), (145, 1), (146, 1), (147, 1), (148, 1), (149, 2), (150, 1), (151, 1), (152, 1), (153, 1), (154, 1), (155, 1), (156, 1), (157, 1), (158, 1), (159, 3), (160, 2), (161, 1), (162, 1), (163, 1), (164, 1), (165, 1), (166, 1), (167, 2), (168, 1), (169, 1), (170, 1), (171, 1), (172, 1)], [(8, 1), (16, 1), (17, 2), (26, 1), (28, 3), (30, 1), (36, 1), (37, 2), (45, 1), (48, 1), (49, 1), (53, 2), (56, 1), (64, 1), (65, 1), (68, 1), (69, 1), (80, 1), (82, 1), (84, 1), (88, 1), (91, 1), (99, 3), (106, 1), (108, 1), (109, 1), (113, 1), (117, 1), (132, 1), (149, 1), (159, 1), (164, 1), (183, 1), (199, 1), (204, 1), (216, 1), (261, 3), (299, 1), (302, 1), (319, 1), (323, 1), (341, 1), (372, 1), (401, 1), (471, 1), (474, 1), (479, 1), (480, 1), (490, 1), (498, 1), (507, 1), (532, 2), (610, 1), (622, 1), (689, 1), (771, 1), (795, 1), (800, 1), (836, 1), (837, 1), (838, 1), (839, 1), (840, 1), (841, 1), (842, 1), (843, 1), (844, 1)], [(3, 1), (16, 1), (31, 1), (37, 3), (45, 1), (51, 1), (65, 2), (69, 1), (80, 1), (81, 1), (88, 3), (218, 1), (296, 1), (300, 1), (305, 1), (338, 1), (367, 1), (395, 2), (420, 1), (458, 1), (475, 1), (500, 1), (544, 1), (587, 1), (723, 1), (759, 1), (833, 2), (845, 1), (846, 1)], [(11, 1), (16, 1), (28, 1), (34, 1), (37, 1), (54, 1), (58, 1), (74, 1), (88, 2), (106, 1), (107, 1), (109, 1), (133, 1), (161, 1), (230, 1), (246, 1), (274, 1), (289, 1), (319, 1), (389, 1), (407, 1), (657, 1), (698, 1), (791, 1), (847, 1), (848, 1)], [(0, 2), (1, 1), (2, 2), (3, 1), (17, 1), (28, 1), (30, 1), (31, 1), (36, 1), (48, 1), (49, 1), (50, 1), (51, 1), (64, 1), (81, 2), (85, 1), (88, 1), (99, 1), (108, 1), (109, 1), (111, 1), (114, 1), (125, 1), (137, 1), (144, 1), (149, 1), (159, 4), (169, 1), (175, 1), (176, 1), (183, 2), (196, 1), (198, 1), (204, 1), (208, 1), (219, 1), (264, 1), (274, 3), (282, 1), (348, 1), (363, 1), (369, 1), (375, 1), (431, 1), (458, 1), (461, 1), (471, 1), (477, 1), (525, 1), (576, 1), (689, 1), (849, 1), (850, 1), (851, 1), (852, 1), (853, 1)], [(7, 1), (37, 1), (51, 1), (56, 1), (81, 1), (88, 2), (91, 1), (99, 1), (107, 1), (109, 1), (114, 1), (162, 1), (169, 1), (296, 1), (316, 1), (490, 1)], [(51, 1), (54, 2), (80, 1), (83, 1), (88, 1), (93, 1), (109, 1), (138, 1), (149, 1), (248, 1), (286, 1), (302, 1), (315, 1), (320, 1), (321, 1), (323, 1), (401, 1), (490, 1), (508, 1), (528, 1), (530, 1), (645, 1), (651, 1), (759, 1), (854, 1), (855, 1)], [(1, 1), (3, 1), (5, 1), (8, 2), (11, 2), (17, 1), (21, 1), (24, 1), (26, 1), (30, 1), (31, 2), (34, 2), (36, 1), (51, 1), (54, 1), (64, 1), (65, 1), (80, 1), (81, 3), (83, 1), (85, 1), (88, 2), (95, 1), (99, 6), (106, 1), (129, 2), (133, 1), (134, 1), (137, 1), (145, 1), (146, 1), (147, 1), (148, 1), (149, 2), (150, 1), (151, 1), (152, 1), (153, 1), (154, 1), (155, 1), (156, 1), (157, 1), (158, 1), (159, 3), (160, 2), (161, 1), (162, 1), (163, 1), (164, 1), (165, 1), (166, 1), (167, 2), (168, 1), (169, 1), (170, 1), (171, 1), (172, 1)], [(5, 1), (24, 1), (31, 3), (37, 2), (39, 1), (50, 1), (51, 1), (53, 1), (54, 1), (55, 3), (64, 1), (82, 1), (83, 2), (84, 2), (99, 1), (117, 1), (121, 1), (138, 1), (140, 1), (150, 1), (173, 1), (212, 1), (219, 1), (241, 1), (264, 1), (265, 1), (266, 1), (305, 1), (323, 1), (334, 1), (342, 1), (350, 2), (357, 1), (370, 1), (401, 1), (441, 1), (446, 1), (457, 1), (475, 1), (490, 1), (495, 1), (613, 2), (616, 1), (684, 1), (699, 2), (723, 1), (834, 1), (856, 1), (857, 1), (858, 1), (859, 1), (860, 1), (861, 1), (862, 1), (863, 1), (864, 1), (865, 1), (866, 1), (867, 1), (868, 1), (869, 1), (870, 1), (871, 2), (872, 1), (873, 1), (874, 1), (875, 1), (876, 1), (877, 1), (878, 1)], [(1, 1), (3, 1), (5, 1), (8, 2), (11, 2), (17, 1), (21, 1), (24, 1), (26, 1), (30, 1), (31, 2), (34, 2), (36, 1), (51, 1), (54, 1), (64, 1), (65, 1), (80, 1), (81, 3), (83, 1), (85, 1), (88, 2), (95, 1), (99, 6), (106, 1), (129, 2), (133, 1), (134, 1), (137, 1), (145, 1), (146, 1), (147, 1), (148, 1), (149, 2), (150, 1), (151, 1), (152, 1), (153, 1), (154, 1), (155, 1), (156, 1), (157, 1), (158, 1), (159, 3), (160, 2), (161, 1), (162, 1), (163, 1), (164, 1), (165, 1), (166, 1), (167, 2), (168, 1), (169, 1), (170, 1), (171, 1), (172, 1)], [(6, 3), (8, 2), (16, 1), (24, 2), (26, 2), (34, 1), (35, 1), (53, 2), (62, 1), (65, 1), (69, 1), (74, 1), (81, 1), (85, 1), (88, 3), (91, 1), (92, 1), (99, 3), (113, 1), (123, 1), (125, 1), (128, 1), (131, 1), (149, 2), (161, 2), (196, 1), (198, 1), (227, 2), (230, 2), (242, 1), (246, 2), (291, 1), (302, 3), (304, 1), (306, 1), (341, 1), (401, 4), (402, 4), (421, 2), (452, 1), (508, 1), (584, 2), (604, 1), (769, 1), (793, 1), (879, 1), (880, 1), (881, 1), (882, 1), (883, 1), (884, 1), (885, 1)], [(1, 1), (3, 1), (5, 1), (8, 2), (11, 2), (17, 1), (21, 1), (24, 1), (26, 1), (30, 1), (31, 2), (34, 2), (36, 1), (51, 1), (54, 1), (64, 1), (65, 1), (80, 1), (81, 3), (83, 1), (85, 1), (88, 2), (95, 1), (99, 6), (106, 1), (129, 2), (133, 1), (134, 1), (137, 1), (145, 1), (146, 1), (147, 1), (148, 1), (149, 2), (150, 1), (151, 1), (152, 1), (153, 1), (154, 1), (155, 1), (156, 1), (157, 1), (158, 1), (159, 3), (160, 2), (161, 1), (162, 1), (163, 1), (164, 1), (165, 1), (166, 1), (167, 2), (168, 1), (169, 1), (170, 1), (171, 1), (172, 1)], [(6, 1), (24, 1), (30, 1), (34, 1), (37, 2), (64, 1), (99, 2), (109, 1), (142, 1), (159, 1), (161, 1), (167, 1), (169, 1), (246, 1), (375, 1), (471, 1), (534, 1), (858, 1), (886, 1)], [(0, 1), (2, 1), (8, 1), (31, 1), (34, 1), (35, 1), (37, 1), (39, 1), (64, 1), (81, 1), (85, 1), (88, 1), (99, 1), (103, 1), (106, 1), (109, 1), (114, 1), (131, 1), (133, 1), (134, 1), (149, 1), (157, 1), (159, 3), (183, 2), (228, 1), (274, 2), (286, 1), (291, 1), (295, 1), (302, 1), (475, 1), (495, 1), (579, 1), (887, 1), (888, 1), (889, 1), (890, 1)], [(0, 1), (2, 2), (8, 2), (16, 1), (17, 1), (24, 1), (47, 1), (51, 1), (54, 1), (61, 1), (62, 1), (65, 1), (70, 1), (83, 1), (88, 2), (92, 1), (99, 2), (109, 1), (110, 1), (130, 1), (132, 1), (149, 1), (160, 1), (161, 1), (168, 1), (172, 2), (183, 1), (205, 1), (216, 2), (234, 1), (250, 1), (266, 1), (302, 1), (342, 2), (344, 1), (401, 1), (502, 1), (603, 1), (625, 1), (663, 1), (675, 1), (717, 2), (857, 1), (862, 1), (891, 1), (892, 1), (893, 1), (894, 1), (895, 1), (896, 1), (897, 1), (898, 1), (899, 1), (900, 1), (901, 1), (902, 1), (903, 1), (904, 1), (905, 1), (906, 1), (907, 1), (908, 1), (909, 1), (910, 1)], [(1, 1), (3, 1), (5, 1), (8, 2), (11, 2), (17, 1), (21, 1), (24, 1), (26, 1), (30, 1), (31, 2), (34, 2), (36, 1), (51, 1), (54, 1), (64, 1), (65, 1), (80, 1), (81, 3), (83, 1), (85, 1), (88, 2), (95, 1), (99, 6), (106, 1), (129, 2), (133, 1), (134, 1), (137, 1), (145, 1), (146, 1), (147, 1), (148, 1), (149, 2), (150, 1), (151, 1), (152, 1), (153, 1), (154, 1), (155, 1), (156, 1), (157, 1), (158, 1), (159, 3), (160, 2), (161, 1), (162, 1), (163, 1), (164, 1), (165, 1), (166, 1), (167, 2), (168, 1), (169, 1), (170, 1), (171, 1), (172, 1)], [(1, 1), (3, 1), (5, 1), (8, 2), (11, 2), (17, 1), (21, 1), (24, 1), (26, 1), (30, 1), (31, 2), (34, 2), (36, 1), (51, 1), (54, 1), (64, 1), (65, 1), (80, 1), (81, 3), (83, 1), (85, 1), (88, 2), (95, 1), (99, 6), (106, 1), (129, 2), (133, 1), (134, 1), (137, 1), (145, 1), (146, 1), (147, 1), (148, 1), (149, 2), (150, 1), (151, 1), (152, 1), (153, 1), (154, 1), (155, 1), (156, 1), (157, 1), (158, 1), (159, 3), (160, 2), (161, 1), (162, 1), (163, 1), (164, 1), (165, 1), (166, 1), (167, 2), (168, 1), (169, 1), (170, 1), (171, 1), (172, 1)], [(19, 1), (31, 2), (45, 1), (48, 1), (50, 1), (51, 1), (88, 1), (97, 1), (108, 1), (117, 1), (183, 1), (210, 1), (218, 1), (240, 1), (318, 1), (329, 1), (480, 1), (489, 1), (510, 1), (911, 1), (912, 1)], [(1, 1), (3, 1), (5, 1), (8, 2), (11, 2), (17, 1), (21, 1), (24, 1), (26, 1), (30, 1), (31, 2), (34, 2), (36, 1), (51, 1), (54, 1), (64, 1), (65, 1), (80, 1), (81, 3), (83, 1), (85, 1), (88, 2), (95, 1), (99, 6), (106, 1), (129, 2), (133, 1), (134, 1), (137, 1), (145, 1), (146, 1), (147, 1), (148, 1), (149, 2), (150, 1), (151, 1), (152, 1), (153, 1), (154, 1), (155, 1), (156, 1), (157, 1), (158, 1), (159, 3), (160, 2), (161, 1), (162, 1), (163, 1), (164, 1), (165, 1), (166, 1), (167, 2), (168, 1), (169, 1), (170, 1), (171, 1), (172, 1)], [(1, 1), (3, 1), (5, 1), (8, 2), (11, 2), (17, 1), (21, 1), (24, 1), (26, 1), (30, 1), (31, 2), (34, 2), (36, 1), (51, 1), (54, 1), (64, 1), (65, 1), (80, 1), (81, 3), (83, 1), (85, 1), (88, 2), (95, 1), (99, 6), (106, 1), (129, 2), (133, 1), (134, 1), (137, 1), (145, 1), (146, 1), (147, 1), (148, 1), (149, 2), (150, 1), (151, 1), (152, 1), (153, 1), (154, 1), (155, 1), (156, 1), (157, 1), (158, 1), (159, 3), (160, 2), (161, 1), (162, 1), (163, 1), (164, 1), (165, 1), (166, 1), (167, 2), (168, 1), (169, 1), (170, 1), (171, 1), (172, 1)], [(24, 1), (31, 1), (55, 1), (520, 1), (560, 1), (773, 1), (795, 1), (913, 1)], [(1, 1), (3, 1), (5, 1), (8, 2), (11, 2), (17, 1), (21, 1), (24, 1), (26, 1), (30, 1), (31, 2), (34, 2), (36, 1), (51, 1), (54, 1), (64, 1), (65, 1), (80, 1), (81, 3), (83, 1), (85, 1), (88, 2), (95, 1), (99, 6), (106, 1), (129, 2), (133, 1), (134, 1), (137, 1), (145, 1), (146, 1), (147, 1), (148, 1), (149, 2), (150, 1), (151, 1), (152, 1), (153, 1), (154, 1), (155, 1), (156, 1), (157, 1), (158, 1), (159, 3), (160, 2), (161, 1), (162, 1), (163, 1), (164, 1), (165, 1), (166, 1), (167, 2), (168, 1), (169, 1), (170, 1), (171, 1), (172, 1)], [(1, 1), (3, 1), (5, 1), (8, 2), (11, 2), (17, 1), (21, 1), (24, 1), (26, 1), (30, 1), (31, 2), (34, 2), (36, 1), (51, 1), (54, 1), (64, 1), (65, 1), (80, 1), (81, 3), (83, 1), (85, 1), (88, 2), (95, 1), (99, 6), (106, 1), (129, 2), (133, 1), (134, 1), (137, 1), (145, 1), (146, 1), (147, 1), (148, 1), (149, 2), (150, 1), (151, 1), (152, 1), (153, 1), (154, 1), (155, 1), (156, 1), (157, 1), (158, 1), (159, 3), (160, 2), (161, 1), (162, 1), (163, 1), (164, 1), (165, 1), (166, 1), (167, 2), (168, 1), (169, 1), (170, 1), (171, 1), (172, 1)], [(2, 1), (5, 1), (29, 1), (37, 1), (50, 1), (51, 1), (64, 1), (74, 2), (80, 1), (93, 1), (109, 1), (156, 1), (161, 1), (167, 1), (196, 1), (246, 1), (261, 1), (372, 1), (534, 1), (671, 1), (698, 1)], [(6, 1), (9, 1), (17, 2), (24, 2), (26, 1), (28, 1), (31, 2), (33, 1), (36, 1), (51, 1), (56, 1), (62, 1), (72, 1), (85, 1), (88, 1), (91, 1), (93, 1), (99, 5), (108, 1), (109, 1), (114, 1), (120, 1), (129, 1), (133, 1), (134, 1), (192, 1), (200, 1), (208, 1), (216, 1), (222, 1), (238, 1), (287, 1), (302, 1), (341, 1), (344, 1), (356, 1), (401, 1), (438, 1), (441, 2), (477, 2), (480, 1), (527, 1), (530, 1), (772, 1), (846, 1), (879, 1), (914, 1), (915, 1), (916, 1), (917, 1), (918, 1), (919, 1), (920, 1), (921, 1), (922, 1), (923, 1), (924, 1)], [(1, 1), (3, 1), (5, 1), (8, 2), (11, 2), (17, 1), (21, 1), (24, 1), (26, 1), (30, 1), (31, 2), (34, 2), (36, 1), (51, 1), (54, 1), (64, 1), (65, 1), (80, 1), (81, 3), (83, 1), (85, 1), (88, 2), (95, 1), (99, 6), (106, 1), (129, 2), (133, 1), (134, 1), (137, 1), (145, 1), (146, 1), (147, 1), (148, 1), (149, 2), (150, 1), (151, 1), (152, 1), (153, 1), (154, 1), (155, 1), (156, 1), (157, 1), (158, 1), (159, 3), (160, 2), (161, 1), (162, 1), (163, 1), (164, 1), (165, 1), (166, 1), (167, 2), (168, 1), (169, 1), (170, 1), (171, 1), (172, 1)], [(8, 1), (26, 1), (31, 1), (35, 1), (37, 2), (54, 1), (58, 1), (65, 1), (81, 3), (85, 1), (87, 1), (88, 1), (93, 1), (95, 1), (109, 1), (110, 1), (131, 1), (204, 1), (206, 1), (207, 1), (216, 2), (219, 1), (225, 1), (239, 1), (243, 1), (286, 1), (295, 1), (302, 1), (319, 1), (401, 1), (430, 1), (453, 1), (502, 1), (503, 1), (525, 1), (536, 1), (555, 1), (587, 1), (718, 1), (736, 1), (904, 1), (925, 1), (926, 1), (927, 1), (928, 1), (929, 1), (930, 1), (931, 1), (932, 1)], [(0, 1), (2, 1), (8, 2), (13, 1), (16, 1), (17, 1), (24, 1), (26, 1), (28, 1), (31, 1), (36, 1), (38, 1), (39, 1), (53, 2), (55, 1), (64, 1), (80, 1), (83, 1), (85, 1), (88, 1), (90, 1), (99, 5), (109, 1), (129, 1), (132, 1), (133, 1), (134, 1), (142, 1), (145, 1), (149, 2), (150, 1), (159, 2), (161, 2), (167, 1), (169, 1), (171, 1), (181, 1), (200, 1), (246, 2), (274, 1), (286, 1), (288, 1), (295, 1), (300, 1), (307, 1), (328, 1), (407, 1), (495, 1), (503, 1), (584, 1), (635, 1), (761, 1), (933, 1), (934, 1), (935, 1), (936, 1)], [(0, 1), (2, 1), (8, 1), (9, 1), (16, 1), (26, 1), (31, 1), (34, 1), (35, 1), (36, 3), (37, 4), (50, 1), (51, 1), (56, 1), (61, 1), (64, 1), (70, 1), (80, 1), (88, 1), (99, 2), (106, 1), (114, 1), (133, 1), (153, 1), (197, 1), (206, 1), (207, 1), (210, 1), (216, 1), (239, 1), (266, 1), (508, 1), (590, 1), (626, 1), (632, 1), (935, 1), (937, 1), (938, 1), (939, 1), (940, 1)], [(1, 1), (3, 1), (5, 1), (8, 2), (11, 2), (17, 1), (21, 1), (24, 1), (26, 1), (30, 1), (31, 2), (34, 2), (36, 1), (51, 1), (54, 1), (64, 1), (65, 1), (80, 1), (81, 3), (83, 1), (85, 1), (88, 2), (95, 1), (99, 6), (106, 1), (129, 2), (133, 1), (134, 1), (137, 1), (145, 1), (146, 1), (147, 1), (148, 1), (149, 2), (150, 1), (151, 1), (152, 1), (153, 1), (154, 1), (155, 1), (156, 1), (157, 1), (158, 1), (159, 3), (160, 2), (161, 1), (162, 1), (163, 1), (164, 1), (165, 1), (166, 1), (167, 2), (168, 1), (169, 1), (170, 1), (171, 1), (172, 1)], [(441, 1), (914, 1)], [(1, 1), (3, 1), (5, 1), (8, 2), (11, 2), (17, 1), (21, 1), (24, 1), (26, 1), (30, 1), (31, 2), (34, 2), (36, 1), (51, 1), (54, 1), (64, 1), (65, 1), (80, 1), (81, 3), (83, 1), (85, 1), (88, 2), (95, 1), (99, 6), (106, 1), (129, 2), (133, 1), (134, 1), (137, 1), (145, 1), (146, 1), (147, 1), (148, 1), (149, 2), (150, 1), (151, 1), (152, 1), (153, 1), (154, 1), (155, 1), (156, 1), (157, 1), (158, 1), (159, 3), (160, 2), (161, 1), (162, 1), (163, 1), (164, 1), (165, 1), (166, 1), (167, 2), (168, 1), (169, 1), (170, 1), (171, 1), (172, 1)], [(24, 1), (50, 1), (51, 1), (72, 1), (81, 1), (88, 1), (99, 2), (108, 1), (110, 1), (167, 1), (196, 1), (296, 1), (579, 1), (759, 1), (941, 1)], [(37, 1), (51, 1), (258, 1), (324, 1), (814, 1), (942, 1), (943, 1), (944, 1)], [(31, 1), (37, 1), (64, 1), (74, 2), (80, 1), (88, 1), (145, 1), (150, 1), (159, 2), (161, 1), (183, 1), (229, 1), (246, 1), (265, 1), (577, 1), (630, 1), (945, 1), (946, 1)], [(18, 1), (40, 1), (50, 1), (51, 1), (72, 1), (92, 1), (109, 1), (142, 1), (229, 1), (392, 1), (407, 1), (457, 1), (495, 1), (577, 1), (684, 1), (731, 1), (947, 1), (948, 1)], [(1, 1), (3, 1), (5, 1), (8, 2), (11, 2), (17, 1), (21, 1), (24, 1), (26, 1), (30, 1), (31, 2), (34, 2), (36, 1), (51, 1), (54, 1), (64, 1), (65, 1), (80, 1), (81, 3), (83, 1), (85, 1), (88, 2), (95, 1), (99, 6), (106, 1), (129, 2), (133, 1), (134, 1), (137, 1), (145, 1), (146, 1), (147, 1), (148, 1), (149, 2), (150, 1), (151, 1), (152, 1), (153, 1), (154, 1), (155, 1), (156, 1), (157, 1), (158, 1), (159, 3), (160, 2), (161, 1), (162, 1), (163, 1), (164, 1), (165, 1), (166, 1), (167, 2), (168, 1), (169, 1), (170, 1), (171, 1), (172, 1)], [(1, 1), (3, 1), (5, 1), (8, 2), (11, 2), (17, 1), (21, 1), (24, 1), (26, 1), (30, 1), (31, 2), (34, 2), (36, 1), (51, 1), (54, 1), (64, 1), (65, 1), (80, 1), (81, 3), (83, 1), (85, 1), (88, 2), (95, 1), (99, 6), (106, 1), (129, 2), (133, 1), (134, 1), (137, 1), (145, 1), (146, 1), (147, 1), (148, 1), (149, 2), (150, 1), (151, 1), (152, 1), (153, 1), (154, 1), (155, 1), (156, 1), (157, 1), (158, 1), (159, 3), (160, 2), (161, 1), (162, 1), (163, 1), (164, 1), (165, 1), (166, 1), (167, 2), (168, 1), (169, 1), (170, 1), (171, 1), (172, 1)], [(1, 1), (3, 1), (5, 1), (8, 2), (11, 2), (17, 1), (21, 1), (24, 1), (26, 1), (30, 1), (31, 2), (34, 2), (36, 1), (51, 1), (54, 1), (64, 1), (65, 1), (80, 1), (81, 3), (83, 1), (85, 1), (88, 2), (95, 1), (99, 6), (106, 1), (129, 2), (133, 1), (134, 1), (137, 1), (145, 1), (146, 1), (147, 1), (148, 1), (149, 2), (150, 1), (151, 1), (152, 1), (153, 1), (154, 1), (155, 1), (156, 1), (157, 1), (158, 1), (159, 3), (160, 2), (161, 1), (162, 1), (163, 1), (164, 1), (165, 1), (166, 1), (167, 2), (168, 1), (169, 1), (170, 1), (171, 1), (172, 1)], [(16, 1), (26, 1), (36, 1), (64, 1), (65, 1), (80, 1), (88, 1), (99, 1), (109, 1), (266, 1), (302, 1), (321, 1), (322, 1), (326, 1), (335, 1), (349, 1), (366, 1), (401, 1), (491, 1), (493, 1), (577, 1), (603, 1), (949, 1)], [(0, 2), (1, 1), (2, 2), (8, 1), (31, 1), (32, 1), (37, 1), (40, 1), (50, 1), (51, 1), (64, 1), (88, 1), (102, 1), (149, 1), (169, 1), (171, 1), (241, 1), (288, 1), (366, 1), (434, 1), (507, 2), (690, 1), (738, 1), (950, 1), (951, 1), (952, 1), (953, 1), (954, 1)], [(2, 1), (17, 1), (18, 1), (28, 1), (34, 2), (36, 1), (40, 1), (48, 1), (51, 1), (54, 1), (58, 1), (61, 1), (64, 1), (65, 1), (70, 1), (88, 1), (93, 1), (99, 1), (108, 1), (117, 1), (135, 1), (187, 1), (199, 1), (219, 1), (261, 1), (265, 1), (288, 1), (319, 1), (322, 1), (326, 1), (341, 1), (349, 1), (372, 1), (489, 1), (495, 1), (496, 1), (552, 1), (576, 1), (577, 1), (612, 1), (691, 1), (771, 1), (775, 1), (795, 2), (796, 1), (800, 1), (908, 1), (918, 1), (955, 1), (956, 1), (957, 1), (958, 1), (959, 1), (960, 1), (961, 1), (962, 1), (963, 1), (964, 1)], [(51, 1), (62, 1), (91, 1), (106, 1), (138, 2), (142, 2), (192, 1), (197, 1), (300, 1), (307, 1), (366, 1), (427, 1), (515, 1), (568, 1), (590, 2), (635, 2), (965, 1), (966, 1), (967, 1), (968, 1)], [(0, 1), (8, 1), (16, 1), (24, 1), (31, 2), (35, 1), (37, 1), (40, 1), (51, 1), (56, 1), (61, 1), (70, 1), (88, 1), (99, 2), (125, 2), (129, 1), (160, 1), (167, 1), (183, 1), (189, 1), (199, 1), (203, 1), (230, 1), (250, 1), (264, 2), (265, 1), (287, 1), (322, 1), (323, 1), (326, 1), (328, 1), (336, 1), (368, 1), (377, 1), (410, 1), (457, 1), (461, 1), (478, 1), (527, 1), (568, 1), (587, 1), (617, 1), (618, 1), (674, 1), (739, 1), (795, 1), (898, 1), (928, 1), (929, 1), (969, 2), (970, 1), (971, 1), (972, 1), (973, 1), (974, 1), (975, 1), (976, 1), (977, 1), (978, 1), (979, 1), (980, 1)], [(1, 1), (3, 1), (5, 1), (8, 2), (11, 2), (17, 1), (21, 1), (24, 1), (26, 1), (30, 1), (31, 2), (34, 2), (36, 1), (51, 1), (54, 1), (64, 1), (65, 1), (80, 1), (81, 3), (83, 1), (85, 1), (88, 2), (95, 1), (99, 6), (106, 1), (129, 2), (133, 1), (134, 1), (137, 1), (145, 1), (146, 1), (147, 1), (148, 1), (149, 2), (150, 1), (151, 1), (152, 1), (153, 1), (154, 1), (155, 1), (156, 1), (157, 1), (158, 1), (159, 3), (160, 2), (161, 1), (162, 1), (163, 1), (164, 1), (165, 1), (166, 1), (167, 2), (168, 1), (169, 1), (170, 1), (171, 1), (172, 1)], [(109, 1), (145, 1), (149, 1), (333, 1)], [(0, 1), (2, 3), (30, 1), (90, 1), (93, 1), (99, 1), (109, 1), (114, 1), (149, 1), (203, 1), (242, 1), (261, 1), (320, 1), (339, 1), (389, 1), (440, 1), (475, 2), (495, 1), (534, 2), (552, 1), (655, 1), (679, 1), (760, 1), (981, 1), (982, 1)], [(2, 2), (5, 1), (16, 1), (17, 1), (24, 1), (26, 1), (28, 1), (30, 1), (31, 5), (35, 1), (36, 1), (37, 1), (48, 1), (53, 1), (55, 1), (56, 1), (64, 1), (69, 1), (81, 1), (88, 1), (95, 1), (99, 5), (125, 2), (129, 1), (138, 1), (145, 1), (149, 1), (157, 1), (159, 1), (161, 1), (167, 1), (174, 1), (175, 1), (176, 1), (199, 1), (201, 1), (235, 1), (264, 1), (272, 1), (323, 1), (328, 1), (395, 1), (461, 1), (482, 1), (550, 1), (560, 1), (584, 1), (699, 1), (769, 1), (773, 1), (795, 1), (853, 1), (862, 1), (949, 1), (983, 1), (984, 1), (985, 1)], [(1, 1), (3, 1), (5, 1), (8, 2), (11, 2), (17, 1), (21, 1), (24, 1), (26, 1), (30, 1), (31, 2), (34, 2), (36, 1), (51, 1), (54, 1), (64, 1), (65, 1), (80, 1), (81, 3), (83, 1), (85, 1), (88, 2), (95, 1), (99, 6), (106, 1), (129, 2), (133, 1), (134, 1), (137, 1), (145, 1), (146, 1), (147, 1), (148, 1), (149, 2), (150, 1), (151, 1), (152, 1), (153, 1), (154, 1), (155, 1), (156, 1), (157, 1), (158, 1), (159, 3), (160, 2), (161, 1), (162, 1), (163, 1), (164, 1), (165, 1), (166, 1), (167, 2), (168, 1), (169, 1), (170, 1), (171, 1), (172, 1)], [(2, 2), (26, 1), (37, 3), (53, 2), (71, 1), (81, 1), (85, 1), (123, 1), (159, 1), (208, 1), (219, 1), (509, 1), (517, 1), (635, 1), (986, 1), (987, 1), (988, 1), (989, 1)], [(2, 1), (8, 1), (11, 1), (30, 1), (31, 1), (37, 1), (45, 1), (49, 1), (51, 1), (53, 2), (64, 1), (65, 1), (66, 1), (80, 1), (82, 1), (89, 1), (130, 1), (137, 1), (138, 1), (159, 1), (167, 1), (169, 1), (183, 1), (185, 1), (199, 1), (204, 1), (218, 1), (219, 1), (223, 1), (272, 1), (308, 1), (323, 1), (324, 1), (370, 1), (375, 1), (771, 1), (798, 1)], [(1, 1), (3, 1), (5, 1), (8, 2), (11, 2), (17, 1), (21, 1), (24, 1), (26, 1), (30, 1), (31, 2), (34, 2), (36, 1), (51, 1), (54, 1), (64, 1), (65, 1), (80, 1), (81, 3), (83, 1), (85, 1), (88, 2), (95, 1), (99, 6), (106, 1), (129, 2), (133, 1), (134, 1), (137, 1), (145, 1), (146, 1), (147, 1), (148, 1), (149, 2), (150, 1), (151, 1), (152, 1), (153, 1), (154, 1), (155, 1), (156, 1), (157, 1), (158, 1), (159, 3), (160, 2), (161, 1), (162, 1), (163, 1), (164, 1), (165, 1), (166, 1), (167, 2), (168, 1), (169, 1), (170, 1), (171, 1), (172, 1)], [(19, 1), (31, 1), (37, 1), (53, 1), (71, 1), (85, 1), (88, 1), (119, 1), (133, 1), (134, 1), (159, 1), (274, 1), (454, 1), (509, 1), (525, 1), (536, 1), (932, 1), (990, 1), (991, 1)], [(1, 1), (3, 1), (5, 1), (8, 2), (11, 2), (17, 1), (21, 1), (24, 1), (26, 1), (30, 1), (31, 2), (34, 2), (36, 1), (51, 1), (54, 1), (64, 1), (65, 1), (80, 1), (81, 3), (83, 1), (85, 1), (88, 2), (95, 1), (99, 6), (106, 1), (129, 2), (133, 1), (134, 1), (137, 1), (145, 1), (146, 1), (147, 1), (148, 1), (149, 2), (150, 1), (151, 1), (152, 1), (153, 1), (154, 1), (155, 1), (156, 1), (157, 1), (158, 1), (159, 3), (160, 2), (161, 1), (162, 1), (163, 1), (164, 1), (165, 1), (166, 1), (167, 2), (168, 1), (169, 1), (170, 1), (171, 1), (172, 1)], [(1, 1), (3, 1), (5, 1), (8, 2), (11, 2), (17, 1), (21, 1), (24, 1), (26, 1), (30, 1), (31, 2), (34, 2), (36, 1), (51, 1), (54, 1), (64, 1), (65, 1), (80, 1), (81, 3), (83, 1), (85, 1), (88, 2), (95, 1), (99, 6), (106, 1), (129, 2), (133, 1), (134, 1), (137, 1), (145, 1), (146, 1), (147, 1), (148, 1), (149, 2), (150, 1), (151, 1), (152, 1), (153, 1), (154, 1), (155, 1), (156, 1), (157, 1), (158, 1), (159, 3), (160, 2), (161, 1), (162, 1), (163, 1), (164, 1), (165, 1), (166, 1), (167, 2), (168, 1), (169, 1), (170, 1), (171, 1), (172, 1)], [(6, 1), (31, 1), (34, 1), (58, 1), (93, 1), (288, 1), (389, 2), (408, 1), (557, 1), (773, 1), (822, 1), (992, 1)], [(8, 2), (16, 1), (24, 1), (26, 1), (28, 1), (30, 1), (31, 1), (36, 2), (51, 1), (56, 1), (58, 1), (62, 2), (64, 1), (65, 1), (72, 1), (81, 2), (85, 1), (88, 2), (91, 1), (99, 4), (103, 1), (106, 1), (108, 2), (109, 1), (110, 1), (114, 1), (130, 1), (131, 1), (138, 1), (142, 1), (159, 3), (174, 1), (175, 1), (176, 1), (177, 1), (208, 1), (219, 1), (242, 1), (260, 1), (261, 1), (290, 1), (329, 1), (369, 1), (503, 1), (651, 1), (655, 1), (791, 1), (793, 1), (887, 1), (993, 1), (994, 1), (995, 1)], [(16, 1), (25, 1), (27, 1), (31, 1), (35, 1), (36, 1), (40, 1), (44, 1), (51, 1), (53, 3), (56, 1), (58, 1), (64, 1), (65, 1), (69, 1), (72, 1), (88, 1), (108, 1), (135, 1), (138, 1), (150, 1), (159, 1), (161, 1), (215, 1), (219, 1), (257, 1), (262, 1), (266, 2), (274, 1), (288, 1), (302, 1), (310, 1), (341, 1), (418, 1), (509, 1), (563, 1), (693, 1), (801, 1), (802, 1), (996, 1), (997, 1), (998, 1), (999, 1), (1000, 1), (1001, 1)], [(1, 1), (3, 1), (5, 1), (8, 2), (11, 2), (17, 1), (21, 1), (24, 1), (26, 1), (30, 1), (31, 2), (34, 2), (36, 1), (51, 1), (54, 1), (64, 1), (65, 1), (80, 1), (81, 3), (83, 1), (85, 1), (88, 2), (95, 1), (99, 6), (106, 1), (129, 2), (133, 1), (134, 1), (137, 1), (145, 1), (146, 1), (147, 1), (148, 1), (149, 2), (150, 1), (151, 1), (152, 1), (153, 1), (154, 1), (155, 1), (156, 1), (157, 1), (158, 1), (159, 3), (160, 2), (161, 1), (162, 1), (163, 1), (164, 1), (165, 1), (166, 1), (167, 2), (168, 1), (169, 1), (170, 1), (171, 1), (172, 1)], [(16, 2), (34, 1), (37, 2), (49, 1), (58, 1), (64, 1), (69, 1), (80, 1), (83, 1), (88, 2), (90, 2), (99, 1), (100, 2), (114, 1), (121, 1), (137, 1), (150, 1), (169, 1), (175, 1), (202, 1), (208, 1), (248, 1), (264, 1), (309, 1), (316, 1), (329, 1), (342, 1), (367, 1), (374, 1), (458, 1), (461, 1), (467, 1), (477, 2), (490, 2), (513, 1), (514, 1), (525, 1), (527, 1), (571, 1), (585, 1), (589, 1), (601, 1), (612, 1), (837, 1), (847, 1), (929, 2), (1000, 1), (1002, 1), (1003, 1), (1004, 1), (1005, 1), (1006, 1), (1007, 1), (1008, 1), (1009, 1), (1010, 1), (1011, 1), (1012, 1), (1013, 1)], [(5, 1), (8, 2), (16, 1), (30, 1), (35, 1), (49, 1), (53, 4), (57, 1), (64, 1), (80, 1), (81, 3), (85, 1), (88, 1), (95, 1), (99, 1), (106, 1), (110, 1), (114, 2), (150, 1), (156, 1), (157, 1), (159, 2), (169, 1), (183, 1), (185, 1), (199, 1), (208, 1), (216, 1), (219, 2), (222, 1), (261, 1), (282, 1), (327, 1), (373, 1), (437, 1), (466, 1), (581, 1), (639, 1), (705, 1), (745, 1), (846, 1), (941, 1), (958, 1), (1014, 1), (1015, 1), (1016, 1), (1017, 1), (1018, 1), (1019, 1)], [(31, 1), (187, 1), (264, 1), (1020, 1)], [(3, 1), (8, 2), (16, 1), (23, 1), (31, 1), (33, 1), (53, 3), (61, 1), (114, 1), (135, 1), (159, 1), (187, 1), (216, 1), (261, 1), (350, 1), (365, 1), (475, 1), (693, 1), (1021, 1), (1022, 1)], [(8, 2), (11, 1), (17, 1), (24, 2), (31, 2), (36, 1), (49, 1), (61, 1), (70, 1), (81, 1), (82, 1), (88, 1), (99, 6), (106, 1), (113, 1), (131, 1), (135, 2), (142, 1), (146, 1), (147, 1), (159, 1), (167, 1), (221, 1), (225, 1), (256, 1), (260, 1), (271, 1), (306, 1), (316, 1), (329, 1), (341, 1), (350, 1), (366, 1), (389, 1), (437, 1), (477, 1), (488, 2), (498, 1), (507, 1), (537, 1), (627, 1), (693, 1), (795, 1), (890, 1), (904, 1), (929, 1), (1015, 1), (1023, 1), (1024, 1), (1025, 1), (1026, 1), (1027, 1), (1028, 1), (1029, 1), (1030, 1), (1031, 1), (1032, 1)], [(361, 1), (363, 1), (443, 1), (444, 1), (445, 1), (446, 1), (447, 1), (448, 1), (449, 1), (450, 1), (451, 1), (1033, 1)], [(1, 1), (3, 1), (5, 1), (8, 2), (11, 2), (17, 1), (21, 1), (24, 1), (26, 1), (30, 1), (31, 2), (34, 2), (36, 1), (51, 1), (54, 1), (64, 1), (65, 1), (80, 1), (81, 3), (83, 1), (85, 1), (88, 2), (95, 1), (99, 6), (106, 1), (129, 2), (133, 1), (134, 1), (137, 1), (145, 1), (146, 1), (147, 1), (148, 1), (149, 2), (150, 1), (151, 1), (152, 1), (153, 1), (154, 1), (155, 1), (156, 1), (157, 1), (158, 1), (159, 3), (160, 2), (161, 1), (162, 1), (163, 1), (164, 1), (165, 1), (166, 1), (167, 2), (168, 1), (169, 1), (170, 1), (171, 1), (172, 1)], [(1, 1), (3, 1), (5, 1), (8, 2), (11, 2), (17, 1), (21, 1), (24, 1), (26, 1), (30, 1), (31, 2), (34, 2), (36, 1), (51, 1), (54, 1), (64, 1), (65, 1), (80, 1), (81, 3), (83, 1), (85, 1), (88, 2), (95, 1), (99, 6), (106, 1), (129, 2), (133, 1), (134, 1), (137, 1), (145, 1), (146, 1), (147, 1), (148, 1), (149, 2), (150, 1), (151, 1), (152, 1), (153, 1), (154, 1), (155, 1), (156, 1), (157, 1), (158, 1), (159, 3), (160, 2), (161, 1), (162, 1), (163, 1), (164, 1), (165, 1), (166, 1), (167, 2), (168, 1), (169, 1), (170, 1), (171, 1), (172, 1)], [(1, 1), (3, 1), (5, 1), (8, 2), (11, 2), (17, 1), (21, 1), (24, 1), (26, 1), (30, 1), (31, 2), (34, 2), (36, 1), (51, 1), (54, 1), (64, 1), (65, 1), (80, 1), (81, 3), (83, 1), (85, 1), (88, 2), (95, 1), (99, 6), (106, 1), (129, 2), (133, 1), (134, 1), (137, 1), (145, 1), (146, 1), (147, 1), (148, 1), (149, 2), (150, 1), (151, 1), (152, 1), (153, 1), (154, 1), (155, 1), (156, 1), (157, 1), (158, 1), (159, 3), (160, 2), (161, 1), (162, 1), (163, 1), (164, 1), (165, 1), (166, 1), (167, 2), (168, 1), (169, 1), (170, 1), (171, 1), (172, 1)], [(1, 1), (3, 1), (5, 1), (8, 2), (11, 2), (17, 1), (21, 1), (24, 1), (26, 1), (30, 1), (31, 2), (34, 2), (36, 1), (51, 1), (54, 1), (64, 1), (65, 1), (80, 1), (81, 3), (83, 1), (85, 1), (88, 2), (95, 1), (99, 6), (106, 1), (129, 2), (133, 1), (134, 1), (137, 1), (145, 1), (146, 1), (147, 1), (148, 1), (149, 2), (150, 1), (151, 1), (152, 1), (153, 1), (154, 1), (155, 1), (156, 1), (157, 1), (158, 1), (159, 3), (160, 2), (161, 1), (162, 1), (163, 1), (164, 1), (165, 1), (166, 1), (167, 2), (168, 1), (169, 1), (170, 1), (171, 1), (172, 1)], [(1, 1), (3, 1), (5, 1), (8, 2), (11, 2), (17, 1), (21, 1), (24, 1), (26, 1), (30, 1), (31, 2), (34, 2), (36, 1), (51, 1), (54, 1), (64, 1), (65, 1), (80, 1), (81, 3), (83, 1), (85, 1), (88, 2), (95, 1), (99, 6), (106, 1), (129, 2), (133, 1), (134, 1), (137, 1), (145, 1), (146, 1), (147, 1), (148, 1), (149, 2), (150, 1), (151, 1), (152, 1), (153, 1), (154, 1), (155, 1), (156, 1), (157, 1), (158, 1), (159, 3), (160, 2), (161, 1), (162, 1), (163, 1), (164, 1), (165, 1), (166, 1), (167, 2), (168, 1), (169, 1), (170, 1), (171, 1), (172, 1)], [(16, 1), (34, 1), (37, 1), (81, 1), (93, 1), (161, 1), (246, 1), (264, 1), (613, 1), (616, 1), (655, 1), (1034, 1), (1035, 1), (1036, 1)], [(0, 2), (2, 1), (17, 1), (19, 1), (24, 1), (28, 1), (31, 2), (34, 1), (36, 1), (58, 1), (88, 1), (99, 5), (117, 1), (135, 1), (140, 1), (167, 1), (183, 1), (187, 1), (199, 1), (201, 1), (205, 1), (235, 1), (306, 1), (407, 1), (419, 1), (508, 1), (713, 1), (795, 1), (904, 1), (1037, 1), (1038, 1), (1039, 1), (1040, 1)], [(16, 1), (17, 1), (24, 1), (28, 1), (34, 1), (36, 1), (58, 1), (62, 1), (64, 1), (66, 1), (88, 1), (99, 2), (114, 1), (145, 1), (149, 1), (187, 1), (228, 1), (241, 1), (254, 1), (266, 1), (286, 1), (295, 1), (324, 1), (328, 1), (333, 1), (334, 1), (366, 1), (401, 1), (495, 1), (517, 1), (532, 1), (552, 1), (684, 1), (862, 1)], [(5, 1), (28, 1), (30, 1), (88, 1), (93, 1), (99, 1), (167, 1), (238, 1), (264, 1), (265, 1), (314, 1), (333, 1), (335, 1), (482, 1), (530, 1), (1041, 1)], [(1, 1), (3, 1), (5, 1), (8, 2), (11, 2), (17, 1), (21, 1), (24, 1), (26, 1), (30, 1), (31, 2), (34, 2), (36, 1), (51, 1), (54, 1), (64, 1), (65, 1), (80, 1), (81, 3), (83, 1), (85, 1), (88, 2), (95, 1), (99, 6), (106, 1), (129, 2), (133, 1), (134, 1), (137, 1), (145, 1), (146, 1), (147, 1), (148, 1), (149, 2), (150, 1), (151, 1), (152, 1), (153, 1), (154, 1), (155, 1), (156, 1), (157, 1), (158, 1), (159, 3), (160, 2), (161, 1), (162, 1), (163, 1), (164, 1), (165, 1), (166, 1), (167, 2), (168, 1), (169, 1), (170, 1), (171, 1), (172, 1)], [(1, 1), (3, 1), (5, 1), (8, 2), (11, 2), (17, 1), (21, 1), (24, 1), (26, 1), (30, 1), (31, 2), (34, 2), (36, 1), (51, 1), (54, 1), (64, 1), (65, 1), (80, 1), (81, 3), (83, 1), (85, 1), (88, 2), (95, 1), (99, 6), (106, 1), (129, 2), (133, 1), (134, 1), (137, 1), (145, 1), (146, 1), (147, 1), (148, 1), (149, 2), (150, 1), (151, 1), (152, 1), (153, 1), (154, 1), (155, 1), (156, 1), (157, 1), (158, 1), (159, 3), (160, 2), (161, 1), (162, 1), (163, 1), (164, 1), (165, 1), (166, 1), (167, 2), (168, 1), (169, 1), (170, 1), (171, 1), (172, 1)], [(1, 1), (3, 1), (5, 1), (8, 2), (11, 2), (17, 1), (21, 1), (24, 1), (26, 1), (30, 1), (31, 2), (34, 2), (36, 1), (51, 1), (54, 1), (64, 1), (65, 1), (80, 1), (81, 3), (83, 1), (85, 1), (88, 2), (95, 1), (99, 6), (106, 1), (129, 2), (133, 1), (134, 1), (137, 1), (145, 1), (146, 1), (147, 1), (148, 1), (149, 2), (150, 1), (151, 1), (152, 1), (153, 1), (154, 1), (155, 1), (156, 1), (157, 1), (158, 1), (159, 3), (160, 2), (161, 1), (162, 1), (163, 1), (164, 1), (165, 1), (166, 1), (167, 2), (168, 1), (169, 1), (170, 1), (171, 1), (172, 1)], [(3, 1), (8, 1), (16, 1), (31, 1), (37, 2), (40, 1), (51, 1), (53, 2), (58, 1), (81, 2), (85, 1), (88, 2), (95, 1), (108, 1), (130, 2), (138, 1), (161, 1), (167, 1), (185, 1), (187, 1), (196, 1), (198, 1), (216, 1), (264, 1), (265, 1), (266, 2), (273, 1), (366, 1), (491, 1), (493, 1), (509, 1), (535, 1), (717, 1), (831, 1), (862, 1), (1042, 1), (1043, 2)], [(1, 1), (3, 1), (5, 1), (8, 2), (11, 2), (17, 1), (21, 1), (24, 1), (26, 1), (30, 1), (31, 2), (34, 2), (36, 1), (51, 1), (54, 1), (64, 1), (65, 1), (80, 1), (81, 3), (83, 1), (85, 1), (88, 2), (95, 1), (99, 6), (106, 1), (129, 2), (133, 1), (134, 1), (137, 1), (145, 1), (146, 1), (147, 1), (148, 1), (149, 2), (150, 1), (151, 1), (152, 1), (153, 1), (154, 1), (155, 1), (156, 1), (157, 1), (158, 1), (159, 3), (160, 2), (161, 1), (162, 1), (163, 1), (164, 1), (165, 1), (166, 1), (167, 2), (168, 1), (169, 1), (170, 1), (171, 1), (172, 1)], [(1, 1), (3, 1), (5, 1), (8, 2), (11, 2), (17, 1), (21, 1), (24, 1), (26, 1), (30, 1), (31, 2), (34, 2), (36, 1), (51, 1), (54, 1), (64, 1), (65, 1), (80, 1), (81, 3), (83, 1), (85, 1), (88, 2), (95, 1), (99, 6), (106, 1), (129, 2), (133, 1), (134, 1), (137, 1), (145, 1), (146, 1), (147, 1), (148, 1), (149, 2), (150, 1), (151, 1), (152, 1), (153, 1), (154, 1), (155, 1), (156, 1), (157, 1), (158, 1), (159, 3), (160, 2), (161, 1), (162, 1), (163, 1), (164, 1), (165, 1), (166, 1), (167, 2), (168, 1), (169, 1), (170, 1), (171, 1), (172, 1)], [(246, 1), (1044, 1)], [(24, 1), (31, 1), (51, 1), (261, 1), (296, 1), (300, 1), (307, 1), (366, 1), (635, 1), (880, 1), (1045, 1), (1046, 1), (1047, 1)], [(1, 1), (2, 1), (16, 1), (18, 1), (31, 3), (34, 2), (37, 2), (45, 1), (48, 1), (51, 1), (79, 1), (81, 1), (88, 1), (90, 1), (93, 1), (100, 1), (117, 1), (130, 1), (149, 1), (159, 1), (169, 1), (199, 1), (201, 1), (217, 1), (225, 1), (256, 1), (274, 1), (296, 1), (310, 1), (339, 1), (361, 1), (363, 1), (366, 1), (367, 1), (450, 1), (477, 1), (498, 1), (507, 1), (585, 1), (621, 1), (744, 1), (795, 1), (1000, 1), (1048, 1), (1049, 1), (1050, 1), (1051, 1), (1052, 1), (1053, 1), (1054, 1), (1055, 1), (1056, 1), (1057, 1), (1058, 1), (1059, 1), (1060, 1), (1061, 1), (1062, 1)], [(16, 1), (31, 3), (36, 1), (45, 1), (49, 1), (53, 1), (61, 1), (65, 1), (70, 1), (81, 1), (93, 1), (95, 1), (216, 1), (321, 1), (356, 1), (413, 1), (420, 1), (458, 1), (491, 1), (493, 1), (494, 1), (568, 1), (651, 1), (771, 1), (1063, 1), (1064, 1), (1065, 1), (1066, 1)], [(1, 1), (3, 1), (5, 1), (8, 2), (11, 2), (17, 1), (21, 1), (24, 1), (26, 1), (30, 1), (31, 2), (34, 2), (36, 1), (51, 1), (54, 1), (64, 1), (65, 1), (80, 1), (81, 3), (83, 1), (85, 1), (88, 2), (95, 1), (99, 6), (106, 1), (129, 2), (133, 1), (134, 1), (137, 1), (145, 1), (146, 1), (147, 1), (148, 1), (149, 2), (150, 1), (151, 1), (152, 1), (153, 1), (154, 1), (155, 1), (156, 1), (157, 1), (158, 1), (159, 3), (160, 2), (161, 1), (162, 1), (163, 1), (164, 1), (165, 1), (166, 1), (167, 2), (168, 1), (169, 1), (170, 1), (171, 1), (172, 1)], [(2, 1), (8, 1), (18, 1), (31, 1), (32, 1), (45, 1), (51, 1), (54, 1), (61, 1), (70, 1), (114, 1), (133, 1), (134, 1), (149, 1), (159, 1), (183, 2), (209, 1), (333, 1), (434, 1), (479, 1), (480, 1), (618, 1), (799, 1)], [(1, 1), (3, 1), (5, 1), (8, 2), (11, 2), (17, 1), (21, 1), (24, 1), (26, 1), (30, 1), (31, 2), (34, 2), (36, 1), (51, 1), (54, 1), (64, 1), (65, 1), (80, 1), (81, 3), (83, 1), (85, 1), (88, 2), (95, 1), (99, 6), (106, 1), (129, 2), (133, 1), (134, 1), (137, 1), (145, 1), (146, 1), (147, 1), (148, 1), (149, 2), (150, 1), (151, 1), (152, 1), (153, 1), (154, 1), (155, 1), (156, 1), (157, 1), (158, 1), (159, 3), (160, 2), (161, 1), (162, 1), (163, 1), (164, 1), (165, 1), (166, 1), (167, 2), (168, 1), (169, 1), (170, 1), (171, 1), (172, 1)], [(1, 1), (3, 1), (5, 1), (8, 2), (11, 2), (17, 1), (21, 1), (24, 1), (26, 1), (30, 1), (31, 2), (34, 2), (36, 1), (51, 1), (54, 1), (64, 1), (65, 1), (80, 1), (81, 3), (83, 1), (85, 1), (88, 2), (95, 1), (99, 6), (106, 1), (129, 2), (133, 1), (134, 1), (137, 1), (145, 1), (146, 1), (147, 1), (148, 1), (149, 2), (150, 1), (151, 1), (152, 1), (153, 1), (154, 1), (155, 1), (156, 1), (157, 1), (158, 1), (159, 3), (160, 2), (161, 1), (162, 1), (163, 1), (164, 1), (165, 1), (166, 1), (167, 2), (168, 1), (169, 1), (170, 1), (171, 1), (172, 1)], [(1, 1), (3, 1), (5, 1), (8, 2), (11, 2), (17, 1), (21, 1), (24, 1), (26, 1), (30, 1), (31, 2), (34, 2), (36, 1), (51, 1), (54, 1), (64, 1), (65, 1), (80, 1), (81, 3), (83, 1), (85, 1), (88, 2), (95, 1), (99, 6), (106, 1), (129, 2), (133, 1), (134, 1), (137, 1), (145, 1), (146, 1), (147, 1), (148, 1), (149, 2), (150, 1), (151, 1), (152, 1), (153, 1), (154, 1), (155, 1), (156, 1), (157, 1), (158, 1), (159, 3), (160, 2), (161, 1), (162, 1), (163, 1), (164, 1), (165, 1), (166, 1), (167, 2), (168, 1), (169, 1), (170, 1), (171, 1), (172, 1)], [(1, 1), (3, 1), (5, 1), (8, 2), (11, 2), (17, 1), (21, 1), (24, 1), (26, 1), (30, 1), (31, 2), (34, 2), (36, 1), (51, 1), (54, 1), (64, 1), (65, 1), (80, 1), (81, 3), (83, 1), (85, 1), (88, 2), (95, 1), (99, 6), (106, 1), (129, 2), (133, 1), (134, 1), (137, 1), (145, 1), (146, 1), (147, 1), (148, 1), (149, 2), (150, 1), (151, 1), (152, 1), (153, 1), (154, 1), (155, 1), (156, 1), (157, 1), (158, 1), (159, 3), (160, 2), (161, 1), (162, 1), (163, 1), (164, 1), (165, 1), (166, 1), (167, 2), (168, 1), (169, 1), (170, 1), (171, 1), (172, 1)], [(0, 1), (1, 1), (2, 4), (3, 1), (8, 1), (11, 2), (17, 1), (30, 1), (35, 1), (36, 1), (40, 1), (48, 1), (51, 1), (54, 1), (64, 2), (69, 1), (72, 1), (74, 1), (80, 1), (81, 5), (83, 1), (88, 3), (91, 1), (95, 1), (99, 4), (108, 1), (110, 1), (114, 1), (125, 1), (129, 1), (131, 1), (136, 1), (149, 4), (159, 1), (161, 1), (174, 1), (183, 3), (199, 1), (216, 1), (229, 1), (240, 1), (250, 1), (264, 1), (272, 1), (302, 1), (310, 1), (401, 1), (422, 1), (477, 1), (488, 1), (495, 1), (496, 1), (509, 1), (546, 2), (554, 1), (577, 1), (582, 1), (610, 1), (711, 1), (862, 1), (964, 1), (1067, 1), (1068, 1), (1069, 1), (1070, 1), (1071, 1), (1072, 1), (1073, 1)], [(2, 1), (8, 1), (11, 1), (24, 1), (26, 1), (36, 1), (37, 1), (50, 1), (51, 1), (54, 1), (65, 1), (85, 1), (88, 1), (99, 2), (109, 1), (133, 1), (134, 1), (145, 1), (149, 1), (161, 2), (196, 1), (203, 1), (204, 1), (261, 1), (300, 1), (307, 1), (366, 1), (367, 1), (458, 1), (503, 1), (520, 1), (671, 1), (852, 1), (1074, 1), (1075, 1)], [(16, 1), (23, 1), (31, 1), (36, 1), (53, 4), (69, 1), (95, 1), (99, 1), (106, 1), (116, 1), (143, 1), (216, 1), (327, 1), (365, 1), (552, 1), (658, 1), (826, 1), (928, 1), (1076, 1), (1077, 1), (1078, 1)], [(2, 3), (16, 1), (17, 1), (24, 1), (26, 1), (30, 1), (31, 1), (36, 1), (37, 1), (40, 1), (51, 1), (53, 5), (64, 1), (72, 1), (74, 1), (85, 1), (88, 1), (99, 4), (109, 1), (114, 1), (120, 1), (133, 1), (145, 1), (159, 2), (161, 1), (167, 1), (169, 1), (178, 1), (181, 1), (246, 1), (274, 2), (286, 1), (288, 1), (291, 1), (295, 1), (318, 1), (329, 1), (366, 1), (369, 1), (375, 2), (397, 1), (441, 1), (495, 1), (550, 1), (586, 1), (598, 1), (601, 1), (603, 1), (629, 1), (634, 1), (657, 1), (702, 1), (776, 1), (860, 1), (1042, 1), (1079, 1), (1080, 1), (1081, 1), (1082, 1)], [(1, 1), (3, 1), (5, 1), (8, 2), (11, 2), (17, 1), (21, 1), (24, 1), (26, 1), (30, 1), (31, 2), (34, 2), (36, 1), (51, 1), (54, 1), (64, 1), (65, 1), (80, 1), (81, 3), (83, 1), (85, 1), (88, 2), (95, 1), (99, 6), (106, 1), (129, 2), (133, 1), (134, 1), (137, 1), (145, 1), (146, 1), (147, 1), (148, 1), (149, 2), (150, 1), (151, 1), (152, 1), (153, 1), (154, 1), (155, 1), (156, 1), (157, 1), (158, 1), (159, 3), (160, 2), (161, 1), (162, 1), (163, 1), (164, 1), (165, 1), (166, 1), (167, 2), (168, 1), (169, 1), (170, 1), (171, 1), (172, 1)], [(1, 1), (3, 1), (5, 1), (8, 2), (11, 2), (17, 1), (21, 1), (24, 1), (26, 1), (30, 1), (31, 2), (34, 2), (36, 1), (51, 1), (54, 1), (64, 1), (65, 1), (80, 1), (81, 3), (83, 1), (85, 1), (88, 2), (95, 1), (99, 6), (106, 1), (129, 2), (133, 1), (134, 1), (137, 1), (145, 1), (146, 1), (147, 1), (148, 1), (149, 2), (150, 1), (151, 1), (152, 1), (153, 1), (154, 1), (155, 1), (156, 1), (157, 1), (158, 1), (159, 3), (160, 2), (161, 1), (162, 1), (163, 1), (164, 1), (165, 1), (166, 1), (167, 2), (168, 1), (169, 1), (170, 1), (171, 1), (172, 1)], [(3, 1), (8, 1), (11, 1), (26, 1), (28, 1), (35, 1), (37, 1), (53, 3), (54, 1), (81, 1), (99, 1), (109, 1), (145, 1), (150, 1), (161, 1), (187, 1), (302, 1), (304, 1), (603, 1), (1083, 1)], [(1, 1), (3, 1), (5, 1), (8, 2), (11, 2), (17, 1), (21, 1), (24, 1), (26, 1), (30, 1), (31, 2), (34, 2), (36, 1), (51, 1), (54, 1), (64, 1), (65, 1), (80, 1), (81, 3), (83, 1), (85, 1), (88, 2), (95, 1), (99, 6), (106, 1), (129, 2), (133, 1), (134, 1), (137, 1), (145, 1), (146, 1), (147, 1), (148, 1), (149, 2), (150, 1), (151, 1), (152, 1), (153, 1), (154, 1), (155, 1), (156, 1), (157, 1), (158, 1), (159, 3), (160, 2), (161, 1), (162, 1), (163, 1), (164, 1), (165, 1), (166, 1), (167, 2), (168, 1), (169, 1), (170, 1), (171, 1), (172, 1)], [(0, 2), (16, 1), (17, 1), (18, 1), (19, 1), (21, 1), (26, 1), (28, 1), (30, 1), (34, 1), (36, 1), (40, 1), (54, 1), (61, 1), (70, 1), (72, 1), (88, 1), (99, 2), (106, 1), (109, 1), (114, 1), (137, 1), (149, 2), (159, 1), (161, 1), (183, 1), (187, 1), (233, 1), (264, 1), (274, 2), (328, 1), (366, 1), (401, 1), (421, 1), (422, 1), (471, 1), (494, 1), (546, 1), (616, 1), (731, 1), (760, 1), (887, 1), (1042, 1)], [(1, 1), (3, 1), (5, 1), (8, 2), (11, 2), (17, 1), (21, 1), (24, 1), (26, 1), (30, 1), (31, 2), (34, 2), (36, 1), (51, 1), (54, 1), (64, 1), (65, 1), (80, 1), (81, 3), (83, 1), (85, 1), (88, 2), (95, 1), (99, 6), (106, 1), (129, 2), (133, 1), (134, 1), (137, 1), (145, 1), (146, 1), (147, 1), (148, 1), (149, 2), (150, 1), (151, 1), (152, 1), (153, 1), (154, 1), (155, 1), (156, 1), (157, 1), (158, 1), (159, 3), (160, 2), (161, 1), (162, 1), (163, 1), (164, 1), (165, 1), (166, 1), (167, 2), (168, 1), (169, 1), (170, 1), (171, 1), (172, 1)], [(1, 1), (3, 1), (5, 1), (8, 2), (11, 2), (17, 1), (21, 1), (24, 1), (26, 1), (30, 1), (31, 2), (34, 2), (36, 1), (51, 1), (54, 1), (64, 1), (65, 1), (80, 1), (81, 3), (83, 1), (85, 1), (88, 2), (95, 1), (99, 6), (106, 1), (129, 2), (133, 1), (134, 1), (137, 1), (145, 1), (146, 1), (147, 1), (148, 1), (149, 2), (150, 1), (151, 1), (152, 1), (153, 1), (154, 1), (155, 1), (156, 1), (157, 1), (158, 1), (159, 3), (160, 2), (161, 1), (162, 1), (163, 1), (164, 1), (165, 1), (166, 1), (167, 2), (168, 1), (169, 1), (170, 1), (171, 1), (172, 1)], [(0, 1), (1, 1), (3, 1), (8, 1), (11, 1), (19, 1), (28, 1), (31, 1), (37, 1), (39, 1), (40, 2), (45, 1), (49, 1), (51, 1), (53, 5), (80, 1), (81, 2), (85, 1), (88, 1), (91, 1), (95, 1), (99, 2), (108, 1), (138, 1), (159, 2), (160, 1), (167, 1), (183, 1), (204, 1), (209, 1), (216, 1), (219, 1), (257, 1), (261, 1), (262, 1), (264, 1), (265, 1), (322, 1), (326, 1), (365, 1), (375, 1), (480, 1), (517, 1), (690, 1), (1067, 1), (1084, 1), (1085, 1), (1086, 1)], [(1, 1), (3, 1), (5, 1), (8, 2), (11, 2), (17, 1), (21, 1), (24, 1), (26, 1), (30, 1), (31, 2), (34, 2), (36, 1), (51, 1), (54, 1), (64, 1), (65, 1), (80, 1), (81, 3), (83, 1), (85, 1), (88, 2), (95, 1), (99, 6), (106, 1), (129, 2), (133, 1), (134, 1), (137, 1), (145, 1), (146, 1), (147, 1), (148, 1), (149, 2), (150, 1), (151, 1), (152, 1), (153, 1), (154, 1), (155, 1), (156, 1), (157, 1), (158, 1), (159, 3), (160, 2), (161, 1), (162, 1), (163, 1), (164, 1), (165, 1), (166, 1), (167, 2), (168, 1), (169, 1), (170, 1), (171, 1), (172, 1)], [(0, 1), (2, 1), (8, 1), (17, 1), (18, 1), (26, 1), (28, 1), (30, 1), (31, 4), (36, 1), (40, 1), (51, 1), (55, 1), (62, 1), (64, 2), (67, 1), (83, 1), (91, 3), (93, 1), (99, 3), (136, 1), (149, 1), (157, 1), (159, 4), (161, 1), (181, 1), (183, 2), (185, 1), (187, 1), (202, 2), (210, 1), (211, 1), (217, 1), (226, 1), (229, 2), (241, 1), (246, 1), (250, 1), (257, 1), (262, 1), (281, 1), (285, 1), (296, 1), (302, 1), (366, 3), (419, 1), (471, 1), (475, 1), (479, 1), (498, 1), (576, 1), (635, 1), (637, 1), (690, 1), (759, 1), (846, 1), (1042, 1), (1087, 1), (1088, 1), (1089, 1), (1090, 1), (1091, 1), (1092, 2)], [(40, 1), (51, 1), (66, 1), (72, 1), (88, 1), (109, 1), (113, 1), (142, 1), (145, 1), (149, 1), (154, 1), (164, 1), (229, 1), (241, 1), (306, 1), (577, 1), (644, 1), (690, 1), (727, 1), (1042, 1), (1093, 1), (1094, 1), (1095, 1), (1096, 1)], [(0, 1), (2, 1), (3, 1), (8, 1), (9, 1), (21, 1), (26, 1), (31, 2), (34, 1), (35, 1), (37, 3), (40, 1), (45, 1), (51, 1), (53, 2), (54, 2), (56, 2), (58, 1), (64, 1), (72, 2), (81, 1), (85, 1), (87, 1), (88, 3), (93, 2), (110, 1), (114, 1), (123, 1), (125, 1), (130, 1), (138, 1), (159, 2), (172, 1), (183, 1), (199, 1), (203, 1), (302, 1), (306, 1), (308, 1), (324, 1), (329, 1), (366, 1), (369, 1), (401, 1), (402, 1), (411, 1), (441, 1), (468, 1), (478, 1), (508, 1), (533, 1), (588, 1), (593, 1), (690, 1), (691, 1), (759, 1), (826, 1), (858, 1), (885, 1), (1079, 1), (1085, 1), (1097, 1), (1098, 1), (1099, 1), (1100, 1), (1101, 1), (1102, 1), (1103, 1), (1104, 1)], [(2, 1), (37, 1), (40, 1), (45, 1), (51, 1), (61, 1), (70, 1), (72, 1), (102, 1), (108, 1), (109, 1), (164, 1), (187, 1), (241, 1), (264, 1), (302, 1), (341, 1), (347, 1), (350, 1), (401, 1), (461, 1), (474, 1), (514, 1)], [(1, 1), (3, 1), (5, 1), (8, 2), (11, 2), (17, 1), (21, 1), (24, 1), (26, 1), (30, 1), (31, 2), (34, 2), (36, 1), (51, 1), (54, 1), (64, 1), (65, 1), (80, 1), (81, 3), (83, 1), (85, 1), (88, 2), (95, 1), (99, 6), (106, 1), (129, 2), (133, 1), (134, 1), (137, 1), (145, 1), (146, 1), (147, 1), (148, 1), (149, 2), (150, 1), (151, 1), (152, 1), (153, 1), (154, 1), (155, 1), (156, 1), (157, 1), (158, 1), (159, 3), (160, 2), (161, 1), (162, 1), (163, 1), (164, 1), (165, 1), (166, 1), (167, 2), (168, 1), (169, 1), (170, 1), (171, 1), (172, 1)], [(1, 2), (31, 1), (37, 4), (61, 1), (64, 1), (70, 1), (80, 1), (81, 2), (82, 1), (85, 1), (88, 1), (102, 1), (114, 1), (124, 1), (133, 1), (134, 1), (171, 1), (175, 1), (219, 1), (311, 1), (335, 1), (435, 1), (474, 1), (511, 1), (514, 1), (576, 1), (730, 1), (1105, 1), (1106, 1)], [(1, 1), (3, 1), (5, 1), (8, 2), (11, 2), (17, 1), (21, 1), (24, 1), (26, 1), (30, 1), (31, 2), (34, 2), (36, 1), (51, 1), (54, 1), (64, 1), (65, 1), (80, 1), (81, 3), (83, 1), (85, 1), (88, 2), (95, 1), (99, 6), (106, 1), (129, 2), (133, 1), (134, 1), (137, 1), (145, 1), (146, 1), (147, 1), (148, 1), (149, 2), (150, 1), (151, 1), (152, 1), (153, 1), (154, 1), (155, 1), (156, 1), (157, 1), (158, 1), (159, 3), (160, 2), (161, 1), (162, 1), (163, 1), (164, 1), (165, 1), (166, 1), (167, 2), (168, 1), (169, 1), (170, 1), (171, 1), (172, 1)], [(1, 1), (3, 1), (5, 1), (8, 2), (11, 2), (17, 1), (21, 1), (24, 1), (26, 1), (30, 1), (31, 2), (34, 2), (36, 1), (51, 1), (54, 1), (64, 1), (65, 1), (80, 1), (81, 3), (83, 1), (85, 1), (88, 2), (95, 1), (99, 6), (106, 1), (129, 2), (133, 1), (134, 1), (137, 1), (145, 1), (146, 1), (147, 1), (148, 1), (149, 2), (150, 1), (151, 1), (152, 1), (153, 1), (154, 1), (155, 1), (156, 1), (157, 1), (158, 1), (159, 3), (160, 2), (161, 1), (162, 1), (163, 1), (164, 1), (165, 1), (166, 1), (167, 2), (168, 1), (169, 1), (170, 1), (171, 1), (172, 1)], [(17, 1), (31, 2), (34, 1), (36, 1), (53, 1), (64, 1), (65, 1), (66, 1), (74, 1), (79, 1), (80, 1), (85, 1), (88, 2), (99, 2), (103, 1), (106, 1), (133, 1), (134, 1), (145, 1), (153, 1), (157, 1), (167, 1), (175, 1), (176, 1), (205, 1), (319, 1), (323, 1), (333, 1), (345, 1), (367, 1), (395, 1), (475, 1), (478, 1), (503, 1), (553, 1), (633, 1), (634, 1), (800, 1), (1107, 1), (1108, 1), (1109, 1), (1110, 1)], [(1, 1), (3, 1), (5, 1), (8, 2), (11, 2), (17, 1), (21, 1), (24, 1), (26, 1), (30, 1), (31, 2), (34, 2), (36, 1), (51, 1), (54, 1), (64, 1), (65, 1), (80, 1), (81, 3), (83, 1), (85, 1), (88, 2), (95, 1), (99, 6), (106, 1), (129, 2), (133, 1), (134, 1), (137, 1), (145, 1), (146, 1), (147, 1), (148, 1), (149, 2), (150, 1), (151, 1), (152, 1), (153, 1), (154, 1), (155, 1), (156, 1), (157, 1), (158, 1), (159, 3), (160, 2), (161, 1), (162, 1), (163, 1), (164, 1), (165, 1), (166, 1), (167, 2), (168, 1), (169, 1), (170, 1), (171, 1), (172, 1)], [(1, 1), (3, 1), (5, 1), (8, 2), (11, 2), (17, 1), (21, 1), (24, 1), (26, 1), (30, 1), (31, 2), (34, 2), (36, 1), (51, 1), (54, 1), (64, 1), (65, 1), (80, 1), (81, 3), (83, 1), (85, 1), (88, 2), (95, 1), (99, 6), (106, 1), (129, 2), (133, 1), (134, 1), (137, 1), (145, 1), (146, 1), (147, 1), (148, 1), (149, 2), (150, 1), (151, 1), (152, 1), (153, 1), (154, 1), (155, 1), (156, 1), (157, 1), (158, 1), (159, 3), (160, 2), (161, 1), (162, 1), (163, 1), (164, 1), (165, 1), (166, 1), (167, 2), (168, 1), (169, 1), (170, 1), (171, 1), (172, 1)], [(18, 1), (24, 1), (28, 1), (30, 1), (45, 1), (53, 3), (56, 1), (58, 1), (66, 1), (69, 1), (81, 1), (87, 1), (88, 1), (99, 1), (108, 1), (109, 1), (110, 1), (135, 1), (150, 1), (159, 1), (175, 1), (176, 1), (187, 1), (218, 1), (219, 1), (228, 1), (229, 1), (250, 1), (257, 1), (262, 1), (264, 1), (265, 1), (266, 1), (270, 1), (328, 1), (341, 1), (342, 1), (437, 1), (457, 1), (477, 1), (603, 1), (717, 1), (850, 1), (1042, 1), (1064, 1), (1111, 1), (1112, 1), (1113, 1), (1114, 1), (1115, 1)], [(1, 1), (3, 1), (5, 1), (8, 2), (11, 2), (17, 1), (21, 1), (24, 1), (26, 1), (30, 1), (31, 2), (34, 2), (36, 1), (51, 1), (54, 1), (64, 1), (65, 1), (80, 1), (81, 3), (83, 1), (85, 1), (88, 2), (95, 1), (99, 6), (106, 1), (129, 2), (133, 1), (134, 1), (137, 1), (145, 1), (146, 1), (147, 1), (148, 1), (149, 2), (150, 1), (151, 1), (152, 1), (153, 1), (154, 1), (155, 1), (156, 1), (157, 1), (158, 1), (159, 3), (160, 2), (161, 1), (162, 1), (163, 1), (164, 1), (165, 1), (166, 1), (167, 2), (168, 1), (169, 1), (170, 1), (171, 1), (172, 1)], [(7, 1), (18, 1), (36, 1), (48, 1), (51, 1), (54, 1), (264, 1), (265, 1), (296, 1), (317, 1), (330, 1), (333, 1), (775, 1), (1116, 1), (1117, 1)], [(1, 1), (6, 1), (8, 1), (24, 1), (37, 1), (50, 1), (51, 1), (58, 1), (65, 3), (69, 1), (81, 1), (93, 2), (99, 1), (109, 1), (114, 1), (130, 1), (143, 1), (149, 1), (159, 1), (202, 1), (210, 1), (217, 1), (329, 1), (339, 1), (361, 1), (363, 1), (448, 1), (450, 1), (500, 2), (530, 2), (620, 1), (623, 1), (760, 1), (799, 1), (856, 1), (890, 1), (1118, 1), (1119, 1), (1120, 1), (1121, 1), (1122, 1), (1123, 1), (1124, 1), (1125, 2), (1126, 1), (1127, 1), (1128, 1), (1129, 1), (1130, 1)], [(16, 1), (31, 1), (37, 1), (45, 1), (51, 1), (64, 1), (80, 1), (82, 1), (88, 2), (102, 1), (108, 1), (159, 1), (161, 1), (167, 1), (215, 1), (218, 1), (296, 1), (338, 1), (453, 1), (454, 1), (495, 1), (511, 1), (530, 1), (594, 1), (646, 2), (684, 1), (964, 1), (1131, 1), (1132, 1), (1133, 1), (1134, 1)], [(1, 1), (3, 1), (5, 1), (8, 2), (11, 2), (17, 1), (21, 1), (24, 1), (26, 1), (30, 1), (31, 2), (34, 2), (36, 1), (51, 1), (54, 1), (64, 1), (65, 1), (80, 1), (81, 3), (83, 1), (85, 1), (88, 2), (95, 1), (99, 6), (106, 1), (129, 2), (133, 1), (134, 1), (137, 1), (145, 1), (146, 1), (147, 1), (148, 1), (149, 2), (150, 1), (151, 1), (152, 1), (153, 1), (154, 1), (155, 1), (156, 1), (157, 1), (158, 1), (159, 3), (160, 2), (161, 1), (162, 1), (163, 1), (164, 1), (165, 1), (166, 1), (167, 2), (168, 1), (169, 1), (170, 1), (171, 1), (172, 1)], [(2, 1), (8, 3), (11, 1), (26, 2), (30, 1), (35, 1), (36, 1), (41, 1), (45, 1), (52, 1), (53, 2), (56, 1), (58, 1), (64, 2), (65, 1), (80, 1), (81, 1), (82, 1), (85, 1), (88, 1), (89, 1), (93, 1), (96, 1), (99, 5), (101, 1), (102, 1), (106, 1), (114, 1), (145, 1), (149, 1), (156, 1), (157, 1), (159, 1), (161, 1), (169, 1), (183, 1), (185, 1), (197, 1), (208, 1), (219, 2), (230, 3), (242, 2), (243, 1), (248, 1), (250, 1), (261, 1), (274, 1), (275, 1), (280, 1), (282, 2), (283, 1), (336, 1), (339, 1), (509, 1), (514, 1), (525, 2), (544, 1), (576, 1), (596, 1), (597, 1), (632, 1), (674, 2), (739, 1), (783, 1), (846, 1), (918, 2), (954, 1), (1135, 1), (1136, 1), (1137, 1), (1138, 1), (1139, 1)], [(1, 1), (3, 1), (5, 1), (8, 2), (11, 2), (17, 1), (21, 1), (24, 1), (26, 1), (30, 1), (31, 2), (34, 2), (36, 1), (51, 1), (54, 1), (64, 1), (65, 1), (80, 1), (81, 3), (83, 1), (85, 1), (88, 2), (95, 1), (99, 6), (106, 1), (129, 2), (133, 1), (134, 1), (137, 1), (145, 1), (146, 1), (147, 1), (148, 1), (149, 2), (150, 1), (151, 1), (152, 1), (153, 1), (154, 1), (155, 1), (156, 1), (157, 1), (158, 1), (159, 3), (160, 2), (161, 1), (162, 1), (163, 1), (164, 1), (165, 1), (166, 1), (167, 2), (168, 1), (169, 1), (170, 1), (171, 1), (172, 1)], [(1, 1), (3, 1), (5, 1), (8, 2), (11, 2), (17, 1), (21, 1), (24, 1), (26, 1), (30, 1), (31, 2), (34, 2), (36, 1), (51, 1), (54, 1), (64, 1), (65, 1), (80, 1), (81, 3), (83, 1), (85, 1), (88, 2), (95, 1), (99, 6), (106, 1), (129, 2), (133, 1), (134, 1), (137, 1), (145, 1), (146, 1), (147, 1), (148, 1), (149, 2), (150, 1), (151, 1), (152, 1), (153, 1), (154, 1), (155, 1), (156, 1), (157, 1), (158, 1), (159, 3), (160, 2), (161, 1), (162, 1), (163, 1), (164, 1), (165, 1), (166, 1), (167, 2), (168, 1), (169, 1), (170, 1), (171, 1), (172, 1)], [(2, 1), (6, 1), (8, 2), (9, 1), (11, 1), (16, 1), (24, 1), (26, 3), (28, 1), (30, 1), (34, 1), (36, 1), (37, 2), (41, 1), (49, 1), (53, 7), (54, 1), (56, 1), (64, 1), (69, 1), (81, 1), (83, 1), (87, 1), (88, 1), (89, 1), (99, 2), (106, 1), (130, 1), (143, 1), (150, 1), (159, 1), (169, 2), (175, 1), (176, 1), (181, 1), (183, 1), (185, 1), (208, 1), (230, 1), (243, 1), (248, 1), (320, 1), (367, 1), (369, 1), (389, 1), (458, 1), (474, 1), (477, 1), (478, 1), (482, 3), (509, 1), (527, 1), (536, 1), (552, 1), (553, 1), (585, 1), (597, 1), (598, 1), (699, 1), (717, 1), (758, 1), (793, 1), (926, 1), (934, 1), (1080, 1), (1095, 1), (1136, 1), (1140, 1), (1141, 1), (1142, 1), (1143, 1), (1144, 1), (1145, 1), (1146, 1), (1147, 1), (1148, 1), (1149, 1)], [(1, 1), (3, 1), (5, 1), (8, 2), (11, 2), (17, 1), (21, 1), (24, 1), (26, 1), (30, 1), (31, 2), (34, 2), (36, 1), (51, 1), (54, 1), (64, 1), (65, 1), (80, 1), (81, 3), (83, 1), (85, 1), (88, 2), (95, 1), (99, 6), (106, 1), (129, 2), (133, 1), (134, 1), (137, 1), (145, 1), (146, 1), (147, 1), (148, 1), (149, 2), (150, 1), (151, 1), (152, 1), (153, 1), (154, 1), (155, 1), (156, 1), (157, 1), (158, 1), (159, 3), (160, 2), (161, 1), (162, 1), (163, 1), (164, 1), (165, 1), (166, 1), (167, 2), (168, 1), (169, 1), (170, 1), (171, 1), (172, 1)], [(0, 2), (1, 1), (2, 1), (3, 1), (8, 1), (9, 1), (13, 1), (26, 1), (30, 1), (32, 1), (36, 1), (51, 1), (56, 1), (58, 1), (114, 1), (117, 1), (130, 1), (142, 1), (159, 1), (167, 1), (199, 2), (200, 1), (201, 1), (223, 1), (225, 1), (226, 1), (241, 1), (257, 1), (264, 1), (267, 1), (286, 1), (295, 1), (341, 1), (342, 1), (349, 1), (389, 1), (401, 1), (479, 1), (495, 1), (498, 1), (576, 1), (587, 1), (590, 1), (612, 1), (629, 1), (715, 1), (939, 1), (962, 1), (1011, 1), (1088, 1), (1150, 1), (1151, 1), (1152, 1), (1153, 1), (1154, 1), (1155, 1), (1156, 1), (1157, 1)], [(1, 1), (3, 1), (8, 1), (24, 1), (31, 3), (37, 1), (39, 2), (40, 1), (51, 1), (53, 3), (54, 1), (58, 1), (65, 1), (80, 1), (81, 3), (85, 1), (88, 1), (93, 1), (95, 1), (99, 1), (106, 1), (117, 1), (120, 1), (138, 1), (142, 1), (159, 2), (164, 1), (167, 2), (175, 1), (176, 1), (183, 1), (194, 1), (208, 1), (209, 1), (216, 1), (219, 1), (261, 1), (264, 1), (273, 1), (275, 1), (283, 1), (284, 1), (286, 1), (295, 1), (350, 1), (389, 1), (402, 1), (477, 2), (483, 1), (487, 1), (509, 1), (525, 1), (530, 1), (536, 1), (552, 1), (616, 1), (648, 1), (684, 1), (766, 1), (775, 1), (776, 1), (777, 1), (880, 1), (1000, 1), (1001, 1), (1042, 1), (1085, 1), (1099, 1), (1114, 1), (1158, 1), (1159, 1), (1160, 1)], [(19, 1), (28, 1), (37, 1), (48, 1), (51, 1), (65, 1), (79, 1), (80, 1), (88, 1), (93, 1), (97, 1), (159, 2), (170, 1), (183, 2), (206, 1), (218, 1), (219, 1), (241, 1), (324, 1), (345, 1), (530, 1), (711, 1), (798, 1), (928, 1), (1091, 1), (1161, 1), (1162, 1), (1163, 1), (1164, 1)], [(46, 1), (54, 1), (81, 1), (95, 1), (164, 1), (187, 1), (216, 1), (723, 2), (822, 1), (1165, 1)], [(31, 1), (108, 1), (117, 1), (164, 1), (333, 1), (350, 1), (830, 1)], [(0, 1), (2, 1), (8, 1), (13, 1), (21, 1), (28, 1), (29, 1), (30, 1), (32, 1), (35, 1), (39, 1), (49, 1), (50, 1), (51, 1), (53, 3), (64, 1), (81, 1), (82, 1), (83, 1), (90, 1), (109, 1), (114, 1), (123, 1), (130, 1), (131, 1), (144, 1), (150, 1), (171, 1), (174, 1), (181, 1), (213, 1), (229, 1), (246, 1), (248, 1), (270, 1), (288, 1), (318, 1), (341, 1), (346, 1), (350, 1), (369, 1), (395, 1), (411, 1), (414, 1), (525, 2), (576, 1), (590, 1), (738, 1), (742, 1), (749, 1), (777, 1), (862, 1), (939, 1), (952, 1), (994, 1), (1002, 1), (1012, 1), (1099, 1), (1103, 1), (1113, 1), (1147, 1), (1166, 1), (1167, 1), (1168, 2), (1169, 1), (1170, 1), (1171, 1), (1172, 1), (1173, 1), (1174, 1), (1175, 1), (1176, 1), (1177, 1), (1178, 1)], [(2, 1), (9, 1), (26, 1), (30, 1), (36, 1), (56, 1), (65, 1), (88, 1), (99, 1), (108, 1), (114, 1), (149, 1), (167, 1), (183, 1), (291, 1), (328, 1), (333, 1), (369, 1), (741, 1), (830, 1)], [(8, 1), (17, 1), (18, 1), (21, 1), (24, 1), (28, 1), (29, 1), (34, 1), (36, 1), (37, 2), (48, 1), (51, 1), (65, 1), (71, 1), (74, 1), (81, 1), (85, 2), (88, 1), (95, 1), (99, 2), (108, 1), (114, 2), (117, 1), (125, 1), (133, 1), (134, 1), (159, 1), (167, 1), (201, 1), (216, 1), (225, 1), (228, 1), (261, 1), (264, 1), (270, 1), (322, 1), (326, 1), (349, 1), (366, 1), (372, 1), (407, 1), (491, 1), (493, 1), (507, 1), (525, 1), (536, 1), (596, 1), (612, 1), (614, 1), (616, 1), (684, 1), (745, 1), (749, 1), (796, 1), (800, 1), (839, 1), (840, 1), (843, 1), (1018, 1), (1024, 1), (1046, 1), (1128, 1), (1179, 1), (1180, 1)], [(1, 1), (3, 1), (5, 1), (8, 2), (11, 2), (17, 1), (21, 1), (24, 1), (26, 1), (30, 1), (31, 2), (34, 2), (36, 1), (51, 1), (54, 1), (64, 1), (65, 1), (80, 1), (81, 3), (83, 1), (85, 1), (88, 2), (95, 1), (99, 6), (106, 1), (129, 2), (133, 1), (134, 1), (137, 1), (145, 1), (146, 1), (147, 1), (148, 1), (149, 2), (150, 1), (151, 1), (152, 1), (153, 1), (154, 1), (155, 1), (156, 1), (157, 1), (158, 1), (159, 3), (160, 2), (161, 1), (162, 1), (163, 1), (164, 1), (165, 1), (166, 1), (167, 2), (168, 1), (169, 1), (170, 1), (171, 1), (172, 1)], [(1, 1), (3, 1), (5, 1), (8, 2), (11, 2), (17, 1), (21, 1), (24, 1), (26, 1), (30, 1), (31, 2), (34, 2), (36, 1), (51, 1), (54, 1), (64, 1), (65, 1), (80, 1), (81, 3), (83, 1), (85, 1), (88, 2), (95, 1), (99, 6), (106, 1), (129, 2), (133, 1), (134, 1), (137, 1), (145, 1), (146, 1), (147, 1), (148, 1), (149, 2), (150, 1), (151, 1), (152, 1), (153, 1), (154, 1), (155, 1), (156, 1), (157, 1), (158, 1), (159, 3), (160, 2), (161, 1), (162, 1), (163, 1), (164, 1), (165, 1), (166, 1), (167, 2), (168, 1), (169, 1), (170, 1), (171, 1), (172, 1)], [(1, 1), (3, 1), (5, 1), (8, 2), (11, 2), (17, 1), (21, 1), (24, 1), (26, 1), (30, 1), (31, 2), (34, 2), (36, 1), (51, 1), (54, 1), (64, 1), (65, 1), (80, 1), (81, 3), (83, 1), (85, 1), (88, 2), (95, 1), (99, 6), (106, 1), (129, 2), (133, 1), (134, 1), (137, 1), (145, 1), (146, 1), (147, 1), (148, 1), (149, 2), (150, 1), (151, 1), (152, 1), (153, 1), (154, 1), (155, 1), (156, 1), (157, 1), (158, 1), (159, 3), (160, 2), (161, 1), (162, 1), (163, 1), (164, 1), (165, 1), (166, 1), (167, 2), (168, 1), (169, 1), (170, 1), (171, 1), (172, 1)], [(5, 1), (8, 2), (13, 1), (17, 2), (24, 2), (26, 1), (30, 1), (31, 5), (34, 2), (36, 1), (39, 1), (54, 1), (55, 1), (62, 1), (65, 1), (72, 1), (81, 2), (88, 1), (91, 1), (98, 1), (99, 4), (107, 1), (109, 1), (110, 1), (131, 1), (135, 1), (142, 2), (145, 1), (149, 1), (159, 3), (161, 3), (167, 1), (189, 1), (200, 1), (220, 1), (235, 1), (246, 1), (260, 1), (270, 1), (274, 1), (286, 1), (289, 1), (291, 1), (295, 1), (341, 1), (342, 1), (357, 1), (369, 1), (401, 1), (405, 1), (438, 2), (485, 1), (495, 1), (502, 1), (537, 1), (553, 1), (604, 1), (647, 1), (693, 1), (706, 1), (717, 1), (740, 1), (858, 2), (888, 1), (1014, 1), (1155, 1), (1181, 2), (1182, 1), (1183, 1), (1184, 1), (1185, 1), (1186, 1), (1187, 1), (1188, 1), (1189, 1), (1190, 1), (1191, 1), (1192, 1), (1193, 1), (1194, 1), (1195, 1), (1196, 1)], [(2, 2), (11, 1), (17, 1), (18, 1), (26, 1), (30, 1), (34, 1), (36, 1), (52, 1), (53, 1), (54, 1), (81, 1), (88, 1), (99, 2), (106, 1), (109, 1), (123, 1), (129, 1), (149, 1), (161, 1), (176, 1), (184, 1), (241, 1), (283, 1), (327, 1), (328, 1), (329, 1), (412, 1), (425, 1), (458, 1), (613, 1), (716, 1), (794, 1), (852, 1), (1024, 1), (1112, 1), (1115, 1), (1197, 1), (1198, 1)], [(1, 1), (3, 1), (5, 1), (8, 2), (11, 2), (17, 1), (21, 1), (24, 1), (26, 1), (30, 1), (31, 2), (34, 2), (36, 1), (51, 1), (54, 1), (64, 1), (65, 1), (80, 1), (81, 3), (83, 1), (85, 1), (88, 2), (95, 1), (99, 6), (106, 1), (129, 2), (133, 1), (134, 1), (137, 1), (145, 1), (146, 1), (147, 1), (148, 1), (149, 2), (150, 1), (151, 1), (152, 1), (153, 1), (154, 1), (155, 1), (156, 1), (157, 1), (158, 1), (159, 3), (160, 2), (161, 1), (162, 1), (163, 1), (164, 1), (165, 1), (166, 1), (167, 2), (168, 1), (169, 1), (170, 1), (171, 1), (172, 1)], [(55, 1), (56, 1), (72, 1), (74, 1), (109, 1), (264, 1), (273, 1), (282, 1), (333, 1), (347, 1), (350, 1), (461, 1), (565, 1), (645, 1), (1112, 1), (1115, 1)], [(1, 1), (3, 1), (5, 1), (8, 2), (11, 2), (17, 1), (21, 1), (24, 1), (26, 1), (30, 1), (31, 2), (34, 2), (36, 1), (51, 1), (54, 1), (64, 1), (65, 1), (80, 1), (81, 3), (83, 1), (85, 1), (88, 2), (95, 1), (99, 6), (106, 1), (129, 2), (133, 1), (134, 1), (137, 1), (145, 1), (146, 1), (147, 1), (148, 1), (149, 2), (150, 1), (151, 1), (152, 1), (153, 1), (154, 1), (155, 1), (156, 1), (157, 1), (158, 1), (159, 3), (160, 2), (161, 1), (162, 1), (163, 1), (164, 1), (165, 1), (166, 1), (167, 2), (168, 1), (169, 1), (170, 1), (171, 1), (172, 1)], [(16, 1), (26, 1), (31, 2), (34, 1), (37, 1), (58, 1), (88, 1), (109, 1), (114, 1), (184, 1), (185, 1), (187, 1), (199, 1), (201, 1), (228, 1), (235, 1), (266, 1), (302, 1), (304, 1), (367, 1), (494, 1), (583, 1), (1095, 1), (1199, 1), (1200, 1), (1201, 1), (1202, 1)], [(2, 1), (9, 1), (26, 1), (31, 2), (56, 1), (64, 1), (80, 1), (88, 1), (130, 1), (145, 1), (185, 1), (199, 2), (201, 1), (203, 1), (205, 1), (237, 1), (310, 1), (367, 1), (679, 1), (1019, 1), (1203, 1), (1204, 1)], [(8, 1), (11, 1), (16, 1), (35, 1), (39, 1), (41, 1), (53, 2), (54, 1), (57, 1), (64, 1), (80, 1), (81, 2), (88, 1), (95, 2), (97, 1), (99, 2), (106, 2), (114, 1), (130, 1), (145, 2), (149, 1), (159, 1), (161, 1), (167, 1), (169, 1), (175, 1), (176, 1), (215, 1), (216, 2), (242, 1), (261, 1), (316, 1), (760, 1), (791, 1), (1088, 2), (1205, 1), (1206, 2)], [(2, 1), (17, 1), (18, 1), (19, 1), (28, 1), (29, 1), (30, 1), (31, 3), (34, 1), (36, 2), (40, 1), (48, 1), (53, 1), (58, 1), (61, 1), (64, 1), (70, 1), (81, 1), (88, 1), (95, 1), (97, 1), (99, 2), (114, 1), (125, 1), (130, 1), (137, 1), (159, 3), (164, 1), (167, 1), (183, 1), (209, 1), (219, 1), (257, 1), (262, 1), (281, 1), (284, 1), (286, 1), (295, 1), (319, 1), (327, 1), (328, 1), (457, 1), (466, 1), (495, 1), (520, 1), (525, 1), (684, 1), (773, 1), (795, 1), (798, 1), (984, 1), (998, 1), (1102, 1), (1207, 1), (1208, 1), (1209, 1)], [(1, 1), (3, 1), (5, 1), (8, 2), (11, 2), (17, 1), (21, 1), (24, 1), (26, 1), (30, 1), (31, 2), (34, 2), (36, 1), (51, 1), (54, 1), (64, 1), (65, 1), (80, 1), (81, 3), (83, 1), (85, 1), (88, 2), (95, 1), (99, 6), (106, 1), (129, 2), (133, 1), (134, 1), (137, 1), (145, 1), (146, 1), (147, 1), (148, 1), (149, 2), (150, 1), (151, 1), (152, 1), (153, 1), (154, 1), (155, 1), (156, 1), (157, 1), (158, 1), (159, 3), (160, 2), (161, 1), (162, 1), (163, 1), (164, 1), (165, 1), (166, 1), (167, 2), (168, 1), (169, 1), (170, 1), (171, 1), (172, 1)], [(65, 1), (109, 1), (114, 1), (187, 1), (335, 1), (491, 1), (493, 1), (684, 1), (1210, 1), (1211, 1)], [(1, 1), (2, 1), (8, 1), (26, 1), (34, 1), (37, 1), (45, 1), (53, 1), (87, 1), (88, 1), (99, 1), (109, 1), (176, 1), (183, 1), (218, 1), (270, 1), (350, 1), (401, 1), (457, 1), (787, 1)], [(0, 2), (2, 2), (5, 1), (8, 1), (16, 2), (19, 1), (24, 3), (26, 1), (31, 2), (32, 1), (34, 1), (37, 3), (45, 1), (48, 1), (55, 1), (58, 1), (65, 1), (66, 1), (81, 1), (82, 1), (83, 2), (88, 2), (93, 1), (99, 3), (108, 1), (109, 1), (114, 2), (117, 1), (131, 1), (149, 1), (160, 1), (165, 1), (172, 1), (183, 1), (187, 1), (200, 1), (203, 2), (209, 1), (241, 1), (256, 1), (279, 1), (284, 1), (309, 1), (322, 1), (326, 1), (327, 1), (328, 1), (329, 1), (347, 1), (349, 1), (366, 1), (448, 1), (453, 2), (454, 2), (482, 1), (495, 1), (527, 1), (530, 1), (590, 1), (619, 1), (635, 1), (782, 1), (862, 1), (890, 1), (923, 1), (930, 1), (993, 1), (1091, 1), (1212, 1), (1213, 1)], [(8, 1), (16, 1), (17, 1), (18, 1), (24, 1), (26, 1), (28, 1), (39, 1), (40, 1), (51, 1), (53, 3), (58, 2), (65, 1), (72, 1), (79, 1), (81, 1), (85, 1), (93, 1), (99, 1), (108, 1), (109, 1), (110, 1), (117, 1), (150, 3), (159, 1), (167, 1), (169, 2), (173, 1), (174, 1), (185, 1), (257, 1), (262, 1), (266, 2), (326, 1), (329, 1), (338, 1), (414, 1), (453, 1), (457, 1), (525, 1), (530, 1), (768, 1), (932, 1), (986, 3), (1000, 1), (1198, 1), (1214, 1), (1215, 1), (1216, 1)], [(1, 1), (3, 1), (5, 1), (8, 2), (11, 2), (17, 1), (21, 1), (24, 1), (26, 1), (30, 1), (31, 2), (34, 2), (36, 1), (51, 1), (54, 1), (64, 1), (65, 1), (80, 1), (81, 3), (83, 1), (85, 1), (88, 2), (95, 1), (99, 6), (106, 1), (129, 2), (133, 1), (134, 1), (137, 1), (145, 1), (146, 1), (147, 1), (148, 1), (149, 2), (150, 1), (151, 1), (152, 1), (153, 1), (154, 1), (155, 1), (156, 1), (157, 1), (158, 1), (159, 3), (160, 2), (161, 1), (162, 1), (163, 1), (164, 1), (165, 1), (166, 1), (167, 2), (168, 1), (169, 1), (170, 1), (171, 1), (172, 1)], [(1, 1), (3, 1), (5, 1), (8, 2), (11, 2), (17, 1), (21, 1), (24, 1), (26, 1), (30, 1), (31, 2), (34, 2), (36, 1), (51, 1), (54, 1), (64, 1), (65, 1), (80, 1), (81, 3), (83, 1), (85, 1), (88, 2), (95, 1), (99, 6), (106, 1), (129, 2), (133, 1), (134, 1), (137, 1), (145, 1), (146, 1), (147, 1), (148, 1), (149, 2), (150, 1), (151, 1), (152, 1), (153, 1), (154, 1), (155, 1), (156, 1), (157, 1), (158, 1), (159, 3), (160, 2), (161, 1), (162, 1), (163, 1), (164, 1), (165, 1), (166, 1), (167, 2), (168, 1), (169, 1), (170, 1), (171, 1), (172, 1)], [(8, 1), (17, 1), (18, 1), (24, 1), (31, 1), (39, 1), (45, 1), (48, 1), (61, 1), (64, 1), (70, 1), (81, 3), (82, 1), (83, 1), (85, 1), (88, 1), (91, 1), (95, 1), (97, 1), (99, 3), (102, 1), (110, 1), (114, 1), (133, 1), (134, 1), (159, 1), (164, 1), (197, 1), (203, 1), (206, 1), (208, 1), (219, 1), (223, 1), (229, 2), (241, 1), (243, 1), (248, 1), (264, 1), (306, 1), (317, 1), (324, 1), (328, 1), (330, 1), (375, 1), (397, 1), (402, 1), (441, 1), (457, 2), (461, 1), (474, 1), (509, 2), (514, 1), (519, 1), (579, 1), (580, 1), (588, 1), (592, 1), (593, 1), (596, 1), (657, 1), (742, 1), (749, 1), (949, 1), (1001, 1), (1079, 1), (1104, 2), (1111, 1), (1217, 1), (1218, 1), (1219, 1), (1220, 1), (1221, 1), (1222, 1), (1223, 1), (1224, 1), (1225, 1)], [(2, 1), (8, 2), (18, 1), (26, 1), (36, 1), (51, 1), (53, 2), (69, 1), (72, 1), (83, 1), (85, 1), (88, 1), (89, 2), (99, 1), (107, 1), (108, 1), (109, 1), (117, 1), (159, 1), (164, 1), (166, 1), (169, 1), (183, 1), (185, 1), (225, 1), (229, 1), (241, 1), (257, 1), (258, 1), (262, 1), (264, 1), (265, 1), (302, 1), (329, 1), (336, 1), (350, 1), (375, 1), (392, 1), (414, 1), (421, 1), (457, 1), (508, 1), (511, 1), (525, 1), (556, 1), (585, 1), (587, 1), (603, 1), (657, 1), (659, 1), (715, 1), (801, 1), (802, 1), (1064, 1), (1079, 1), (1104, 1), (1214, 2), (1226, 1), (1227, 1), (1228, 1), (1229, 1), (1230, 1), (1231, 1)], [(1, 1), (11, 1), (17, 1), (18, 1), (24, 1), (26, 1), (28, 1), (31, 1), (36, 1), (37, 1), (39, 1), (48, 1), (51, 1), (52, 1), (65, 1), (69, 2), (81, 2), (83, 1), (88, 3), (95, 1), (99, 5), (108, 1), (137, 1), (143, 2), (149, 1), (157, 1), (159, 1), (203, 1), (211, 1), (213, 1), (216, 1), (218, 1), (219, 2), (225, 1), (226, 1), (241, 1), (257, 1), (261, 1), (266, 1), (275, 1), (305, 1), (311, 1), (315, 1), (318, 1), (329, 1), (397, 1), (399, 1), (414, 1), (421, 1), (510, 1), (519, 1), (535, 1), (552, 1), (565, 1), (585, 1), (645, 1), (795, 1), (930, 1), (1232, 1), (1233, 1), (1234, 1), (1235, 1), (1236, 1), (1237, 1)], [(1, 1), (3, 1), (5, 1), (8, 2), (11, 2), (17, 1), (21, 1), (24, 1), (26, 1), (30, 1), (31, 2), (34, 2), (36, 1), (51, 1), (54, 1), (64, 1), (65, 1), (80, 1), (81, 3), (83, 1), (85, 1), (88, 2), (95, 1), (99, 6), (106, 1), (129, 2), (133, 1), (134, 1), (137, 1), (145, 1), (146, 1), (147, 1), (148, 1), (149, 2), (150, 1), (151, 1), (152, 1), (153, 1), (154, 1), (155, 1), (156, 1), (157, 1), (158, 1), (159, 3), (160, 2), (161, 1), (162, 1), (163, 1), (164, 1), (165, 1), (166, 1), (167, 2), (168, 1), (169, 1), (170, 1), (171, 1), (172, 1)], [(16, 1), (31, 1), (34, 1), (35, 1), (37, 1), (49, 1), (64, 1), (80, 1), (99, 1), (117, 1), (125, 2), (130, 1), (142, 1), (157, 1), (164, 1), (169, 1), (185, 1), (242, 1), (261, 1), (264, 1), (344, 1), (350, 1), (516, 1), (616, 1), (698, 1), (1068, 1)], [(0, 1), (1, 2), (2, 2), (3, 2), (8, 1), (17, 1), (28, 1), (31, 1), (35, 1), (36, 1), (64, 2), (74, 1), (81, 4), (88, 1), (91, 1), (99, 1), (138, 1), (150, 1), (169, 1), (184, 1), (185, 1), (186, 1), (196, 2), (202, 1), (229, 1), (230, 2), (239, 1), (241, 1), (296, 1), (302, 1), (333, 1), (437, 1), (441, 1), (496, 1), (671, 1), (830, 1), (1046, 1), (1115, 1), (1238, 1), (1239, 1), (1240, 1), (1241, 1), (1242, 1), (1243, 1), (1244, 1), (1245, 1), (1246, 1), (1247, 1), (1248, 1), (1249, 1), (1250, 1)], [(1, 1), (3, 1), (5, 1), (8, 2), (11, 2), (17, 1), (21, 1), (24, 1), (26, 1), (30, 1), (31, 2), (34, 2), (36, 1), (51, 1), (54, 1), (64, 1), (65, 1), (80, 1), (81, 3), (83, 1), (85, 1), (88, 2), (95, 1), (99, 6), (106, 1), (129, 2), (133, 1), (134, 1), (137, 1), (145, 1), (146, 1), (147, 1), (148, 1), (149, 2), (150, 1), (151, 1), (152, 1), (153, 1), (154, 1), (155, 1), (156, 1), (157, 1), (158, 1), (159, 3), (160, 2), (161, 1), (162, 1), (163, 1), (164, 1), (165, 1), (166, 1), (167, 2), (168, 1), (169, 1), (170, 1), (171, 1), (172, 1)], [(31, 1), (37, 1), (45, 1), (51, 1), (85, 1), (88, 1), (97, 1), (114, 1), (127, 1), (133, 1), (134, 1), (153, 1), (196, 1), (218, 1), (261, 1), (296, 1), (300, 1), (307, 1), (321, 1), (338, 1), (349, 1), (441, 1), (517, 1), (565, 1), (578, 1), (618, 1), (627, 1), (645, 1), (1251, 1)], [(1, 1), (3, 1), (5, 1), (8, 2), (11, 2), (17, 1), (21, 1), (24, 1), (26, 1), (30, 1), (31, 2), (34, 2), (36, 1), (51, 1), (54, 1), (64, 1), (65, 1), (80, 1), (81, 3), (83, 1), (85, 1), (88, 2), (95, 1), (99, 6), (106, 1), (129, 2), (133, 1), (134, 1), (137, 1), (145, 1), (146, 1), (147, 1), (148, 1), (149, 2), (150, 1), (151, 1), (152, 1), (153, 1), (154, 1), (155, 1), (156, 1), (157, 1), (158, 1), (159, 3), (160, 2), (161, 1), (162, 1), (163, 1), (164, 1), (165, 1), (166, 1), (167, 2), (168, 1), (169, 1), (170, 1), (171, 1), (172, 1)], [(552, 1)], [(1, 2), (18, 1), (19, 1), (28, 1), (34, 1), (35, 1), (37, 2), (45, 1), (48, 1), (49, 1), (51, 1), (65, 1), (81, 1), (85, 1), (88, 1), (108, 1), (109, 1), (135, 1), (167, 1), (169, 1), (204, 1), (208, 1), (210, 1), (215, 1), (217, 1), (239, 1), (258, 2), (323, 1), (363, 1), (375, 1), (457, 1), (477, 2), (494, 1), (689, 1), (692, 1), (693, 1), (717, 1), (1088, 1), (1252, 4)], [(2, 1), (48, 1), (68, 1), (69, 1), (85, 1), (88, 1), (108, 1), (109, 1), (117, 1), (149, 1), (161, 1), (208, 1), (219, 1), (230, 1), (322, 1), (326, 1), (328, 1), (401, 1), (482, 1), (509, 1), (585, 1), (761, 1), (857, 1), (1253, 1), (1254, 1)], [(8, 2), (11, 1), (16, 1), (31, 2), (37, 1), (54, 1), (67, 1), (69, 1), (79, 1), (80, 1), (88, 1), (93, 1), (109, 1), (114, 1), (133, 1), (143, 1), (145, 1), (149, 1), (153, 1), (159, 2), (161, 2), (183, 1), (211, 1), (213, 1), (216, 1), (219, 1), (230, 1), (242, 1), (243, 1), (245, 1), (246, 1), (248, 1), (302, 1), (308, 1), (323, 1), (345, 1), (402, 1), (442, 1), (482, 1), (488, 1), (527, 1), (530, 2), (576, 1), (584, 1), (594, 1), (621, 1), (627, 1), (674, 1), (930, 1), (1057, 1), (1255, 1), (1256, 1), (1257, 1), (1258, 1), (1259, 1), (1260, 1)], [(1, 1), (3, 1), (5, 1), (8, 2), (11, 2), (17, 1), (21, 1), (24, 1), (26, 1), (30, 1), (31, 2), (34, 2), (36, 1), (51, 1), (54, 1), (64, 1), (65, 1), (80, 1), (81, 3), (83, 1), (85, 1), (88, 2), (95, 1), (99, 6), (106, 1), (129, 2), (133, 1), (134, 1), (137, 1), (145, 1), (146, 1), (147, 1), (148, 1), (149, 2), (150, 1), (151, 1), (152, 1), (153, 1), (154, 1), (155, 1), (156, 1), (157, 1), (158, 1), (159, 3), (160, 2), (161, 1), (162, 1), (163, 1), (164, 1), (165, 1), (166, 1), (167, 2), (168, 1), (169, 1), (170, 1), (171, 1), (172, 1)], [(109, 1), (196, 1), (575, 1), (671, 1)], [(18, 1), (40, 1), (51, 1), (55, 1), (286, 1), (300, 1), (307, 1), (350, 1), (410, 1), (495, 1), (1261, 1)], [(241, 1), (305, 1), (1262, 1), (1263, 1), (1264, 1), (1265, 1)], [(1, 1), (3, 1), (5, 1), (8, 2), (11, 2), (17, 1), (21, 1), (24, 1), (26, 1), (30, 1), (31, 2), (34, 2), (36, 1), (51, 1), (54, 1), (64, 1), (65, 1), (80, 1), (81, 3), (83, 1), (85, 1), (88, 2), (95, 1), (99, 6), (106, 1), (129, 2), (133, 1), (134, 1), (137, 1), (145, 1), (146, 1), (147, 1), (148, 1), (149, 2), (150, 1), (151, 1), (152, 1), (153, 1), (154, 1), (155, 1), (156, 1), (157, 1), (158, 1), (159, 3), (160, 2), (161, 1), (162, 1), (163, 1), (164, 1), (165, 1), (166, 1), (167, 2), (168, 1), (169, 1), (170, 1), (171, 1), (172, 1)], [(2, 1), (3, 1), (24, 1), (35, 1), (40, 1), (51, 1), (58, 1), (61, 1), (64, 1), (70, 1), (74, 1), (80, 1), (81, 1), (85, 1), (88, 1), (99, 2), (108, 2), (109, 1), (114, 1), (127, 1), (137, 1), (138, 1), (149, 1), (150, 1), (159, 1), (169, 1), (183, 2), (196, 1), (197, 1), (203, 1), (218, 1), (296, 1), (350, 1), (414, 1), (490, 1), (550, 1), (598, 1), (833, 1), (862, 1), (1000, 1), (1080, 1), (1081, 1), (1266, 1), (1267, 1), (1268, 1)], [(16, 1), (30, 1), (37, 1), (61, 1), (64, 1), (69, 1), (70, 1), (80, 1), (88, 1), (90, 1), (114, 1), (124, 1), (274, 1), (373, 1), (441, 1), (490, 1), (837, 1), (1269, 1), (1270, 1)], [(0, 1), (17, 1), (24, 1), (26, 1), (28, 1), (30, 1), (31, 4), (32, 1), (34, 2), (36, 1), (37, 1), (46, 1), (54, 1), (58, 1), (61, 1), (64, 1), (65, 1), (66, 1), (70, 1), (76, 1), (77, 1), (80, 1), (85, 1), (88, 1), (93, 1), (98, 1), (99, 3), (109, 1), (117, 1), (119, 1), (125, 1), (141, 2), (157, 1), (159, 1), (183, 1), (199, 1), (208, 1), (215, 2), (216, 1), (219, 1), (229, 1), (248, 1), (251, 1), (270, 1), (274, 2), (327, 1), (344, 1), (361, 1), (369, 1), (389, 1), (395, 1), (448, 1), (471, 1), (475, 4), (490, 1), (528, 1), (552, 1), (577, 1), (603, 1), (612, 1), (617, 1), (698, 1), (773, 1), (855, 1), (860, 1), (862, 1), (893, 1), (1011, 1), (1024, 1), (1104, 1), (1142, 1), (1271, 1), (1272, 1), (1273, 1), (1274, 1), (1275, 1), (1276, 1), (1277, 1), (1278, 1), (1279, 1), (1280, 1), (1281, 1), (1282, 1), (1283, 1), (1284, 1)], [(2, 1), (3, 1), (11, 1), (18, 1), (26, 1), (31, 1), (34, 1), (37, 7), (45, 1), (50, 1), (51, 1), (54, 1), (64, 1), (66, 1), (74, 1), (88, 1), (99, 1), (114, 1), (121, 1), (137, 1), (145, 1), (159, 4), (161, 1), (167, 1), (169, 1), (183, 2), (199, 5), (201, 1), (228, 1), (235, 1), (239, 1), (272, 1), (302, 1), (315, 1), (323, 1), (336, 1), (345, 1), (370, 1), (419, 1), (457, 1), (475, 1), (477, 1), (490, 1), (508, 1), (576, 1), (613, 1), (629, 1), (632, 1), (635, 1), (760, 1), (794, 1), (846, 1), (1037, 4), (1080, 1), (1285, 1), (1286, 1), (1287, 1), (1288, 1)], [(2, 2), (8, 1), (30, 1), (34, 2), (51, 1), (61, 1), (70, 1), (84, 1), (99, 1), (108, 1), (145, 2), (161, 1), (185, 1), (203, 1), (230, 1), (246, 1), (369, 1), (490, 1), (496, 1), (550, 1), (557, 1), (1289, 1), (1290, 1)], [(2, 1), (8, 1), (17, 1), (19, 1), (28, 1), (30, 1), (35, 1), (36, 1), (37, 1), (65, 1), (79, 1), (81, 2), (87, 1), (88, 1), (93, 1), (95, 1), (98, 1), (99, 3), (103, 1), (108, 1), (110, 1), (111, 1), (114, 1), (125, 2), (130, 1), (142, 1), (149, 1), (157, 1), (159, 2), (164, 1), (165, 1), (167, 3), (174, 1), (176, 1), (177, 2), (199, 1), (209, 1), (216, 1), (223, 1), (228, 1), (264, 1), (270, 1), (284, 1), (327, 1), (333, 1), (369, 1), (389, 1), (397, 1), (411, 1), (435, 1), (461, 1), (535, 1), (539, 1), (705, 1), (717, 1), (734, 1), (759, 1), (1165, 1), (1280, 1), (1291, 1)], [(1, 1), (3, 1), (5, 1), (8, 2), (11, 2), (17, 1), (21, 1), (24, 1), (26, 1), (30, 1), (31, 2), (34, 2), (36, 1), (51, 1), (54, 1), (64, 1), (65, 1), (80, 1), (81, 3), (83, 1), (85, 1), (88, 2), (95, 1), (99, 6), (106, 1), (129, 2), (133, 1), (134, 1), (137, 1), (145, 1), (146, 1), (147, 1), (148, 1), (149, 2), (150, 1), (151, 1), (152, 1), (153, 1), (154, 1), (155, 1), (156, 1), (157, 1), (158, 1), (159, 3), (160, 2), (161, 1), (162, 1), (163, 1), (164, 1), (165, 1), (166, 1), (167, 2), (168, 1), (169, 1), (170, 1), (171, 1), (172, 1)], [(272, 1), (367, 1), (909, 1), (1123, 1), (1263, 1), (1265, 1), (1292, 1), (1293, 1)], [(25, 1), (33, 1), (53, 1), (64, 1), (82, 1), (84, 1), (133, 1), (134, 1), (189, 1), (229, 1), (305, 1), (333, 1), (587, 1), (620, 1), (655, 1), (694, 1), (742, 1), (771, 1), (1081, 1), (1294, 1), (1295, 1), (1296, 1), (1297, 1)], [(1, 1), (3, 1), (5, 1), (8, 2), (11, 2), (17, 1), (21, 1), (24, 1), (26, 1), (30, 1), (31, 2), (34, 2), (36, 1), (51, 1), (54, 1), (64, 1), (65, 1), (80, 1), (81, 3), (83, 1), (85, 1), (88, 2), (95, 1), (99, 6), (106, 1), (129, 2), (133, 1), (134, 1), (137, 1), (145, 1), (146, 1), (147, 1), (148, 1), (149, 2), (150, 1), (151, 1), (152, 1), (153, 1), (154, 1), (155, 1), (156, 1), (157, 1), (158, 1), (159, 3), (160, 2), (161, 1), (162, 1), (163, 1), (164, 1), (165, 1), (166, 1), (167, 2), (168, 1), (169, 1), (170, 1), (171, 1), (172, 1)], [(1, 1), (3, 1), (5, 1), (8, 2), (11, 2), (17, 1), (21, 1), (24, 1), (26, 1), (30, 1), (31, 2), (34, 2), (36, 1), (51, 1), (54, 1), (64, 1), (65, 1), (80, 1), (81, 3), (83, 1), (85, 1), (88, 2), (95, 1), (99, 6), (106, 1), (129, 2), (133, 1), (134, 1), (137, 1), (145, 1), (146, 1), (147, 1), (148, 1), (149, 2), (150, 1), (151, 1), (152, 1), (153, 1), (154, 1), (155, 1), (156, 1), (157, 1), (158, 1), (159, 3), (160, 2), (161, 1), (162, 1), (163, 1), (164, 1), (165, 1), (166, 1), (167, 2), (168, 1), (169, 1), (170, 1), (171, 1), (172, 1)], [(1, 1), (2, 1), (17, 1), (19, 1), (24, 2), (26, 1), (28, 1), (30, 1), (37, 2), (61, 1), (70, 1), (81, 1), (82, 1), (83, 1), (88, 1), (93, 1), (99, 3), (114, 1), (137, 1), (167, 1), (185, 1), (333, 1), (369, 1), (482, 1), (610, 1), (830, 1), (1298, 1)], [(1, 1), (3, 1), (5, 1), (8, 2), (11, 2), (17, 1), (21, 1), (24, 1), (26, 1), (30, 1), (31, 2), (34, 2), (36, 1), (51, 1), (54, 1), (64, 1), (65, 1), (80, 1), (81, 3), (83, 1), (85, 1), (88, 2), (95, 1), (99, 6), (106, 1), (129, 2), (133, 1), (134, 1), (137, 1), (145, 1), (146, 1), (147, 1), (148, 1), (149, 2), (150, 1), (151, 1), (152, 1), (153, 1), (154, 1), (155, 1), (156, 1), (157, 1), (158, 1), (159, 3), (160, 2), (161, 1), (162, 1), (163, 1), (164, 1), (165, 1), (166, 1), (167, 2), (168, 1), (169, 1), (170, 1), (171, 1), (172, 1)], [(11, 1), (24, 1), (31, 1), (48, 1), (49, 1), (61, 1), (70, 1), (88, 1), (99, 1), (108, 1), (137, 1), (142, 1), (145, 1), (159, 2), (316, 1), (319, 1), (328, 1), (333, 1), (799, 1), (800, 1), (830, 1), (1299, 1)], [(91, 1), (479, 1), (1009, 1)], [(1, 1), (3, 1), (5, 1), (8, 2), (11, 2), (17, 1), (21, 1), (24, 1), (26, 1), (30, 1), (31, 2), (34, 2), (36, 1), (51, 1), (54, 1), (64, 1), (65, 1), (80, 1), (81, 3), (83, 1), (85, 1), (88, 2), (95, 1), (99, 6), (106, 1), (129, 2), (133, 1), (134, 1), (137, 1), (145, 1), (146, 1), (147, 1), (148, 1), (149, 2), (150, 1), (151, 1), (152, 1), (153, 1), (154, 1), (155, 1), (156, 1), (157, 1), (158, 1), (159, 3), (160, 2), (161, 1), (162, 1), (163, 1), (164, 1), (165, 1), (166, 1), (167, 2), (168, 1), (169, 1), (170, 1), (171, 1), (172, 1)], [(1, 1), (3, 1), (5, 1), (8, 2), (11, 2), (17, 1), (21, 1), (24, 1), (26, 1), (30, 1), (31, 2), (34, 2), (36, 1), (51, 1), (54, 1), (64, 1), (65, 1), (80, 1), (81, 3), (83, 1), (85, 1), (88, 2), (95, 1), (99, 6), (106, 1), (129, 2), (133, 1), (134, 1), (137, 1), (145, 1), (146, 1), (147, 1), (148, 1), (149, 2), (150, 1), (151, 1), (152, 1), (153, 1), (154, 1), (155, 1), (156, 1), (157, 1), (158, 1), (159, 3), (160, 2), (161, 1), (162, 1), (163, 1), (164, 1), (165, 1), (166, 1), (167, 2), (168, 1), (169, 1), (170, 1), (171, 1), (172, 1)], [(1, 1), (3, 1), (5, 1), (8, 2), (11, 2), (17, 1), (21, 1), (24, 1), (26, 1), (30, 1), (31, 2), (34, 2), (36, 1), (51, 1), (54, 1), (64, 1), (65, 1), (80, 1), (81, 3), (83, 1), (85, 1), (88, 2), (95, 1), (99, 6), (106, 1), (129, 2), (133, 1), (134, 1), (137, 1), (145, 1), (146, 1), (147, 1), (148, 1), (149, 2), (150, 1), (151, 1), (152, 1), (153, 1), (154, 1), (155, 1), (156, 1), (157, 1), (158, 1), (159, 3), (160, 2), (161, 1), (162, 1), (163, 1), (164, 1), (165, 1), (166, 1), (167, 2), (168, 1), (169, 1), (170, 1), (171, 1), (172, 1)], [(1, 1), (3, 1), (5, 1), (8, 2), (11, 2), (17, 1), (21, 1), (24, 1), (26, 1), (30, 1), (31, 2), (34, 2), (36, 1), (51, 1), (54, 1), (64, 1), (65, 1), (80, 1), (81, 3), (83, 1), (85, 1), (88, 2), (95, 1), (99, 6), (106, 1), (129, 2), (133, 1), (134, 1), (137, 1), (145, 1), (146, 1), (147, 1), (148, 1), (149, 2), (150, 1), (151, 1), (152, 1), (153, 1), (154, 1), (155, 1), (156, 1), (157, 1), (158, 1), (159, 3), (160, 2), (161, 1), (162, 1), (163, 1), (164, 1), (165, 1), (166, 1), (167, 2), (168, 1), (169, 1), (170, 1), (171, 1), (172, 1)], [(1, 1), (3, 1), (5, 1), (8, 2), (11, 2), (17, 1), (21, 1), (24, 1), (26, 1), (30, 1), (31, 2), (34, 2), (36, 1), (51, 1), (54, 1), (64, 1), (65, 1), (80, 1), (81, 3), (83, 1), (85, 1), (88, 2), (95, 1), (99, 6), (106, 1), (129, 2), (133, 1), (134, 1), (137, 1), (145, 1), (146, 1), (147, 1), (148, 1), (149, 2), (150, 1), (151, 1), (152, 1), (153, 1), (154, 1), (155, 1), (156, 1), (157, 1), (158, 1), (159, 3), (160, 2), (161, 1), (162, 1), (163, 1), (164, 1), (165, 1), (166, 1), (167, 2), (168, 1), (169, 1), (170, 1), (171, 1), (172, 1)], [(18, 1), (30, 1), (31, 1), (34, 1), (39, 1), (45, 1), (52, 1), (56, 1), (57, 1), (62, 1), (65, 1), (93, 1), (99, 2), (106, 1), (108, 1), (122, 1), (130, 1), (142, 1), (145, 1), (149, 1), (167, 1), (200, 1), (215, 1), (218, 1), (225, 1), (226, 1), (241, 1), (264, 1), (275, 1), (283, 1), (285, 1), (319, 1), (323, 1), (326, 1), (328, 1), (350, 2), (369, 1), (407, 1), (410, 1), (448, 1), (458, 1), (475, 1), (491, 1), (493, 1), (507, 1), (552, 1), (639, 1), (699, 2), (758, 1), (1146, 1), (1203, 1), (1300, 1), (1301, 1), (1302, 1), (1303, 1), (1304, 1), (1305, 1), (1306, 1)], [(1, 1), (3, 1), (5, 1), (8, 2), (11, 2), (17, 1), (21, 1), (24, 1), (26, 1), (30, 1), (31, 2), (34, 2), (36, 1), (51, 1), (54, 1), (64, 1), (65, 1), (80, 1), (81, 3), (83, 1), (85, 1), (88, 2), (95, 1), (99, 6), (106, 1), (129, 2), (133, 1), (134, 1), (137, 1), (145, 1), (146, 1), (147, 1), (148, 1), (149, 2), (150, 1), (151, 1), (152, 1), (153, 1), (154, 1), (155, 1), (156, 1), (157, 1), (158, 1), (159, 3), (160, 2), (161, 1), (162, 1), (163, 1), (164, 1), (165, 1), (166, 1), (167, 2), (168, 1), (169, 1), (170, 1), (171, 1), (172, 1)], [(1, 1), (3, 1), (5, 1), (8, 2), (11, 2), (17, 1), (21, 1), (24, 1), (26, 1), (30, 1), (31, 2), (34, 2), (36, 1), (51, 1), (54, 1), (64, 1), (65, 1), (80, 1), (81, 3), (83, 1), (85, 1), (88, 2), (95, 1), (99, 6), (106, 1), (129, 2), (133, 1), (134, 1), (137, 1), (145, 1), (146, 1), (147, 1), (148, 1), (149, 2), (150, 1), (151, 1), (152, 1), (153, 1), (154, 1), (155, 1), (156, 1), (157, 1), (158, 1), (159, 3), (160, 2), (161, 1), (162, 1), (163, 1), (164, 1), (165, 1), (166, 1), (167, 2), (168, 1), (169, 1), (170, 1), (171, 1), (172, 1)], [(2, 2), (8, 1), (9, 1), (26, 2), (31, 1), (34, 1), (36, 1), (50, 1), (51, 1), (54, 1), (56, 1), (68, 1), (69, 3), (81, 1), (88, 2), (91, 1), (99, 1), (109, 1), (128, 1), (131, 1), (142, 1), (149, 1), (159, 2), (181, 1), (185, 1), (199, 1), (200, 1), (226, 1), (241, 1), (280, 1), (302, 1), (306, 1), (315, 1), (321, 1), (327, 1), (329, 1), (336, 1), (374, 1), (401, 1), (402, 1), (475, 1), (488, 1), (508, 1), (525, 1), (552, 1), (557, 1), (613, 1), (623, 2), (658, 1), (690, 1), (723, 1), (940, 1), (958, 1), (1037, 1), (1046, 1), (1307, 1), (1308, 1), (1309, 1), (1310, 2), (1311, 1), (1312, 3), (1313, 1), (1314, 1), (1315, 1), (1316, 1), (1317, 1), (1318, 1), (1319, 1)], [(0, 1), (2, 1), (6, 1), (7, 1), (8, 2), (9, 1), (11, 1), (16, 1), (24, 1), (26, 1), (32, 1), (54, 1), (56, 1), (62, 1), (83, 1), (88, 2), (99, 2), (125, 1), (129, 1), (150, 1), (161, 2), (196, 1), (198, 1), (225, 1), (226, 1), (241, 1), (242, 1), (243, 1), (244, 1), (246, 1), (248, 1), (336, 2), (339, 2), (343, 1), (350, 1), (411, 1), (414, 1), (434, 2), (453, 1), (457, 1), (460, 1), (491, 1), (493, 1), (494, 1), (577, 1), (639, 1), (671, 1), (684, 1), (689, 1), (690, 1), (723, 1), (746, 1), (1079, 1), (1099, 1), (1200, 1), (1258, 1), (1298, 2), (1320, 1), (1321, 1), (1322, 1), (1323, 1), (1324, 1)], [(37, 2), (53, 1), (85, 1), (88, 1), (114, 1), (208, 1), (219, 1), (499, 1), (1133, 1)], [(1, 1), (3, 1), (5, 1), (8, 2), (11, 2), (17, 1), (21, 1), (24, 1), (26, 1), (30, 1), (31, 2), (34, 2), (36, 1), (51, 1), (54, 1), (64, 1), (65, 1), (80, 1), (81, 3), (83, 1), (85, 1), (88, 2), (95, 1), (99, 6), (106, 1), (129, 2), (133, 1), (134, 1), (137, 1), (145, 1), (146, 1), (147, 1), (148, 1), (149, 2), (150, 1), (151, 1), (152, 1), (153, 1), (154, 1), (155, 1), (156, 1), (157, 1), (158, 1), (159, 3), (160, 2), (161, 1), (162, 1), (163, 1), (164, 1), (165, 1), (166, 1), (167, 2), (168, 1), (169, 1), (170, 1), (171, 1), (172, 1)], [(19, 1), (21, 1), (24, 1), (50, 1), (51, 1), (56, 1), (64, 1), (88, 1), (99, 1), (108, 1), (164, 1), (199, 1), (201, 1), (209, 1), (296, 1), (323, 1), (496, 1), (720, 1), (739, 1)], [(0, 2), (2, 1), (17, 1), (19, 1), (24, 1), (28, 1), (30, 1), (31, 1), (35, 1), (36, 1), (48, 1), (49, 1), (58, 1), (81, 2), (85, 1), (88, 1), (89, 1), (93, 2), (99, 4), (108, 1), (111, 1), (114, 1), (125, 1), (129, 1), (136, 1), (137, 1), (149, 2), (159, 1), (161, 1), (167, 1), (174, 1), (183, 1), (199, 1), (203, 1), (208, 1), (219, 1), (257, 1), (274, 2), (323, 2), (335, 1), (369, 1), (375, 1), (389, 1), (422, 1), (458, 1), (477, 2), (530, 1), (576, 1), (599, 1), (669, 1), (689, 1), (777, 1), (846, 1), (858, 1), (912, 1), (1325, 1), (1326, 1)], [(2, 1), (3, 1), (16, 1), (31, 2), (37, 5), (58, 1), (85, 1), (88, 1), (102, 1), (206, 1), (208, 1), (219, 1), (254, 1), (453, 1), (514, 2), (813, 1), (983, 1), (1081, 1), (1177, 1), (1327, 1), (1328, 1), (1329, 1), (1330, 1), (1331, 1), (1332, 1)], [(109, 1), (333, 1), (830, 1)], [(1, 1), (3, 1), (5, 1), (8, 2), (11, 2), (17, 1), (21, 1), (24, 1), (26, 1), (30, 1), (31, 2), (34, 2), (36, 1), (51, 1), (54, 1), (64, 1), (65, 1), (80, 1), (81, 3), (83, 1), (85, 1), (88, 2), (95, 1), (99, 6), (106, 1), (129, 2), (133, 1), (134, 1), (137, 1), (145, 1), (146, 1), (147, 1), (148, 1), (149, 2), (150, 1), (151, 1), (152, 1), (153, 1), (154, 1), (155, 1), (156, 1), (157, 1), (158, 1), (159, 3), (160, 2), (161, 1), (162, 1), (163, 1), (164, 1), (165, 1), (166, 1), (167, 2), (168, 1), (169, 1), (170, 1), (171, 1), (172, 1)], [(0, 3), (1, 1), (2, 4), (11, 1), (16, 2), (17, 1), (24, 1), (30, 1), (34, 1), (35, 1), (36, 2), (37, 8), (41, 1), (43, 1), (45, 1), (51, 1), (53, 1), (54, 2), (58, 1), (60, 1), (61, 1), (64, 1), (65, 2), (66, 1), (67, 1), (69, 1), (70, 1), (80, 1), (81, 2), (82, 1), (83, 1), (88, 4), (90, 1), (91, 2), (99, 4), (102, 1), (106, 2), (110, 1), (114, 1), (140, 1), (150, 3), (159, 2), (161, 1), (172, 1), (173, 1), (175, 2), (181, 1), (182, 1), (183, 1), (184, 1), (185, 1), (197, 1), (202, 1), (204, 1), (215, 1), (219, 1), (230, 1), (239, 1), (243, 1), (246, 1), (261, 2), (270, 1), (282, 1), (285, 1), (296, 1), (302, 3), (304, 1), (305, 1), (318, 1), (320, 1), (323, 1), (329, 3), (333, 3), (339, 1), (344, 1), (389, 3), (401, 2), (421, 1), (438, 1), (474, 1), (475, 3), (479, 1), (489, 1), (495, 1), (514, 1), (547, 1), (553, 1), (565, 2), (569, 1), (583, 1), (596, 1), (598, 1), (623, 1), (645, 2), (646, 2), (674, 1), (686, 1), (687, 1), (768, 1), (822, 1), (862, 1), (878, 2), (924, 1), (947, 1), (1000, 1), (1031, 1), (1067, 1), (1080, 1), (1113, 1), (1175, 1), (1282, 1), (1333, 1), (1334, 1), (1335, 1), (1336, 1), (1337, 1), (1338, 1), (1339, 1), (1340, 1), (1341, 1), (1342, 1), (1343, 1), (1344, 1), (1345, 1), (1346, 2), (1347, 1)], [(2, 1), (8, 1), (16, 1), (19, 1), (30, 1), (31, 3), (45, 1), (49, 1), (51, 1), (58, 1), (64, 1), (88, 2), (98, 1), (99, 1), (114, 1), (117, 1), (137, 1), (138, 1), (139, 1), (145, 1), (149, 1), (159, 1), (169, 1), (174, 1), (205, 1), (218, 1), (228, 1), (229, 1), (235, 1), (250, 1), (264, 1), (291, 1), (300, 1), (306, 1), (311, 1), (319, 1), (321, 1), (322, 1), (326, 1), (333, 1), (342, 3), (349, 1), (370, 1), (375, 1), (376, 1), (419, 1), (437, 1), (495, 1), (496, 1), (510, 1), (554, 1), (603, 1), (651, 1), (684, 1), (687, 1), (722, 1), (723, 1), (795, 1), (796, 1), (830, 1), (858, 1), (888, 1), (894, 1), (958, 1), (1000, 1), (1018, 1), (1137, 1), (1332, 1), (1348, 1), (1349, 1), (1350, 1), (1351, 1), (1352, 1), (1353, 1), (1354, 1)], [(1, 1), (3, 1), (5, 1), (8, 2), (11, 2), (17, 1), (21, 1), (24, 1), (26, 1), (30, 1), (31, 2), (34, 2), (36, 1), (51, 1), (54, 1), (64, 1), (65, 1), (80, 1), (81, 3), (83, 1), (85, 1), (88, 2), (95, 1), (99, 6), (106, 1), (129, 2), (133, 1), (134, 1), (137, 1), (145, 1), (146, 1), (147, 1), (148, 1), (149, 2), (150, 1), (151, 1), (152, 1), (153, 1), (154, 1), (155, 1), (156, 1), (157, 1), (158, 1), (159, 3), (160, 2), (161, 1), (162, 1), (163, 1), (164, 1), (165, 1), (166, 1), (167, 2), (168, 1), (169, 1), (170, 1), (171, 1), (172, 1)], [(1, 1), (3, 1), (5, 1), (8, 2), (11, 2), (17, 1), (21, 1), (24, 1), (26, 1), (30, 1), (31, 2), (34, 2), (36, 1), (51, 1), (54, 1), (64, 1), (65, 1), (80, 1), (81, 3), (83, 1), (85, 1), (88, 2), (95, 1), (99, 6), (106, 1), (129, 2), (133, 1), (134, 1), (137, 1), (145, 1), (146, 1), (147, 1), (148, 1), (149, 2), (150, 1), (151, 1), (152, 1), (153, 1), (154, 1), (155, 1), (156, 1), (157, 1), (158, 1), (159, 3), (160, 2), (161, 1), (162, 1), (163, 1), (164, 1), (165, 1), (166, 1), (167, 2), (168, 1), (169, 1), (170, 1), (171, 1), (172, 1)], [(1, 1), (3, 1), (5, 1), (8, 2), (11, 2), (17, 1), (21, 1), (24, 1), (26, 1), (30, 1), (31, 2), (34, 2), (36, 1), (51, 1), (54, 1), (64, 1), (65, 1), (80, 1), (81, 3), (83, 1), (85, 1), (88, 2), (95, 1), (99, 6), (106, 1), (129, 2), (133, 1), (134, 1), (137, 1), (145, 1), (146, 1), (147, 1), (148, 1), (149, 2), (150, 1), (151, 1), (152, 1), (153, 1), (154, 1), (155, 1), (156, 1), (157, 1), (158, 1), (159, 3), (160, 2), (161, 1), (162, 1), (163, 1), (164, 1), (165, 1), (166, 1), (167, 2), (168, 1), (169, 1), (170, 1), (171, 1), (172, 1)], [(24, 2), (31, 2), (46, 1), (145, 1), (164, 1), (184, 1), (185, 1), (241, 1), (336, 1), (468, 1), (495, 2), (746, 2), (761, 1), (911, 1), (1046, 1), (1067, 1), (1355, 1), (1356, 1), (1357, 1), (1358, 1), (1359, 1), (1360, 1), (1361, 1), (1362, 1)], [(1, 1), (2, 1), (3, 1), (8, 1), (24, 1), (31, 3), (34, 2), (36, 1), (39, 1), (41, 1), (48, 1), (51, 1), (58, 1), (64, 2), (66, 1), (79, 1), (80, 2), (81, 1), (93, 1), (99, 1), (106, 1), (108, 1), (140, 1), (145, 1), (159, 1), (169, 1), (183, 2), (185, 1), (203, 1), (242, 1), (296, 1), (336, 1), (338, 1), (350, 1), (370, 1), (457, 1), (468, 1), (475, 1), (507, 1), (550, 1), (680, 2), (698, 1), (862, 1), (1000, 1), (1363, 1), (1364, 1), (1365, 1), (1366, 1), (1367, 1), (1368, 1), (1369, 1), (1370, 1), (1371, 1), (1372, 1), (1373, 1)], [(24, 1), (333, 1), (746, 1), (830, 1)], [(8, 1), (16, 2), (17, 1), (28, 1), (29, 1), (30, 1), (31, 1), (34, 1), (36, 1), (51, 1), (56, 1), (58, 1), (81, 1), (85, 1), (88, 1), (93, 1), (99, 3), (108, 1), (109, 1), (117, 1), (121, 1), (131, 1), (133, 1), (134, 1), (138, 1), (156, 1), (157, 1), (167, 1), (169, 1), (176, 1), (185, 1), (192, 1), (234, 1), (241, 1), (243, 1), (248, 1), (261, 2), (306, 1), (351, 1), (366, 1), (369, 1), (389, 1), (461, 1), (471, 1), (476, 1), (584, 1), (669, 1), (918, 1), (1095, 1)], [(1, 1), (3, 1), (5, 1), (8, 2), (11, 2), (17, 1), (21, 1), (24, 1), (26, 1), (30, 1), (31, 2), (34, 2), (36, 1), (51, 1), (54, 1), (64, 1), (65, 1), (80, 1), (81, 3), (83, 1), (85, 1), (88, 2), (95, 1), (99, 6), (106, 1), (129, 2), (133, 1), (134, 1), (137, 1), (145, 1), (146, 1), (147, 1), (148, 1), (149, 2), (150, 1), (151, 1), (152, 1), (153, 1), (154, 1), (155, 1), (156, 1), (157, 1), (158, 1), (159, 3), (160, 2), (161, 1), (162, 1), (163, 1), (164, 1), (165, 1), (166, 1), (167, 2), (168, 1), (169, 1), (170, 1), (171, 1), (172, 1)], [(1, 1), (3, 1), (5, 1), (8, 2), (11, 2), (17, 1), (21, 1), (24, 1), (26, 1), (30, 1), (31, 2), (34, 2), (36, 1), (51, 1), (54, 1), (64, 1), (65, 1), (80, 1), (81, 3), (83, 1), (85, 1), (88, 2), (95, 1), (99, 6), (106, 1), (129, 2), (133, 1), (134, 1), (137, 1), (145, 1), (146, 1), (147, 1), (148, 1), (149, 2), (150, 1), (151, 1), (152, 1), (153, 1), (154, 1), (155, 1), (156, 1), (157, 1), (158, 1), (159, 3), (160, 2), (161, 1), (162, 1), (163, 1), (164, 1), (165, 1), (166, 1), (167, 2), (168, 1), (169, 1), (170, 1), (171, 1), (172, 1)], [(1, 1), (3, 1), (8, 1), (30, 1), (33, 1), (34, 1), (49, 1), (58, 1), (169, 1), (183, 1), (266, 1), (1178, 1), (1374, 1)], [(1, 1), (3, 1), (5, 1), (8, 2), (11, 2), (17, 1), (21, 1), (24, 1), (26, 1), (30, 1), (31, 2), (34, 2), (36, 1), (51, 1), (54, 1), (64, 1), (65, 1), (80, 1), (81, 3), (83, 1), (85, 1), (88, 2), (95, 1), (99, 6), (106, 1), (129, 2), (133, 1), (134, 1), (137, 1), (145, 1), (146, 1), (147, 1), (148, 1), (149, 2), (150, 1), (151, 1), (152, 1), (153, 1), (154, 1), (155, 1), (156, 1), (157, 1), (158, 1), (159, 3), (160, 2), (161, 1), (162, 1), (163, 1), (164, 1), (165, 1), (166, 1), (167, 2), (168, 1), (169, 1), (170, 1), (171, 1), (172, 1)], [(1, 1), (3, 1), (5, 1), (8, 2), (11, 2), (17, 1), (21, 1), (24, 1), (26, 1), (30, 1), (31, 2), (34, 2), (36, 1), (51, 1), (54, 1), (64, 1), (65, 1), (80, 1), (81, 3), (83, 1), (85, 1), (88, 2), (95, 1), (99, 6), (106, 1), (129, 2), (133, 1), (134, 1), (137, 1), (145, 1), (146, 1), (147, 1), (148, 1), (149, 2), (150, 1), (151, 1), (152, 1), (153, 1), (154, 1), (155, 1), (156, 1), (157, 1), (158, 1), (159, 3), (160, 2), (161, 1), (162, 1), (163, 1), (164, 1), (165, 1), (166, 1), (167, 2), (168, 1), (169, 1), (170, 1), (171, 1), (172, 1)], [(1, 1), (8, 1), (17, 1), (24, 1), (26, 1), (28, 2), (29, 1), (30, 1), (31, 1), (34, 2), (36, 1), (54, 3), (55, 1), (62, 1), (65, 2), (70, 1), (74, 1), (81, 2), (83, 1), (88, 1), (99, 3), (106, 1), (130, 2), (131, 1), (137, 1), (142, 2), (143, 2), (146, 1), (147, 1), (149, 1), (157, 1), (159, 2), (161, 1), (176, 1), (198, 1), (216, 1), (243, 1), (244, 1), (246, 1), (248, 1), (274, 1), (306, 1), (310, 1), (370, 1), (405, 1), (407, 1), (422, 1), (505, 1), (534, 1), (569, 1), (657, 1), (669, 1), (671, 1), (678, 1), (829, 1), (858, 2), (1294, 1), (1296, 1), (1375, 1), (1376, 1), (1377, 1), (1378, 1), (1379, 1)], [(2, 1), (8, 1), (16, 1), (17, 1), (19, 1), (31, 3), (34, 1), (36, 1), (55, 1), (58, 1), (62, 1), (67, 1), (81, 1), (88, 1), (99, 2), (106, 1), (109, 1), (110, 2), (113, 1), (117, 1), (131, 1), (149, 1), (161, 1), (167, 1), (183, 1), (186, 1), (199, 2), (230, 2), (280, 1), (281, 1), (314, 1), (323, 1), (441, 1), (475, 1), (494, 1), (495, 1), (546, 1), (552, 1), (569, 1), (577, 1), (616, 1), (699, 1), (718, 1), (764, 1), (947, 1), (1380, 1), (1381, 1), (1382, 1), (1383, 1), (1384, 1)], [(24, 1), (242, 1)], [(0, 1), (35, 1), (39, 1), (51, 1), (64, 1), (66, 1), (83, 1), (88, 1), (102, 1), (114, 1), (149, 1), (213, 1), (225, 1), (274, 1), (300, 1), (307, 1), (495, 1), (643, 1), (738, 1), (952, 1), (982, 1), (1046, 1), (1385, 1), (1386, 1), (1387, 1)], [(1, 1), (3, 1), (5, 1), (8, 2), (11, 2), (17, 1), (21, 1), (24, 1), (26, 1), (30, 1), (31, 2), (34, 2), (36, 1), (51, 1), (54, 1), (64, 1), (65, 1), (80, 1), (81, 3), (83, 1), (85, 1), (88, 2), (95, 1), (99, 6), (106, 1), (129, 2), (133, 1), (134, 1), (137, 1), (145, 1), (146, 1), (147, 1), (148, 1), (149, 2), (150, 1), (151, 1), (152, 1), (153, 1), (154, 1), (155, 1), (156, 1), (157, 1), (158, 1), (159, 3), (160, 2), (161, 1), (162, 1), (163, 1), (164, 1), (165, 1), (166, 1), (167, 2), (168, 1), (169, 1), (170, 1), (171, 1), (172, 1)], [(109, 1), (117, 1), (286, 1), (295, 1), (319, 1), (495, 1)], [(1, 1), (3, 1), (5, 1), (8, 2), (11, 2), (17, 1), (21, 1), (24, 1), (26, 1), (30, 1), (31, 2), (34, 2), (36, 1), (51, 1), (54, 1), (64, 1), (65, 1), (80, 1), (81, 3), (83, 1), (85, 1), (88, 2), (95, 1), (99, 6), (106, 1), (129, 2), (133, 1), (134, 1), (137, 1), (145, 1), (146, 1), (147, 1), (148, 1), (149, 2), (150, 1), (151, 1), (152, 1), (153, 1), (154, 1), (155, 1), (156, 1), (157, 1), (158, 1), (159, 3), (160, 2), (161, 1), (162, 1), (163, 1), (164, 1), (165, 1), (166, 1), (167, 2), (168, 1), (169, 1), (170, 1), (171, 1), (172, 1)], [(17, 1), (28, 1), (32, 1), (36, 1), (48, 1), (50, 1), (51, 1), (54, 1), (58, 1), (64, 1), (67, 1), (69, 1), (99, 2), (109, 1), (140, 1), (145, 2), (149, 1), (171, 1), (203, 1), (223, 1), (226, 1), (241, 1), (292, 1), (308, 1), (442, 1), (459, 1), (520, 1), (738, 1), (785, 1), (826, 1), (982, 1), (1388, 1), (1389, 1), (1390, 1), (1391, 1), (1392, 1), (1393, 1)], [(0, 1), (2, 1), (8, 1), (24, 1), (142, 1), (643, 1)], [(0, 2), (2, 5), (8, 2), (19, 2), (28, 2), (30, 1), (31, 1), (37, 2), (61, 1), (62, 1), (66, 1), (81, 1), (85, 1), (88, 2), (102, 1), (142, 2), (159, 2), (183, 1), (230, 1), (242, 1), (248, 1), (302, 1), (345, 1), (367, 1), (369, 1), (419, 1), (458, 1), (471, 1), (514, 1), (517, 1), (749, 1), (758, 1), (862, 2), (964, 4), (1014, 1), (1046, 1), (1282, 1), (1394, 1), (1395, 1), (1396, 1), (1397, 1), (1398, 1)], [(1, 1), (3, 1), (5, 1), (8, 2), (11, 2), (17, 1), (21, 1), (24, 1), (26, 1), (30, 1), (31, 2), (34, 2), (36, 1), (51, 1), (54, 1), (64, 1), (65, 1), (80, 1), (81, 3), (83, 1), (85, 1), (88, 2), (95, 1), (99, 6), (106, 1), (129, 2), (133, 1), (134, 1), (137, 1), (145, 1), (146, 1), (147, 1), (148, 1), (149, 2), (150, 1), (151, 1), (152, 1), (153, 1), (154, 1), (155, 1), (156, 1), (157, 1), (158, 1), (159, 3), (160, 2), (161, 1), (162, 1), (163, 1), (164, 1), (165, 1), (166, 1), (167, 2), (168, 1), (169, 1), (170, 1), (171, 1), (172, 1)], [(0, 1), (2, 3), (16, 1), (24, 1), (30, 1), (37, 2), (46, 2), (48, 1), (53, 1), (58, 1), (64, 1), (68, 1), (81, 1), (82, 1), (83, 1), (88, 1), (102, 1), (106, 1), (108, 1), (110, 1), (113, 1), (132, 1), (145, 1), (149, 1), (159, 1), (171, 1), (186, 1), (242, 1), (261, 2), (361, 1), (363, 1), (369, 1), (379, 1), (448, 1), (514, 1), (550, 1), (576, 1), (589, 1), (689, 1), (846, 1), (1021, 2), (1046, 1), (1113, 1), (1201, 1), (1312, 2), (1399, 1), (1400, 1), (1401, 1), (1402, 1), (1403, 1), (1404, 1), (1405, 1), (1406, 1), (1407, 1), (1408, 1), (1409, 1), (1410, 1)], [(1, 1), (3, 1), (5, 1), (8, 2), (11, 2), (17, 1), (21, 1), (24, 1), (26, 1), (30, 1), (31, 2), (34, 2), (36, 1), (51, 1), (54, 1), (64, 1), (65, 1), (80, 1), (81, 3), (83, 1), (85, 1), (88, 2), (95, 1), (99, 6), (106, 1), (129, 2), (133, 1), (134, 1), (137, 1), (145, 1), (146, 1), (147, 1), (148, 1), (149, 2), (150, 1), (151, 1), (152, 1), (153, 1), (154, 1), (155, 1), (156, 1), (157, 1), (158, 1), (159, 3), (160, 2), (161, 1), (162, 1), (163, 1), (164, 1), (165, 1), (166, 1), (167, 2), (168, 1), (169, 1), (170, 1), (171, 1), (172, 1)], [(2, 1), (16, 1), (17, 1), (26, 1), (30, 1), (31, 1), (34, 2), (36, 1), (37, 1), (45, 1), (56, 1), (58, 1), (61, 1), (66, 1), (70, 1), (74, 1), (88, 2), (99, 2), (102, 1), (130, 1), (149, 1), (167, 1), (169, 1), (185, 1), (196, 1), (216, 1), (225, 1), (239, 1), (281, 1), (306, 1), (318, 1), (329, 1), (336, 1), (369, 1), (372, 1), (389, 1), (457, 1), (474, 1), (477, 1), (482, 1), (488, 1), (495, 1), (507, 1), (514, 1), (527, 1), (559, 1), (565, 1), (569, 1), (577, 1), (607, 1), (645, 1), (658, 1), (667, 1), (684, 1), (694, 1), (758, 1), (760, 1), (818, 1), (908, 1), (947, 1), (956, 1), (1002, 1), (1147, 1), (1411, 1), (1412, 1), (1413, 1), (1414, 1), (1415, 1), (1416, 1), (1417, 1), (1418, 1), (1419, 1), (1420, 1), (1421, 1), (1422, 1), (1423, 1)], [(1, 1), (3, 1), (5, 1), (8, 2), (11, 2), (17, 1), (21, 1), (24, 1), (26, 1), (30, 1), (31, 2), (34, 2), (36, 1), (51, 1), (54, 1), (64, 1), (65, 1), (80, 1), (81, 3), (83, 1), (85, 1), (88, 2), (95, 1), (99, 6), (106, 1), (129, 2), (133, 1), (134, 1), (137, 1), (145, 1), (146, 1), (147, 1), (148, 1), (149, 2), (150, 1), (151, 1), (152, 1), (153, 1), (154, 1), (155, 1), (156, 1), (157, 1), (158, 1), (159, 3), (160, 2), (161, 1), (162, 1), (163, 1), (164, 1), (165, 1), (166, 1), (167, 2), (168, 1), (169, 1), (170, 1), (171, 1), (172, 1)], [(1, 1), (3, 1), (5, 1), (8, 2), (11, 2), (17, 1), (21, 1), (24, 1), (26, 1), (30, 1), (31, 2), (34, 2), (36, 1), (51, 1), (54, 1), (64, 1), (65, 1), (80, 1), (81, 3), (83, 1), (85, 1), (88, 2), (95, 1), (99, 6), (106, 1), (129, 2), (133, 1), (134, 1), (137, 1), (145, 1), (146, 1), (147, 1), (148, 1), (149, 2), (150, 1), (151, 1), (152, 1), (153, 1), (154, 1), (155, 1), (156, 1), (157, 1), (158, 1), (159, 3), (160, 2), (161, 1), (162, 1), (163, 1), (164, 1), (165, 1), (166, 1), (167, 2), (168, 1), (169, 1), (170, 1), (171, 1), (172, 1)], [(31, 2), (36, 1), (49, 1), (58, 1), (66, 1), (74, 1), (81, 1), (93, 1), (95, 1), (103, 1), (164, 1), (183, 1), (185, 1), (199, 2), (200, 1), (201, 2), (202, 1), (209, 1), (261, 1), (264, 1), (356, 1), (389, 1), (461, 1), (530, 1), (1238, 1), (1424, 1), (1425, 1), (1426, 1), (1427, 1)], [(54, 1), (67, 1), (106, 1), (231, 1), (361, 1), (442, 1), (569, 1), (674, 1), (721, 1), (944, 1), (1059, 1), (1283, 1), (1428, 1), (1429, 1), (1430, 1), (1431, 1)], [(17, 1), (18, 1), (31, 1), (34, 2), (37, 3), (38, 1), (39, 1), (40, 1), (41, 1), (48, 1), (54, 1), (88, 2), (91, 1), (98, 1), (102, 1), (103, 1), (108, 1), (114, 1), (130, 1), (135, 1), (149, 1), (161, 1), (254, 1), (257, 1), (264, 1), (265, 1), (302, 1), (322, 1), (328, 1), (398, 1), (421, 1), (457, 1), (460, 1), (474, 1), (495, 1), (503, 1), (514, 1), (553, 1), (576, 1), (587, 1), (712, 1), (764, 1), (1329, 1), (1432, 1), (1433, 1), (1434, 1), (1435, 1)], [(1, 1), (3, 1), (5, 1), (8, 2), (11, 2), (17, 1), (21, 1), (24, 1), (26, 1), (30, 1), (31, 2), (34, 2), (36, 1), (51, 1), (54, 1), (64, 1), (65, 1), (80, 1), (81, 3), (83, 1), (85, 1), (88, 2), (95, 1), (99, 6), (106, 1), (129, 2), (133, 1), (134, 1), (137, 1), (145, 1), (146, 1), (147, 1), (148, 1), (149, 2), (150, 1), (151, 1), (152, 1), (153, 1), (154, 1), (155, 1), (156, 1), (157, 1), (158, 1), (159, 3), (160, 2), (161, 1), (162, 1), (163, 1), (164, 1), (165, 1), (166, 1), (167, 2), (168, 1), (169, 1), (170, 1), (171, 1), (172, 1)], [(246, 1), (475, 1), (1044, 1), (1367, 1), (1370, 2)], [(1, 1), (3, 1), (5, 1), (8, 2), (11, 2), (17, 1), (21, 1), (24, 1), (26, 1), (30, 1), (31, 2), (34, 2), (36, 1), (51, 1), (54, 1), (64, 1), (65, 1), (80, 1), (81, 3), (83, 1), (85, 1), (88, 2), (95, 1), (99, 6), (106, 1), (129, 2), (133, 1), (134, 1), (137, 1), (145, 1), (146, 1), (147, 1), (148, 1), (149, 2), (150, 1), (151, 1), (152, 1), (153, 1), (154, 1), (155, 1), (156, 1), (157, 1), (158, 1), (159, 3), (160, 2), (161, 1), (162, 1), (163, 1), (164, 1), (165, 1), (166, 1), (167, 2), (168, 1), (169, 1), (170, 1), (171, 1), (172, 1)], [(31, 2), (48, 1), (49, 1), (54, 1), (108, 1), (109, 1), (149, 2), (183, 1), (206, 1), (261, 1), (264, 1), (265, 2), (275, 1), (282, 1), (315, 1), (328, 1), (490, 1), (517, 1), (554, 1), (761, 1), (944, 1)], [(0, 1), (2, 2), (3, 1), (5, 1), (37, 4), (51, 1), (64, 1), (81, 1), (85, 1), (88, 1), (95, 1), (109, 1), (114, 1), (167, 1), (171, 1), (204, 1), (206, 1), (208, 1), (216, 1), (219, 1), (256, 1), (261, 1), (274, 2), (342, 1), (366, 1), (475, 1), (489, 1), (495, 1), (589, 1), (635, 1), (691, 1), (749, 1), (953, 1), (982, 1), (1046, 1), (1124, 1), (1436, 1), (1437, 1), (1438, 1)], [(0, 1), (8, 2), (16, 2), (17, 1), (24, 1), (28, 1), (29, 1), (31, 1), (34, 2), (35, 1), (36, 1), (37, 1), (41, 1), (48, 1), (58, 1), (93, 1), (99, 2), (110, 1), (120, 1), (125, 1), (130, 1), (131, 1), (137, 1), (138, 1), (142, 1), (149, 1), (150, 1), (156, 1), (159, 2), (161, 1), (167, 1), (169, 1), (175, 1), (196, 1), (198, 1), (199, 3), (215, 1), (256, 1), (272, 1), (299, 1), (323, 1), (369, 1), (489, 1), (530, 1), (538, 1), (541, 1), (682, 1), (723, 1), (746, 1), (771, 1), (1004, 1), (1100, 1), (1439, 1), (1440, 1), (1441, 1)], [(1, 1), (3, 1), (5, 1), (8, 2), (11, 2), (17, 1), (21, 1), (24, 1), (26, 1), (30, 1), (31, 2), (34, 2), (36, 1), (51, 1), (54, 1), (64, 1), (65, 1), (80, 1), (81, 3), (83, 1), (85, 1), (88, 2), (95, 1), (99, 6), (106, 1), (129, 2), (133, 1), (134, 1), (137, 1), (145, 1), (146, 1), (147, 1), (148, 1), (149, 2), (150, 1), (151, 1), (152, 1), (153, 1), (154, 1), (155, 1), (156, 1), (157, 1), (158, 1), (159, 3), (160, 2), (161, 1), (162, 1), (163, 1), (164, 1), (165, 1), (166, 1), (167, 2), (168, 1), (169, 1), (170, 1), (171, 1), (172, 1)], [(1, 2), (3, 1), (7, 1), (8, 2), (11, 1), (19, 1), (28, 1), (31, 2), (34, 1), (39, 1), (51, 1), (52, 1), (53, 2), (54, 1), (56, 1), (64, 1), (80, 1), (81, 3), (88, 1), (103, 1), (137, 1), (138, 1), (159, 2), (161, 1), (175, 1), (183, 2), (206, 1), (247, 1), (281, 1), (315, 1), (412, 1), (552, 2), (557, 1), (580, 1), (590, 1), (785, 1), (939, 1), (1164, 1), (1372, 1), (1440, 1), (1442, 1), (1443, 1), (1444, 1), (1445, 1), (1446, 1), (1447, 1), (1448, 1), (1449, 1), (1450, 1), (1451, 1), (1452, 1), (1453, 1), (1454, 1), (1455, 1)], [(0, 1), (6, 1), (8, 1), (16, 1), (24, 1), (34, 1), (65, 1), (74, 1), (85, 1), (88, 1), (99, 1), (108, 1), (109, 1), (123, 1), (185, 1), (197, 1), (261, 1), (328, 1), (366, 1), (458, 1), (502, 1), (525, 1), (598, 1), (601, 1), (852, 1), (887, 1), (1080, 1), (1151, 1), (1424, 1), (1456, 1), (1457, 1), (1458, 1), (1459, 1)], [(1, 1), (3, 1), (5, 1), (8, 2), (11, 2), (17, 1), (21, 1), (24, 1), (26, 1), (30, 1), (31, 2), (34, 2), (36, 1), (51, 1), (54, 1), (64, 1), (65, 1), (80, 1), (81, 3), (83, 1), (85, 1), (88, 2), (95, 1), (99, 6), (106, 1), (129, 2), (133, 1), (134, 1), (137, 1), (145, 1), (146, 1), (147, 1), (148, 1), (149, 2), (150, 1), (151, 1), (152, 1), (153, 1), (154, 1), (155, 1), (156, 1), (157, 1), (158, 1), (159, 3), (160, 2), (161, 1), (162, 1), (163, 1), (164, 1), (165, 1), (166, 1), (167, 2), (168, 1), (169, 1), (170, 1), (171, 1), (172, 1)], [(2, 1), (24, 1), (31, 2), (37, 4), (58, 1), (61, 1), (64, 1), (70, 1), (71, 1), (85, 1), (114, 1), (125, 1), (169, 1), (185, 1), (204, 1), (206, 1), (225, 1), (239, 1), (258, 1), (261, 1), (272, 1), (288, 2), (291, 1), (336, 1), (509, 1), (544, 1), (576, 1), (643, 1), (656, 1), (846, 1), (1045, 1), (1159, 1), (1460, 1), (1461, 1)], [(0, 1), (6, 1), (9, 1), (16, 1), (19, 1), (26, 1), (31, 2), (34, 1), (35, 1), (37, 1), (40, 1), (45, 1), (50, 1), (51, 1), (56, 2), (58, 1), (64, 1), (81, 1), (88, 2), (89, 1), (99, 1), (109, 1), (129, 1), (131, 1), (137, 1), (138, 1), (145, 1), (159, 2), (167, 1), (177, 1), (199, 1), (205, 1), (235, 1), (264, 1), (274, 1), (319, 1), (367, 1), (389, 1), (458, 1), (496, 1), (552, 1), (666, 1), (853, 1), (930, 1), (1462, 1), (1463, 1)], [(31, 1), (47, 1), (74, 1), (87, 1), (109, 1), (110, 1), (159, 1), (302, 1), (334, 1), (342, 1), (357, 1), (401, 1), (603, 1), (618, 1), (904, 1), (1046, 1), (1053, 1), (1464, 1), (1465, 1), (1466, 1)], [(0, 1), (1, 1), (2, 1), (3, 1), (8, 1), (19, 1), (34, 1), (35, 1), (37, 1), (41, 1), (48, 1), (49, 1), (52, 1), (53, 2), (56, 1), (64, 1), (81, 1), (83, 1), (88, 1), (91, 1), (102, 1), (106, 2), (108, 1), (110, 1), (140, 1), (145, 1), (149, 1), (167, 1), (169, 1), (203, 1), (225, 1), (375, 1), (460, 1), (475, 1), (495, 1), (509, 1), (616, 1), (862, 1), (883, 1), (952, 1), (953, 1), (964, 1), (982, 2), (1046, 1), (1174, 1), (1176, 1), (1178, 2), (1300, 1), (1349, 1), (1385, 1), (1406, 1), (1467, 1), (1468, 1), (1469, 1), (1470, 1), (1471, 1), (1472, 1), (1473, 1), (1474, 1), (1475, 2), (1476, 1), (1477, 1), (1478, 1), (1479, 1), (1480, 1), (1481, 1), (1482, 1)], [(2, 1), (18, 1), (19, 1), (30, 1), (31, 1), (34, 1), (36, 1), (49, 1), (54, 2), (61, 1), (64, 1), (70, 1), (71, 1), (80, 1), (82, 1), (85, 1), (88, 1), (109, 1), (113, 1), (126, 1), (144, 1), (145, 1), (167, 2), (205, 1), (208, 1), (213, 1), (219, 1), (264, 1), (265, 2), (282, 1), (322, 1), (326, 1), (349, 1), (369, 1), (419, 1), (421, 1), (471, 1), (482, 1), (490, 1), (498, 1), (507, 1), (523, 1), (554, 1), (576, 1), (577, 1), (584, 1), (625, 1), (671, 1), (717, 1), (799, 1), (952, 1), (1249, 1), (1432, 1), (1483, 1), (1484, 1), (1485, 1), (1486, 1)], [(2, 1), (24, 1), (31, 1), (48, 1), (51, 1), (54, 1), (55, 1), (108, 1), (164, 1), (183, 1), (196, 1), (296, 1), (533, 1), (674, 1), (690, 1), (795, 1), (870, 1), (1410, 1), (1487, 1), (1488, 1)], [(7, 2), (31, 1), (40, 1), (45, 1), (50, 1), (51, 2), (56, 1), (58, 1), (64, 1), (82, 1), (83, 1), (88, 1), (93, 1), (114, 1), (130, 1), (137, 1), (161, 1), (167, 1), (218, 1), (225, 1), (246, 1), (260, 1), (339, 1), (350, 1), (437, 1), (452, 1), (457, 2), (499, 1), (557, 2), (576, 1), (587, 1), (623, 1), (724, 1), (725, 1), (763, 1), (911, 1), (930, 1), (1000, 1), (1133, 1), (1216, 1), (1298, 1), (1463, 1), (1489, 1), (1490, 1), (1491, 1), (1492, 1), (1493, 1), (1494, 1), (1495, 1), (1496, 1), (1497, 1)], [(1, 1), (3, 1), (5, 1), (8, 2), (11, 2), (17, 1), (21, 1), (24, 1), (26, 1), (30, 1), (31, 2), (34, 2), (36, 1), (51, 1), (54, 1), (64, 1), (65, 1), (80, 1), (81, 3), (83, 1), (85, 1), (88, 2), (95, 1), (99, 6), (106, 1), (129, 2), (133, 1), (134, 1), (137, 1), (145, 1), (146, 1), (147, 1), (148, 1), (149, 2), (150, 1), (151, 1), (152, 1), (153, 1), (154, 1), (155, 1), (156, 1), (157, 1), (158, 1), (159, 3), (160, 2), (161, 1), (162, 1), (163, 1), (164, 1), (165, 1), (166, 1), (167, 2), (168, 1), (169, 1), (170, 1), (171, 1), (172, 1)], [(2, 1), (8, 1), (19, 1), (37, 1), (56, 1), (81, 1), (88, 1), (138, 1), (149, 1), (171, 1), (204, 1), (219, 1), (324, 1), (328, 1), (345, 1), (397, 1), (520, 1), (589, 1), (682, 1), (712, 1), (964, 1), (1440, 1)], [(1, 1), (3, 1), (5, 1), (8, 2), (11, 2), (17, 1), (21, 1), (24, 1), (26, 1), (30, 1), (31, 2), (34, 2), (36, 1), (51, 1), (54, 1), (64, 1), (65, 1), (80, 1), (81, 3), (83, 1), (85, 1), (88, 2), (95, 1), (99, 6), (106, 1), (129, 2), (133, 1), (134, 1), (137, 1), (145, 1), (146, 1), (147, 1), (148, 1), (149, 2), (150, 1), (151, 1), (152, 1), (153, 1), (154, 1), (155, 1), (156, 1), (157, 1), (158, 1), (159, 3), (160, 2), (161, 1), (162, 1), (163, 1), (164, 1), (165, 1), (166, 1), (167, 2), (168, 1), (169, 1), (170, 1), (171, 1), (172, 1)], [(0, 1), (11, 1), (17, 1), (19, 1), (24, 1), (30, 1), (31, 4), (34, 2), (35, 1), (36, 1), (37, 2), (45, 1), (46, 1), (54, 1), (56, 2), (80, 1), (88, 1), (99, 4), (124, 1), (150, 2), (169, 1), (183, 1), (185, 1), (201, 1), (205, 1), (218, 1), (235, 1), (237, 1), (261, 1), (264, 1), (297, 1), (333, 1), (345, 1), (366, 1), (367, 1), (369, 1), (616, 2), (674, 1), (862, 1), (1060, 1), (1299, 1), (1306, 1), (1395, 1), (1498, 1)], [(5, 1), (8, 1), (9, 1), (17, 3), (18, 1), (19, 1), (21, 1), (24, 1), (26, 1), (28, 1), (29, 1), (35, 1), (37, 1), (48, 1), (49, 2), (54, 1), (56, 1), (58, 1), (64, 1), (76, 1), (81, 2), (87, 1), (88, 1), (93, 1), (99, 5), (106, 1), (109, 1), (117, 1), (124, 1), (125, 1), (129, 1), (130, 1), (131, 2), (136, 1), (146, 1), (149, 1), (156, 1), (157, 1), (165, 1), (167, 1), (169, 4), (184, 1), (199, 2), (223, 1), (243, 1), (248, 1), (260, 1), (266, 1), (272, 1), (275, 1), (302, 2), (306, 1), (328, 1), (336, 1), (341, 1), (395, 1), (401, 2), (482, 1), (530, 1), (569, 1), (576, 1), (671, 2), (997, 1), (1000, 1), (1499, 1), (1500, 1), (1501, 1)], [(2, 1), (3, 1), (17, 1), (19, 1), (24, 1), (31, 1), (36, 1), (37, 1), (39, 1), (48, 1), (54, 2), (58, 1), (88, 1), (117, 1), (140, 1), (142, 1), (167, 1), (169, 1), (185, 1), (242, 1), (266, 2), (334, 1), (370, 1), (490, 1), (864, 1), (982, 1), (1004, 1), (1502, 1), (1503, 1), (1504, 1), (1505, 1)], [(0, 1), (17, 1), (28, 1), (30, 1), (31, 2), (34, 1), (36, 1), (43, 1), (45, 1), (56, 1), (62, 1), (81, 1), (85, 1), (88, 1), (92, 1), (99, 2), (102, 1), (110, 1), (114, 1), (156, 1), (183, 1), (206, 1), (212, 1), (218, 1), (219, 1), (221, 1), (228, 1), (271, 1), (302, 1), (369, 1), (419, 1), (420, 1), (471, 1), (474, 1), (475, 1), (514, 1), (557, 1), (569, 1), (585, 1), (646, 1), (674, 2), (749, 1), (758, 1), (788, 1), (908, 1), (993, 1), (1010, 1), (1259, 1), (1322, 1), (1497, 1), (1506, 1), (1507, 1), (1508, 1), (1509, 1), (1510, 1), (1511, 1), (1512, 1), (1513, 1), (1514, 1), (1515, 1)], [(2, 1), (5, 1), (8, 2), (9, 1), (11, 1), (16, 2), (17, 1), (26, 1), (28, 1), (30, 1), (34, 3), (36, 1), (39, 1), (45, 1), (48, 1), (49, 2), (56, 1), (58, 1), (61, 1), (64, 1), (66, 1), (70, 1), (72, 1), (80, 1), (81, 3), (88, 1), (92, 1), (99, 3), (103, 1), (108, 1), (109, 1), (110, 2), (114, 1), (120, 1), (129, 1), (130, 1), (131, 1), (133, 1), (137, 1), (140, 1), (142, 1), (159, 2), (170, 1), (207, 1), (209, 1), (216, 1), (218, 1), (229, 1), (230, 1), (244, 1), (248, 1), (264, 1), (265, 1), (266, 1), (273, 1), (316, 1), (369, 1), (392, 1), (395, 1), (402, 1), (471, 1), (495, 1), (552, 1), (555, 1), (556, 1), (684, 1), (717, 1), (1039, 1), (1096, 1), (1390, 1), (1516, 1), (1517, 1)], [(0, 1), (2, 2), (3, 1), (16, 1), (37, 1), (39, 1), (48, 1), (51, 1), (53, 1), (54, 1), (81, 1), (83, 1), (99, 4), (102, 2), (137, 1), (138, 1), (145, 1), (174, 1), (183, 1), (203, 1), (224, 1), (225, 1), (256, 1), (296, 1), (297, 1), (329, 1), (401, 1), (461, 1), (488, 2), (490, 1), (495, 2), (514, 1), (546, 1), (616, 1), (643, 1), (684, 1), (738, 1), (771, 1), (797, 1), (862, 1), (982, 1), (1178, 1), (1347, 1), (1385, 1), (1387, 1), (1406, 1), (1518, 1), (1519, 1), (1520, 1), (1521, 1), (1522, 1), (1523, 1), (1524, 1)], [(2, 2), (24, 1), (30, 1), (37, 2), (40, 1), (45, 1), (51, 1), (53, 2), (56, 1), (58, 1), (61, 1), (64, 1), (70, 1), (80, 1), (81, 1), (82, 1), (85, 1), (88, 1), (99, 1), (101, 1), (108, 1), (114, 1), (124, 1), (133, 1), (134, 1), (181, 1), (200, 1), (261, 1), (264, 1), (273, 1), (322, 1), (326, 1), (333, 1), (347, 1), (366, 1), (367, 1), (389, 2), (401, 1), (454, 1), (457, 1), (461, 1), (500, 1), (517, 1), (639, 1), (758, 1), (814, 1), (909, 1), (1106, 1), (1293, 1), (1525, 1), (1526, 1)], [(31, 1), (351, 1), (737, 1), (855, 1), (1069, 1), (1164, 1), (1449, 1), (1527, 1), (1528, 1), (1529, 1), (1530, 1), (1531, 1), (1532, 1)], [(26, 1), (58, 1), (64, 1), (69, 1), (72, 1), (88, 1), (109, 1), (114, 1), (135, 1), (137, 1), (159, 1), (171, 1), (297, 1), (302, 1), (397, 1), (401, 1), (411, 1), (414, 1), (418, 1), (457, 1), (509, 1), (535, 1), (565, 1), (645, 1), (964, 1), (1533, 1)], [(0, 1), (17, 1), (24, 1), (28, 1), (31, 1), (52, 1), (55, 2), (64, 1), (70, 1), (80, 1), (91, 1), (97, 1), (99, 2), (117, 1), (138, 1), (150, 1), (167, 1), (183, 1), (187, 1), (203, 1), (209, 1), (261, 1), (297, 1), (310, 1), (366, 1), (494, 1), (495, 1), (577, 1), (716, 1), (947, 1), (1085, 1), (1243, 1), (1248, 1), (1347, 1), (1390, 1), (1501, 1), (1534, 1), (1535, 1), (1536, 1)], [(1, 1), (2, 1), (3, 1), (5, 1), (6, 2), (8, 1), (16, 1), (30, 1), (31, 1), (34, 2), (39, 1), (40, 1), (55, 1), (58, 1), (61, 1), (64, 1), (65, 1), (70, 1), (74, 1), (80, 1), (91, 1), (99, 1), (114, 1), (125, 1), (132, 1), (135, 1), (149, 1), (150, 1), (169, 1), (185, 1), (197, 1), (199, 3), (228, 1), (230, 1), (235, 1), (243, 1), (248, 1), (250, 1), (258, 1), (261, 1), (266, 1), (322, 1), (326, 1), (333, 1), (366, 1), (370, 1), (502, 1), (539, 1), (553, 1), (693, 1), (1019, 1), (1046, 1), (1220, 1), (1368, 1), (1537, 1), (1538, 1), (1539, 1), (1540, 1)], [(1, 1), (3, 1), (5, 1), (8, 2), (11, 2), (17, 1), (21, 1), (24, 1), (26, 1), (30, 1), (31, 2), (34, 2), (36, 1), (51, 1), (54, 1), (64, 1), (65, 1), (80, 1), (81, 3), (83, 1), (85, 1), (88, 2), (95, 1), (99, 6), (106, 1), (129, 2), (133, 1), (134, 1), (137, 1), (145, 1), (146, 1), (147, 1), (148, 1), (149, 2), (150, 1), (151, 1), (152, 1), (153, 1), (154, 1), (155, 1), (156, 1), (157, 1), (158, 1), (159, 3), (160, 2), (161, 1), (162, 1), (163, 1), (164, 1), (165, 1), (166, 1), (167, 2), (168, 1), (169, 1), (170, 1), (171, 1), (172, 1)], [(0, 2), (2, 1), (8, 1), (17, 1), (19, 1), (31, 1), (36, 1), (65, 1), (88, 1), (99, 2), (109, 1), (157, 1), (183, 1), (216, 1), (261, 1), (302, 1), (401, 1), (421, 1), (475, 1), (552, 1), (620, 1), (671, 1)], [(8, 1), (31, 1), (37, 2), (85, 1), (88, 1), (97, 1), (154, 1), (248, 1), (310, 1), (441, 2), (457, 1), (517, 1), (527, 1), (644, 1), (1302, 1), (1541, 1), (1542, 1)], [(1, 1), (3, 1), (5, 1), (8, 2), (11, 2), (17, 1), (21, 1), (24, 1), (26, 1), (30, 1), (31, 2), (34, 2), (36, 1), (51, 1), (54, 1), (64, 1), (65, 1), (80, 1), (81, 3), (83, 1), (85, 1), (88, 2), (95, 1), (99, 6), (106, 1), (129, 2), (133, 1), (134, 1), (137, 1), (145, 1), (146, 1), (147, 1), (148, 1), (149, 2), (150, 1), (151, 1), (152, 1), (153, 1), (154, 1), (155, 1), (156, 1), (157, 1), (158, 1), (159, 3), (160, 2), (161, 1), (162, 1), (163, 1), (164, 1), (165, 1), (166, 1), (167, 2), (168, 1), (169, 1), (170, 1), (171, 1), (172, 1)], [(97, 1)], [(1, 1), (3, 1), (5, 1), (8, 2), (11, 2), (17, 1), (21, 1), (24, 1), (26, 1), (30, 1), (31, 2), (34, 2), (36, 1), (51, 1), (54, 1), (64, 1), (65, 1), (80, 1), (81, 3), (83, 1), (85, 1), (88, 2), (95, 1), (99, 6), (106, 1), (129, 2), (133, 1), (134, 1), (137, 1), (145, 1), (146, 1), (147, 1), (148, 1), (149, 2), (150, 1), (151, 1), (152, 1), (153, 1), (154, 1), (155, 1), (156, 1), (157, 1), (158, 1), (159, 3), (160, 2), (161, 1), (162, 1), (163, 1), (164, 1), (165, 1), (166, 1), (167, 2), (168, 1), (169, 1), (170, 1), (171, 1), (172, 1)], [(2, 1), (46, 1), (53, 1), (80, 1), (88, 1), (97, 1), (149, 1), (183, 1), (199, 1), (261, 1), (705, 1), (723, 1), (1010, 1), (1014, 1), (1046, 1), (1296, 1)], [(1, 1), (3, 1), (5, 1), (8, 2), (11, 2), (17, 1), (21, 1), (24, 1), (26, 1), (30, 1), (31, 2), (34, 2), (36, 1), (51, 1), (54, 1), (64, 1), (65, 1), (80, 1), (81, 3), (83, 1), (85, 1), (88, 2), (95, 1), (99, 6), (106, 1), (129, 2), (133, 1), (134, 1), (137, 1), (145, 1), (146, 1), (147, 1), (148, 1), (149, 2), (150, 1), (151, 1), (152, 1), (153, 1), (154, 1), (155, 1), (156, 1), (157, 1), (158, 1), (159, 3), (160, 2), (161, 1), (162, 1), (163, 1), (164, 1), (165, 1), (166, 1), (167, 2), (168, 1), (169, 1), (170, 1), (171, 1), (172, 1)], [(24, 1), (34, 1), (37, 1), (53, 1), (65, 1), (88, 1), (99, 1), (114, 1), (159, 1), (183, 1), (230, 1), (585, 1), (945, 1), (1056, 1), (1543, 1), (1544, 1), (1545, 1), (1546, 1)], [(1, 1), (3, 1), (5, 1), (8, 2), (11, 2), (17, 1), (21, 1), (24, 1), (26, 1), (30, 1), (31, 2), (34, 2), (36, 1), (51, 1), (54, 1), (64, 1), (65, 1), (80, 1), (81, 3), (83, 1), (85, 1), (88, 2), (95, 1), (99, 6), (106, 1), (129, 2), (133, 1), (134, 1), (137, 1), (145, 1), (146, 1), (147, 1), (148, 1), (149, 2), (150, 1), (151, 1), (152, 1), (153, 1), (154, 1), (155, 1), (156, 1), (157, 1), (158, 1), (159, 3), (160, 2), (161, 1), (162, 1), (163, 1), (164, 1), (165, 1), (166, 1), (167, 2), (168, 1), (169, 1), (170, 1), (171, 1), (172, 1)], [(8, 1), (31, 1), (39, 1), (41, 1), (45, 1), (64, 1), (80, 1), (81, 1), (91, 1), (110, 1), (124, 1), (149, 1), (197, 1), (218, 1), (302, 1), (341, 1), (349, 1), (389, 1), (401, 2), (569, 1), (674, 1)], [(2, 1), (3, 1), (8, 1), (30, 1), (31, 2), (70, 1), (80, 2), (83, 1), (106, 1), (142, 1), (159, 1), (163, 1), (167, 1), (169, 1), (199, 1), (261, 1), (297, 1), (306, 1), (350, 1), (369, 1), (471, 1), (490, 1), (607, 1), (643, 1), (705, 1), (862, 1), (1409, 2)], [(1, 1), (17, 1), (24, 1), (30, 1), (36, 1), (81, 1), (99, 2), (123, 1), (145, 1), (183, 1), (241, 1), (324, 2), (328, 1), (369, 1), (643, 1), (1046, 1), (1547, 1), (1548, 1)], [(279, 1), (363, 1), (384, 1), (1360, 1), (1549, 1), (1550, 1), (1551, 1), (1552, 1)], [(26, 1), (31, 2), (37, 2), (49, 1), (54, 1), (64, 1), (85, 1), (88, 1), (99, 1), (100, 1), (185, 2), (204, 1), (242, 2), (243, 1), (248, 1), (274, 1), (288, 2), (557, 2), (655, 1), (1553, 1)], [(17, 1), (30, 1), (31, 2), (34, 1), (36, 1), (37, 2), (45, 1), (58, 1), (64, 1), (71, 1), (72, 1), (80, 1), (85, 1), (88, 2), (99, 2), (114, 1), (125, 1), (133, 1), (137, 1), (150, 1), (154, 1), (159, 1), (167, 1), (171, 1), (187, 1), (198, 1), (206, 1), (207, 1), (210, 1), (216, 1), (219, 1), (274, 1), (281, 1), (286, 1), (295, 1), (302, 1), (305, 1), (324, 1), (336, 1), (357, 1), (367, 1), (377, 1), (401, 1), (477, 1), (489, 1), (495, 1), (509, 1), (565, 1), (576, 1), (596, 1), (612, 1), (645, 1), (669, 1), (684, 1), (750, 1), (799, 1), (846, 1), (929, 1), (982, 1), (984, 1), (1014, 1), (1231, 1), (1327, 1), (1333, 1), (1506, 1), (1554, 1), (1555, 1), (1556, 1), (1557, 1), (1558, 1), (1559, 1)], [(2, 1), (8, 1), (37, 1), (85, 1), (88, 1), (114, 1), (133, 1), (134, 1), (137, 1), (149, 1), (183, 1), (204, 1), (264, 1), (345, 1), (461, 1), (657, 1), (964, 1), (993, 1), (1510, 1)], [(0, 1), (11, 1), (16, 1), (37, 1), (49, 1), (54, 1), (66, 1), (70, 1), (85, 1), (109, 1), (114, 1), (133, 1), (134, 1), (137, 1), (142, 1), (145, 1), (149, 2), (161, 1), (203, 1), (258, 1), (261, 1), (288, 1), (316, 1), (366, 1), (514, 1), (550, 1), (559, 1), (795, 1), (950, 1), (1085, 1), (1209, 1), (1560, 1), (1561, 1), (1562, 1), (1563, 1)], [(663, 1), (1123, 1), (1564, 1)], [(1, 1), (3, 1), (5, 1), (8, 2), (11, 2), (17, 1), (21, 1), (24, 1), (26, 1), (30, 1), (31, 2), (34, 2), (36, 1), (51, 1), (54, 1), (64, 1), (65, 1), (80, 1), (81, 3), (83, 1), (85, 1), (88, 2), (95, 1), (99, 6), (106, 1), (129, 2), (133, 1), (134, 1), (137, 1), (145, 1), (146, 1), (147, 1), (148, 1), (149, 2), (150, 1), (151, 1), (152, 1), (153, 1), (154, 1), (155, 1), (156, 1), (157, 1), (158, 1), (159, 3), (160, 2), (161, 1), (162, 1), (163, 1), (164, 1), (165, 1), (166, 1), (167, 2), (168, 1), (169, 1), (170, 1), (171, 1), (172, 1)], [(2, 1), (19, 1), (81, 1), (88, 1), (106, 1), (114, 1), (131, 1), (159, 1), (183, 2), (205, 1), (206, 1), (302, 1), (333, 1), (367, 1), (395, 1), (419, 1), (546, 1), (720, 1), (830, 1), (1519, 1), (1541, 1)], [(31, 1), (261, 1), (288, 1), (495, 1)], [(1, 1), (3, 1), (5, 1), (8, 2), (11, 2), (17, 1), (21, 1), (24, 1), (26, 1), (30, 1), (31, 2), (34, 2), (36, 1), (51, 1), (54, 1), (64, 1), (65, 1), (80, 1), (81, 3), (83, 1), (85, 1), (88, 2), (95, 1), (99, 6), (106, 1), (129, 2), (133, 1), (134, 1), (137, 1), (145, 1), (146, 1), (147, 1), (148, 1), (149, 2), (150, 1), (151, 1), (152, 1), (153, 1), (154, 1), (155, 1), (156, 1), (157, 1), (158, 1), (159, 3), (160, 2), (161, 1), (162, 1), (163, 1), (164, 1), (165, 1), (166, 1), (167, 2), (168, 1), (169, 1), (170, 1), (171, 1), (172, 1)], [(1, 1), (3, 1), (5, 1), (8, 2), (11, 2), (17, 1), (21, 1), (24, 1), (26, 1), (30, 1), (31, 2), (34, 2), (36, 1), (51, 1), (54, 1), (64, 1), (65, 1), (80, 1), (81, 3), (83, 1), (85, 1), (88, 2), (95, 1), (99, 6), (106, 1), (129, 2), (133, 1), (134, 1), (137, 1), (145, 1), (146, 1), (147, 1), (148, 1), (149, 2), (150, 1), (151, 1), (152, 1), (153, 1), (154, 1), (155, 1), (156, 1), (157, 1), (158, 1), (159, 3), (160, 2), (161, 1), (162, 1), (163, 1), (164, 1), (165, 1), (166, 1), (167, 2), (168, 1), (169, 1), (170, 1), (171, 1), (172, 1)], [(2, 1), (24, 1), (31, 1), (159, 1), (490, 1)], [(31, 2), (34, 2), (35, 1), (46, 1), (58, 1), (64, 1), (80, 1), (88, 1), (97, 1), (99, 1), (108, 1), (117, 1), (124, 1), (142, 1), (150, 1), (159, 1), (176, 1), (183, 1), (186, 1), (199, 1), (235, 1), (264, 1), (265, 1), (274, 1), (276, 1), (286, 1), (295, 1), (302, 1), (336, 1), (395, 2), (412, 1), (495, 1), (603, 1), (684, 1), (723, 1), (860, 1), (982, 1), (1247, 1), (1363, 1), (1565, 1), (1566, 1)], [(0, 1), (8, 1), (13, 1), (17, 1), (19, 1), (28, 1), (31, 2), (35, 1), (49, 1), (64, 2), (81, 1), (88, 1), (91, 1), (99, 2), (103, 1), (106, 1), (108, 1), (110, 1), (132, 1), (145, 1), (149, 1), (159, 2), (167, 1), (181, 1), (183, 1), (197, 2), (199, 1), (203, 1), (219, 1), (261, 1), (272, 1), (274, 2), (280, 1), (288, 1), (367, 1), (438, 1), (552, 1), (599, 1), (669, 1), (717, 1), (782, 1), (984, 1), (1059, 1), (1165, 1), (1567, 1), (1568, 1), (1569, 1), (1570, 1), (1571, 1), (1572, 1)]]\n"
     ]
    }
   ],
   "source": [
    "print(doc_term_matrix_description)"
   ]
  },
  {
   "cell_type": "code",
   "execution_count": 33,
   "metadata": {},
   "outputs": [],
   "source": [
    "ldamodel_description = Topic_modelling_LDA(doc_term_matrix_description, dictionary_description, num_topics=3, passes=1)"
   ]
  },
  {
   "cell_type": "code",
   "execution_count": 34,
   "metadata": {},
   "outputs": [
    {
     "name": "stdout",
     "output_type": "stream",
     "text": [
      "ldamodel_description\n"
     ]
    }
   ],
   "source": [
    "print('ldamodel_description')"
   ]
  },
  {
   "cell_type": "code",
   "execution_count": 35,
   "metadata": {},
   "outputs": [
    {
     "name": "stdout",
     "output_type": "stream",
     "text": [
      "Dataframe has 432 rows and 14 columns.\n"
     ]
    },
    {
     "data": {
      "text/html": [
       "<div>\n",
       "<style scoped>\n",
       "    .dataframe tbody tr th:only-of-type {\n",
       "        vertical-align: middle;\n",
       "    }\n",
       "\n",
       "    .dataframe tbody tr th {\n",
       "        vertical-align: top;\n",
       "    }\n",
       "\n",
       "    .dataframe thead th {\n",
       "        text-align: right;\n",
       "    }\n",
       "</style>\n",
       "<table border=\"1\" class=\"dataframe\">\n",
       "  <thead>\n",
       "    <tr style=\"text-align: right;\">\n",
       "      <th></th>\n",
       "      <th>latitude</th>\n",
       "      <th>longitude</th>\n",
       "      <th>bedrooms</th>\n",
       "      <th>bathrooms</th>\n",
       "      <th>finishedSqFt</th>\n",
       "      <th>lotSizeSqFt</th>\n",
       "      <th>yearBuilt</th>\n",
       "      <th>yearUpdated</th>\n",
       "      <th>numFloors</th>\n",
       "      <th>parkingType</th>\n",
       "      <th>heatingSources</th>\n",
       "      <th>heatingSystem</th>\n",
       "      <th>rooms</th>\n",
       "      <th>value</th>\n",
       "    </tr>\n",
       "    <tr>\n",
       "      <th>zpid</th>\n",
       "      <th></th>\n",
       "      <th></th>\n",
       "      <th></th>\n",
       "      <th></th>\n",
       "      <th></th>\n",
       "      <th></th>\n",
       "      <th></th>\n",
       "      <th></th>\n",
       "      <th></th>\n",
       "      <th></th>\n",
       "      <th></th>\n",
       "      <th></th>\n",
       "      <th></th>\n",
       "      <th></th>\n",
       "    </tr>\n",
       "  </thead>\n",
       "  <tbody>\n",
       "    <tr>\n",
       "      <th>40000010</th>\n",
       "      <td>40.648331</td>\n",
       "      <td>-74.390096</td>\n",
       "      <td>3.0</td>\n",
       "      <td>2.0</td>\n",
       "      <td>1415.0</td>\n",
       "      <td>7405.0</td>\n",
       "      <td>1950.0</td>\n",
       "      <td>2008.0</td>\n",
       "      <td>2.0</td>\n",
       "      <td>Garage - Attached</td>\n",
       "      <td>Gas</td>\n",
       "      <td>Baseboard, Other</td>\n",
       "      <td>Office, Workshop, Family room, Laundry room</td>\n",
       "      <td>33111000.0</td>\n",
       "    </tr>\n",
       "    <tr>\n",
       "      <th>40000018</th>\n",
       "      <td>40.648321</td>\n",
       "      <td>-74.389390</td>\n",
       "      <td>3.0</td>\n",
       "      <td>2.0</td>\n",
       "      <td>1610.0</td>\n",
       "      <td>7405.0</td>\n",
       "      <td>1960.0</td>\n",
       "      <td>2008.0</td>\n",
       "      <td>1.0</td>\n",
       "      <td>Garage - Attached</td>\n",
       "      <td>Gas</td>\n",
       "      <td>Forced air</td>\n",
       "      <td>Dining room</td>\n",
       "      <td>18933600.0</td>\n",
       "    </tr>\n",
       "    <tr>\n",
       "      <th>40000025</th>\n",
       "      <td>40.646639</td>\n",
       "      <td>-74.388248</td>\n",
       "      <td>3.0</td>\n",
       "      <td>2.0</td>\n",
       "      <td>1289.0</td>\n",
       "      <td>6969.0</td>\n",
       "      <td>1925.0</td>\n",
       "      <td>2001.0</td>\n",
       "      <td>4.0</td>\n",
       "      <td>Garage - Detached</td>\n",
       "      <td>Gas</td>\n",
       "      <td>Baseboard</td>\n",
       "      <td>Family room, Pantry</td>\n",
       "      <td>59551800.0</td>\n",
       "    </tr>\n",
       "    <tr>\n",
       "      <th>40000028</th>\n",
       "      <td>40.647154</td>\n",
       "      <td>-74.387803</td>\n",
       "      <td>5.0</td>\n",
       "      <td>4.0</td>\n",
       "      <td>3993.0</td>\n",
       "      <td>21052.0</td>\n",
       "      <td>2013.0</td>\n",
       "      <td>2013.0</td>\n",
       "      <td>2.0</td>\n",
       "      <td>Garage - Attached</td>\n",
       "      <td>Gas</td>\n",
       "      <td>Forced air</td>\n",
       "      <td>Dining room, Family room, Laundry room, Master...</td>\n",
       "      <td>321516360.0</td>\n",
       "    </tr>\n",
       "    <tr>\n",
       "      <th>40000029</th>\n",
       "      <td>40.647189</td>\n",
       "      <td>-74.387409</td>\n",
       "      <td>4.0</td>\n",
       "      <td>3.0</td>\n",
       "      <td>1712.0</td>\n",
       "      <td>11848.0</td>\n",
       "      <td>1932.0</td>\n",
       "      <td>2008.0</td>\n",
       "      <td>2.0</td>\n",
       "      <td>Garage - Detached</td>\n",
       "      <td>Gas</td>\n",
       "      <td>Forced air</td>\n",
       "      <td>Dining room, Family room, Master bath, Mud room</td>\n",
       "      <td>79382016.0</td>\n",
       "    </tr>\n",
       "  </tbody>\n",
       "</table>\n",
       "</div>"
      ],
      "text/plain": [
       "           latitude  longitude  bedrooms  bathrooms  finishedSqFt  \\\n",
       "zpid                                                                \n",
       "40000010  40.648331 -74.390096       3.0        2.0        1415.0   \n",
       "40000018  40.648321 -74.389390       3.0        2.0        1610.0   \n",
       "40000025  40.646639 -74.388248       3.0        2.0        1289.0   \n",
       "40000028  40.647154 -74.387803       5.0        4.0        3993.0   \n",
       "40000029  40.647189 -74.387409       4.0        3.0        1712.0   \n",
       "\n",
       "          lotSizeSqFt  yearBuilt  yearUpdated  numFloors        parkingType  \\\n",
       "zpid                                                                          \n",
       "40000010       7405.0     1950.0       2008.0        2.0  Garage - Attached   \n",
       "40000018       7405.0     1960.0       2008.0        1.0  Garage - Attached   \n",
       "40000025       6969.0     1925.0       2001.0        4.0  Garage - Detached   \n",
       "40000028      21052.0     2013.0       2013.0        2.0  Garage - Attached   \n",
       "40000029      11848.0     1932.0       2008.0        2.0  Garage - Detached   \n",
       "\n",
       "         heatingSources     heatingSystem  \\\n",
       "zpid                                        \n",
       "40000010            Gas  Baseboard, Other   \n",
       "40000018            Gas        Forced air   \n",
       "40000025            Gas         Baseboard   \n",
       "40000028            Gas        Forced air   \n",
       "40000029            Gas        Forced air   \n",
       "\n",
       "                                                      rooms        value  \n",
       "zpid                                                                      \n",
       "40000010        Office, Workshop, Family room, Laundry room   33111000.0  \n",
       "40000018                                        Dining room   18933600.0  \n",
       "40000025                                Family room, Pantry   59551800.0  \n",
       "40000028  Dining room, Family room, Laundry room, Master...  321516360.0  \n",
       "40000029    Dining room, Family room, Master bath, Mud room   79382016.0  "
      ]
     },
     "execution_count": 35,
     "metadata": {},
     "output_type": "execute_result"
    }
   ],
   "source": [
    "print(\"Dataframe has {} rows and {} columns.\".format(*df.shape))\n",
    "df.head()"
   ]
  },
  {
   "cell_type": "code",
   "execution_count": 36,
   "metadata": {},
   "outputs": [
    {
     "name": "stdout",
     "output_type": "stream",
     "text": [
      "Dataframe has 432 rows and 236 columns.\n"
     ]
    }
   ],
   "source": [
    "# Dummy encoding\n",
    "categorical_features = ['parkingType', 'heatingSources', 'heatingSystem', 'rooms' ]\n",
    "df = pd.get_dummies(df, columns=categorical_features, drop_first=False)\n",
    "print(\"Dataframe has {} rows and {} columns.\".format(*df.shape))"
   ]
  },
  {
   "cell_type": "code",
   "execution_count": 37,
   "metadata": {},
   "outputs": [
    {
     "data": {
      "text/html": [
       "<div>\n",
       "<style scoped>\n",
       "    .dataframe tbody tr th:only-of-type {\n",
       "        vertical-align: middle;\n",
       "    }\n",
       "\n",
       "    .dataframe tbody tr th {\n",
       "        vertical-align: top;\n",
       "    }\n",
       "\n",
       "    .dataframe thead th {\n",
       "        text-align: right;\n",
       "    }\n",
       "</style>\n",
       "<table border=\"1\" class=\"dataframe\">\n",
       "  <thead>\n",
       "    <tr style=\"text-align: right;\">\n",
       "      <th></th>\n",
       "      <th>latitude</th>\n",
       "      <th>longitude</th>\n",
       "      <th>bedrooms</th>\n",
       "      <th>bathrooms</th>\n",
       "      <th>finishedSqFt</th>\n",
       "      <th>lotSizeSqFt</th>\n",
       "      <th>yearBuilt</th>\n",
       "      <th>yearUpdated</th>\n",
       "      <th>numFloors</th>\n",
       "      <th>value</th>\n",
       "      <th>...</th>\n",
       "      <th>rooms_Pantry, Family room, Laundry room, Dining room</th>\n",
       "      <th>rooms_Recreation room, Dining room, Laundry room</th>\n",
       "      <th>rooms_Recreation room, Sun room</th>\n",
       "      <th>rooms_Sun room</th>\n",
       "      <th>rooms_Sun room, Dining room</th>\n",
       "      <th>rooms_Sun room, Family room</th>\n",
       "      <th>rooms_Walk-in closet</th>\n",
       "      <th>rooms_Walk-in closet, Family room, Dining room</th>\n",
       "      <th>rooms_Walk-in closet, Master bath, Laundry room, Family room, Dining room</th>\n",
       "      <th>rooms_Workshop, Family room, Laundry room, Dining room</th>\n",
       "    </tr>\n",
       "    <tr>\n",
       "      <th>zpid</th>\n",
       "      <th></th>\n",
       "      <th></th>\n",
       "      <th></th>\n",
       "      <th></th>\n",
       "      <th></th>\n",
       "      <th></th>\n",
       "      <th></th>\n",
       "      <th></th>\n",
       "      <th></th>\n",
       "      <th></th>\n",
       "      <th></th>\n",
       "      <th></th>\n",
       "      <th></th>\n",
       "      <th></th>\n",
       "      <th></th>\n",
       "      <th></th>\n",
       "      <th></th>\n",
       "      <th></th>\n",
       "      <th></th>\n",
       "      <th></th>\n",
       "      <th></th>\n",
       "    </tr>\n",
       "  </thead>\n",
       "  <tbody>\n",
       "    <tr>\n",
       "      <th>40000010</th>\n",
       "      <td>40.648331</td>\n",
       "      <td>-74.390096</td>\n",
       "      <td>3.0</td>\n",
       "      <td>2.0</td>\n",
       "      <td>1415.0</td>\n",
       "      <td>7405.0</td>\n",
       "      <td>1950.0</td>\n",
       "      <td>2008.0</td>\n",
       "      <td>2.0</td>\n",
       "      <td>33111000.0</td>\n",
       "      <td>...</td>\n",
       "      <td>0</td>\n",
       "      <td>0</td>\n",
       "      <td>0</td>\n",
       "      <td>0</td>\n",
       "      <td>0</td>\n",
       "      <td>0</td>\n",
       "      <td>0</td>\n",
       "      <td>0</td>\n",
       "      <td>0</td>\n",
       "      <td>0</td>\n",
       "    </tr>\n",
       "    <tr>\n",
       "      <th>40000018</th>\n",
       "      <td>40.648321</td>\n",
       "      <td>-74.389390</td>\n",
       "      <td>3.0</td>\n",
       "      <td>2.0</td>\n",
       "      <td>1610.0</td>\n",
       "      <td>7405.0</td>\n",
       "      <td>1960.0</td>\n",
       "      <td>2008.0</td>\n",
       "      <td>1.0</td>\n",
       "      <td>18933600.0</td>\n",
       "      <td>...</td>\n",
       "      <td>0</td>\n",
       "      <td>0</td>\n",
       "      <td>0</td>\n",
       "      <td>0</td>\n",
       "      <td>0</td>\n",
       "      <td>0</td>\n",
       "      <td>0</td>\n",
       "      <td>0</td>\n",
       "      <td>0</td>\n",
       "      <td>0</td>\n",
       "    </tr>\n",
       "    <tr>\n",
       "      <th>40000025</th>\n",
       "      <td>40.646639</td>\n",
       "      <td>-74.388248</td>\n",
       "      <td>3.0</td>\n",
       "      <td>2.0</td>\n",
       "      <td>1289.0</td>\n",
       "      <td>6969.0</td>\n",
       "      <td>1925.0</td>\n",
       "      <td>2001.0</td>\n",
       "      <td>4.0</td>\n",
       "      <td>59551800.0</td>\n",
       "      <td>...</td>\n",
       "      <td>0</td>\n",
       "      <td>0</td>\n",
       "      <td>0</td>\n",
       "      <td>0</td>\n",
       "      <td>0</td>\n",
       "      <td>0</td>\n",
       "      <td>0</td>\n",
       "      <td>0</td>\n",
       "      <td>0</td>\n",
       "      <td>0</td>\n",
       "    </tr>\n",
       "    <tr>\n",
       "      <th>40000028</th>\n",
       "      <td>40.647154</td>\n",
       "      <td>-74.387803</td>\n",
       "      <td>5.0</td>\n",
       "      <td>4.0</td>\n",
       "      <td>3993.0</td>\n",
       "      <td>21052.0</td>\n",
       "      <td>2013.0</td>\n",
       "      <td>2013.0</td>\n",
       "      <td>2.0</td>\n",
       "      <td>321516360.0</td>\n",
       "      <td>...</td>\n",
       "      <td>0</td>\n",
       "      <td>0</td>\n",
       "      <td>0</td>\n",
       "      <td>0</td>\n",
       "      <td>0</td>\n",
       "      <td>0</td>\n",
       "      <td>0</td>\n",
       "      <td>0</td>\n",
       "      <td>0</td>\n",
       "      <td>0</td>\n",
       "    </tr>\n",
       "    <tr>\n",
       "      <th>40000029</th>\n",
       "      <td>40.647189</td>\n",
       "      <td>-74.387409</td>\n",
       "      <td>4.0</td>\n",
       "      <td>3.0</td>\n",
       "      <td>1712.0</td>\n",
       "      <td>11848.0</td>\n",
       "      <td>1932.0</td>\n",
       "      <td>2008.0</td>\n",
       "      <td>2.0</td>\n",
       "      <td>79382016.0</td>\n",
       "      <td>...</td>\n",
       "      <td>0</td>\n",
       "      <td>0</td>\n",
       "      <td>0</td>\n",
       "      <td>0</td>\n",
       "      <td>0</td>\n",
       "      <td>0</td>\n",
       "      <td>0</td>\n",
       "      <td>0</td>\n",
       "      <td>0</td>\n",
       "      <td>0</td>\n",
       "    </tr>\n",
       "  </tbody>\n",
       "</table>\n",
       "<p>5 rows × 236 columns</p>\n",
       "</div>"
      ],
      "text/plain": [
       "           latitude  longitude  bedrooms  bathrooms  finishedSqFt  \\\n",
       "zpid                                                                \n",
       "40000010  40.648331 -74.390096       3.0        2.0        1415.0   \n",
       "40000018  40.648321 -74.389390       3.0        2.0        1610.0   \n",
       "40000025  40.646639 -74.388248       3.0        2.0        1289.0   \n",
       "40000028  40.647154 -74.387803       5.0        4.0        3993.0   \n",
       "40000029  40.647189 -74.387409       4.0        3.0        1712.0   \n",
       "\n",
       "          lotSizeSqFt  yearBuilt  yearUpdated  numFloors        value  \\\n",
       "zpid                                                                    \n",
       "40000010       7405.0     1950.0       2008.0        2.0   33111000.0   \n",
       "40000018       7405.0     1960.0       2008.0        1.0   18933600.0   \n",
       "40000025       6969.0     1925.0       2001.0        4.0   59551800.0   \n",
       "40000028      21052.0     2013.0       2013.0        2.0  321516360.0   \n",
       "40000029      11848.0     1932.0       2008.0        2.0   79382016.0   \n",
       "\n",
       "                                   ...                            \\\n",
       "zpid                               ...                             \n",
       "40000010                           ...                             \n",
       "40000018                           ...                             \n",
       "40000025                           ...                             \n",
       "40000028                           ...                             \n",
       "40000029                           ...                             \n",
       "\n",
       "          rooms_Pantry, Family room, Laundry room, Dining room  \\\n",
       "zpid                                                             \n",
       "40000010                                                  0      \n",
       "40000018                                                  0      \n",
       "40000025                                                  0      \n",
       "40000028                                                  0      \n",
       "40000029                                                  0      \n",
       "\n",
       "          rooms_Recreation room, Dining room, Laundry room  \\\n",
       "zpid                                                         \n",
       "40000010                                                 0   \n",
       "40000018                                                 0   \n",
       "40000025                                                 0   \n",
       "40000028                                                 0   \n",
       "40000029                                                 0   \n",
       "\n",
       "          rooms_Recreation room, Sun room  rooms_Sun room  \\\n",
       "zpid                                                        \n",
       "40000010                                0               0   \n",
       "40000018                                0               0   \n",
       "40000025                                0               0   \n",
       "40000028                                0               0   \n",
       "40000029                                0               0   \n",
       "\n",
       "          rooms_Sun room, Dining room  rooms_Sun room, Family room  \\\n",
       "zpid                                                                 \n",
       "40000010                            0                            0   \n",
       "40000018                            0                            0   \n",
       "40000025                            0                            0   \n",
       "40000028                            0                            0   \n",
       "40000029                            0                            0   \n",
       "\n",
       "          rooms_Walk-in closet  \\\n",
       "zpid                             \n",
       "40000010                     0   \n",
       "40000018                     0   \n",
       "40000025                     0   \n",
       "40000028                     0   \n",
       "40000029                     0   \n",
       "\n",
       "          rooms_Walk-in closet, Family room, Dining room  \\\n",
       "zpid                                                       \n",
       "40000010                                               0   \n",
       "40000018                                               0   \n",
       "40000025                                               0   \n",
       "40000028                                               0   \n",
       "40000029                                               0   \n",
       "\n",
       "          rooms_Walk-in closet, Master bath, Laundry room, Family room, Dining room  \\\n",
       "zpid                                                                                  \n",
       "40000010                                                  0                           \n",
       "40000018                                                  0                           \n",
       "40000025                                                  0                           \n",
       "40000028                                                  0                           \n",
       "40000029                                                  0                           \n",
       "\n",
       "          rooms_Workshop, Family room, Laundry room, Dining room  \n",
       "zpid                                                              \n",
       "40000010                                                  0       \n",
       "40000018                                                  0       \n",
       "40000025                                                  0       \n",
       "40000028                                                  0       \n",
       "40000029                                                  0       \n",
       "\n",
       "[5 rows x 236 columns]"
      ]
     },
     "execution_count": 37,
     "metadata": {},
     "output_type": "execute_result"
    }
   ],
   "source": [
    "df.head()"
   ]
  },
  {
   "cell_type": "code",
   "execution_count": 38,
   "metadata": {},
   "outputs": [],
   "source": [
    "# Create response and target variable\n",
    "target = 'value'\n",
    "X = df.drop(target, axis=1)\n",
    "y = df[target]"
   ]
  },
  {
   "cell_type": "code",
   "execution_count": 39,
   "metadata": {},
   "outputs": [],
   "source": [
    "# Train test split\n",
    "test_size = 0.2\n",
    "seed = 50\n",
    "\n",
    "X_train, X_test, y_train, y_test = train_test_split(X, y, test_size=test_size, random_state=seed)"
   ]
  },
  {
   "cell_type": "markdown",
   "metadata": {},
   "source": [
    "#### Linear Regression Model"
   ]
  },
  {
   "cell_type": "code",
   "execution_count": 40,
   "metadata": {},
   "outputs": [],
   "source": [
    "#Linear Regression\n",
    "from sklearn import linear_model\n",
    "from sklearn.metrics import mean_squared_error, r2_score"
   ]
  },
  {
   "cell_type": "code",
   "execution_count": 41,
   "metadata": {},
   "outputs": [
    {
     "data": {
      "text/plain": [
       "LinearRegression(copy_X=True, fit_intercept=True, n_jobs=1, normalize=False)"
      ]
     },
     "execution_count": 41,
     "metadata": {},
     "output_type": "execute_result"
    }
   ],
   "source": [
    "# Create linear regression object\n",
    "regr = linear_model.LinearRegression()\n",
    "\n",
    "# Train the model using the training sets\n",
    "regr.fit(X_train, y_train)"
   ]
  },
  {
   "cell_type": "code",
   "execution_count": 42,
   "metadata": {},
   "outputs": [],
   "source": [
    "# Make predictions using the testing set\n",
    "regr_y_pred = regr.predict(X_test)"
   ]
  },
  {
   "cell_type": "markdown",
   "metadata": {},
   "source": [
    "#### Model evaluation"
   ]
  },
  {
   "cell_type": "code",
   "execution_count": 43,
   "metadata": {},
   "outputs": [
    {
     "name": "stdout",
     "output_type": "stream",
     "text": [
      "Mean squared error: 1640510620470902.75\n",
      "Variance score: 0.50\n"
     ]
    }
   ],
   "source": [
    "# The mean squared error\n",
    "print(\"Mean squared error: %.2f\" % mean_squared_error(y_test, regr_y_pred))\n",
    "# Explained variance score: 1 is perfect prediction\n",
    "print('Variance score: %.2f' % r2_score(y_test, regr_y_pred))"
   ]
  },
  {
   "cell_type": "markdown",
   "metadata": {},
   "source": [
    "##### Bag of Words - Most popular terms"
   ]
  },
  {
   "cell_type": "code",
   "execution_count": 44,
   "metadata": {},
   "outputs": [
    {
     "data": {
      "text/plain": [
       "[('room', 1243),\n",
       " ('floor', 624),\n",
       " ('full', 602),\n",
       " ('home', 551),\n",
       " ('kitchen', 518),\n",
       " ('bath', 438),\n",
       " ('large', 412),\n",
       " ('bedroom', 399),\n",
       " ('spacious', 379),\n",
       " ('closet', 346),\n",
       " ('powder', 327),\n",
       " ('location!', 316),\n",
       " ('basement', 256),\n",
       " ('train', 253),\n",
       " ('family', 251),\n",
       " ('living', 249),\n",
       " ('dining', 238),\n",
       " ('fireplace', 225),\n",
       " ('walk', 225),\n",
       " ('granite', 224)]"
      ]
     },
     "execution_count": 44,
     "metadata": {},
     "output_type": "execute_result"
    }
   ],
   "source": [
    "# BOW across all listings\n",
    "bow = Counter(itertools.chain(*modified_corpus_description))\n",
    "bow.most_common(20)"
   ]
  },
  {
   "cell_type": "code",
   "execution_count": 45,
   "metadata": {},
   "outputs": [
    {
     "name": "stdout",
     "output_type": "stream",
     "text": [
      "room 6\n",
      "floor 3\n",
      "full 3\n",
      "bath 2\n",
      "closet 2\n"
     ]
    }
   ],
   "source": [
    "# Top 5 BOW per listing\n",
    "doc = doc_term_matrix_description[225]\n",
    "bow_doc = sorted(doc, key=lambda w: w[1], reverse=True)\n",
    "for word_id, word_count in bow_doc[:5]:\n",
    "    print(dictionary_description.get(word_id), word_count)"
   ]
  },
  {
   "cell_type": "markdown",
   "metadata": {},
   "source": [
    "#### TF-IDF"
   ]
  },
  {
   "cell_type": "code",
   "execution_count": 46,
   "metadata": {},
   "outputs": [
    {
     "name": "stdout",
     "output_type": "stream",
     "text": [
      "[(99, 0.2926902578378842), (160, 0.24865296816227064), (129, 0.23053719169924067), (11, 0.20957376659320676), (159, 0.20647593923939114)]\n"
     ]
    }
   ],
   "source": [
    "# TF-IDF model fitted on corpus, showing per doc\n",
    "tfidf = TfidfModel(doc_term_matrix_description)\n",
    "tfidf_weights = tfidf[doc]\n",
    "sorted_tfidf_weights = sorted(tfidf_weights, key=lambda w: w[1], reverse=True)\n",
    "print(sorted_tfidf_weights[:5])\n"
   ]
  },
  {
   "cell_type": "code",
   "execution_count": 47,
   "metadata": {},
   "outputs": [
    {
     "name": "stdout",
     "output_type": "stream",
     "text": [
      "exquisite\n"
     ]
    }
   ],
   "source": [
    "print(dictionary_description.get(158))"
   ]
  }
 ],
 "metadata": {
  "kernelspec": {
   "display_name": "Python 3",
   "language": "python",
   "name": "python3"
  },
  "language_info": {
   "codemirror_mode": {
    "name": "ipython",
    "version": 3
   },
   "file_extension": ".py",
   "mimetype": "text/x-python",
   "name": "python",
   "nbconvert_exporter": "python",
   "pygments_lexer": "ipython3",
   "version": "3.6.5"
  }
 },
 "nbformat": 4,
 "nbformat_minor": 2
}
