{
 "cells": [
  {
   "cell_type": "code",
   "execution_count": 4,
   "metadata": {},
   "outputs": [],
   "source": [
    "import pandas as pd\n",
    "import os\n",
    "import re\n",
    "import numpy as np\n",
    "import seaborn as sns\n",
    "import matplotlib as mpl\n",
    "import matplotlib.pyplot as plt\n",
    "\n",
    "from sklearn.preprocessing import Imputer\n",
    "from sklearn.model_selection import cross_val_score\n",
    "from sklearn.model_selection import train_test_split"
   ]
  },
  {
   "cell_type": "code",
   "execution_count": 5,
   "metadata": {},
   "outputs": [
    {
     "data": {
      "text/html": [
       "<div>\n",
       "<style scoped>\n",
       "    .dataframe tbody tr th:only-of-type {\n",
       "        vertical-align: middle;\n",
       "    }\n",
       "\n",
       "    .dataframe tbody tr th {\n",
       "        vertical-align: top;\n",
       "    }\n",
       "\n",
       "    .dataframe thead th {\n",
       "        text-align: right;\n",
       "    }\n",
       "</style>\n",
       "<table border=\"1\" class=\"dataframe\">\n",
       "  <thead>\n",
       "    <tr style=\"text-align: right;\">\n",
       "      <th></th>\n",
       "      <th>street</th>\n",
       "      <th>zipcode</th>\n",
       "      <th>city</th>\n",
       "      <th>state</th>\n",
       "      <th>latitude</th>\n",
       "      <th>longitude</th>\n",
       "      <th>price</th>\n",
       "      <th>bedrooms</th>\n",
       "      <th>bathrooms</th>\n",
       "      <th>finishedSqFt</th>\n",
       "      <th>...</th>\n",
       "      <th>yearUpdated</th>\n",
       "      <th>numFloors</th>\n",
       "      <th>view</th>\n",
       "      <th>parkingType</th>\n",
       "      <th>heatingSources</th>\n",
       "      <th>heatingSystem</th>\n",
       "      <th>rooms</th>\n",
       "      <th>neighborhood</th>\n",
       "      <th>schoolDistrict</th>\n",
       "      <th>homeDescription</th>\n",
       "    </tr>\n",
       "    <tr>\n",
       "      <th>zpid</th>\n",
       "      <th></th>\n",
       "      <th></th>\n",
       "      <th></th>\n",
       "      <th></th>\n",
       "      <th></th>\n",
       "      <th></th>\n",
       "      <th></th>\n",
       "      <th></th>\n",
       "      <th></th>\n",
       "      <th></th>\n",
       "      <th></th>\n",
       "      <th></th>\n",
       "      <th></th>\n",
       "      <th></th>\n",
       "      <th></th>\n",
       "      <th></th>\n",
       "      <th></th>\n",
       "      <th></th>\n",
       "      <th></th>\n",
       "      <th></th>\n",
       "      <th></th>\n",
       "    </tr>\n",
       "  </thead>\n",
       "  <tbody>\n",
       "    <tr>\n",
       "      <th>40000003</th>\n",
       "      <td>60 Montrose Ave</td>\n",
       "      <td>7023.0</td>\n",
       "      <td>FANWOOD</td>\n",
       "      <td>NJ</td>\n",
       "      <td>40.649677</td>\n",
       "      <td>-74.389070</td>\n",
       "      <td>NaN</td>\n",
       "      <td>3.0</td>\n",
       "      <td>1.5</td>\n",
       "      <td>NaN</td>\n",
       "      <td>...</td>\n",
       "      <td>NaN</td>\n",
       "      <td>NaN</td>\n",
       "      <td>NaN</td>\n",
       "      <td>NaN</td>\n",
       "      <td>NaN</td>\n",
       "      <td>NaN</td>\n",
       "      <td>NaN</td>\n",
       "      <td>NaN</td>\n",
       "      <td>NaN</td>\n",
       "      <td>Beautifully maintained and landscaped home con...</td>\n",
       "    </tr>\n",
       "    <tr>\n",
       "      <th>40000004</th>\n",
       "      <td>117 Pleasant Ave</td>\n",
       "      <td>7023.0</td>\n",
       "      <td>FANWOOD</td>\n",
       "      <td>NJ</td>\n",
       "      <td>40.649500</td>\n",
       "      <td>-74.388788</td>\n",
       "      <td>NaN</td>\n",
       "      <td>4.0</td>\n",
       "      <td>2.5</td>\n",
       "      <td>1641.0</td>\n",
       "      <td>...</td>\n",
       "      <td>NaN</td>\n",
       "      <td>NaN</td>\n",
       "      <td>NaN</td>\n",
       "      <td>NaN</td>\n",
       "      <td>NaN</td>\n",
       "      <td>NaN</td>\n",
       "      <td>NaN</td>\n",
       "      <td>NaN</td>\n",
       "      <td>NaN</td>\n",
       "      <td>NaN</td>\n",
       "    </tr>\n",
       "    <tr>\n",
       "      <th>40000009</th>\n",
       "      <td>79 Pleasant Ave</td>\n",
       "      <td>7023.0</td>\n",
       "      <td>FANWOOD</td>\n",
       "      <td>NJ</td>\n",
       "      <td>40.648488</td>\n",
       "      <td>-74.389920</td>\n",
       "      <td>NaN</td>\n",
       "      <td>4.0</td>\n",
       "      <td>2.5</td>\n",
       "      <td>1969.0</td>\n",
       "      <td>...</td>\n",
       "      <td>NaN</td>\n",
       "      <td>NaN</td>\n",
       "      <td>NaN</td>\n",
       "      <td>NaN</td>\n",
       "      <td>NaN</td>\n",
       "      <td>NaN</td>\n",
       "      <td>NaN</td>\n",
       "      <td>NaN</td>\n",
       "      <td>NaN</td>\n",
       "      <td>Totally renovated colonial, open floor plan, h...</td>\n",
       "    </tr>\n",
       "    <tr>\n",
       "      <th>40000010</th>\n",
       "      <td>75 Pleasant Ave</td>\n",
       "      <td>7023.0</td>\n",
       "      <td>FANWOOD</td>\n",
       "      <td>NJ</td>\n",
       "      <td>40.648331</td>\n",
       "      <td>-74.390096</td>\n",
       "      <td>NaN</td>\n",
       "      <td>3.0</td>\n",
       "      <td>2.0</td>\n",
       "      <td>1415.0</td>\n",
       "      <td>...</td>\n",
       "      <td>NaN</td>\n",
       "      <td>2.0</td>\n",
       "      <td>NaN</td>\n",
       "      <td>Garage - Attached</td>\n",
       "      <td>Gas</td>\n",
       "      <td>Baseboard, Other</td>\n",
       "      <td>Office, Workshop, Family room, Laundry room</td>\n",
       "      <td>NaN</td>\n",
       "      <td>NaN</td>\n",
       "      <td>NEW PRICE!!!!! POSSIBILITIES ARE ENDLESS FOR S...</td>\n",
       "    </tr>\n",
       "    <tr>\n",
       "      <th>40000012</th>\n",
       "      <td>61 Pleasant Ave</td>\n",
       "      <td>7023.0</td>\n",
       "      <td>FANWOOD</td>\n",
       "      <td>NJ</td>\n",
       "      <td>40.648016</td>\n",
       "      <td>-74.390447</td>\n",
       "      <td>NaN</td>\n",
       "      <td>4.0</td>\n",
       "      <td>2.0</td>\n",
       "      <td>1356.0</td>\n",
       "      <td>...</td>\n",
       "      <td>NaN</td>\n",
       "      <td>NaN</td>\n",
       "      <td>NaN</td>\n",
       "      <td>NaN</td>\n",
       "      <td>NaN</td>\n",
       "      <td>NaN</td>\n",
       "      <td>NaN</td>\n",
       "      <td>NaN</td>\n",
       "      <td>NaN</td>\n",
       "      <td>Charming Cape Cod Style home with an Oversized...</td>\n",
       "    </tr>\n",
       "  </tbody>\n",
       "</table>\n",
       "<p>5 rows × 22 columns</p>\n",
       "</div>"
      ],
      "text/plain": [
       "                   street    zipcode     city   state    latitude   \\\n",
       "zpid                                                                 \n",
       "40000003   60 Montrose Ave     7023.0  FANWOOD      NJ   40.649677   \n",
       "40000004  117 Pleasant Ave     7023.0  FANWOOD      NJ   40.649500   \n",
       "40000009   79 Pleasant Ave     7023.0  FANWOOD      NJ   40.648488   \n",
       "40000010   75 Pleasant Ave     7023.0  FANWOOD      NJ   40.648331   \n",
       "40000012   61 Pleasant Ave     7023.0  FANWOOD      NJ   40.648016   \n",
       "\n",
       "           longitude    price    bedrooms    bathrooms    finishedSqFt   \\\n",
       "zpid                                                                      \n",
       "40000003   -74.389070      NaN         3.0          1.5             NaN   \n",
       "40000004   -74.388788      NaN         4.0          2.5          1641.0   \n",
       "40000009   -74.389920      NaN         4.0          2.5          1969.0   \n",
       "40000010   -74.390096      NaN         3.0          2.0          1415.0   \n",
       "40000012   -74.390447      NaN         4.0          2.0          1356.0   \n",
       "\n",
       "                                ...                           yearUpdated   \\\n",
       "zpid                            ...                                          \n",
       "40000003                        ...                                    NaN   \n",
       "40000004                        ...                                    NaN   \n",
       "40000009                        ...                                    NaN   \n",
       "40000010                        ...                                    NaN   \n",
       "40000012                        ...                                    NaN   \n",
       "\n",
       "           numFloors    view        parkingType   heatingSources   \\\n",
       "zpid                                                                \n",
       "40000003          NaN     NaN                NaN              NaN   \n",
       "40000004          NaN     NaN                NaN              NaN   \n",
       "40000009          NaN     NaN                NaN              NaN   \n",
       "40000010          2.0     NaN  Garage - Attached              Gas   \n",
       "40000012          NaN     NaN                NaN              NaN   \n",
       "\n",
       "            heatingSystem                                        rooms   \\\n",
       "zpid                                                                      \n",
       "40000003               NaN                                          NaN   \n",
       "40000004               NaN                                          NaN   \n",
       "40000009               NaN                                          NaN   \n",
       "40000010  Baseboard, Other  Office, Workshop, Family room, Laundry room   \n",
       "40000012               NaN                                          NaN   \n",
       "\n",
       "          neighborhood   schoolDistrict   \\\n",
       "zpid                                       \n",
       "40000003            NaN              NaN   \n",
       "40000004            NaN              NaN   \n",
       "40000009            NaN              NaN   \n",
       "40000010            NaN              NaN   \n",
       "40000012            NaN              NaN   \n",
       "\n",
       "                                           homeDescription   \n",
       "zpid                                                         \n",
       "40000003  Beautifully maintained and landscaped home con...  \n",
       "40000004                                                NaN  \n",
       "40000009  Totally renovated colonial, open floor plan, h...  \n",
       "40000010  NEW PRICE!!!!! POSSIBILITIES ARE ENDLESS FOR S...  \n",
       "40000012  Charming Cape Cod Style home with an Oversized...  \n",
       "\n",
       "[5 rows x 22 columns]"
      ]
     },
     "execution_count": 5,
     "metadata": {},
     "output_type": "execute_result"
    }
   ],
   "source": [
    "df = pd.read_csv('HousingData_Zillow_final.csv',  encoding='latin-1',header=0, index_col=0)\n",
    "df.head()"
   ]
  },
  {
   "cell_type": "code",
   "execution_count": 6,
   "metadata": {},
   "outputs": [
    {
     "name": "stdout",
     "output_type": "stream",
     "text": [
      "Dataframe has 1063 rows and 22 columns.\n"
     ]
    }
   ],
   "source": [
    "print(\"Dataframe has {} rows and {} columns.\".format(*df.shape))"
   ]
  },
  {
   "cell_type": "code",
   "execution_count": 7,
   "metadata": {},
   "outputs": [],
   "source": [
    "df.columns = df.columns.to_series().apply(lambda x: x.strip())"
   ]
  },
  {
   "cell_type": "code",
   "execution_count": 8,
   "metadata": {},
   "outputs": [
    {
     "name": "stdout",
     "output_type": "stream",
     "text": [
      "Dataframe has 1063 rows and 14 columns.\n"
     ]
    },
    {
     "data": {
      "text/html": [
       "<div>\n",
       "<style scoped>\n",
       "    .dataframe tbody tr th:only-of-type {\n",
       "        vertical-align: middle;\n",
       "    }\n",
       "\n",
       "    .dataframe tbody tr th {\n",
       "        vertical-align: top;\n",
       "    }\n",
       "\n",
       "    .dataframe thead th {\n",
       "        text-align: right;\n",
       "    }\n",
       "</style>\n",
       "<table border=\"1\" class=\"dataframe\">\n",
       "  <thead>\n",
       "    <tr style=\"text-align: right;\">\n",
       "      <th></th>\n",
       "      <th>homeDescription</th>\n",
       "      <th>latitude</th>\n",
       "      <th>longitude</th>\n",
       "      <th>bedrooms</th>\n",
       "      <th>bathrooms</th>\n",
       "      <th>finishedSqFt</th>\n",
       "      <th>lotSizeSqFt</th>\n",
       "      <th>yearBuilt</th>\n",
       "      <th>yearUpdated</th>\n",
       "      <th>numFloors</th>\n",
       "      <th>parkingType</th>\n",
       "      <th>heatingSources</th>\n",
       "      <th>heatingSystem</th>\n",
       "      <th>rooms</th>\n",
       "    </tr>\n",
       "    <tr>\n",
       "      <th>zpid</th>\n",
       "      <th></th>\n",
       "      <th></th>\n",
       "      <th></th>\n",
       "      <th></th>\n",
       "      <th></th>\n",
       "      <th></th>\n",
       "      <th></th>\n",
       "      <th></th>\n",
       "      <th></th>\n",
       "      <th></th>\n",
       "      <th></th>\n",
       "      <th></th>\n",
       "      <th></th>\n",
       "      <th></th>\n",
       "    </tr>\n",
       "  </thead>\n",
       "  <tbody>\n",
       "    <tr>\n",
       "      <th>40000003</th>\n",
       "      <td>Beautifully maintained and landscaped home con...</td>\n",
       "      <td>40.649677</td>\n",
       "      <td>-74.389070</td>\n",
       "      <td>3.0</td>\n",
       "      <td>1.5</td>\n",
       "      <td>NaN</td>\n",
       "      <td>10454.0</td>\n",
       "      <td>1964.0</td>\n",
       "      <td>NaN</td>\n",
       "      <td>NaN</td>\n",
       "      <td>NaN</td>\n",
       "      <td>NaN</td>\n",
       "      <td>NaN</td>\n",
       "      <td>NaN</td>\n",
       "    </tr>\n",
       "    <tr>\n",
       "      <th>40000004</th>\n",
       "      <td>NaN</td>\n",
       "      <td>40.649500</td>\n",
       "      <td>-74.388788</td>\n",
       "      <td>4.0</td>\n",
       "      <td>2.5</td>\n",
       "      <td>1641.0</td>\n",
       "      <td>9583.0</td>\n",
       "      <td>1951.0</td>\n",
       "      <td>NaN</td>\n",
       "      <td>NaN</td>\n",
       "      <td>NaN</td>\n",
       "      <td>NaN</td>\n",
       "      <td>NaN</td>\n",
       "      <td>NaN</td>\n",
       "    </tr>\n",
       "    <tr>\n",
       "      <th>40000009</th>\n",
       "      <td>Totally renovated colonial, open floor plan, h...</td>\n",
       "      <td>40.648488</td>\n",
       "      <td>-74.389920</td>\n",
       "      <td>4.0</td>\n",
       "      <td>2.5</td>\n",
       "      <td>1969.0</td>\n",
       "      <td>7501.0</td>\n",
       "      <td>1950.0</td>\n",
       "      <td>NaN</td>\n",
       "      <td>NaN</td>\n",
       "      <td>NaN</td>\n",
       "      <td>NaN</td>\n",
       "      <td>NaN</td>\n",
       "      <td>NaN</td>\n",
       "    </tr>\n",
       "    <tr>\n",
       "      <th>40000010</th>\n",
       "      <td>NEW PRICE!!!!! POSSIBILITIES ARE ENDLESS FOR S...</td>\n",
       "      <td>40.648331</td>\n",
       "      <td>-74.390096</td>\n",
       "      <td>3.0</td>\n",
       "      <td>2.0</td>\n",
       "      <td>1415.0</td>\n",
       "      <td>7405.0</td>\n",
       "      <td>1950.0</td>\n",
       "      <td>NaN</td>\n",
       "      <td>2.0</td>\n",
       "      <td>Garage - Attached</td>\n",
       "      <td>Gas</td>\n",
       "      <td>Baseboard, Other</td>\n",
       "      <td>Office, Workshop, Family room, Laundry room</td>\n",
       "    </tr>\n",
       "    <tr>\n",
       "      <th>40000012</th>\n",
       "      <td>Charming Cape Cod Style home with an Oversized...</td>\n",
       "      <td>40.648016</td>\n",
       "      <td>-74.390447</td>\n",
       "      <td>4.0</td>\n",
       "      <td>2.0</td>\n",
       "      <td>1356.0</td>\n",
       "      <td>7501.0</td>\n",
       "      <td>1954.0</td>\n",
       "      <td>NaN</td>\n",
       "      <td>NaN</td>\n",
       "      <td>NaN</td>\n",
       "      <td>NaN</td>\n",
       "      <td>NaN</td>\n",
       "      <td>NaN</td>\n",
       "    </tr>\n",
       "  </tbody>\n",
       "</table>\n",
       "</div>"
      ],
      "text/plain": [
       "                                            homeDescription   latitude  \\\n",
       "zpid                                                                     \n",
       "40000003  Beautifully maintained and landscaped home con...  40.649677   \n",
       "40000004                                                NaN  40.649500   \n",
       "40000009  Totally renovated colonial, open floor plan, h...  40.648488   \n",
       "40000010  NEW PRICE!!!!! POSSIBILITIES ARE ENDLESS FOR S...  40.648331   \n",
       "40000012  Charming Cape Cod Style home with an Oversized...  40.648016   \n",
       "\n",
       "          longitude  bedrooms  bathrooms  finishedSqFt  lotSizeSqFt  \\\n",
       "zpid                                                                  \n",
       "40000003 -74.389070       3.0        1.5           NaN      10454.0   \n",
       "40000004 -74.388788       4.0        2.5        1641.0       9583.0   \n",
       "40000009 -74.389920       4.0        2.5        1969.0       7501.0   \n",
       "40000010 -74.390096       3.0        2.0        1415.0       7405.0   \n",
       "40000012 -74.390447       4.0        2.0        1356.0       7501.0   \n",
       "\n",
       "          yearBuilt  yearUpdated  numFloors        parkingType heatingSources  \\\n",
       "zpid                                                                            \n",
       "40000003     1964.0          NaN        NaN                NaN            NaN   \n",
       "40000004     1951.0          NaN        NaN                NaN            NaN   \n",
       "40000009     1950.0          NaN        NaN                NaN            NaN   \n",
       "40000010     1950.0          NaN        2.0  Garage - Attached            Gas   \n",
       "40000012     1954.0          NaN        NaN                NaN            NaN   \n",
       "\n",
       "             heatingSystem                                        rooms  \n",
       "zpid                                                                     \n",
       "40000003               NaN                                          NaN  \n",
       "40000004               NaN                                          NaN  \n",
       "40000009               NaN                                          NaN  \n",
       "40000010  Baseboard, Other  Office, Workshop, Family room, Laundry room  \n",
       "40000012               NaN                                          NaN  "
      ]
     },
     "execution_count": 8,
     "metadata": {},
     "output_type": "execute_result"
    }
   ],
   "source": [
    "# Select the features from the data\n",
    "#House_data = House_data[[0,1,2]]\n",
    "df = df[[ 'homeDescription', 'latitude', 'longitude', 'bedrooms', 'bathrooms','finishedSqFt', 'lotSizeSqFt','yearBuilt', 'yearUpdated', 'numFloors', 'parkingType', 'heatingSources', 'heatingSystem', 'rooms' ]]\n",
    "\n",
    "print(\"Dataframe has {} rows and {} columns.\".format(*df.shape))\n",
    "df.head()"
   ]
  },
  {
   "cell_type": "code",
   "execution_count": 9,
   "metadata": {},
   "outputs": [
    {
     "name": "stdout",
     "output_type": "stream",
     "text": [
      "[1.0, 3.0, 4.0, nan, 2.0, 5.0, 6.0, 7.0, 8.0, 9.0]\n"
     ]
    }
   ],
   "source": [
    "a = df['bedrooms'].unique()\n",
    "print (sorted(a))"
   ]
  },
  {
   "cell_type": "code",
   "execution_count": 10,
   "metadata": {},
   "outputs": [
    {
     "name": "stdout",
     "output_type": "stream",
     "text": [
      "Dataframe has 1063 rows and 14 columns.\n"
     ]
    }
   ],
   "source": [
    "#Cleanse numeric features\n",
    "num_feats = ['bedrooms', 'bathrooms','finishedSqFt', 'lotSizeSqFt','yearBuilt', 'yearUpdated', 'numFloors']\n",
    "df[num_feats] = df[num_feats].replace('[\\$,]', '', regex=True)\n",
    "df[num_feats] = df[num_feats].apply(pd.to_numeric, errors='coerce')\n",
    "print(\"Dataframe has {} rows and {} columns.\".format(*df.shape))\n"
   ]
  },
  {
   "cell_type": "code",
   "execution_count": 11,
   "metadata": {},
   "outputs": [
    {
     "data": {
      "text/html": [
       "<div>\n",
       "<style scoped>\n",
       "    .dataframe tbody tr th:only-of-type {\n",
       "        vertical-align: middle;\n",
       "    }\n",
       "\n",
       "    .dataframe tbody tr th {\n",
       "        vertical-align: top;\n",
       "    }\n",
       "\n",
       "    .dataframe thead th {\n",
       "        text-align: right;\n",
       "    }\n",
       "</style>\n",
       "<table border=\"1\" class=\"dataframe\">\n",
       "  <thead>\n",
       "    <tr style=\"text-align: right;\">\n",
       "      <th></th>\n",
       "      <th>latitude</th>\n",
       "      <th>longitude</th>\n",
       "      <th>bedrooms</th>\n",
       "      <th>bathrooms</th>\n",
       "      <th>finishedSqFt</th>\n",
       "      <th>lotSizeSqFt</th>\n",
       "      <th>yearBuilt</th>\n",
       "      <th>yearUpdated</th>\n",
       "      <th>numFloors</th>\n",
       "    </tr>\n",
       "  </thead>\n",
       "  <tbody>\n",
       "    <tr>\n",
       "      <th>count</th>\n",
       "      <td>1058.000000</td>\n",
       "      <td>1058.000000</td>\n",
       "      <td>1017.000000</td>\n",
       "      <td>1018.000000</td>\n",
       "      <td>884.000000</td>\n",
       "      <td>1.055000e+03</td>\n",
       "      <td>1002.000000</td>\n",
       "      <td>171.000000</td>\n",
       "      <td>518.000000</td>\n",
       "    </tr>\n",
       "    <tr>\n",
       "      <th>mean</th>\n",
       "      <td>40.648493</td>\n",
       "      <td>-74.359670</td>\n",
       "      <td>3.411996</td>\n",
       "      <td>2.057024</td>\n",
       "      <td>1926.830317</td>\n",
       "      <td>3.036242e+05</td>\n",
       "      <td>1946.416168</td>\n",
       "      <td>2004.619883</td>\n",
       "      <td>2.009653</td>\n",
       "    </tr>\n",
       "    <tr>\n",
       "      <th>std</th>\n",
       "      <td>0.041694</td>\n",
       "      <td>0.050001</td>\n",
       "      <td>0.917016</td>\n",
       "      <td>0.740082</td>\n",
       "      <td>3410.255988</td>\n",
       "      <td>9.346682e+06</td>\n",
       "      <td>23.126708</td>\n",
       "      <td>16.354581</td>\n",
       "      <td>0.647793</td>\n",
       "    </tr>\n",
       "    <tr>\n",
       "      <th>min</th>\n",
       "      <td>39.835319</td>\n",
       "      <td>-74.776126</td>\n",
       "      <td>1.000000</td>\n",
       "      <td>1.000000</td>\n",
       "      <td>1.000000</td>\n",
       "      <td>5.200000e+01</td>\n",
       "      <td>1830.000000</td>\n",
       "      <td>1924.000000</td>\n",
       "      <td>1.000000</td>\n",
       "    </tr>\n",
       "    <tr>\n",
       "      <th>25%</th>\n",
       "      <td>40.638829</td>\n",
       "      <td>-74.387120</td>\n",
       "      <td>3.000000</td>\n",
       "      <td>1.500000</td>\n",
       "      <td>1347.500000</td>\n",
       "      <td>5.462500e+03</td>\n",
       "      <td>1930.000000</td>\n",
       "      <td>2005.000000</td>\n",
       "      <td>2.000000</td>\n",
       "    </tr>\n",
       "    <tr>\n",
       "      <th>50%</th>\n",
       "      <td>40.644940</td>\n",
       "      <td>-74.381143</td>\n",
       "      <td>3.000000</td>\n",
       "      <td>2.000000</td>\n",
       "      <td>1641.500000</td>\n",
       "      <td>7.405000e+03</td>\n",
       "      <td>1950.000000</td>\n",
       "      <td>2008.000000</td>\n",
       "      <td>2.000000</td>\n",
       "    </tr>\n",
       "    <tr>\n",
       "      <th>75%</th>\n",
       "      <td>40.650111</td>\n",
       "      <td>-74.327818</td>\n",
       "      <td>4.000000</td>\n",
       "      <td>2.500000</td>\n",
       "      <td>2060.500000</td>\n",
       "      <td>9.583000e+03</td>\n",
       "      <td>1957.000000</td>\n",
       "      <td>2013.000000</td>\n",
       "      <td>2.000000</td>\n",
       "    </tr>\n",
       "    <tr>\n",
       "      <th>max</th>\n",
       "      <td>41.161080</td>\n",
       "      <td>-74.121724</td>\n",
       "      <td>9.000000</td>\n",
       "      <td>5.500000</td>\n",
       "      <td>99999.000000</td>\n",
       "      <td>3.035696e+08</td>\n",
       "      <td>2018.000000</td>\n",
       "      <td>2018.000000</td>\n",
       "      <td>5.000000</td>\n",
       "    </tr>\n",
       "  </tbody>\n",
       "</table>\n",
       "</div>"
      ],
      "text/plain": [
       "          latitude    longitude     bedrooms    bathrooms  finishedSqFt  \\\n",
       "count  1058.000000  1058.000000  1017.000000  1018.000000    884.000000   \n",
       "mean     40.648493   -74.359670     3.411996     2.057024   1926.830317   \n",
       "std       0.041694     0.050001     0.917016     0.740082   3410.255988   \n",
       "min      39.835319   -74.776126     1.000000     1.000000      1.000000   \n",
       "25%      40.638829   -74.387120     3.000000     1.500000   1347.500000   \n",
       "50%      40.644940   -74.381143     3.000000     2.000000   1641.500000   \n",
       "75%      40.650111   -74.327818     4.000000     2.500000   2060.500000   \n",
       "max      41.161080   -74.121724     9.000000     5.500000  99999.000000   \n",
       "\n",
       "        lotSizeSqFt    yearBuilt  yearUpdated   numFloors  \n",
       "count  1.055000e+03  1002.000000   171.000000  518.000000  \n",
       "mean   3.036242e+05  1946.416168  2004.619883    2.009653  \n",
       "std    9.346682e+06    23.126708    16.354581    0.647793  \n",
       "min    5.200000e+01  1830.000000  1924.000000    1.000000  \n",
       "25%    5.462500e+03  1930.000000  2005.000000    2.000000  \n",
       "50%    7.405000e+03  1950.000000  2008.000000    2.000000  \n",
       "75%    9.583000e+03  1957.000000  2013.000000    2.000000  \n",
       "max    3.035696e+08  2018.000000  2018.000000    5.000000  "
      ]
     },
     "execution_count": 11,
     "metadata": {},
     "output_type": "execute_result"
    }
   ],
   "source": [
    "\n",
    "df.describe()"
   ]
  },
  {
   "cell_type": "code",
   "execution_count": 12,
   "metadata": {},
   "outputs": [
    {
     "name": "stdout",
     "output_type": "stream",
     "text": [
      "Dataframe has 1012 rows and 14 columns.\n"
     ]
    }
   ],
   "source": [
    "# Remove where bedroom is more than 6\n",
    "df = df.query('bedrooms <= 6')\n",
    "print(\"Dataframe has {} rows and {} columns.\".format(*df.shape))"
   ]
  },
  {
   "cell_type": "code",
   "execution_count": 13,
   "metadata": {},
   "outputs": [
    {
     "name": "stdout",
     "output_type": "stream",
     "text": [
      "[1.0, 2.0, 3.0, 4.0, 5.0, 6.0]\n"
     ]
    }
   ],
   "source": [
    "a = df['bedrooms'].unique()\n",
    "print (sorted(a))"
   ]
  },
  {
   "cell_type": "code",
   "execution_count": 14,
   "metadata": {},
   "outputs": [
    {
     "data": {
      "text/plain": [
       "Garage - Attached                                              295\n",
       "Garage - Detached                                              120\n",
       "Off-street                                                      41\n",
       "Garage - Attached, Off-street                                   27\n",
       "Garage - Detached, Off-street                                   20\n",
       "On-street                                                       17\n",
       "Off-street, On-street                                           13\n",
       "Garage - Attached, Off-street, On-street                        11\n",
       "Garage - Detached, Off-street, On-street                         8\n",
       "Garage - Attached, On-street                                     8\n",
       "Garage - Detached, On-street                                     5\n",
       "None                                                             3\n",
       "Garage - Detached, Garage - Attached, Off-street                 1\n",
       "Garage - Attached, Garage - Detached, Off-street, On-street      1\n",
       "Garage - Attached, Garage - Detached                             1\n",
       "Garage - Attached, On-street, Off-street                         1\n",
       "Carport, Garage - Attached                                       1\n",
       "Name: parkingType, dtype: int64"
      ]
     },
     "execution_count": 14,
     "metadata": {},
     "output_type": "execute_result"
    }
   ],
   "source": [
    "# rare category\n",
    "df['parkingType'].value_counts()"
   ]
  },
  {
   "cell_type": "code",
   "execution_count": 15,
   "metadata": {},
   "outputs": [],
   "source": [
    "#Value  = bed*bath*sqft*floor\n",
    "\n"
   ]
  },
  {
   "cell_type": "code",
   "execution_count": 16,
   "metadata": {},
   "outputs": [
    {
     "name": "stderr",
     "output_type": "stream",
     "text": [
      "C:\\Users\\anish\\AppData\\Roaming\\Python\\Python36\\site-packages\\scipy\\stats\\stats.py:1713: FutureWarning: Using a non-tuple sequence for multidimensional indexing is deprecated; use `arr[tuple(seq)]` instead of `arr[seq]`. In the future this will be interpreted as an array index, `arr[np.array(seq)]`, which will result either in an error or a different result.\n",
      "  return np.add.reduce(sorted[indexer] * weights, axis=axis) / sumval\n",
      "C:\\Users\\anish\\AppData\\Roaming\\Python\\Python36\\site-packages\\matplotlib\\axes\\_axes.py:6462: UserWarning: The 'normed' kwarg is deprecated, and has been replaced by the 'density' kwarg.\n",
      "  warnings.warn(\"The 'normed' kwarg is deprecated, and has been \"\n",
      "C:\\Users\\anish\\AppData\\Roaming\\Python\\Python36\\site-packages\\matplotlib\\axes\\_axes.py:6462: UserWarning: The 'normed' kwarg is deprecated, and has been replaced by the 'density' kwarg.\n",
      "  warnings.warn(\"The 'normed' kwarg is deprecated, and has been \"\n"
     ]
    },
    {
     "data": {
      "text/plain": [
       "<matplotlib.axes._subplots.AxesSubplot at 0x1c8e9c04b70>"
      ]
     },
     "execution_count": 16,
     "metadata": {},
     "output_type": "execute_result"
    },
    {
     "data": {
      "image/png": "[encoded data removed]",
      "text/plain": [
       "<Figure size 1152x288 with 2 Axes>"
      ]
     },
     "metadata": {},
     "output_type": "display_data"
    }
   ],
   "source": [
    "#Distribution of value\n",
    "%matplotlib inline\n",
    "\n",
    "fig, axs = plt.subplots(ncols=2, figsize=(16, 4))\n",
    "fig.suptitle('Distribution of variables for calculation of value')\n",
    "x_axis=df['bedrooms'].dropna()\n",
    "sns.distplot(pd.Series(x_axis, name=x_axis.name), ax=axs[0])\n",
    "x_axis=df['bathrooms'].dropna()\n",
    "sns.distplot(pd.Series(x_axis, name=x_axis.name), ax=axs[1])\n"
   ]
  },
  {
   "cell_type": "code",
   "execution_count": 17,
   "metadata": {},
   "outputs": [
    {
     "name": "stderr",
     "output_type": "stream",
     "text": [
      "C:\\Users\\anish\\AppData\\Roaming\\Python\\Python36\\site-packages\\scipy\\stats\\stats.py:1713: FutureWarning: Using a non-tuple sequence for multidimensional indexing is deprecated; use `arr[tuple(seq)]` instead of `arr[seq]`. In the future this will be interpreted as an array index, `arr[np.array(seq)]`, which will result either in an error or a different result.\n",
      "  return np.add.reduce(sorted[indexer] * weights, axis=axis) / sumval\n",
      "C:\\Users\\anish\\AppData\\Roaming\\Python\\Python36\\site-packages\\matplotlib\\axes\\_axes.py:6462: UserWarning: The 'normed' kwarg is deprecated, and has been replaced by the 'density' kwarg.\n",
      "  warnings.warn(\"The 'normed' kwarg is deprecated, and has been \"\n",
      "C:\\Users\\anish\\AppData\\Roaming\\Python\\Python36\\site-packages\\matplotlib\\axes\\_axes.py:6462: UserWarning: The 'normed' kwarg is deprecated, and has been replaced by the 'density' kwarg.\n",
      "  warnings.warn(\"The 'normed' kwarg is deprecated, and has been \"\n"
     ]
    },
    {
     "data": {
      "text/plain": [
       "<matplotlib.axes._subplots.AxesSubplot at 0x1c8ebfe5518>"
      ]
     },
     "execution_count": 17,
     "metadata": {},
     "output_type": "execute_result"
    },
    {
     "data": {
      "image/png": "[encoded data removed]",
      "text/plain": [
       "<Figure size 1152x288 with 2 Axes>"
      ]
     },
     "metadata": {},
     "output_type": "display_data"
    }
   ],
   "source": [
    "fig, axs = plt.subplots(ncols=2, figsize=(16, 4))\n",
    "fig.suptitle('Distribution of variables for calculation of value')\n",
    "\n",
    "x_axis=df['finishedSqFt'].dropna()\n",
    "sns.distplot(pd.Series(x_axis, name=x_axis.name), ax=axs[0])\n",
    "x_axis=df['numFloors'].dropna()\n",
    "sns.distplot(pd.Series(x_axis, name=x_axis.name), ax=axs[1])\n"
   ]
  },
  {
   "cell_type": "code",
   "execution_count": 18,
   "metadata": {},
   "outputs": [
    {
     "name": "stdout",
     "output_type": "stream",
     "text": [
      "Dataframe has 1012 rows and 15 columns.\n"
     ]
    }
   ],
   "source": [
    "# Calculate value\n",
    "\n",
    "#Value  = (bed*bath)*sqft*floor\n",
    "\n",
    "df['value'] = df['bedrooms'] *  df['bathrooms'] * df['finishedSqFt'] * df['numFloors']\n",
    "\n",
    "\n",
    "print(\"Dataframe has {} rows and {} columns.\".format(*df.shape))"
   ]
  },
  {
   "cell_type": "code",
   "execution_count": 19,
   "metadata": {},
   "outputs": [
    {
     "name": "stderr",
     "output_type": "stream",
     "text": [
      "C:\\Users\\anish\\AppData\\Roaming\\Python\\Python36\\site-packages\\scipy\\stats\\stats.py:1713: FutureWarning: Using a non-tuple sequence for multidimensional indexing is deprecated; use `arr[tuple(seq)]` instead of `arr[seq]`. In the future this will be interpreted as an array index, `arr[np.array(seq)]`, which will result either in an error or a different result.\n",
      "  return np.add.reduce(sorted[indexer] * weights, axis=axis) / sumval\n",
      "C:\\Users\\anish\\AppData\\Roaming\\Python\\Python36\\site-packages\\matplotlib\\axes\\_axes.py:6462: UserWarning: The 'normed' kwarg is deprecated, and has been replaced by the 'density' kwarg.\n",
      "  warnings.warn(\"The 'normed' kwarg is deprecated, and has been \"\n"
     ]
    },
    {
     "data": {
      "image/png": "[encoded data removed]",
      "text/plain": [
       "<Figure size 1080x432 with 1 Axes>"
      ]
     },
     "metadata": {},
     "output_type": "display_data"
    }
   ],
   "source": [
    "%matplotlib inline\n",
    "fig, ax = plt.subplots(figsize=(15,6))\n",
    "fig.suptitle('Distribution of Value' )\n",
    "x_axes = df['value'].dropna()\n",
    "x = pd.Series(x_axis, name='No: of rooms')\n",
    "ax = sns.distplot(x)"
   ]
  },
  {
   "cell_type": "code",
   "execution_count": 20,
   "metadata": {},
   "outputs": [
    {
     "data": {
      "text/plain": [
       "count       436.000000\n",
       "mean      37533.661697\n",
       "std       43698.973768\n",
       "min          60.000000\n",
       "25%       15564.000000\n",
       "50%       24672.000000\n",
       "75%       41348.000000\n",
       "max      449955.000000\n",
       "Name: value, dtype: float64"
      ]
     },
     "execution_count": 20,
     "metadata": {},
     "output_type": "execute_result"
    }
   ],
   "source": [
    "df['value'].describe()"
   ]
  },
  {
   "cell_type": "code",
   "execution_count": 21,
   "metadata": {},
   "outputs": [
    {
     "data": {
      "text/plain": [
       "2007.0    16\n",
       "2008.0    14\n",
       "2006.0    12\n",
       "2010.0    10\n",
       "2017.0    10\n",
       "2015.0     9\n",
       "2005.0     9\n",
       "2012.0     8\n",
       "2016.0     8\n",
       "2013.0     8\n",
       "2000.0     7\n",
       "2014.0     7\n",
       "2011.0     7\n",
       "2009.0     6\n",
       "2004.0     5\n",
       "1995.0     3\n",
       "2018.0     3\n",
       "1929.0     3\n",
       "2003.0     3\n",
       "1970.0     2\n",
       "1986.0     2\n",
       "2001.0     2\n",
       "1978.0     1\n",
       "1999.0     1\n",
       "1974.0     1\n",
       "1965.0     1\n",
       "1955.0     1\n",
       "1960.0     1\n",
       "1968.0     1\n",
       "1975.0     1\n",
       "1969.0     1\n",
       "1990.0     1\n",
       "Name: yearUpdated, dtype: int64"
      ]
     },
     "execution_count": 21,
     "metadata": {},
     "output_type": "execute_result"
    }
   ],
   "source": [
    "df['yearUpdated'].value_counts()"
   ]
  },
  {
   "cell_type": "code",
   "execution_count": 22,
   "metadata": {},
   "outputs": [
    {
     "data": {
      "text/html": [
       "<div>\n",
       "<style scoped>\n",
       "    .dataframe tbody tr th:only-of-type {\n",
       "        vertical-align: middle;\n",
       "    }\n",
       "\n",
       "    .dataframe tbody tr th {\n",
       "        vertical-align: top;\n",
       "    }\n",
       "\n",
       "    .dataframe thead th {\n",
       "        text-align: right;\n",
       "    }\n",
       "</style>\n",
       "<table border=\"1\" class=\"dataframe\">\n",
       "  <thead>\n",
       "    <tr style=\"text-align: right;\">\n",
       "      <th></th>\n",
       "      <th>homeDescription</th>\n",
       "      <th>latitude</th>\n",
       "      <th>longitude</th>\n",
       "      <th>bedrooms</th>\n",
       "      <th>bathrooms</th>\n",
       "      <th>finishedSqFt</th>\n",
       "      <th>lotSizeSqFt</th>\n",
       "      <th>yearBuilt</th>\n",
       "      <th>yearUpdated</th>\n",
       "      <th>numFloors</th>\n",
       "      <th>parkingType</th>\n",
       "      <th>heatingSources</th>\n",
       "      <th>heatingSystem</th>\n",
       "      <th>rooms</th>\n",
       "      <th>value</th>\n",
       "    </tr>\n",
       "    <tr>\n",
       "      <th>zpid</th>\n",
       "      <th></th>\n",
       "      <th></th>\n",
       "      <th></th>\n",
       "      <th></th>\n",
       "      <th></th>\n",
       "      <th></th>\n",
       "      <th></th>\n",
       "      <th></th>\n",
       "      <th></th>\n",
       "      <th></th>\n",
       "      <th></th>\n",
       "      <th></th>\n",
       "      <th></th>\n",
       "      <th></th>\n",
       "      <th></th>\n",
       "    </tr>\n",
       "  </thead>\n",
       "  <tbody>\n",
       "    <tr>\n",
       "      <th>40000003</th>\n",
       "      <td>Beautifully maintained and landscaped home con...</td>\n",
       "      <td>40.649677</td>\n",
       "      <td>-74.389070</td>\n",
       "      <td>3.0</td>\n",
       "      <td>1.5</td>\n",
       "      <td>NaN</td>\n",
       "      <td>10454.0</td>\n",
       "      <td>1964.0</td>\n",
       "      <td>NaN</td>\n",
       "      <td>NaN</td>\n",
       "      <td>NaN</td>\n",
       "      <td>NaN</td>\n",
       "      <td>NaN</td>\n",
       "      <td>NaN</td>\n",
       "      <td>NaN</td>\n",
       "    </tr>\n",
       "    <tr>\n",
       "      <th>40000004</th>\n",
       "      <td>NaN</td>\n",
       "      <td>40.649500</td>\n",
       "      <td>-74.388788</td>\n",
       "      <td>4.0</td>\n",
       "      <td>2.5</td>\n",
       "      <td>1641.0</td>\n",
       "      <td>9583.0</td>\n",
       "      <td>1951.0</td>\n",
       "      <td>NaN</td>\n",
       "      <td>NaN</td>\n",
       "      <td>NaN</td>\n",
       "      <td>NaN</td>\n",
       "      <td>NaN</td>\n",
       "      <td>NaN</td>\n",
       "      <td>NaN</td>\n",
       "    </tr>\n",
       "    <tr>\n",
       "      <th>40000009</th>\n",
       "      <td>Totally renovated colonial, open floor plan, h...</td>\n",
       "      <td>40.648488</td>\n",
       "      <td>-74.389920</td>\n",
       "      <td>4.0</td>\n",
       "      <td>2.5</td>\n",
       "      <td>1969.0</td>\n",
       "      <td>7501.0</td>\n",
       "      <td>1950.0</td>\n",
       "      <td>NaN</td>\n",
       "      <td>NaN</td>\n",
       "      <td>NaN</td>\n",
       "      <td>NaN</td>\n",
       "      <td>NaN</td>\n",
       "      <td>NaN</td>\n",
       "      <td>NaN</td>\n",
       "    </tr>\n",
       "    <tr>\n",
       "      <th>40000010</th>\n",
       "      <td>NEW PRICE!!!!! POSSIBILITIES ARE ENDLESS FOR S...</td>\n",
       "      <td>40.648331</td>\n",
       "      <td>-74.390096</td>\n",
       "      <td>3.0</td>\n",
       "      <td>2.0</td>\n",
       "      <td>1415.0</td>\n",
       "      <td>7405.0</td>\n",
       "      <td>1950.0</td>\n",
       "      <td>NaN</td>\n",
       "      <td>2.0</td>\n",
       "      <td>Garage - Attached</td>\n",
       "      <td>Gas</td>\n",
       "      <td>Baseboard, Other</td>\n",
       "      <td>Office, Workshop, Family room, Laundry room</td>\n",
       "      <td>16980.0</td>\n",
       "    </tr>\n",
       "    <tr>\n",
       "      <th>40000012</th>\n",
       "      <td>Charming Cape Cod Style home with an Oversized...</td>\n",
       "      <td>40.648016</td>\n",
       "      <td>-74.390447</td>\n",
       "      <td>4.0</td>\n",
       "      <td>2.0</td>\n",
       "      <td>1356.0</td>\n",
       "      <td>7501.0</td>\n",
       "      <td>1954.0</td>\n",
       "      <td>NaN</td>\n",
       "      <td>NaN</td>\n",
       "      <td>NaN</td>\n",
       "      <td>NaN</td>\n",
       "      <td>NaN</td>\n",
       "      <td>NaN</td>\n",
       "      <td>NaN</td>\n",
       "    </tr>\n",
       "  </tbody>\n",
       "</table>\n",
       "</div>"
      ],
      "text/plain": [
       "                                            homeDescription   latitude  \\\n",
       "zpid                                                                     \n",
       "40000003  Beautifully maintained and landscaped home con...  40.649677   \n",
       "40000004                                                NaN  40.649500   \n",
       "40000009  Totally renovated colonial, open floor plan, h...  40.648488   \n",
       "40000010  NEW PRICE!!!!! POSSIBILITIES ARE ENDLESS FOR S...  40.648331   \n",
       "40000012  Charming Cape Cod Style home with an Oversized...  40.648016   \n",
       "\n",
       "          longitude  bedrooms  bathrooms  finishedSqFt  lotSizeSqFt  \\\n",
       "zpid                                                                  \n",
       "40000003 -74.389070       3.0        1.5           NaN      10454.0   \n",
       "40000004 -74.388788       4.0        2.5        1641.0       9583.0   \n",
       "40000009 -74.389920       4.0        2.5        1969.0       7501.0   \n",
       "40000010 -74.390096       3.0        2.0        1415.0       7405.0   \n",
       "40000012 -74.390447       4.0        2.0        1356.0       7501.0   \n",
       "\n",
       "          yearBuilt  yearUpdated  numFloors        parkingType heatingSources  \\\n",
       "zpid                                                                            \n",
       "40000003     1964.0          NaN        NaN                NaN            NaN   \n",
       "40000004     1951.0          NaN        NaN                NaN            NaN   \n",
       "40000009     1950.0          NaN        NaN                NaN            NaN   \n",
       "40000010     1950.0          NaN        2.0  Garage - Attached            Gas   \n",
       "40000012     1954.0          NaN        NaN                NaN            NaN   \n",
       "\n",
       "             heatingSystem                                        rooms  \\\n",
       "zpid                                                                      \n",
       "40000003               NaN                                          NaN   \n",
       "40000004               NaN                                          NaN   \n",
       "40000009               NaN                                          NaN   \n",
       "40000010  Baseboard, Other  Office, Workshop, Family room, Laundry room   \n",
       "40000012               NaN                                          NaN   \n",
       "\n",
       "            value  \n",
       "zpid               \n",
       "40000003      NaN  \n",
       "40000004      NaN  \n",
       "40000009      NaN  \n",
       "40000010  16980.0  \n",
       "40000012      NaN  "
      ]
     },
     "execution_count": 22,
     "metadata": {},
     "output_type": "execute_result"
    }
   ],
   "source": [
    "df.head()"
   ]
  },
  {
   "cell_type": "code",
   "execution_count": 23,
   "metadata": {},
   "outputs": [
    {
     "data": {
      "text/plain": [
       "513"
      ]
     },
     "execution_count": 23,
     "metadata": {},
     "output_type": "execute_result"
    }
   ],
   "source": [
    "#f['yearUpdated'].isnull()\n",
    "sum(pd.isnull(df['numFloors']))"
   ]
  },
  {
   "cell_type": "code",
   "execution_count": 24,
   "metadata": {},
   "outputs": [],
   "source": [
    "from sklearn.base import TransformerMixin\n",
    "\n",
    "class DataFrameImputer(TransformerMixin):\n",
    "\n",
    "    def __init__(self):\n",
    "        \"\"\"Impute missing values.\n",
    "\n",
    "        Columns of dtype object are imputed with the most frequent value \n",
    "        in column.\n",
    "\n",
    "        Columns of other types are imputed with mean of column.\n",
    "\n",
    "        \"\"\"\n",
    "    def fit(self, X, y=None):\n",
    "\n",
    "        self.fill = pd.Series([X[c].value_counts().index[0]\n",
    "            if X[c].dtype == np.dtype('O') else X[c].mean() for c in X],\n",
    "            index=X.columns)\n",
    "\n",
    "        return self\n",
    "\n",
    "    def transform(self, X, y=None):\n",
    "        return X.fillna(self.fill)"
   ]
  },
  {
   "cell_type": "code",
   "execution_count": 25,
   "metadata": {},
   "outputs": [
    {
     "name": "stdout",
     "output_type": "stream",
     "text": [
      "Dataframe has 436 rows and 15 columns.\n"
     ]
    }
   ],
   "source": [
    "# Remove missing values\n",
    "df = df.dropna(subset=['value'])\n",
    "\n",
    "\n",
    "# Impute most frequent for categorical features\n",
    "categorical_feats = df.select_dtypes(include=['object']).columns\n",
    "df[categorical_feats] = DataFrameImputer().fit_transform(df[categorical_feats])\n",
    "\n",
    "# Impute median for numerical features\n",
    "num_feats = df.select_dtypes(include=[np.number]).columns\n",
    "imp = Imputer(missing_values=np.nan, strategy='median', axis=0)\n",
    "df[num_feats] = imp.fit_transform(df[num_feats])\n",
    "\n",
    "print(\"Dataframe has {} rows and {} columns.\".format(*df.shape))"
   ]
  },
  {
   "cell_type": "code",
   "execution_count": 26,
   "metadata": {},
   "outputs": [
    {
     "data": {
      "text/plain": [
       "False"
      ]
     },
     "execution_count": 26,
     "metadata": {},
     "output_type": "execute_result"
    }
   ],
   "source": [
    "df.isnull().values.any()"
   ]
  },
  {
   "cell_type": "code",
   "execution_count": 27,
   "metadata": {},
   "outputs": [
    {
     "name": "stdout",
     "output_type": "stream",
     "text": [
      "Dataframe has 436 rows and 14 columns.\n"
     ]
    }
   ],
   "source": [
    "#Topic Model\n",
    "\n",
    "# Seperate NLP features\n",
    "nlp_feats = ['homeDescription']\n",
    "corpus = df[nlp_feats]\n",
    "df = df.drop(nlp_feats, axis = 1)\n",
    "print(\"Dataframe has {} rows and {} columns.\".format(*df.shape))"
   ]
  },
  {
   "cell_type": "code",
   "execution_count": 28,
   "metadata": {},
   "outputs": [
    {
     "name": "stderr",
     "output_type": "stream",
     "text": [
      "C:\\Users\\anish\\Anaconda3\\lib\\site-packages\\gensim\\utils.py:1212: UserWarning: detected Windows; aliasing chunkize to chunkize_serial\n",
      "  warnings.warn(\"detected Windows; aliasing chunkize to chunkize_serial\")\n"
     ]
    }
   ],
   "source": [
    "import nltk\n",
    "\n",
    "from nltk import word_tokenize\n",
    "from nltk.tokenize import RegexpTokenizer\n",
    "from nltk.corpus import stopwords\n",
    "from nltk.stem import WordNetLemmatizer\n",
    "\n",
    "from gensim.corpora.dictionary import Dictionary\n",
    "from gensim.models.tfidfmodel import TfidfModel\n",
    "from gensim.models.ldamodel import LdaModel\n",
    "\n",
    "import itertools\n",
    "from collections import Counter\n",
    "from collections import defaultdict\n",
    "\n",
    "import json"
   ]
  },
  {
   "cell_type": "code",
   "execution_count": 29,
   "metadata": {},
   "outputs": [],
   "source": [
    "def preprocess_text(corpus):\n",
    "    \"\"\"Takes a corpus in list format and applies basic preprocessing steps of word tokenization,\n",
    "     removing of english stop words, lower case and lemmatization.\"\"\"\n",
    "    processed_corpus = []\n",
    "    english_words = set(nltk.corpus.words.words())\n",
    "    english_stopwords = set(stopwords.words('english'))\n",
    "    wordnet_lemmatizer = WordNetLemmatizer()\n",
    "    tokenizer = RegexpTokenizer(r'[\\w|!]+')\n",
    "    for row in corpus:\n",
    "        word_tokens = tokenizer.tokenize(row)\n",
    "        word_tokens_lower = [t.lower() for t in word_tokens]\n",
    "        word_tokens_lower_english = [t for t in word_tokens_lower if t in english_words or not t.isalpha()]\n",
    "        word_tokens_no_stops = [t for t in word_tokens_lower_english if not t in english_stopwords]\n",
    "        word_tokens_no_stops_lemmatized = [wordnet_lemmatizer.lemmatize(t) for t in word_tokens_no_stops]\n",
    "        processed_corpus.append(word_tokens_no_stops_lemmatized)\n",
    "    return processed_corpus"
   ]
  },
  {
   "cell_type": "code",
   "execution_count": 30,
   "metadata": {},
   "outputs": [],
   "source": [
    "def nlp_model_pipeline(processed_corpus):\n",
    "    \"\"\"Takes processed corpus and produce dictionary, doc_term_matrix and LDA model\"\"\"\n",
    "    # Creates the term dictionary (every unique term in corpus is assigned an index)\n",
    "    dictionary = Dictionary(processed_corpus)\n",
    "    # Convert corpus into Document Term Matrix using dictionary prepared above\n",
    "    doc_term_matrix = [dictionary.doc2bow(listing) for listing in processed_corpus]    \n",
    "    return dictionary, doc_term_matrix"
   ]
  },
  {
   "cell_type": "code",
   "execution_count": 31,
   "metadata": {},
   "outputs": [],
   "source": [
    "def LDA_topic_modelling(doc_term_matrix, dictionary, num_topics=3, passes=2):\n",
    "    # Create an object for LDA model and train it on Document-Term-Matrix\n",
    "    LDA = LdaModel\n",
    "    ldamodel = LDA(doc_term_matrix, num_topics=num_topics, id2word = dictionary, passes=passes)\n",
    "    return ldamodel"
   ]
  },
  {
   "cell_type": "code",
   "execution_count": 32,
   "metadata": {},
   "outputs": [],
   "source": [
    "def add_topics_to_df(ldamodel, doc_term_matrix, df, new_col, num_topics):\n",
    "    # Convert into Per-document topic probability matrix:\n",
    "    docTopicProbMat = ldamodel[doc_term_matrix]\n",
    "    docTopicProbDf = pd.DataFrame(index=df.index, columns=range(0, num_topics))\n",
    "    for i, doc in enumerate(docTopicProbMat):\n",
    "        for topic in doc:\n",
    "            docTopicProbDf.iloc[i, topic[0]] = topic[1]\n",
    "    docTopicProbDf[new_col] = docTopicProbDf.idxmax(axis=1)\n",
    "    df_topics = docTopicProbDf[new_col]\n",
    "    # Merge with df\n",
    "    df_new = pd.concat([df, df_topics], axis=1)\n",
    "    return df_new"
   ]
  },
  {
   "cell_type": "code",
   "execution_count": 33,
   "metadata": {},
   "outputs": [
    {
     "data": {
      "text/html": [
       "<div>\n",
       "<style scoped>\n",
       "    .dataframe tbody tr th:only-of-type {\n",
       "        vertical-align: middle;\n",
       "    }\n",
       "\n",
       "    .dataframe tbody tr th {\n",
       "        vertical-align: top;\n",
       "    }\n",
       "\n",
       "    .dataframe thead th {\n",
       "        text-align: right;\n",
       "    }\n",
       "</style>\n",
       "<table border=\"1\" class=\"dataframe\">\n",
       "  <thead>\n",
       "    <tr style=\"text-align: right;\">\n",
       "      <th></th>\n",
       "      <th>homeDescription</th>\n",
       "    </tr>\n",
       "    <tr>\n",
       "      <th>zpid</th>\n",
       "      <th></th>\n",
       "    </tr>\n",
       "  </thead>\n",
       "  <tbody>\n",
       "    <tr>\n",
       "      <th>40000010</th>\n",
       "      <td>NEW PRICE!!!!! POSSIBILITIES ARE ENDLESS FOR S...</td>\n",
       "    </tr>\n",
       "    <tr>\n",
       "      <th>40000018</th>\n",
       "      <td>Welcome home to this fabulous 1500 Sq Ft Henry...</td>\n",
       "    </tr>\n",
       "    <tr>\n",
       "      <th>40000025</th>\n",
       "      <td>Charming traditional elements and modern conve...</td>\n",
       "    </tr>\n",
       "    <tr>\n",
       "      <th>40000028</th>\n",
       "      <td>Older 2 Family Home needs updating, located in...</td>\n",
       "    </tr>\n",
       "    <tr>\n",
       "      <th>40000029</th>\n",
       "      <td>Older 2 Family Home needs updating, located in...</td>\n",
       "    </tr>\n",
       "  </tbody>\n",
       "</table>\n",
       "</div>"
      ],
      "text/plain": [
       "                                            homeDescription\n",
       "zpid                                                       \n",
       "40000010  NEW PRICE!!!!! POSSIBILITIES ARE ENDLESS FOR S...\n",
       "40000018  Welcome home to this fabulous 1500 Sq Ft Henry...\n",
       "40000025  Charming traditional elements and modern conve...\n",
       "40000028  Older 2 Family Home needs updating, located in...\n",
       "40000029  Older 2 Family Home needs updating, located in..."
      ]
     },
     "execution_count": 33,
     "metadata": {},
     "output_type": "execute_result"
    }
   ],
   "source": [
    "corpus.head()"
   ]
  },
  {
   "cell_type": "code",
   "execution_count": 34,
   "metadata": {},
   "outputs": [],
   "source": [
    "corpus_description = corpus['homeDescription'].astype(str)\n",
    "processed_corpus_description = preprocess_text(corpus_description)\n",
    "dictionary_description, doc_term_matrix_description = nlp_model_pipeline(processed_corpus_description)"
   ]
  },
  {
   "cell_type": "code",
   "execution_count": 35,
   "metadata": {},
   "outputs": [
    {
     "name": "stdout",
     "output_type": "stream",
     "text": [
      "Dictionary(1573 unique tokens: ['1', '1st', '2', '2nd', '9x7']...)\n"
     ]
    }
   ],
   "source": [
    "print(dictionary_description)"
   ]
  },
  {
   "cell_type": "code",
   "execution_count": 36,
   "metadata": {},
   "outputs": [
    {
     "name": "stdout",
     "output_type": "stream",
     "text": [
      "[[(0, 1), (1, 1), (2, 1), (3, 1), (4, 1), (5, 1), (6, 1), (7, 1), (8, 2), (9, 1), (10, 1), (11, 2), (12, 1), (13, 1), (14, 1), (15, 1), (16, 1), (17, 2), (18, 1), (19, 1), (20, 1), (21, 1), (22, 1), (23, 1), (24, 1), (25, 1), (26, 1), (27, 1), (28, 1), (29, 1), (30, 1), (31, 1), (32, 1), (33, 1), (34, 1), (35, 1), (36, 1), (37, 2), (38, 1), (39, 1), (40, 1), (41, 1), (42, 1), (43, 1), (44, 1), (45, 1), (46, 1), (47, 1), (48, 1), (49, 1), (50, 1), (51, 1), (52, 2), (53, 5), (54, 2), (55, 1), (56, 1), (57, 1), (58, 1)], [(8, 1), (17, 1), (19, 1), (24, 1), (26, 1), (28, 1), (31, 2), (32, 1), (36, 3), (41, 1), (45, 1), (46, 1), (54, 1), (56, 1), (59, 1), (60, 1), (61, 1), (62, 1), (63, 1), (64, 1), (65, 1), (66, 1), (67, 1), (68, 1), (69, 1), (70, 1), (71, 1), (72, 2), (73, 1), (74, 2), (75, 1), (76, 1), (77, 1), (78, 1), (79, 1), (80, 1), (81, 4), (82, 1), (83, 1), (84, 1), (85, 1), (86, 1), (87, 1), (88, 2), (89, 1), (90, 1), (91, 1), (92, 1), (93, 1), (94, 1), (95, 1), (96, 1), (97, 1), (98, 1), (99, 4), (100, 1), (101, 1), (102, 1), (103, 1), (104, 1)], [(6, 1), (8, 1), (11, 1), (17, 1), (27, 1), (30, 1), (31, 2), (34, 1), (35, 1), (38, 1), (39, 1), (40, 1), (54, 2), (56, 1), (58, 1), (64, 1), (69, 1), (72, 1), (80, 1), (81, 2), (85, 1), (88, 1), (99, 1), (105, 1), (106, 1), (107, 1), (108, 1), (109, 1), (110, 1), (111, 1), (112, 1), (113, 1), (114, 1), (115, 1), (116, 1), (117, 1), (118, 1), (119, 1), (120, 1), (121, 1), (122, 1), (123, 1), (124, 1), (125, 1), (126, 1), (127, 1), (128, 1), (129, 1), (130, 1), (131, 1), (132, 1), (133, 1), (134, 1), (135, 1), (136, 1), (137, 2), (138, 1), (139, 1), (140, 1), (141, 1), (142, 1), (143, 1), (144, 1)], [(2, 1), (24, 1), (31, 1), (48, 1), (51, 1), (54, 1), (55, 1), (108, 1), (145, 1), (146, 1), (147, 1), (148, 1), (149, 1), (150, 1), (151, 1), (152, 1), (153, 1), (154, 1), (155, 1), (156, 1)], [(2, 1), (24, 1), (31, 1), (48, 1), (51, 1), (54, 1), (55, 1), (108, 1), (145, 1), (146, 1), (147, 1), (148, 1), (149, 1), (150, 1), (151, 1), (152, 1), (153, 1), (154, 1), (155, 1), (156, 1)], [(2, 1), (24, 1), (31, 1), (48, 1), (51, 1), (54, 1), (55, 1), (108, 1), (145, 1), (146, 1), (147, 1), (148, 1), (149, 1), (150, 1), (151, 1), (152, 1), (153, 1), (154, 1), (155, 1), (156, 1)], [(0, 1), (2, 1), (8, 1), (11, 1), (17, 1), (19, 1), (24, 1), (26, 1), (31, 1), (34, 1), (35, 1), (36, 1), (39, 1), (54, 1), (62, 1), (64, 1), (80, 1), (81, 2), (83, 1), (88, 1), (99, 6), (106, 2), (110, 2), (129, 1), (142, 1), (157, 1), (158, 1), (159, 2), (160, 1), (161, 1), (162, 1), (163, 1), (164, 1), (165, 1), (166, 1), (167, 1), (168, 1), (169, 1)], [(26, 1), (97, 1), (145, 1), (170, 1), (171, 1), (172, 1), (173, 1), (174, 1)], [(40, 1), (72, 1), (109, 1), (138, 1), (175, 1), (176, 1), (177, 1), (178, 1), (179, 1)], [(2, 1), (24, 1), (31, 1), (48, 1), (51, 1), (54, 1), (55, 1), (108, 1), (145, 1), (146, 1), (147, 1), (148, 1), (149, 1), (150, 1), (151, 1), (152, 1), (153, 1), (154, 1), (155, 1), (156, 1)], [(0, 2), (8, 1), (16, 1), (24, 1), (31, 1), (37, 1), (65, 1), (82, 1), (85, 1), (88, 1), (99, 1), (132, 1), (145, 1), (148, 1), (163, 1), (171, 1), (180, 1), (181, 1), (182, 1), (183, 1), (184, 1), (185, 1), (186, 1), (187, 1), (188, 1)], [(0, 1), (8, 1), (31, 1), (37, 4), (45, 1), (85, 1), (88, 1), (106, 1), (114, 1), (133, 1), (134, 1), (137, 1), (145, 1), (148, 1), (160, 1), (183, 1), (184, 1), (185, 1), (187, 1), (189, 1), (190, 2), (191, 1), (192, 1), (193, 1), (194, 1), (195, 1), (196, 1), (197, 1), (198, 1), (199, 1), (200, 1), (201, 1), (202, 1), (203, 1), (204, 1), (205, 1), (206, 1), (207, 1)], [(6, 1), (16, 1), (17, 1), (31, 3), (37, 2), (45, 1), (66, 1), (85, 1), (88, 1), (91, 1), (99, 1), (106, 1), (107, 1), (108, 1), (114, 1), (130, 1), (133, 1), (134, 1), (148, 1), (160, 1), (164, 1), (184, 1), (193, 1), (194, 1), (201, 1), (202, 1), (204, 1), (205, 1), (208, 1), (209, 1), (210, 1), (211, 1), (212, 1), (213, 1), (214, 1), (215, 1), (216, 1), (217, 1), (218, 1), (219, 1), (220, 1), (221, 1), (222, 1), (223, 1), (224, 1), (225, 1), (226, 1), (227, 1), (228, 1), (229, 1), (230, 1), (231, 1), (232, 2), (233, 1), (234, 1)], [(2, 1), (24, 1), (31, 1), (48, 1), (51, 1), (54, 1), (55, 1), (108, 1), (145, 1), (146, 1), (147, 1), (148, 1), (149, 1), (150, 1), (151, 1), (152, 1), (153, 1), (154, 1), (155, 1), (156, 1)], [(31, 1), (37, 2), (56, 1), (88, 1), (152, 1), (172, 1), (174, 1), (215, 1), (221, 1), (227, 1), (235, 1), (236, 1), (237, 1), (238, 1), (239, 1), (240, 1), (241, 1)], [(2, 1), (24, 1), (31, 1), (48, 1), (51, 1), (54, 1), (55, 1), (108, 1), (145, 1), (146, 1), (147, 1), (148, 1), (149, 1), (150, 1), (151, 1), (152, 1), (153, 1), (154, 1), (155, 1), (156, 1)], [(11, 1), (18, 1), (24, 1), (31, 1), (33, 1), (37, 3), (40, 1), (49, 1), (53, 2), (58, 1), (64, 1), (66, 1), (85, 1), (87, 1), (99, 1), (108, 1), (132, 1), (142, 1), (159, 1), (161, 1), (163, 2), (202, 1), (212, 1), (214, 1), (242, 1), (243, 1), (244, 1), (245, 1), (246, 1), (247, 1), (248, 1), (249, 1), (250, 1), (251, 1), (252, 1), (253, 1), (254, 1), (255, 1), (256, 1), (257, 1)], [(2, 1), (5, 1), (17, 1), (18, 1), (24, 2), (26, 1), (28, 1), (31, 1), (34, 2), (36, 1), (39, 1), (48, 1), (49, 1), (50, 1), (51, 1), (53, 1), (54, 2), (55, 1), (58, 1), (65, 1), (72, 1), (83, 1), (93, 1), (99, 5), (130, 1), (142, 1), (152, 1), (160, 1), (163, 1), (164, 2), (232, 1), (242, 2), (258, 1), (259, 1), (260, 1), (261, 1), (262, 1), (263, 1), (264, 2), (265, 1), (266, 1), (267, 1), (268, 1), (269, 1), (270, 2), (271, 1), (272, 1), (273, 1), (274, 1), (275, 1), (276, 1), (277, 1), (278, 1), (279, 1), (280, 1), (281, 1), (282, 1), (283, 1), (284, 1), (285, 1)], [(2, 1), (24, 1), (31, 1), (48, 1), (51, 1), (54, 1), (55, 1), (108, 1), (145, 1), (146, 1), (147, 1), (148, 1), (149, 1), (150, 1), (151, 1), (152, 1), (153, 1), (154, 1), (155, 1), (156, 1)], [(2, 1), (24, 1), (31, 1), (48, 1), (51, 1), (54, 1), (55, 1), (108, 1), (145, 1), (146, 1), (147, 1), (148, 1), (149, 1), (150, 1), (151, 1), (152, 1), (153, 1), (154, 1), (155, 1), (156, 1)], [(24, 1), (34, 2), (51, 1), (64, 1), (70, 1), (80, 1), (91, 1), (124, 1), (140, 1), (147, 1), (171, 1), (185, 1), (187, 1), (197, 1), (205, 1), (227, 1), (279, 1), (280, 1), (286, 1), (287, 1), (288, 1), (289, 1), (290, 1), (291, 1), (292, 1), (293, 1), (294, 1), (295, 1), (296, 1)], [(31, 1), (58, 1), (83, 1), (88, 1), (93, 1), (117, 1), (121, 1), (185, 1), (187, 1), (204, 1), (248, 1), (295, 1), (297, 1), (298, 1), (299, 1), (300, 1), (301, 1)], [(3, 1), (8, 2), (9, 1), (11, 1), (18, 1), (19, 1), (26, 1), (34, 1), (36, 1), (37, 1), (39, 1), (45, 1), (49, 1), (53, 3), (56, 1), (58, 1), (64, 1), (81, 1), (87, 1), (88, 1), (93, 1), (99, 1), (103, 1), (114, 1), (130, 1), (163, 2), (173, 1), (185, 2), (187, 1), (209, 1), (214, 1), (216, 1), (257, 1), (281, 1), (302, 1), (303, 1), (304, 1), (305, 1), (306, 1), (307, 1), (308, 1), (309, 1), (310, 1), (311, 1), (312, 1), (313, 1), (314, 1), (315, 1), (316, 1), (317, 1), (318, 1), (319, 1), (320, 1), (321, 1)], [(2, 1), (24, 1), (31, 1), (48, 1), (51, 1), (54, 1), (55, 1), (108, 1), (145, 1), (146, 1), (147, 1), (148, 1), (149, 1), (150, 1), (151, 1), (152, 1), (153, 1), (154, 1), (155, 1), (156, 1)], [(31, 1), (48, 1), (152, 1), (185, 1), (186, 1), (195, 1), (209, 1), (315, 1), (322, 1), (323, 1), (324, 1), (325, 1), (326, 1), (327, 1), (328, 1)], [(2, 1), (24, 1), (31, 1), (48, 1), (51, 1), (54, 1), (55, 1), (108, 1), (145, 1), (146, 1), (147, 1), (148, 1), (149, 1), (150, 1), (151, 1), (152, 1), (153, 1), (154, 1), (155, 1), (156, 1)], [(5, 2), (8, 1), (16, 1), (18, 2), (24, 1), (31, 2), (37, 2), (48, 1), (51, 1), (62, 1), (65, 2), (79, 1), (88, 1), (89, 1), (98, 1), (99, 2), (129, 1), (132, 1), (140, 2), (152, 1), (160, 1), (164, 1), (174, 2), (189, 1), (190, 1), (216, 2), (243, 1), (248, 2), (251, 1), (266, 1), (279, 1), (289, 1), (296, 1), (312, 1), (317, 1), (329, 1), (330, 1), (331, 1), (332, 1), (333, 1), (334, 1), (335, 1), (336, 1), (337, 2), (338, 1), (339, 1), (340, 1), (341, 1), (342, 1), (343, 1), (344, 1), (345, 1), (346, 1), (347, 1), (348, 1), (349, 1)], [(0, 1), (21, 1), (34, 1), (37, 1), (40, 1), (45, 1), (51, 1), (114, 1), (132, 1), (145, 1), (163, 1), (182, 1), (187, 1), (188, 1), (189, 1), (201, 1), (212, 1), (215, 1), (227, 1), (248, 2), (250, 1), (279, 1), (311, 1), (312, 1), (313, 1), (317, 1), (327, 1), (338, 1), (341, 1), (350, 1), (351, 1), (352, 1), (353, 1), (354, 1), (355, 1), (356, 1), (357, 1), (358, 1), (359, 1), (360, 1)], [(2, 1), (24, 1), (31, 1), (48, 1), (51, 1), (54, 1), (55, 1), (108, 1), (145, 1), (146, 1), (147, 1), (148, 1), (149, 1), (150, 1), (151, 1), (152, 1), (153, 1), (154, 1), (155, 1), (156, 1)], [(0, 1), (30, 1), (31, 1), (48, 1), (64, 1), (99, 1), (108, 1), (114, 1), (163, 1), (248, 1), (301, 1), (319, 1), (332, 1), (361, 1), (362, 1), (363, 1), (364, 1), (365, 1), (366, 1), (367, 1), (368, 1), (369, 1), (370, 1)], [(3, 1), (10, 1), (31, 1), (48, 1), (50, 1), (51, 1), (81, 1), (82, 1), (88, 1), (99, 1), (103, 1), (108, 1), (114, 1), (137, 1), (147, 1), (160, 1), (236, 1), (251, 1), (252, 1), (261, 2), (267, 1), (281, 1), (305, 1), (353, 1), (355, 1), (371, 1), (372, 1), (373, 1), (374, 1), (375, 1), (376, 1), (377, 1), (378, 1)], [(5, 1), (8, 2), (11, 1), (17, 1), (24, 1), (26, 3), (28, 1), (31, 2), (36, 1), (47, 1), (54, 1), (58, 1), (64, 1), (68, 2), (72, 1), (74, 1), (80, 1), (81, 3), (83, 1), (87, 1), (88, 3), (99, 4), (107, 1), (109, 1), (114, 3), (116, 1), (131, 2), (132, 1), (133, 1), (134, 1), (135, 1), (136, 1), (142, 3), (160, 1), (161, 1), (163, 1), (164, 1), (170, 1), (173, 1), (174, 1), (203, 1), (206, 2), (247, 1), (291, 1), (295, 1), (300, 1), (320, 1), (327, 1), (332, 3), (333, 1), (341, 1), (342, 1), (379, 1), (380, 1), (381, 1), (382, 3), (383, 1), (384, 1), (385, 2), (386, 1), (387, 1), (388, 1), (389, 1), (390, 1), (391, 1), (392, 1), (393, 1), (394, 1), (395, 1), (396, 2), (397, 1), (398, 1), (399, 1), (400, 1), (401, 1), (402, 1), (403, 1), (404, 1), (405, 1), (406, 1), (407, 1), (408, 1), (409, 1), (410, 1), (411, 1), (412, 1), (413, 1), (414, 1), (415, 5), (416, 1), (417, 1), (418, 1), (419, 1), (420, 1), (421, 1), (422, 1), (423, 1), (424, 1)], [(31, 1), (110, 1), (348, 1), (349, 1), (425, 1), (426, 1), (427, 1)], [(248, 1), (358, 1)], [(2, 1), (24, 1), (31, 1), (48, 1), (51, 1), (54, 1), (55, 1), (108, 1), (145, 1), (146, 1), (147, 1), (148, 1), (149, 1), (150, 1), (151, 1), (152, 1), (153, 1), (154, 1), (155, 1), (156, 1)], [(0, 1), (2, 3), (3, 1), (8, 2), (11, 1), (16, 1), (17, 1), (26, 1), (30, 1), (31, 1), (35, 1), (36, 1), (54, 1), (58, 1), (64, 1), (77, 1), (80, 1), (81, 2), (83, 1), (85, 1), (87, 1), (88, 1), (95, 1), (99, 2), (109, 1), (114, 1), (117, 2), (124, 1), (133, 1), (134, 1), (159, 1), (160, 2), (161, 1), (164, 2), (173, 2), (202, 1), (214, 1), (229, 1), (231, 1), (234, 1), (242, 1), (334, 1), (342, 1), (361, 1), (389, 1), (415, 1), (428, 1), (429, 1), (430, 1), (431, 1), (432, 1), (433, 1), (434, 1), (435, 1), (436, 1)], [(353, 1), (355, 1), (437, 1), (438, 1), (439, 1), (440, 1), (441, 1), (442, 1), (443, 1), (444, 1), (445, 1)], [(2, 1), (6, 1), (30, 1), (31, 1), (34, 1), (36, 1), (45, 1), (55, 1), (58, 1), (81, 1), (82, 1), (88, 1), (99, 1), (110, 1), (114, 1), (193, 1), (202, 1), (251, 1), (297, 1), (359, 1), (361, 1), (446, 1), (447, 1), (448, 1), (449, 1), (450, 1), (451, 1), (452, 1), (453, 1), (454, 1), (455, 1)], [(2, 1), (24, 1), (31, 1), (48, 1), (51, 1), (54, 1), (55, 1), (108, 1), (145, 1), (146, 1), (147, 1), (148, 1), (149, 1), (150, 1), (151, 1), (152, 1), (153, 1), (154, 1), (155, 1), (156, 1)], [(0, 1), (2, 2), (8, 1), (11, 1), (31, 2), (54, 1), (62, 1), (64, 1), (79, 1), (80, 1), (81, 1), (88, 1), (110, 1), (164, 1), (192, 1), (201, 1), (205, 1), (232, 1), (251, 1), (252, 1), (337, 1), (339, 1), (455, 1), (456, 1), (457, 1), (458, 1), (459, 1), (460, 1)], [(2, 1), (24, 1), (31, 1), (48, 1), (51, 1), (54, 1), (55, 1), (108, 1), (145, 1), (146, 1), (147, 1), (148, 1), (149, 1), (150, 1), (151, 1), (152, 1), (153, 1), (154, 1), (155, 1), (156, 1)], [(0, 5), (2, 2), (8, 1), (13, 1), (19, 1), (30, 2), (31, 4), (34, 2), (36, 1), (37, 2), (58, 1), (65, 1), (72, 1), (88, 1), (97, 1), (99, 2), (102, 1), (114, 2), (117, 1), (121, 1), (137, 1), (158, 1), (171, 1), (189, 1), (190, 1), (221, 1), (223, 1), (248, 1), (286, 1), (320, 1), (334, 1), (349, 1), (369, 1), (382, 1), (461, 1), (462, 1), (463, 1), (464, 1), (465, 1), (466, 1), (467, 1), (468, 2), (469, 2), (470, 1), (471, 2), (472, 1), (473, 1), (474, 1), (475, 1), (476, 1), (477, 1), (478, 1), (479, 1), (480, 1), (481, 1), (482, 1), (483, 1)], [(0, 1), (3, 1), (17, 1), (19, 1), (24, 1), (28, 1), (30, 1), (31, 2), (32, 1), (35, 1), (36, 1), (46, 1), (55, 1), (61, 1), (64, 1), (70, 1), (87, 1), (88, 1), (99, 4), (114, 1), (117, 1), (145, 1), (160, 1), (171, 1), (182, 1), (185, 1), (187, 1), (248, 1), (281, 2), (342, 1), (361, 1), (412, 1), (451, 1), (484, 1), (485, 1), (486, 1), (487, 1), (488, 1), (489, 1), (490, 1), (491, 1)], [(2, 1), (24, 1), (31, 1), (48, 1), (51, 1), (54, 1), (55, 1), (108, 1), (145, 1), (146, 1), (147, 1), (148, 1), (149, 1), (150, 1), (151, 1), (152, 1), (153, 1), (154, 1), (155, 1), (156, 1)], [(1, 1), (3, 1), (6, 1), (16, 2), (17, 1), (26, 1), (31, 1), (34, 1), (37, 4), (40, 1), (58, 1), (69, 1), (79, 1), (81, 3), (83, 1), (85, 1), (88, 4), (99, 2), (108, 1), (109, 1), (114, 1), (129, 1), (133, 1), (134, 1), (138, 1), (143, 1), (145, 1), (148, 1), (174, 1), (184, 1), (186, 1), (204, 1), (251, 1), (276, 1), (291, 1), (297, 2), (298, 1), (319, 1), (327, 2), (368, 1), (385, 1), (392, 1), (395, 1), (413, 1), (447, 1), (451, 3), (455, 1), (472, 1), (484, 1), (492, 1), (493, 1), (494, 1), (495, 1), (496, 1), (497, 1), (498, 1), (499, 1), (500, 1), (501, 1), (502, 2), (503, 1), (504, 1), (505, 1)], [(2, 1), (24, 1), (31, 1), (48, 1), (51, 1), (54, 1), (55, 1), (108, 1), (145, 1), (146, 1), (147, 1), (148, 1), (149, 1), (150, 1), (151, 1), (152, 1), (153, 1), (154, 1), (155, 1), (156, 1)], [(16, 1), (31, 1), (37, 5), (56, 1), (64, 1), (81, 1), (84, 1), (88, 1), (136, 1), (234, 1), (295, 2), (313, 1), (332, 1), (390, 1), (506, 1), (507, 1), (508, 1), (509, 1), (510, 1), (511, 1)], [(2, 1), (24, 1), (31, 1), (48, 1), (51, 1), (54, 1), (55, 1), (108, 1), (145, 1), (146, 1), (147, 1), (148, 1), (149, 1), (150, 1), (151, 1), (152, 1), (153, 1), (154, 1), (155, 1), (156, 1)], [(2, 1), (24, 1), (31, 1), (48, 1), (51, 1), (54, 1), (55, 1), (108, 1), (145, 1), (146, 1), (147, 1), (148, 1), (149, 1), (150, 1), (151, 1), (152, 1), (153, 1), (154, 1), (155, 1), (156, 1)], [(2, 1), (24, 1), (31, 1), (48, 1), (51, 1), (54, 1), (55, 1), (108, 1), (145, 1), (146, 1), (147, 1), (148, 1), (149, 1), (150, 1), (151, 1), (152, 1), (153, 1), (154, 1), (155, 1), (156, 1)], [(2, 1), (24, 1), (31, 1), (48, 1), (51, 1), (54, 1), (55, 1), (108, 1), (145, 1), (146, 1), (147, 1), (148, 1), (149, 1), (150, 1), (151, 1), (152, 1), (153, 1), (154, 1), (155, 1), (156, 1)], [(2, 1), (24, 1), (31, 1), (48, 1), (51, 1), (54, 1), (55, 1), (108, 1), (145, 1), (146, 1), (147, 1), (148, 1), (149, 1), (150, 1), (151, 1), (152, 1), (153, 1), (154, 1), (155, 1), (156, 1)], [(1, 2), (2, 2), (3, 3), (8, 2), (18, 1), (24, 1), (26, 1), (28, 1), (29, 1), (31, 3), (34, 1), (35, 1), (54, 1), (64, 1), (65, 3), (66, 1), (67, 1), (80, 1), (81, 4), (83, 1), (85, 1), (87, 1), (88, 1), (89, 1), (93, 1), (95, 1), (99, 1), (109, 1), (114, 1), (137, 1), (148, 1), (154, 1), (160, 1), (163, 1), (164, 2), (184, 1), (186, 1), (189, 1), (202, 1), (228, 1), (229, 1), (234, 1), (239, 1), (242, 1), (257, 1), (275, 1), (389, 1), (471, 1), (473, 1), (497, 1), (512, 1), (513, 1), (514, 1), (515, 1), (516, 1), (517, 1), (518, 1), (519, 1), (520, 1), (521, 1), (522, 1), (523, 1), (524, 1), (525, 1), (526, 1), (527, 1), (528, 1), (529, 1), (530, 1)], [(2, 1), (185, 1), (484, 1), (531, 1), (532, 1)], [(2, 1), (24, 1), (31, 1), (48, 1), (51, 1), (54, 1), (55, 1), (108, 1), (145, 1), (146, 1), (147, 1), (148, 1), (149, 1), (150, 1), (151, 1), (152, 1), (153, 1), (154, 1), (155, 1), (156, 1)], [(2, 2), (8, 1), (24, 1), (26, 1), (30, 1), (31, 2), (34, 2), (35, 1), (51, 1), (54, 2), (55, 1), (66, 1), (70, 1), (74, 2), (81, 1), (83, 1), (85, 1), (87, 1), (88, 1), (89, 1), (99, 2), (103, 1), (106, 1), (108, 1), (109, 1), (114, 1), (123, 1), (125, 1), (131, 1), (133, 1), (134, 1), (137, 1), (160, 1), (164, 1), (185, 1), (189, 3), (193, 1), (196, 1), (202, 1), (209, 1), (215, 1), (232, 1), (234, 1), (261, 1), (281, 1), (294, 1), (298, 1), (327, 1), (361, 1), (364, 1), (367, 1), (451, 1), (484, 1), (492, 1), (501, 1), (522, 1), (533, 1), (534, 1), (535, 1), (536, 1), (537, 1), (538, 1), (539, 1), (540, 1), (541, 1), (542, 1), (543, 1), (544, 1)], [(2, 1), (24, 1), (31, 1), (48, 1), (51, 1), (54, 1), (55, 1), (108, 1), (145, 1), (146, 1), (147, 1), (148, 1), (149, 1), (150, 1), (151, 1), (152, 1), (153, 1), (154, 1), (155, 1), (156, 1)], [(2, 1), (9, 1), (16, 1), (17, 1), (24, 1), (26, 1), (28, 2), (29, 1), (30, 1), (34, 1), (36, 1), (53, 1), (54, 1), (56, 1), (58, 1), (64, 1), (70, 1), (72, 1), (80, 2), (107, 1), (109, 1), (124, 1), (137, 1), (163, 1), (203, 1), (211, 1), (253, 1), (259, 2), (281, 1), (332, 2), (362, 1), (386, 1), (423, 1), (467, 1), (484, 1), (545, 1), (546, 1), (547, 1), (548, 1), (549, 1), (550, 1)], [(16, 1), (24, 1), (31, 2), (34, 1), (39, 1), (49, 1), (51, 1), (55, 1), (58, 1), (72, 1), (88, 1), (92, 1), (99, 1), (108, 1), (109, 1), (114, 1), (117, 1), (121, 1), (125, 2), (130, 1), (138, 1), (147, 1), (161, 1), (163, 1), (171, 1), (245, 1), (253, 1), (358, 2), (381, 1), (385, 1), (386, 1), (406, 1), (469, 1), (473, 1), (546, 1), (551, 1), (552, 1), (553, 1), (554, 1), (555, 1), (556, 1), (557, 1), (558, 1), (559, 1), (560, 1), (561, 1), (562, 1), (563, 1), (564, 1)], [(8, 2), (30, 2), (31, 1), (35, 1), (37, 2), (53, 2), (64, 1), (68, 1), (82, 1), (88, 1), (99, 3), (114, 1), (119, 1), (125, 1), (142, 1), (183, 1), (188, 2), (242, 2), (259, 1), (274, 1), (329, 1), (361, 1), (386, 1), (447, 1), (465, 1), (503, 1), (550, 1), (565, 1), (566, 1), (567, 1), (568, 1), (569, 1), (570, 1), (571, 1), (572, 1), (573, 1), (574, 1), (575, 1)], [(2, 1), (24, 1), (31, 1), (48, 1), (51, 1), (54, 1), (55, 1), (108, 1), (145, 1), (146, 1), (147, 1), (148, 1), (149, 1), (150, 1), (151, 1), (152, 1), (153, 1), (154, 1), (155, 1), (156, 1)], [(2, 1), (24, 1), (31, 1), (48, 1), (51, 1), (54, 1), (55, 1), (108, 1), (145, 1), (146, 1), (147, 1), (148, 1), (149, 1), (150, 1), (151, 1), (152, 1), (153, 1), (154, 1), (155, 1), (156, 1)], [(2, 1), (24, 1), (31, 1), (48, 1), (51, 1), (54, 1), (55, 1), (108, 1), (145, 1), (146, 1), (147, 1), (148, 1), (149, 1), (150, 1), (151, 1), (152, 1), (153, 1), (154, 1), (155, 1), (156, 1)], [(2, 1), (24, 1), (31, 1), (48, 1), (51, 1), (54, 1), (55, 1), (108, 1), (145, 1), (146, 1), (147, 1), (148, 1), (149, 1), (150, 1), (151, 1), (152, 1), (153, 1), (154, 1), (155, 1), (156, 1)], [(3, 2), (8, 3), (11, 3), (12, 1), (17, 1), (19, 1), (21, 1), (24, 1), (26, 1), (28, 1), (29, 1), (30, 1), (32, 1), (33, 1), (34, 3), (35, 1), (36, 1), (50, 1), (51, 1), (53, 13), (54, 2), (64, 1), (69, 2), (81, 3), (83, 2), (85, 1), (88, 1), (91, 1), (93, 1), (95, 1), (99, 4), (110, 1), (121, 1), (129, 1), (136, 1), (142, 1), (143, 2), (147, 1), (148, 1), (158, 1), (163, 2), (164, 1), (170, 1), (176, 1), (184, 1), (192, 1), (202, 1), (232, 1), (248, 1), (259, 1), (280, 1), (281, 1), (294, 1), (295, 1), (299, 1), (308, 1), (320, 1), (329, 1), (358, 1), (446, 1), (493, 1), (514, 1), (519, 1), (524, 1), (526, 1), (535, 1), (537, 1), (544, 1), (554, 1), (576, 1), (577, 1), (578, 1), (579, 1), (580, 1), (581, 1), (582, 1), (583, 1), (584, 1), (585, 1), (586, 1), (587, 1), (588, 1), (589, 1), (590, 1), (591, 1), (592, 1), (593, 1), (594, 1), (595, 1), (596, 1), (597, 1)], [(0, 1), (1, 1), (7, 1), (8, 2), (16, 1), (17, 1), (19, 1), (28, 1), (31, 1), (35, 1), (36, 2), (49, 2), (51, 1), (56, 1), (64, 1), (65, 1), (74, 2), (80, 1), (81, 2), (88, 1), (99, 5), (108, 1), (109, 1), (114, 1), (129, 1), (131, 1), (136, 1), (137, 1), (138, 1), (160, 2), (163, 1), (185, 1), (189, 1), (242, 1), (248, 2), (295, 1), (301, 1), (330, 1), (489, 1), (546, 1), (554, 1), (564, 1), (579, 1), (598, 1), (599, 1), (600, 1), (601, 1), (602, 1), (603, 1), (604, 1), (605, 1)], [(2, 1), (17, 1), (24, 1), (28, 1), (48, 1), (51, 1), (64, 1), (80, 1), (88, 1), (99, 2), (108, 1), (114, 1), (147, 1), (173, 1), (185, 1), (187, 1), (242, 1), (521, 1), (606, 1), (607, 1), (608, 1)], [(2, 2), (8, 2), (18, 1), (24, 1), (31, 1), (35, 1), (36, 2), (37, 2), (39, 1), (49, 1), (51, 1), (52, 1), (53, 1), (64, 1), (72, 1), (80, 2), (88, 1), (89, 1), (97, 1), (99, 3), (137, 1), (145, 1), (160, 2), (163, 2), (177, 1), (185, 1), (201, 1), (202, 1), (209, 1), (248, 2), (251, 1), (259, 2), (281, 2), (294, 1), (312, 1), (315, 1), (317, 1), (336, 1), (484, 1), (537, 1), (609, 1), (610, 1), (611, 1), (612, 1), (613, 1), (614, 1), (615, 1)], [(2, 1), (24, 1), (31, 1), (48, 1), (51, 1), (54, 1), (55, 1), (108, 1), (145, 1), (146, 1), (147, 1), (148, 1), (149, 1), (150, 1), (151, 1), (152, 1), (153, 1), (154, 1), (155, 1), (156, 1)], [(2, 1), (24, 1), (31, 1), (48, 1), (51, 1), (54, 1), (55, 1), (108, 1), (145, 1), (146, 1), (147, 1), (148, 1), (149, 1), (150, 1), (151, 1), (152, 1), (153, 1), (154, 1), (155, 1), (156, 1)], [(2, 1), (17, 1), (24, 1), (26, 1), (28, 1), (36, 1), (88, 1), (99, 1), (106, 1), (109, 1), (114, 1), (159, 1), (161, 1), (616, 1), (617, 1)], [(11, 1), (16, 1), (17, 1), (24, 1), (26, 1), (28, 1), (31, 1), (34, 1), (36, 1), (51, 1), (53, 3), (56, 1), (58, 1), (65, 1), (68, 1), (88, 2), (99, 3), (108, 1), (114, 1), (117, 2), (123, 1), (125, 1), (138, 1), (152, 1), (168, 1), (170, 1), (220, 1), (245, 1), (248, 1), (300, 1), (310, 1), (327, 1), (385, 1), (435, 1), (482, 1), (550, 1), (567, 1), (618, 1), (619, 1), (620, 1), (621, 1), (622, 1), (623, 1), (624, 1), (625, 1), (626, 1)], [(3, 2), (8, 3), (11, 1), (16, 1), (17, 1), (26, 1), (31, 1), (34, 1), (36, 1), (41, 1), (50, 1), (51, 1), (54, 1), (56, 1), (58, 1), (65, 1), (74, 2), (81, 4), (83, 1), (84, 1), (88, 3), (95, 1), (99, 2), (109, 1), (110, 2), (117, 1), (133, 1), (137, 1), (142, 1), (145, 1), (159, 1), (160, 1), (161, 1), (163, 1), (164, 3), (171, 1), (173, 1), (202, 1), (213, 1), (221, 1), (229, 1), (231, 1), (232, 1), (234, 1), (247, 1), (280, 1), (281, 1), (306, 1), (332, 1), (385, 1), (446, 1), (471, 1), (472, 1), (479, 1), (497, 1), (519, 1), (522, 1), (584, 1), (627, 1), (628, 1), (629, 1), (630, 1), (631, 1), (632, 1)], [(0, 2), (2, 1), (8, 1), (18, 1), (26, 1), (50, 1), (51, 1), (61, 1), (65, 1), (70, 1), (72, 1), (82, 1), (88, 1), (106, 1), (109, 1), (114, 1), (145, 2), (160, 1), (173, 1), (195, 1), (242, 1), (248, 1), (275, 2), (291, 1), (312, 1), (317, 1), (341, 1), (349, 1), (413, 1), (471, 1), (474, 1), (502, 1), (633, 1), (634, 1), (635, 1), (636, 1), (637, 1), (638, 1), (639, 1)], [(18, 1), (31, 3), (51, 1), (58, 1), (65, 1), (67, 1), (81, 1), (85, 1), (88, 1), (92, 1), (99, 2), (108, 1), (114, 1), (117, 1), (135, 1), (136, 1), (173, 1), (176, 1), (191, 1), (208, 1), (215, 1), (228, 1), (236, 1), (248, 1), (300, 1), (348, 1), (358, 1), (359, 1), (362, 1), (424, 1), (583, 1), (616, 1), (620, 1), (640, 1), (641, 1), (642, 1), (643, 1), (644, 1), (645, 1), (646, 1), (647, 1), (648, 1), (649, 1), (650, 1), (651, 1), (652, 1), (653, 1), (654, 1), (655, 1), (656, 1)], [(34, 1), (51, 1), (58, 1), (226, 1), (248, 2), (291, 1), (395, 1), (657, 1), (658, 1), (659, 1), (660, 1), (661, 1), (662, 1)], [(2, 1), (3, 1), (8, 1), (18, 1), (19, 1), (28, 1), (29, 1), (31, 4), (34, 2), (36, 1), (39, 1), (81, 3), (88, 1), (92, 1), (99, 2), (103, 1), (106, 1), (109, 2), (117, 2), (131, 2), (145, 1), (148, 1), (151, 1), (164, 2), (291, 1), (359, 2), (382, 1), (395, 2), (398, 1), (469, 1), (496, 1), (540, 1), (546, 1), (580, 1), (603, 1), (614, 1), (663, 1), (664, 1), (665, 1), (666, 2), (667, 1), (668, 1), (669, 1), (670, 1), (671, 1), (672, 1), (673, 1), (674, 1), (675, 1), (676, 1), (677, 1)], [(2, 1), (24, 1), (31, 1), (48, 1), (51, 1), (54, 1), (55, 1), (108, 1), (145, 1), (146, 1), (147, 1), (148, 1), (149, 1), (150, 1), (151, 1), (152, 1), (153, 1), (154, 1), (155, 1), (156, 1)], [(152, 1), (469, 1), (488, 1), (678, 1), (679, 1), (680, 1), (681, 1)], [(50, 1), (51, 1), (65, 1), (67, 1), (91, 1), (109, 1), (148, 1), (289, 1), (296, 1), (325, 1), (489, 1), (668, 1), (682, 1), (683, 1)], [(2, 1), (33, 1), (34, 2), (37, 1), (50, 1), (51, 1), (66, 1), (74, 1), (85, 1), (138, 1), (154, 1), (171, 1), (192, 1), (248, 1), (294, 1), (336, 1), (358, 1), (385, 1), (471, 1), (520, 1), (541, 1), (616, 1), (684, 1), (685, 1)], [(17, 1), (18, 1), (26, 1), (28, 1), (30, 1), (31, 3), (36, 1), (50, 1), (51, 1), (62, 1), (64, 1), (70, 1), (88, 1), (91, 2), (99, 2), (114, 1), (142, 1), (146, 1), (162, 1), (163, 2), (248, 3), (251, 1), (252, 1), (300, 1), (312, 1), (317, 1), (358, 1), (361, 1), (455, 1), (465, 1), (469, 1), (686, 1), (687, 1)], [(0, 1), (53, 2), (117, 1), (135, 1), (145, 1), (189, 1), (324, 1), (342, 1), (688, 1), (689, 1)], [(2, 1), (24, 1), (31, 1), (48, 1), (51, 1), (54, 1), (55, 1), (108, 1), (145, 1), (146, 1), (147, 1), (148, 1), (149, 1), (150, 1), (151, 1), (152, 1), (153, 1), (154, 1), (155, 1), (156, 1)], [(31, 2), (40, 1), (58, 1), (99, 1), (109, 1), (142, 1), (183, 1), (253, 1), (274, 1), (285, 1), (306, 1), (472, 1), (489, 1), (527, 1), (631, 1), (665, 1), (680, 1), (690, 1), (691, 1), (692, 1), (693, 1), (694, 1), (695, 1), (696, 1), (697, 1)], [(3, 1), (5, 1), (8, 1), (17, 1), (26, 1), (29, 1), (34, 1), (35, 1), (36, 1), (37, 1), (39, 1), (49, 1), (54, 1), (55, 1), (58, 1), (65, 1), (68, 1), (81, 3), (88, 1), (93, 1), (98, 1), (99, 4), (106, 3), (109, 1), (110, 1), (114, 1), (129, 1), (131, 1), (162, 1), (163, 1), (173, 1), (176, 1), (185, 2), (186, 1), (202, 1), (223, 1), (248, 1), (291, 1), (298, 1), (333, 1), (334, 1), (382, 1), (389, 1), (390, 1), (392, 1), (395, 1), (594, 1), (595, 1), (603, 1), (665, 1), (698, 1), (699, 1), (700, 1), (701, 1), (702, 1), (703, 1), (704, 1)], [(2, 1), (24, 1), (31, 1), (48, 1), (51, 1), (54, 1), (55, 1), (108, 1), (145, 1), (146, 1), (147, 1), (148, 1), (149, 1), (150, 1), (151, 1), (152, 1), (153, 1), (154, 1), (155, 1), (156, 1)], [(2, 1), (8, 2), (16, 1), (17, 1), (18, 1), (30, 1), (31, 3), (36, 2), (39, 1), (50, 1), (51, 1), (52, 1), (55, 1), (58, 1), (62, 1), (64, 2), (66, 2), (80, 1), (81, 3), (85, 1), (88, 2), (91, 2), (95, 1), (97, 1), (99, 3), (103, 1), (108, 1), (110, 1), (114, 1), (125, 1), (130, 1), (133, 1), (134, 1), (143, 1), (160, 1), (161, 1), (163, 2), (194, 1), (202, 1), (205, 1), (209, 1), (228, 1), (279, 1), (295, 1), (361, 1), (645, 1), (705, 1), (706, 1), (707, 1)], [(2, 1), (24, 1), (31, 1), (48, 1), (51, 1), (54, 1), (55, 1), (108, 1), (145, 1), (146, 1), (147, 1), (148, 1), (149, 1), (150, 1), (151, 1), (152, 1), (153, 1), (154, 1), (155, 1), (156, 1)], [(2, 1), (24, 1), (31, 1), (48, 1), (51, 1), (54, 1), (55, 1), (108, 1), (145, 1), (146, 1), (147, 1), (148, 1), (149, 1), (150, 1), (151, 1), (152, 1), (153, 1), (154, 1), (155, 1), (156, 1)], [(2, 1), (24, 1), (31, 1), (48, 1), (51, 1), (54, 1), (55, 1), (108, 1), (145, 1), (146, 1), (147, 1), (148, 1), (149, 1), (150, 1), (151, 1), (152, 1), (153, 1), (154, 1), (155, 1), (156, 1)], [(7, 1), (31, 1), (37, 2), (39, 1), (40, 1), (49, 1), (50, 1), (51, 1), (64, 1), (106, 2), (123, 1), (190, 1), (212, 1), (215, 1), (227, 1), (250, 1), (261, 1), (279, 1), (289, 1), (296, 1), (502, 1), (521, 1), (632, 1), (708, 1)], [(0, 2), (2, 1), (17, 1), (19, 1), (24, 1), (28, 1), (30, 1), (37, 1), (72, 1), (88, 1), (99, 3), (114, 1), (127, 1), (129, 1), (144, 1), (145, 2), (158, 1), (185, 2), (187, 1), (189, 1), (196, 1), (197, 1), (199, 1), (203, 1), (224, 1), (291, 1), (311, 1), (313, 1), (361, 2), (451, 1), (571, 1), (709, 1)], [(324, 1)], [(8, 1), (17, 1), (18, 1), (27, 1), (37, 1), (40, 1), (44, 1), (52, 1), (53, 2), (85, 1), (88, 1), (89, 1), (99, 1), (108, 3), (138, 1), (147, 1), (160, 1), (170, 1), (174, 1), (186, 1), (201, 1), (205, 1), (253, 1), (269, 1), (279, 1), (291, 1), (301, 1), (305, 1), (327, 2), (332, 1), (428, 1), (557, 1), (578, 1), (687, 1), (710, 1), (711, 1), (712, 1), (713, 2), (714, 1), (715, 1)], [(19, 1), (28, 1), (30, 1), (31, 2), (36, 1), (50, 1), (51, 1), (58, 1), (61, 1), (64, 1), (65, 1), (70, 1), (88, 1), (99, 1), (103, 1), (114, 1), (117, 1), (130, 1), (138, 1), (147, 1), (158, 1), (162, 1), (163, 1), (173, 1), (248, 2), (253, 1), (277, 1), (279, 1), (291, 1), (293, 1), (297, 1), (300, 1), (307, 1), (321, 1), (327, 1), (348, 1), (398, 1), (473, 1), (614, 1), (648, 1), (716, 1), (717, 1), (718, 1)], [(2, 1), (16, 2), (27, 1), (31, 1), (32, 1), (34, 1), (37, 3), (40, 3), (44, 1), (45, 1), (51, 1), (58, 1), (82, 1), (85, 1), (88, 1), (102, 1), (108, 1), (138, 1), (147, 1), (148, 1), (164, 1), (174, 1), (181, 1), (205, 1), (212, 1), (215, 1), (232, 1), (250, 1), (259, 1), (267, 1), (286, 1), (289, 1), (296, 2), (309, 1), (313, 1), (318, 1), (329, 1), (382, 1), (468, 1), (484, 1), (485, 1), (487, 1), (526, 1), (571, 1), (616, 1), (632, 1), (652, 1), (697, 1), (719, 1), (720, 1), (721, 1), (722, 1), (723, 1), (724, 1), (725, 1), (726, 1), (727, 1), (728, 1)], [(0, 1), (16, 1), (17, 2), (24, 1), (28, 2), (30, 1), (31, 3), (36, 1), (51, 1), (62, 1), (64, 1), (65, 2), (80, 1), (81, 1), (88, 1), (99, 4), (108, 2), (145, 1), (147, 1), (158, 1), (159, 1), (161, 1), (174, 2), (185, 1), (187, 1), (189, 1), (248, 1), (252, 1), (267, 1), (279, 1), (281, 1), (313, 1), (319, 1), (707, 1), (729, 1), (730, 1), (731, 1), (732, 1)], [(0, 2), (2, 1), (8, 1), (31, 1), (56, 1), (61, 1), (70, 1), (145, 1), (160, 1), (185, 1), (187, 1), (277, 1), (489, 1), (733, 1), (734, 1), (735, 1)], [(2, 1), (24, 1), (31, 1), (48, 1), (51, 1), (54, 1), (55, 1), (108, 1), (145, 1), (146, 1), (147, 1), (148, 1), (149, 1), (150, 1), (151, 1), (152, 1), (153, 1), (154, 1), (155, 1), (156, 1)], [(11, 1), (26, 1), (54, 1), (81, 1), (85, 1), (110, 1), (114, 1), (160, 1), (164, 1), (173, 1), (187, 1), (232, 1), (546, 1), (606, 1)], [(37, 2), (45, 1), (68, 1), (81, 1), (95, 1), (97, 1), (114, 1), (142, 1), (202, 1), (215, 1), (337, 1), (736, 1), (737, 1), (738, 1), (739, 1), (740, 1)], [(24, 1), (31, 1), (157, 1), (692, 1), (741, 1)], [(8, 1), (16, 1), (17, 2), (24, 1), (26, 1), (28, 1), (30, 1), (31, 4), (34, 1), (36, 1), (37, 1), (51, 1), (58, 2), (62, 1), (64, 1), (66, 1), (70, 1), (81, 2), (85, 1), (88, 2), (99, 5), (108, 2), (114, 1), (117, 1), (129, 1), (133, 1), (134, 1), (138, 1), (142, 1), (147, 1), (152, 1), (162, 1), (163, 1), (164, 1), (173, 1), (174, 2), (190, 1), (214, 1), (215, 1), (248, 1), (297, 1), (300, 1), (313, 1), (361, 1), (410, 1), (416, 1), (471, 1), (648, 1), (686, 1), (693, 1), (742, 1), (743, 1), (744, 1)], [(17, 1), (24, 1), (29, 1), (31, 1), (35, 1), (37, 2), (40, 1), (61, 1), (81, 1), (85, 3), (88, 2), (93, 1), (99, 2), (102, 2), (114, 1), (133, 1), (137, 1), (163, 1), (185, 1), (192, 1), (215, 1), (227, 1), (250, 1), (261, 1), (289, 1), (294, 3), (295, 1), (296, 1), (327, 1), (329, 3), (447, 2), (503, 1), (504, 1), (524, 1), (529, 1), (537, 1), (559, 1), (582, 1), (591, 1), (642, 1), (745, 1), (746, 1), (747, 1), (748, 1), (749, 1)], [(0, 3), (2, 2), (8, 1), (11, 1), (17, 2), (19, 1), (24, 2), (28, 1), (30, 1), (31, 1), (34, 2), (35, 1), (36, 2), (37, 1), (48, 1), (49, 2), (65, 1), (80, 1), (81, 1), (88, 1), (89, 1), (91, 1), (95, 1), (99, 6), (106, 1), (117, 1), (132, 1), (135, 1), (145, 2), (160, 1), (163, 1), (173, 1), (185, 2), (202, 1), (247, 1), (271, 1), (298, 1), (309, 2), (319, 1), (320, 1), (327, 1), (334, 1), (361, 1), (364, 1), (380, 1), (396, 1), (398, 1), (416, 1), (476, 1), (489, 1), (511, 1), (528, 1), (530, 1), (554, 1), (579, 1), (583, 1), (680, 1), (700, 1), (750, 1), (751, 1), (752, 1), (753, 1), (754, 1), (755, 1), (756, 1), (757, 1), (758, 1)], [(2, 1), (24, 1), (31, 1), (48, 1), (51, 1), (54, 1), (55, 1), (108, 1), (145, 1), (146, 1), (147, 1), (148, 1), (149, 1), (150, 1), (151, 1), (152, 1), (153, 1), (154, 1), (155, 1), (156, 1)], [(31, 1), (56, 1), (64, 1), (66, 1), (69, 1), (80, 1), (82, 1), (110, 1), (131, 1), (137, 1), (160, 1), (163, 1), (185, 1), (187, 1), (211, 1), (295, 1), (341, 1), (468, 1), (634, 1), (642, 1), (734, 1), (759, 2)], [(174, 1), (760, 1), (761, 1), (762, 1)], [(24, 1), (27, 1), (34, 1), (40, 2), (44, 1), (50, 1), (51, 2), (55, 1), (57, 1), (64, 1), (99, 1), (113, 1), (132, 1), (138, 2), (152, 1), (171, 1), (215, 1), (227, 2), (279, 1), (289, 2), (291, 1), (296, 2), (469, 1), (680, 1)], [(8, 2), (11, 1), (24, 1), (26, 1), (31, 1), (34, 2), (36, 1), (37, 1), (51, 1), (54, 3), (65, 2), (69, 1), (74, 1), (81, 1), (83, 1), (85, 2), (88, 1), (93, 1), (95, 1), (99, 2), (114, 1), (123, 1), (130, 1), (133, 1), (134, 1), (147, 1), (160, 2), (163, 1), (164, 2), (181, 1), (184, 1), (202, 1), (204, 1), (205, 1), (229, 1), (232, 1), (485, 1), (487, 1), (489, 1), (504, 1), (524, 1), (546, 1), (571, 1), (680, 1), (763, 1), (764, 1), (765, 2), (766, 1)], [(31, 1), (309, 1), (767, 1)], [(51, 1), (108, 1), (147, 1), (319, 1)], [(24, 1), (31, 1), (72, 1), (257, 1), (768, 1), (769, 1), (770, 1)], [(0, 2), (13, 1), (17, 1), (18, 1), (19, 1), (24, 1), (26, 1), (27, 1), (30, 1), (31, 1), (36, 1), (40, 2), (44, 1), (48, 1), (53, 1), (54, 1), (64, 1), (88, 1), (91, 1), (99, 3), (145, 2), (158, 1), (160, 1), (163, 1), (185, 1), (187, 1), (215, 1), (227, 2), (250, 1), (291, 1), (293, 1), (361, 1), (608, 1)], [(31, 1), (49, 1), (53, 1), (74, 1), (771, 1), (772, 1)], [(1, 2), (2, 1), (8, 1), (16, 2), (24, 1), (31, 1), (35, 1), (36, 1), (39, 1), (50, 1), (51, 1), (55, 1), (58, 1), (62, 2), (64, 1), (81, 1), (85, 1), (88, 3), (99, 1), (108, 1), (133, 1), (134, 1), (145, 1), (163, 1), (168, 1), (173, 2), (185, 1), (194, 1), (205, 1), (231, 1), (234, 1), (251, 1), (275, 1), (281, 1), (289, 1), (332, 1), (334, 1), (385, 3), (432, 2), (471, 1), (503, 1), (575, 1), (636, 1), (660, 1), (712, 1), (773, 1), (774, 1), (775, 1), (776, 1), (777, 1), (778, 1), (779, 1), (780, 1), (781, 1), (782, 1), (783, 1), (784, 1), (785, 1)], [(2, 1), (24, 1), (31, 1), (48, 1), (51, 1), (54, 1), (55, 1), (108, 1), (145, 1), (146, 1), (147, 1), (148, 1), (149, 1), (150, 1), (151, 1), (152, 1), (153, 1), (154, 1), (155, 1), (156, 1)], [(5, 1), (13, 1), (17, 1), (28, 1), (31, 1), (34, 1), (36, 1), (40, 1), (41, 1), (48, 1), (53, 2), (58, 1), (64, 1), (80, 1), (81, 1), (88, 1), (99, 2), (106, 1), (110, 1), (142, 1), (159, 1), (160, 1), (228, 1), (253, 1), (266, 1), (289, 1), (296, 1), (324, 1), (358, 3), (632, 1), (786, 1), (787, 1)], [(2, 1), (24, 1), (31, 1), (48, 1), (51, 1), (54, 1), (55, 1), (108, 1), (145, 1), (146, 1), (147, 1), (148, 1), (149, 1), (150, 1), (151, 1), (152, 1), (153, 1), (154, 1), (155, 1), (156, 1)], [(88, 1), (788, 1)], [(13, 1), (16, 2), (17, 1), (18, 1), (24, 1), (28, 1), (30, 1), (31, 3), (35, 1), (36, 1), (45, 1), (50, 1), (51, 1), (58, 2), (62, 1), (65, 1), (84, 1), (88, 1), (99, 6), (103, 1), (108, 1), (117, 1), (121, 1), (142, 2), (147, 1), (161, 2), (163, 1), (171, 2), (173, 2), (194, 1), (204, 1), (205, 1), (219, 1), (248, 1), (295, 1), (342, 2), (358, 1), (361, 1), (470, 1), (485, 1), (487, 1), (505, 1), (530, 1), (572, 1), (584, 1), (789, 1), (790, 1)], [(2, 1), (24, 1), (31, 1), (48, 1), (51, 1), (54, 1), (55, 1), (108, 1), (145, 1), (146, 1), (147, 1), (148, 1), (149, 1), (150, 1), (151, 1), (152, 1), (153, 1), (154, 1), (155, 1), (156, 1)], [(2, 1), (8, 1), (30, 1), (31, 4), (48, 1), (58, 1), (62, 1), (65, 2), (74, 1), (81, 1), (88, 1), (91, 1), (99, 1), (106, 1), (110, 1), (114, 1), (130, 1), (131, 1), (136, 1), (138, 1), (145, 1), (149, 1), (152, 1), (158, 1), (163, 1), (164, 2), (173, 2), (183, 1), (187, 1), (189, 1), (195, 1), (205, 1), (232, 1), (245, 1), (261, 1), (269, 1), (272, 1), (274, 1), (275, 1), (285, 1), (301, 1), (319, 1), (359, 1), (413, 1), (435, 1), (452, 1), (485, 1), (487, 1), (489, 1), (520, 1), (525, 1), (618, 1), (680, 1), (791, 1), (792, 1), (793, 1), (794, 1)], [(2, 1), (24, 1), (31, 1), (48, 1), (51, 1), (54, 1), (55, 1), (108, 1), (145, 1), (146, 1), (147, 1), (148, 1), (149, 1), (150, 1), (151, 1), (152, 1), (153, 1), (154, 1), (155, 1), (156, 1)], [(2, 1), (24, 1), (31, 1), (48, 1), (51, 1), (54, 1), (55, 1), (108, 1), (145, 1), (146, 1), (147, 1), (148, 1), (149, 1), (150, 1), (151, 1), (152, 1), (153, 1), (154, 1), (155, 1), (156, 1)], [(2, 1), (24, 1), (31, 1), (48, 1), (51, 1), (54, 1), (55, 1), (108, 1), (145, 1), (146, 1), (147, 1), (148, 1), (149, 1), (150, 1), (151, 1), (152, 1), (153, 1), (154, 1), (155, 1), (156, 1)], [(8, 1), (11, 1), (17, 1), (24, 1), (31, 1), (49, 1), (53, 4), (54, 1), (56, 1), (62, 1), (72, 1), (74, 2), (81, 4), (88, 1), (95, 1), (99, 2), (100, 1), (110, 2), (120, 1), (131, 1), (137, 1), (142, 1), (146, 1), (160, 1), (164, 1), (173, 1), (193, 1), (202, 1), (213, 1), (245, 2), (259, 1), (286, 1), (300, 1), (309, 2), (336, 1), (385, 1), (401, 2), (425, 1), (460, 1), (471, 1), (515, 1), (547, 1), (553, 1), (579, 1), (592, 1), (614, 1), (626, 1), (672, 1), (715, 1), (757, 1), (773, 1), (777, 1), (795, 1), (796, 1), (797, 1), (798, 1), (799, 1), (800, 1), (801, 1), (802, 1), (803, 1), (804, 1), (805, 1), (806, 1), (807, 1), (808, 1), (809, 1), (810, 1), (811, 1), (812, 1)], [(2, 1), (24, 1), (31, 1), (48, 1), (51, 1), (54, 1), (55, 1), (108, 1), (145, 1), (146, 1), (147, 1), (148, 1), (149, 1), (150, 1), (151, 1), (152, 1), (153, 1), (154, 1), (155, 1), (156, 1)], [(2, 1), (8, 1), (16, 1), (23, 1), (34, 1), (51, 1), (53, 3), (58, 1), (145, 1), (163, 3), (164, 1), (176, 1), (185, 2), (187, 1), (242, 1), (251, 1), (296, 1), (313, 1), (455, 1), (519, 1), (582, 1), (813, 1)], [(2, 1), (24, 1), (31, 1), (48, 1), (51, 1), (54, 1), (55, 1), (108, 1), (145, 1), (146, 1), (147, 1), (148, 1), (149, 1), (150, 1), (151, 1), (152, 1), (153, 1), (154, 1), (155, 1), (156, 1)], [(2, 1), (24, 1), (31, 1), (48, 1), (51, 1), (54, 1), (55, 1), (108, 1), (145, 1), (146, 1), (147, 1), (148, 1), (149, 1), (150, 1), (151, 1), (152, 1), (153, 1), (154, 1), (155, 1), (156, 1)], [(2, 1), (3, 2), (8, 1), (31, 1), (34, 2), (37, 1), (39, 1), (40, 1), (49, 1), (58, 1), (65, 1), (74, 1), (81, 3), (88, 1), (99, 3), (106, 1), (108, 1), (110, 1), (114, 1), (125, 2), (135, 1), (138, 1), (163, 1), (201, 1), (214, 1), (247, 1), (251, 1), (253, 1), (269, 1), (311, 1), (317, 1), (319, 1), (327, 1), (367, 1), (472, 1), (476, 1), (540, 1), (606, 1), (612, 1), (657, 1), (665, 1), (787, 1), (814, 1), (815, 1), (816, 1), (817, 1), (818, 1)], [(2, 1), (8, 1), (72, 1), (173, 1), (187, 1), (189, 1), (205, 1), (242, 1), (279, 1), (547, 1), (722, 1), (793, 1)], [(8, 1), (125, 1), (145, 1), (160, 1), (185, 1), (187, 1), (221, 1), (242, 1), (298, 1), (382, 1), (680, 1), (712, 1), (819, 1), (820, 1), (821, 1), (822, 1), (823, 1)], [(3, 1), (8, 1), (13, 1), (16, 1), (17, 1), (24, 2), (26, 1), (28, 1), (29, 1), (31, 1), (36, 1), (51, 1), (56, 1), (65, 2), (69, 1), (81, 2), (85, 1), (88, 1), (99, 5), (103, 1), (108, 1), (114, 2), (117, 1), (129, 1), (143, 1), (145, 1), (147, 1), (160, 1), (164, 1), (173, 3), (214, 1), (219, 1), (229, 1), (245, 1), (248, 1), (305, 1), (308, 1), (313, 2), (320, 1), (428, 1), (471, 1), (476, 1), (660, 1), (694, 1), (744, 1), (789, 1), (824, 1), (825, 1)], [(2, 1), (24, 1), (31, 1), (48, 1), (51, 1), (54, 1), (55, 1), (108, 1), (145, 1), (146, 1), (147, 1), (148, 1), (149, 1), (150, 1), (151, 1), (152, 1), (153, 1), (154, 1), (155, 1), (156, 1)], [(1, 1), (2, 1), (3, 1), (31, 1), (35, 1), (51, 1), (81, 2), (147, 1), (151, 1), (163, 1), (186, 1), (311, 1), (324, 1), (435, 1), (674, 1), (826, 1), (827, 1)], [(2, 1), (3, 1), (30, 1), (31, 1), (37, 1), (45, 1), (54, 1), (64, 1), (65, 1), (80, 1), (85, 1), (88, 1), (108, 1), (114, 1), (133, 1), (134, 1), (163, 1), (192, 1), (204, 1), (221, 1), (248, 1), (251, 1), (252, 1), (281, 1), (305, 1), (319, 1), (340, 1), (342, 1), (455, 1), (469, 1), (504, 1), (544, 1), (548, 1), (609, 1), (636, 1), (642, 1), (675, 1), (686, 1), (743, 1), (828, 1), (829, 1), (830, 1), (831, 1)], [(2, 1), (24, 1), (31, 1), (48, 1), (51, 1), (54, 1), (55, 1), (108, 1), (145, 1), (146, 1), (147, 1), (148, 1), (149, 1), (150, 1), (151, 1), (152, 1), (153, 1), (154, 1), (155, 1), (156, 1)], [(8, 1), (16, 1), (17, 2), (26, 1), (28, 3), (30, 1), (36, 1), (37, 2), (45, 1), (48, 1), (49, 1), (53, 2), (56, 1), (64, 1), (65, 1), (68, 1), (69, 1), (80, 1), (82, 1), (84, 1), (88, 1), (91, 1), (99, 3), (106, 1), (108, 1), (109, 1), (113, 1), (117, 1), (132, 1), (145, 1), (149, 1), (152, 1), (160, 1), (163, 1), (185, 1), (190, 1), (202, 1), (248, 3), (288, 1), (291, 1), (309, 1), (313, 1), (332, 1), (364, 1), (395, 1), (465, 1), (468, 1), (473, 1), (474, 1), (484, 1), (492, 1), (501, 1), (526, 2), (606, 1), (618, 1), (685, 1), (767, 1), (795, 1), (832, 1), (833, 1), (834, 1), (835, 1), (836, 1), (837, 1), (838, 1), (839, 1), (840, 1)], [(3, 1), (16, 1), (31, 1), (37, 3), (45, 1), (51, 1), (65, 2), (69, 1), (80, 1), (81, 1), (88, 3), (147, 1), (204, 1), (289, 1), (294, 1), (329, 1), (359, 1), (389, 2), (414, 1), (452, 1), (469, 1), (494, 1), (537, 1), (582, 1), (718, 1), (754, 1), (829, 2), (841, 1), (842, 1)], [(11, 1), (16, 1), (28, 1), (34, 1), (37, 1), (54, 1), (58, 1), (74, 1), (88, 2), (106, 1), (107, 1), (109, 1), (133, 1), (164, 1), (216, 1), (232, 1), (261, 1), (278, 1), (309, 1), (382, 1), (401, 1), (654, 1), (693, 1), (787, 1), (843, 1), (844, 1)], [(0, 2), (1, 1), (2, 2), (3, 1), (17, 1), (28, 1), (30, 1), (31, 1), (36, 1), (48, 1), (49, 1), (50, 1), (51, 1), (64, 1), (81, 2), (85, 1), (88, 1), (99, 1), (108, 1), (109, 1), (111, 1), (114, 1), (125, 1), (137, 1), (144, 1), (145, 2), (148, 1), (159, 1), (160, 1), (161, 1), (163, 4), (184, 1), (190, 1), (194, 1), (205, 1), (251, 1), (261, 3), (270, 1), (281, 1), (340, 1), (355, 1), (361, 1), (367, 1), (425, 1), (452, 1), (455, 1), (465, 1), (471, 1), (519, 1), (571, 1), (685, 1), (845, 1), (846, 1), (847, 1), (848, 1), (849, 1)], [(7, 1), (37, 1), (51, 1), (56, 1), (81, 1), (88, 2), (91, 1), (99, 1), (107, 1), (109, 1), (114, 1), (147, 1), (281, 1), (306, 1), (314, 1), (484, 1)], [(51, 1), (54, 2), (80, 1), (83, 1), (88, 1), (93, 1), (109, 1), (138, 1), (160, 1), (234, 1), (274, 1), (291, 1), (305, 1), (310, 1), (311, 1), (313, 1), (395, 1), (484, 1), (502, 1), (522, 1), (524, 1), (642, 1), (648, 1), (754, 1), (850, 1), (851, 1)], [(2, 1), (24, 1), (31, 1), (48, 1), (51, 1), (54, 1), (55, 1), (108, 1), (145, 1), (146, 1), (147, 1), (148, 1), (149, 1), (150, 1), (151, 1), (152, 1), (153, 1), (154, 1), (155, 1), (156, 1)], [(5, 1), (24, 1), (31, 3), (37, 2), (39, 1), (50, 1), (51, 1), (53, 1), (54, 1), (55, 3), (64, 1), (82, 1), (83, 2), (84, 2), (99, 1), (117, 1), (121, 1), (138, 1), (140, 1), (153, 1), (157, 1), (198, 1), (205, 1), (227, 1), (251, 1), (252, 1), (253, 1), (294, 1), (313, 1), (325, 1), (334, 1), (342, 2), (349, 1), (362, 1), (385, 1), (395, 1), (435, 1), (440, 1), (451, 1), (469, 1), (484, 1), (489, 1), (609, 2), (612, 1), (680, 1), (694, 2), (718, 1), (830, 1), (852, 1), (853, 1), (854, 1), (855, 1), (856, 1), (857, 1), (858, 1), (859, 1), (860, 1), (861, 1), (862, 1), (863, 1), (864, 1), (865, 1), (866, 2), (867, 1), (868, 1), (869, 1), (870, 1), (871, 1), (872, 1), (873, 1)], [(2, 1), (24, 1), (31, 1), (48, 1), (51, 1), (54, 1), (55, 1), (108, 1), (145, 1), (146, 1), (147, 1), (148, 1), (149, 1), (150, 1), (151, 1), (152, 1), (153, 1), (154, 1), (155, 1), (156, 1)], [(6, 3), (8, 2), (16, 1), (24, 2), (26, 2), (34, 1), (35, 1), (53, 2), (62, 1), (65, 1), (69, 1), (74, 1), (81, 1), (85, 1), (88, 3), (91, 1), (92, 1), (99, 3), (113, 1), (123, 1), (125, 1), (128, 1), (131, 1), (148, 1), (160, 2), (164, 2), (184, 1), (213, 2), (216, 2), (228, 1), (232, 2), (280, 1), (291, 3), (293, 1), (295, 1), (332, 1), (395, 4), (396, 4), (415, 2), (446, 1), (502, 1), (579, 2), (600, 1), (765, 1), (789, 1), (874, 1), (875, 1), (876, 1), (877, 1), (878, 1), (879, 1), (880, 1)], [(2, 1), (24, 1), (31, 1), (48, 1), (51, 1), (54, 1), (55, 1), (108, 1), (145, 1), (146, 1), (147, 1), (148, 1), (149, 1), (150, 1), (151, 1), (152, 1), (153, 1), (154, 1), (155, 1), (156, 1)], [(6, 1), (24, 1), (30, 1), (34, 1), (37, 2), (64, 1), (99, 2), (109, 1), (142, 1), (163, 1), (164, 1), (173, 1), (232, 1), (281, 1), (367, 1), (465, 1), (527, 1), (854, 1), (881, 1)], [(0, 1), (2, 1), (8, 1), (31, 1), (34, 1), (35, 1), (37, 1), (39, 1), (64, 1), (81, 1), (85, 1), (88, 1), (99, 1), (103, 1), (106, 1), (109, 1), (114, 1), (131, 1), (133, 1), (134, 1), (145, 2), (160, 1), (163, 3), (214, 1), (261, 2), (274, 1), (280, 1), (285, 1), (291, 1), (298, 1), (469, 1), (489, 1), (574, 1), (882, 1), (883, 1), (884, 1), (885, 1)], [(0, 1), (2, 2), (8, 2), (16, 1), (17, 1), (24, 1), (47, 1), (51, 1), (54, 1), (61, 1), (62, 1), (65, 1), (70, 1), (83, 1), (88, 2), (92, 1), (99, 2), (109, 1), (110, 1), (130, 1), (132, 1), (145, 1), (160, 1), (164, 1), (191, 1), (202, 2), (220, 1), (236, 1), (253, 1), (275, 1), (291, 1), (334, 2), (336, 1), (395, 1), (496, 1), (599, 1), (622, 1), (660, 1), (671, 1), (712, 2), (853, 1), (858, 1), (886, 1), (887, 1), (888, 1), (889, 1), (890, 1), (891, 1), (892, 1), (893, 1), (894, 1), (895, 1), (896, 1), (897, 1), (898, 1), (899, 1), (900, 1), (901, 1), (902, 1), (903, 1), (904, 1), (905, 1), (906, 1), (907, 2)], [(2, 1), (24, 1), (31, 1), (48, 1), (51, 1), (54, 1), (55, 1), (108, 1), (145, 1), (146, 1), (147, 1), (148, 1), (149, 1), (150, 1), (151, 1), (152, 1), (153, 1), (154, 1), (155, 1), (156, 1)], [(2, 1), (24, 1), (31, 1), (48, 1), (51, 1), (54, 1), (55, 1), (108, 1), (145, 1), (146, 1), (147, 1), (148, 1), (149, 1), (150, 1), (151, 1), (152, 1), (153, 1), (154, 1), (155, 1), (156, 1)], [(19, 1), (31, 2), (45, 1), (48, 1), (50, 1), (51, 1), (88, 1), (97, 1), (108, 1), (117, 1), (145, 1), (196, 1), (204, 1), (226, 1), (308, 1), (320, 1), (474, 1), (483, 1), (504, 1), (908, 1), (909, 1)], [(2, 1), (24, 1), (31, 1), (48, 1), (51, 1), (54, 1), (55, 1), (108, 1), (145, 1), (146, 1), (147, 1), (148, 1), (149, 1), (150, 1), (151, 1), (152, 1), (153, 1), (154, 1), (155, 1), (156, 1)], [(2, 1), (24, 1), (31, 1), (48, 1), (51, 1), (54, 1), (55, 1), (108, 1), (145, 1), (146, 1), (147, 1), (148, 1), (149, 1), (150, 1), (151, 1), (152, 1), (153, 1), (154, 1), (155, 1), (156, 1)], [(24, 1), (31, 1), (55, 1), (149, 1), (514, 1), (554, 1), (769, 1), (910, 1)], [(2, 1), (24, 1), (31, 1), (48, 1), (51, 1), (54, 1), (55, 1), (108, 1), (145, 1), (146, 1), (147, 1), (148, 1), (149, 1), (150, 1), (151, 1), (152, 1), (153, 1), (154, 1), (155, 1), (156, 1)], [(2, 1), (24, 1), (31, 1), (48, 1), (51, 1), (54, 1), (55, 1), (108, 1), (145, 1), (146, 1), (147, 1), (148, 1), (149, 1), (150, 1), (151, 1), (152, 1), (153, 1), (154, 1), (155, 1), (156, 1)], [(2, 1), (5, 1), (29, 1), (37, 1), (50, 1), (51, 1), (64, 1), (74, 2), (80, 1), (93, 1), (109, 1), (148, 1), (164, 1), (173, 1), (232, 1), (248, 1), (333, 1), (364, 1), (527, 1), (668, 1), (693, 1)], [(6, 1), (9, 1), (17, 2), (24, 2), (26, 1), (28, 1), (31, 2), (33, 1), (36, 1), (51, 1), (56, 1), (62, 1), (72, 1), (85, 1), (88, 1), (91, 1), (93, 1), (99, 5), (108, 1), (109, 1), (114, 1), (120, 1), (129, 1), (133, 1), (134, 1), (179, 1), (186, 1), (194, 1), (202, 1), (208, 1), (224, 1), (276, 1), (291, 1), (332, 1), (336, 1), (348, 1), (395, 1), (432, 1), (435, 2), (471, 2), (474, 1), (521, 1), (524, 1), (768, 1), (842, 1), (874, 1), (911, 1), (912, 1), (913, 1), (914, 1), (915, 1), (916, 1), (917, 1), (918, 1), (919, 1), (920, 1), (921, 1)], [(2, 1), (24, 1), (31, 1), (48, 1), (51, 1), (54, 1), (55, 1), (108, 1), (145, 1), (146, 1), (147, 1), (148, 1), (149, 1), (150, 1), (151, 1), (152, 1), (153, 1), (154, 1), (155, 1), (156, 1)], [(8, 1), (26, 1), (31, 1), (35, 1), (37, 2), (54, 1), (58, 1), (65, 1), (81, 3), (85, 1), (87, 1), (88, 1), (93, 1), (95, 1), (109, 1), (110, 1), (131, 1), (190, 1), (192, 1), (193, 1), (202, 2), (205, 1), (211, 1), (225, 1), (229, 1), (274, 1), (285, 1), (291, 1), (309, 1), (395, 1), (424, 1), (447, 1), (496, 1), (497, 1), (519, 1), (529, 1), (549, 1), (582, 1), (713, 1), (731, 1), (899, 1), (922, 1), (923, 1), (924, 1), (925, 1), (926, 1), (927, 1), (928, 1), (929, 1)], [(0, 1), (2, 1), (8, 2), (13, 1), (16, 1), (17, 1), (24, 1), (26, 1), (28, 1), (31, 1), (36, 1), (38, 1), (39, 1), (53, 2), (55, 1), (64, 1), (80, 1), (83, 1), (85, 1), (88, 1), (90, 1), (99, 5), (109, 1), (129, 1), (132, 1), (133, 1), (134, 1), (142, 1), (160, 2), (163, 2), (164, 2), (168, 1), (173, 1), (186, 1), (232, 2), (242, 1), (261, 1), (274, 1), (277, 1), (281, 1), (285, 1), (289, 1), (296, 1), (319, 1), (385, 1), (401, 1), (489, 1), (497, 1), (579, 1), (632, 1), (756, 1), (930, 1), (931, 1), (932, 1), (933, 1), (934, 1)], [(0, 1), (2, 1), (8, 1), (9, 1), (16, 1), (26, 1), (31, 1), (34, 1), (35, 1), (36, 3), (37, 4), (50, 1), (51, 1), (56, 1), (61, 1), (64, 1), (70, 1), (80, 1), (88, 1), (99, 2), (106, 1), (114, 1), (133, 1), (183, 1), (192, 1), (193, 1), (196, 1), (202, 1), (225, 1), (253, 1), (502, 1), (585, 1), (623, 1), (629, 1), (800, 1), (932, 1), (935, 1), (936, 1), (937, 1), (938, 1)], [(2, 1), (24, 1), (31, 1), (48, 1), (51, 1), (54, 1), (55, 1), (108, 1), (145, 1), (146, 1), (147, 1), (148, 1), (149, 1), (150, 1), (151, 1), (152, 1), (153, 1), (154, 1), (155, 1), (156, 1)], [(435, 1), (911, 1)], [(2, 1), (24, 1), (31, 1), (48, 1), (51, 1), (54, 1), (55, 1), (108, 1), (145, 1), (146, 1), (147, 1), (148, 1), (149, 1), (150, 1), (151, 1), (152, 1), (153, 1), (154, 1), (155, 1), (156, 1)], [(24, 1), (50, 1), (51, 1), (72, 1), (81, 1), (88, 1), (99, 2), (108, 1), (110, 1), (147, 1), (148, 1), (173, 1), (574, 1), (754, 1), (939, 1)], [(37, 1), (51, 1), (245, 1), (315, 1), (810, 1), (940, 1), (941, 1), (942, 1)], [(31, 1), (37, 1), (64, 1), (74, 2), (80, 1), (88, 1), (145, 1), (163, 2), (164, 1), (215, 1), (232, 1), (242, 1), (252, 1), (385, 1), (572, 1), (627, 1), (943, 1), (944, 1)], [(18, 1), (40, 1), (50, 1), (51, 1), (72, 1), (92, 1), (109, 1), (142, 1), (215, 1), (386, 1), (401, 1), (451, 1), (489, 1), (572, 1), (680, 1), (726, 1), (945, 1), (946, 1)], [(2, 1), (24, 1), (31, 1), (48, 1), (51, 1), (54, 1), (55, 1), (108, 1), (145, 1), (146, 1), (147, 1), (148, 1), (149, 1), (150, 1), (151, 1), (152, 1), (153, 1), (154, 1), (155, 1), (156, 1)], [(2, 1), (24, 1), (31, 1), (48, 1), (51, 1), (54, 1), (55, 1), (108, 1), (145, 1), (146, 1), (147, 1), (148, 1), (149, 1), (150, 1), (151, 1), (152, 1), (153, 1), (154, 1), (155, 1), (156, 1)], [(2, 1), (24, 1), (31, 1), (48, 1), (51, 1), (54, 1), (55, 1), (108, 1), (145, 1), (146, 1), (147, 1), (148, 1), (149, 1), (150, 1), (151, 1), (152, 1), (153, 1), (154, 1), (155, 1), (156, 1)], [(16, 1), (26, 1), (36, 1), (64, 1), (65, 1), (80, 1), (88, 1), (99, 1), (109, 1), (253, 1), (291, 1), (311, 1), (312, 1), (317, 1), (326, 1), (341, 1), (358, 1), (395, 1), (485, 1), (487, 1), (572, 1), (599, 1), (947, 1)], [(0, 2), (1, 1), (2, 2), (8, 1), (31, 1), (32, 1), (37, 1), (40, 1), (50, 1), (51, 1), (64, 1), (88, 1), (102, 1), (146, 1), (160, 1), (227, 1), (277, 1), (281, 1), (358, 1), (428, 1), (501, 2), (733, 1), (934, 1), (948, 1), (949, 1), (950, 1), (951, 1), (952, 1)], [(2, 1), (17, 1), (18, 1), (28, 1), (34, 2), (36, 1), (40, 1), (48, 1), (51, 1), (54, 1), (58, 1), (61, 1), (64, 1), (65, 1), (70, 1), (88, 1), (93, 1), (99, 1), (108, 1), (117, 1), (135, 1), (149, 2), (174, 1), (185, 1), (205, 1), (248, 1), (252, 1), (277, 1), (309, 1), (312, 1), (317, 1), (332, 1), (341, 1), (364, 1), (483, 1), (489, 1), (490, 1), (546, 1), (571, 1), (572, 1), (608, 1), (686, 1), (767, 1), (771, 1), (791, 1), (795, 1), (904, 1), (915, 1), (953, 1), (954, 1), (955, 1), (956, 1), (957, 1), (958, 1), (959, 1), (960, 1), (961, 1), (962, 1)], [(2, 1), (24, 1), (31, 1), (48, 1), (51, 1), (54, 1), (55, 1), (108, 1), (145, 1), (146, 1), (147, 1), (148, 1), (149, 1), (150, 1), (151, 1), (152, 1), (153, 1), (154, 1), (155, 1), (156, 1)], [(51, 1), (62, 1), (91, 1), (106, 1), (138, 2), (142, 2), (179, 1), (183, 1), (289, 1), (296, 1), (358, 1), (421, 1), (509, 1), (563, 1), (585, 2), (632, 2), (963, 1), (964, 1), (965, 1), (966, 1)], [(0, 1), (8, 1), (16, 1), (24, 1), (31, 2), (35, 1), (37, 1), (40, 1), (51, 1), (56, 1), (61, 1), (70, 1), (88, 1), (99, 2), (125, 2), (129, 1), (145, 1), (149, 1), (151, 1), (173, 1), (176, 1), (185, 1), (189, 1), (216, 1), (236, 1), (251, 2), (252, 1), (275, 1), (276, 1), (312, 1), (313, 1), (317, 1), (319, 1), (327, 1), (360, 1), (369, 1), (404, 1), (451, 1), (455, 1), (472, 1), (521, 1), (563, 1), (582, 1), (613, 1), (614, 1), (734, 1), (893, 1), (925, 1), (926, 1), (967, 2), (968, 1), (969, 1), (970, 1), (971, 1), (972, 1), (973, 1), (974, 1), (975, 1), (976, 1), (977, 1), (978, 1)], [(2, 1), (24, 1), (31, 1), (48, 1), (51, 1), (54, 1), (55, 1), (108, 1), (145, 1), (146, 1), (147, 1), (148, 1), (149, 1), (150, 1), (151, 1), (152, 1), (153, 1), (154, 1), (155, 1), (156, 1)], [(109, 1), (160, 1), (242, 1), (324, 1)], [(0, 1), (2, 3), (30, 1), (90, 1), (93, 1), (99, 1), (109, 1), (114, 1), (160, 1), (189, 1), (228, 1), (248, 1), (310, 1), (330, 1), (382, 1), (434, 1), (469, 2), (489, 1), (527, 2), (546, 1), (652, 1), (675, 1), (755, 1), (979, 1), (980, 1)], [(2, 2), (5, 1), (16, 1), (17, 1), (24, 1), (26, 1), (28, 1), (30, 1), (31, 5), (35, 1), (36, 1), (37, 1), (48, 1), (53, 1), (55, 1), (56, 1), (64, 1), (69, 1), (81, 1), (88, 1), (95, 1), (99, 5), (125, 2), (129, 1), (138, 1), (149, 1), (158, 1), (159, 1), (160, 1), (161, 1), (163, 1), (164, 1), (173, 1), (185, 1), (187, 1), (221, 1), (242, 1), (251, 1), (259, 1), (298, 1), (313, 1), (319, 1), (389, 1), (455, 1), (476, 1), (544, 1), (554, 1), (579, 1), (694, 1), (765, 1), (769, 1), (849, 1), (858, 1), (947, 1), (981, 1), (982, 1), (983, 1)], [(2, 1), (24, 1), (31, 1), (48, 1), (51, 1), (54, 1), (55, 1), (108, 1), (145, 1), (146, 1), (147, 1), (148, 1), (149, 1), (150, 1), (151, 1), (152, 1), (153, 1), (154, 1), (155, 1), (156, 1)], [(2, 2), (26, 1), (37, 3), (53, 2), (71, 1), (81, 1), (85, 1), (123, 1), (163, 1), (194, 1), (205, 1), (503, 1), (511, 1), (632, 1), (984, 1), (985, 1), (986, 1), (987, 1)], [(2, 1), (8, 1), (11, 1), (30, 1), (31, 1), (37, 1), (45, 1), (49, 1), (51, 1), (53, 2), (64, 1), (65, 1), (66, 1), (80, 1), (82, 1), (89, 1), (130, 1), (137, 1), (138, 1), (145, 1), (163, 1), (171, 1), (173, 1), (185, 1), (190, 1), (204, 1), (205, 1), (209, 1), (259, 1), (281, 1), (297, 1), (313, 1), (315, 1), (362, 1), (367, 1), (767, 1), (793, 1)], [(2, 1), (24, 1), (31, 1), (48, 1), (51, 1), (54, 1), (55, 1), (108, 1), (145, 1), (146, 1), (147, 1), (148, 1), (149, 1), (150, 1), (151, 1), (152, 1), (153, 1), (154, 1), (155, 1), (156, 1)], [(19, 1), (31, 1), (37, 1), (53, 1), (71, 1), (85, 1), (88, 1), (119, 1), (133, 1), (134, 1), (163, 1), (261, 1), (448, 1), (503, 1), (519, 1), (529, 1), (929, 1), (988, 1), (989, 1)], [(2, 1), (24, 1), (31, 1), (48, 1), (51, 1), (54, 1), (55, 1), (108, 1), (145, 1), (146, 1), (147, 1), (148, 1), (149, 1), (150, 1), (151, 1), (152, 1), (153, 1), (154, 1), (155, 1), (156, 1)], [(2, 1), (24, 1), (31, 1), (48, 1), (51, 1), (54, 1), (55, 1), (108, 1), (145, 1), (146, 1), (147, 1), (148, 1), (149, 1), (150, 1), (151, 1), (152, 1), (153, 1), (154, 1), (155, 1), (156, 1)], [(6, 1), (31, 1), (34, 1), (58, 1), (93, 1), (277, 1), (382, 2), (402, 1), (551, 1), (769, 1), (818, 1), (990, 1)], [(8, 2), (16, 1), (24, 1), (26, 1), (28, 1), (30, 1), (31, 1), (36, 2), (51, 1), (56, 1), (58, 1), (62, 2), (64, 1), (65, 1), (72, 1), (81, 2), (85, 1), (88, 2), (91, 1), (99, 4), (103, 1), (106, 1), (108, 2), (109, 1), (110, 1), (114, 1), (130, 1), (131, 1), (138, 1), (142, 1), (158, 1), (159, 1), (161, 1), (162, 1), (163, 3), (194, 1), (205, 1), (228, 1), (247, 1), (248, 1), (279, 1), (320, 1), (361, 1), (497, 1), (648, 1), (652, 1), (787, 1), (789, 1), (882, 1), (991, 1), (992, 1), (993, 1)], [(16, 1), (25, 1), (27, 1), (31, 1), (35, 1), (36, 1), (40, 1), (44, 1), (51, 1), (53, 3), (56, 1), (58, 1), (64, 1), (65, 1), (69, 1), (72, 1), (88, 1), (108, 1), (135, 1), (138, 1), (163, 1), (164, 1), (201, 1), (205, 1), (244, 1), (249, 1), (253, 2), (261, 1), (277, 1), (291, 1), (300, 1), (332, 1), (385, 1), (412, 1), (503, 1), (557, 1), (688, 1), (796, 1), (797, 1), (994, 1), (995, 1), (996, 1), (997, 1), (998, 1), (999, 1)], [(2, 1), (24, 1), (31, 1), (48, 1), (51, 1), (54, 1), (55, 1), (108, 1), (145, 1), (146, 1), (147, 1), (148, 1), (149, 1), (150, 1), (151, 1), (152, 1), (153, 1), (154, 1), (155, 1), (156, 1)], [(16, 2), (34, 1), (37, 2), (49, 1), (58, 1), (64, 1), (69, 1), (80, 1), (83, 1), (88, 2), (90, 2), (99, 1), (100, 2), (114, 1), (121, 1), (137, 1), (159, 1), (188, 1), (194, 1), (234, 1), (251, 1), (281, 1), (299, 1), (306, 1), (320, 1), (334, 1), (359, 1), (366, 1), (385, 1), (452, 1), (455, 1), (461, 1), (471, 2), (484, 2), (507, 1), (508, 1), (519, 1), (521, 1), (566, 1), (580, 1), (584, 1), (597, 1), (608, 1), (833, 1), (843, 1), (926, 2), (998, 1), (1000, 1), (1001, 1), (1002, 1), (1003, 1), (1004, 1), (1005, 1), (1006, 1), (1007, 1), (1008, 1), (1009, 1), (1010, 1), (1011, 1)], [(5, 1), (8, 2), (16, 1), (30, 1), (35, 1), (49, 1), (53, 4), (57, 1), (64, 1), (80, 1), (81, 3), (85, 1), (88, 1), (95, 1), (99, 1), (106, 1), (110, 1), (114, 2), (145, 1), (163, 2), (171, 1), (185, 1), (194, 1), (202, 1), (205, 2), (208, 1), (248, 1), (270, 1), (281, 1), (298, 1), (318, 1), (333, 1), (365, 1), (385, 1), (431, 1), (460, 1), (576, 1), (636, 1), (700, 1), (740, 1), (842, 1), (939, 1), (956, 1), (1012, 1), (1013, 1), (1014, 1), (1015, 1), (1016, 1), (1017, 1)], [(31, 1), (174, 1), (251, 1), (1018, 1)], [(3, 1), (8, 2), (16, 1), (23, 1), (31, 1), (33, 1), (53, 3), (61, 1), (114, 1), (135, 1), (163, 1), (174, 1), (202, 1), (248, 1), (342, 1), (357, 1), (469, 1), (688, 1), (1019, 1), (1020, 1)], [(8, 2), (11, 1), (17, 1), (24, 2), (31, 2), (36, 1), (49, 1), (61, 1), (70, 1), (81, 1), (82, 1), (88, 1), (99, 6), (106, 1), (113, 1), (131, 1), (135, 2), (142, 1), (149, 1), (163, 1), (173, 1), (207, 1), (211, 1), (243, 1), (247, 1), (258, 1), (295, 1), (306, 1), (320, 1), (332, 1), (342, 1), (358, 1), (380, 1), (382, 1), (431, 1), (471, 1), (482, 2), (492, 1), (501, 1), (530, 1), (624, 1), (688, 1), (885, 1), (899, 1), (926, 1), (1013, 1), (1021, 1), (1022, 1), (1023, 1), (1024, 1), (1025, 1), (1026, 1), (1027, 1), (1028, 1), (1029, 1), (1030, 1), (1031, 1)], [(353, 1), (355, 1), (437, 1), (438, 1), (439, 1), (440, 1), (441, 1), (442, 1), (443, 1), (444, 1), (445, 1), (1032, 1)], [(2, 1), (24, 1), (31, 1), (48, 1), (51, 1), (54, 1), (55, 1), (108, 1), (145, 1), (146, 1), (147, 1), (148, 1), (149, 1), (150, 1), (151, 1), (152, 1), (153, 1), (154, 1), (155, 1), (156, 1)], [(2, 1), (24, 1), (31, 1), (48, 1), (51, 1), (54, 1), (55, 1), (108, 1), (145, 1), (146, 1), (147, 1), (148, 1), (149, 1), (150, 1), (151, 1), (152, 1), (153, 1), (154, 1), (155, 1), (156, 1)], [(2, 1), (24, 1), (31, 1), (48, 1), (51, 1), (54, 1), (55, 1), (108, 1), (145, 1), (146, 1), (147, 1), (148, 1), (149, 1), (150, 1), (151, 1), (152, 1), (153, 1), (154, 1), (155, 1), (156, 1)], [(2, 1), (24, 1), (31, 1), (48, 1), (51, 1), (54, 1), (55, 1), (108, 1), (145, 1), (146, 1), (147, 1), (148, 1), (149, 1), (150, 1), (151, 1), (152, 1), (153, 1), (154, 1), (155, 1), (156, 1)], [(2, 1), (24, 1), (31, 1), (48, 1), (51, 1), (54, 1), (55, 1), (108, 1), (145, 1), (146, 1), (147, 1), (148, 1), (149, 1), (150, 1), (151, 1), (152, 1), (153, 1), (154, 1), (155, 1), (156, 1)], [(16, 1), (34, 1), (37, 1), (81, 1), (93, 1), (164, 1), (232, 1), (251, 1), (609, 1), (612, 1), (652, 1), (1033, 1), (1034, 1), (1035, 1)], [(0, 2), (2, 1), (17, 1), (19, 1), (24, 1), (28, 1), (31, 2), (34, 1), (36, 1), (58, 1), (88, 1), (99, 5), (117, 1), (135, 1), (140, 1), (145, 1), (149, 1), (173, 1), (174, 1), (185, 1), (187, 1), (191, 1), (221, 1), (295, 1), (401, 1), (413, 1), (502, 1), (708, 1), (899, 1), (1036, 1), (1037, 1), (1038, 1), (1039, 1)], [(16, 1), (17, 1), (24, 1), (28, 1), (34, 1), (36, 1), (58, 1), (62, 1), (64, 1), (66, 1), (88, 1), (99, 2), (114, 1), (160, 1), (174, 1), (214, 1), (227, 1), (240, 1), (242, 1), (253, 1), (274, 1), (285, 1), (315, 1), (319, 1), (324, 1), (325, 1), (358, 1), (395, 1), (489, 1), (511, 1), (526, 1), (546, 1), (680, 1), (858, 1)], [(5, 1), (28, 1), (30, 1), (88, 1), (93, 1), (99, 1), (173, 1), (224, 1), (251, 1), (252, 1), (304, 1), (324, 1), (326, 1), (476, 1), (524, 1), (1040, 1)], [(2, 1), (24, 1), (31, 1), (48, 1), (51, 1), (54, 1), (55, 1), (108, 1), (145, 1), (146, 1), (147, 1), (148, 1), (149, 1), (150, 1), (151, 1), (152, 1), (153, 1), (154, 1), (155, 1), (156, 1)], [(2, 1), (24, 1), (31, 1), (48, 1), (51, 1), (54, 1), (55, 1), (108, 1), (145, 1), (146, 1), (147, 1), (148, 1), (149, 1), (150, 1), (151, 1), (152, 1), (153, 1), (154, 1), (155, 1), (156, 1)], [(2, 1), (24, 1), (31, 1), (48, 1), (51, 1), (54, 1), (55, 1), (108, 1), (145, 1), (146, 1), (147, 1), (148, 1), (149, 1), (150, 1), (151, 1), (152, 1), (153, 1), (154, 1), (155, 1), (156, 1)], [(3, 1), (8, 1), (16, 1), (31, 1), (37, 2), (40, 1), (51, 1), (53, 2), (58, 1), (81, 2), (85, 1), (88, 2), (95, 1), (108, 1), (130, 2), (138, 1), (148, 1), (164, 1), (171, 1), (173, 1), (174, 1), (184, 1), (202, 1), (251, 1), (252, 1), (253, 2), (260, 1), (358, 1), (485, 1), (487, 1), (503, 1), (528, 1), (712, 1), (827, 1), (858, 1), (1041, 1), (1042, 2)], [(2, 1), (24, 1), (31, 1), (48, 1), (51, 1), (54, 1), (55, 1), (108, 1), (145, 1), (146, 1), (147, 1), (148, 1), (149, 1), (150, 1), (151, 1), (152, 1), (153, 1), (154, 1), (155, 1), (156, 1)], [(2, 1), (24, 1), (31, 1), (48, 1), (51, 1), (54, 1), (55, 1), (108, 1), (145, 1), (146, 1), (147, 1), (148, 1), (149, 1), (150, 1), (151, 1), (152, 1), (153, 1), (154, 1), (155, 1), (156, 1)], [(2, 1), (24, 1), (31, 1), (48, 1), (51, 1), (54, 1), (55, 1), (108, 1), (145, 1), (146, 1), (147, 1), (148, 1), (149, 1), (150, 1), (151, 1), (152, 1), (153, 1), (154, 1), (155, 1), (156, 1)], [(232, 1), (1043, 1)], [(24, 1), (31, 1), (51, 1), (147, 1), (248, 1), (289, 1), (296, 1), (358, 1), (632, 1), (875, 1), (1044, 1), (1045, 1), (1046, 1)], [(1, 1), (2, 1), (16, 1), (18, 1), (31, 3), (34, 2), (37, 2), (45, 1), (48, 1), (51, 1), (79, 1), (81, 1), (88, 1), (90, 1), (93, 1), (100, 1), (117, 1), (130, 1), (147, 1), (149, 1), (160, 1), (163, 1), (185, 1), (187, 1), (203, 1), (211, 1), (243, 1), (261, 1), (281, 1), (300, 1), (330, 1), (353, 1), (355, 1), (358, 1), (359, 1), (444, 1), (471, 1), (492, 1), (501, 1), (580, 1), (617, 1), (739, 1), (998, 1), (1047, 1), (1048, 1), (1049, 1), (1050, 1), (1051, 1), (1052, 1), (1053, 1), (1054, 1), (1055, 1), (1056, 1), (1057, 1), (1058, 1), (1059, 1), (1060, 1), (1061, 1)], [(16, 1), (31, 3), (36, 1), (45, 1), (49, 1), (53, 1), (61, 1), (65, 1), (70, 1), (81, 1), (93, 1), (95, 1), (202, 1), (311, 1), (348, 1), (407, 1), (414, 1), (452, 1), (485, 1), (487, 1), (488, 1), (563, 1), (648, 1), (767, 1), (1062, 1), (1063, 1), (1064, 1), (1065, 1)], [(2, 1), (24, 1), (31, 1), (48, 1), (51, 1), (54, 1), (55, 1), (108, 1), (145, 1), (146, 1), (147, 1), (148, 1), (149, 1), (150, 1), (151, 1), (152, 1), (153, 1), (154, 1), (155, 1), (156, 1)], [(2, 1), (8, 1), (18, 1), (31, 1), (32, 1), (45, 1), (51, 1), (54, 1), (61, 1), (70, 1), (114, 1), (133, 1), (134, 1), (145, 2), (160, 1), (163, 1), (195, 1), (324, 1), (428, 1), (473, 1), (474, 1), (614, 1), (794, 1)], [(2, 1), (24, 1), (31, 1), (48, 1), (51, 1), (54, 1), (55, 1), (108, 1), (145, 1), (146, 1), (147, 1), (148, 1), (149, 1), (150, 1), (151, 1), (152, 1), (153, 1), (154, 1), (155, 1), (156, 1)], [(2, 1), (24, 1), (31, 1), (48, 1), (51, 1), (54, 1), (55, 1), (108, 1), (145, 1), (146, 1), (147, 1), (148, 1), (149, 1), (150, 1), (151, 1), (152, 1), (153, 1), (154, 1), (155, 1), (156, 1)], [(2, 1), (24, 1), (31, 1), (48, 1), (51, 1), (54, 1), (55, 1), (108, 1), (145, 1), (146, 1), (147, 1), (148, 1), (149, 1), (150, 1), (151, 1), (152, 1), (153, 1), (154, 1), (155, 1), (156, 1)], [(2, 1), (24, 1), (31, 1), (48, 1), (51, 1), (54, 1), (55, 1), (108, 1), (145, 1), (146, 1), (147, 1), (148, 1), (149, 1), (150, 1), (151, 1), (152, 1), (153, 1), (154, 1), (155, 1), (156, 1)], [(0, 1), (1, 1), (2, 4), (3, 1), (8, 1), (11, 2), (17, 1), (30, 1), (35, 1), (36, 1), (40, 1), (48, 1), (51, 1), (54, 1), (64, 2), (69, 1), (72, 1), (74, 1), (80, 1), (81, 5), (83, 1), (88, 3), (91, 1), (95, 1), (99, 4), (108, 1), (110, 1), (114, 1), (125, 1), (129, 1), (131, 1), (136, 1), (145, 3), (158, 1), (160, 4), (163, 1), (164, 1), (185, 1), (202, 1), (215, 1), (226, 1), (236, 1), (251, 1), (259, 1), (291, 1), (300, 1), (395, 1), (416, 1), (471, 1), (482, 1), (489, 1), (490, 1), (503, 1), (540, 2), (548, 1), (572, 1), (577, 1), (606, 1), (706, 1), (858, 1), (962, 1), (1066, 1), (1067, 1), (1068, 1), (1069, 1), (1070, 1), (1071, 1), (1072, 1)], [(2, 1), (8, 1), (11, 1), (24, 1), (26, 1), (36, 1), (37, 1), (50, 1), (51, 1), (54, 1), (65, 1), (85, 1), (88, 1), (99, 2), (109, 1), (133, 1), (134, 1), (148, 1), (160, 1), (164, 2), (189, 1), (190, 1), (242, 1), (248, 1), (289, 1), (296, 1), (358, 1), (359, 1), (452, 1), (497, 1), (514, 1), (668, 1), (848, 1), (1073, 1), (1074, 1)], [(16, 1), (23, 1), (31, 1), (36, 1), (53, 4), (69, 1), (95, 1), (99, 1), (106, 1), (116, 1), (143, 1), (202, 1), (318, 1), (357, 1), (546, 1), (655, 1), (822, 1), (925, 1), (1075, 1), (1076, 1), (1077, 1)], [(2, 3), (16, 1), (17, 1), (24, 1), (26, 1), (30, 1), (31, 1), (36, 1), (37, 1), (40, 1), (51, 1), (53, 5), (64, 1), (72, 1), (74, 1), (85, 1), (88, 1), (99, 4), (109, 1), (114, 1), (120, 1), (133, 1), (163, 2), (164, 1), (165, 1), (168, 1), (173, 1), (232, 1), (242, 1), (261, 2), (274, 1), (277, 1), (280, 1), (281, 1), (285, 1), (308, 1), (320, 1), (358, 1), (361, 1), (367, 2), (391, 1), (435, 1), (489, 1), (544, 1), (581, 1), (593, 1), (597, 1), (599, 1), (626, 1), (631, 1), (654, 1), (697, 1), (772, 1), (856, 1), (1041, 1), (1078, 1), (1079, 1), (1080, 1), (1081, 1)], [(2, 1), (24, 1), (31, 1), (48, 1), (51, 1), (54, 1), (55, 1), (108, 1), (145, 1), (146, 1), (147, 1), (148, 1), (149, 1), (150, 1), (151, 1), (152, 1), (153, 1), (154, 1), (155, 1), (156, 1)], [(1, 1), (3, 1), (5, 1), (8, 2), (11, 2), (17, 1), (21, 1), (24, 1), (26, 1), (30, 1), (31, 2), (34, 2), (36, 1), (51, 1), (54, 1), (64, 1), (65, 1), (80, 1), (81, 3), (83, 1), (85, 1), (88, 2), (95, 1), (99, 6), (106, 1), (129, 2), (133, 1), (134, 1), (137, 1), (152, 1), (160, 2), (163, 3), (164, 1), (173, 2), (242, 1), (267, 1), (275, 2), (281, 1), (298, 1), (314, 1), (333, 1), (380, 1), (385, 1), (539, 1), (560, 1), (595, 1), (620, 1), (757, 1), (800, 1), (901, 1), (907, 1), (934, 1), (1021, 1), (1082, 1), (1083, 1), (1084, 1), (1085, 1)], [(3, 1), (8, 1), (11, 1), (26, 1), (28, 1), (35, 1), (37, 1), (53, 3), (54, 1), (81, 1), (99, 1), (109, 1), (164, 1), (174, 1), (242, 1), (291, 1), (293, 1), (385, 1), (599, 1), (1086, 1)], [(2, 1), (24, 1), (31, 1), (48, 1), (51, 1), (54, 1), (55, 1), (108, 1), (145, 1), (146, 1), (147, 1), (148, 1), (149, 1), (150, 1), (151, 1), (152, 1), (153, 1), (154, 1), (155, 1), (156, 1)], [(0, 2), (16, 1), (17, 1), (18, 1), (19, 1), (21, 1), (26, 1), (28, 1), (30, 1), (34, 1), (36, 1), (40, 1), (54, 1), (61, 1), (70, 1), (72, 1), (88, 1), (99, 2), (106, 1), (109, 1), (114, 1), (137, 1), (145, 1), (160, 2), (163, 1), (164, 1), (174, 1), (219, 1), (251, 1), (261, 2), (319, 1), (358, 1), (395, 1), (415, 1), (416, 1), (465, 1), (488, 1), (540, 1), (612, 1), (726, 1), (755, 1), (882, 1), (1041, 1)], [(2, 1), (24, 1), (31, 1), (48, 1), (51, 1), (54, 1), (55, 1), (108, 1), (145, 1), (146, 1), (147, 1), (148, 1), (149, 1), (150, 1), (151, 1), (152, 1), (153, 1), (154, 1), (155, 1), (156, 1)], [(2, 1), (24, 1), (31, 1), (48, 1), (51, 1), (54, 1), (55, 1), (108, 1), (145, 1), (146, 1), (147, 1), (148, 1), (149, 1), (150, 1), (151, 1), (152, 1), (153, 1), (154, 1), (155, 1), (156, 1)], [(0, 1), (1, 1), (3, 1), (8, 1), (11, 1), (19, 1), (28, 1), (31, 1), (37, 1), (39, 1), (40, 2), (45, 1), (49, 1), (51, 1), (53, 5), (80, 1), (81, 2), (85, 1), (88, 1), (91, 1), (95, 1), (99, 2), (108, 1), (138, 1), (145, 1), (146, 1), (163, 2), (173, 1), (190, 1), (195, 1), (202, 1), (205, 1), (244, 1), (248, 1), (249, 1), (251, 1), (252, 1), (275, 1), (312, 1), (317, 1), (357, 1), (367, 1), (474, 1), (511, 1), (1066, 1), (1087, 1), (1088, 1), (1089, 1)], [(2, 1), (24, 1), (31, 1), (48, 1), (51, 1), (54, 1), (55, 1), (108, 1), (145, 1), (146, 1), (147, 1), (148, 1), (149, 1), (150, 1), (151, 1), (152, 1), (153, 1), (154, 1), (155, 1), (156, 1)], [(0, 1), (2, 1), (8, 1), (17, 1), (18, 1), (26, 1), (28, 1), (30, 1), (31, 4), (36, 1), (40, 1), (51, 1), (55, 1), (62, 1), (64, 2), (67, 1), (83, 1), (91, 3), (93, 1), (99, 3), (136, 1), (145, 2), (146, 1), (147, 1), (160, 1), (163, 4), (164, 1), (168, 1), (171, 1), (174, 1), (188, 2), (196, 1), (197, 1), (203, 1), (212, 1), (215, 2), (227, 1), (232, 1), (236, 1), (244, 1), (249, 1), (269, 1), (273, 1), (291, 1), (298, 1), (358, 3), (413, 1), (465, 1), (469, 1), (473, 1), (492, 1), (571, 1), (632, 1), (634, 1), (754, 1), (842, 1), (1041, 1), (1090, 1), (1091, 1), (1092, 1), (1093, 1), (1094, 1), (1095, 2)], [(40, 1), (51, 1), (66, 1), (72, 1), (88, 1), (109, 1), (113, 1), (142, 1), (146, 1), (152, 1), (160, 1), (215, 1), (227, 1), (242, 1), (295, 1), (572, 1), (620, 1), (641, 1), (722, 1), (1041, 1), (1096, 1), (1097, 1), (1098, 1), (1099, 1)], [(0, 1), (2, 1), (3, 1), (8, 1), (9, 1), (21, 1), (26, 1), (31, 2), (34, 1), (35, 1), (37, 3), (40, 1), (45, 1), (51, 1), (53, 2), (54, 2), (56, 2), (58, 1), (64, 1), (72, 2), (81, 1), (85, 1), (87, 1), (88, 3), (93, 2), (110, 1), (114, 1), (123, 1), (125, 1), (130, 1), (138, 1), (145, 1), (146, 1), (154, 1), (163, 2), (185, 1), (189, 1), (291, 1), (295, 1), (297, 1), (315, 1), (320, 1), (358, 1), (361, 1), (395, 1), (396, 1), (405, 1), (435, 1), (462, 1), (472, 1), (502, 1), (583, 1), (588, 1), (686, 1), (754, 1), (822, 1), (854, 1), (880, 1), (907, 1), (1078, 1), (1088, 1), (1100, 1), (1101, 1), (1102, 1), (1103, 1), (1104, 1), (1105, 1), (1106, 1), (1107, 1)], [(2, 1), (37, 1), (40, 1), (45, 1), (51, 1), (61, 1), (70, 1), (72, 1), (102, 1), (108, 1), (109, 1), (152, 1), (174, 1), (227, 1), (251, 1), (291, 1), (332, 1), (339, 1), (342, 1), (395, 1), (455, 1), (468, 1), (508, 1)], [(2, 1), (24, 1), (31, 1), (48, 1), (51, 1), (54, 1), (55, 1), (108, 1), (145, 1), (146, 1), (147, 1), (148, 1), (149, 1), (150, 1), (151, 1), (152, 1), (153, 1), (154, 1), (155, 1), (156, 1)], [(1, 2), (31, 1), (37, 4), (61, 1), (64, 1), (70, 1), (80, 1), (81, 2), (82, 1), (85, 1), (88, 1), (102, 1), (114, 1), (124, 1), (133, 1), (134, 1), (159, 1), (205, 1), (301, 1), (326, 1), (429, 1), (468, 1), (505, 1), (508, 1), (571, 1), (725, 1), (934, 1), (1108, 1), (1109, 1)], [(2, 1), (24, 1), (31, 1), (48, 1), (51, 1), (54, 1), (55, 1), (108, 1), (145, 1), (146, 1), (147, 1), (148, 1), (149, 1), (150, 1), (151, 1), (152, 1), (153, 1), (154, 1), (155, 1), (156, 1)], [(2, 1), (24, 1), (31, 1), (48, 1), (51, 1), (54, 1), (55, 1), (108, 1), (145, 1), (146, 1), (147, 1), (148, 1), (149, 1), (150, 1), (151, 1), (152, 1), (153, 1), (154, 1), (155, 1), (156, 1)], [(17, 1), (31, 2), (34, 1), (36, 1), (53, 1), (64, 1), (65, 1), (66, 1), (74, 1), (79, 1), (80, 1), (85, 1), (88, 2), (99, 2), (103, 1), (106, 1), (133, 1), (134, 1), (159, 1), (161, 1), (173, 1), (191, 1), (242, 1), (298, 1), (309, 1), (313, 1), (324, 1), (337, 1), (359, 1), (389, 1), (469, 1), (472, 1), (497, 1), (547, 1), (630, 1), (631, 1), (795, 1), (800, 1), (1110, 1), (1111, 1), (1112, 1), (1113, 1)], [(2, 1), (24, 1), (31, 1), (48, 1), (51, 1), (54, 1), (55, 1), (108, 1), (145, 1), (146, 1), (147, 1), (148, 1), (149, 1), (150, 1), (151, 1), (152, 1), (153, 1), (154, 1), (155, 1), (156, 1)], [(2, 1), (24, 1), (31, 1), (48, 1), (51, 1), (54, 1), (55, 1), (108, 1), (145, 1), (146, 1), (147, 1), (148, 1), (149, 1), (150, 1), (151, 1), (152, 1), (153, 1), (154, 1), (155, 1), (156, 1)], [(18, 1), (24, 1), (28, 1), (30, 1), (45, 1), (53, 3), (56, 1), (58, 1), (66, 1), (69, 1), (81, 1), (87, 1), (88, 1), (99, 1), (108, 1), (109, 1), (110, 1), (135, 1), (159, 1), (161, 1), (163, 1), (174, 1), (204, 1), (205, 1), (214, 1), (215, 1), (236, 1), (244, 1), (249, 1), (251, 1), (252, 1), (253, 1), (257, 1), (319, 1), (332, 1), (334, 1), (385, 1), (431, 1), (451, 1), (471, 1), (599, 1), (712, 1), (846, 1), (1041, 1), (1063, 1), (1114, 1), (1115, 1), (1116, 1), (1117, 1), (1118, 1)], [(2, 1), (24, 1), (31, 1), (48, 1), (51, 1), (54, 1), (55, 1), (108, 1), (145, 1), (146, 1), (147, 1), (148, 1), (149, 1), (150, 1), (151, 1), (152, 1), (153, 1), (154, 1), (155, 1), (156, 1)], [(7, 1), (18, 1), (36, 1), (48, 1), (51, 1), (54, 1), (147, 1), (251, 1), (252, 1), (307, 1), (321, 1), (324, 1), (771, 1), (1119, 1), (1120, 1)], [(1, 1), (6, 1), (8, 1), (24, 1), (37, 1), (50, 1), (51, 1), (58, 1), (65, 3), (69, 1), (81, 1), (93, 2), (99, 1), (109, 1), (114, 1), (130, 1), (143, 1), (160, 1), (163, 1), (188, 1), (196, 1), (203, 1), (320, 1), (330, 1), (353, 1), (355, 1), (442, 1), (444, 1), (494, 2), (524, 2), (616, 1), (619, 1), (755, 1), (794, 1), (852, 1), (885, 1), (1121, 1), (1122, 1), (1123, 1), (1124, 1), (1125, 1), (1126, 1), (1127, 1), (1128, 2), (1129, 1), (1130, 1), (1131, 1), (1132, 1), (1133, 1)], [(16, 1), (31, 1), (37, 1), (45, 1), (51, 1), (64, 1), (80, 1), (82, 1), (88, 2), (102, 1), (108, 1), (147, 1), (163, 1), (164, 1), (173, 1), (201, 1), (204, 1), (329, 1), (447, 1), (448, 1), (489, 1), (505, 1), (524, 1), (589, 1), (643, 2), (680, 1), (962, 1), (1134, 1), (1135, 1), (1136, 1), (1137, 1)], [(2, 1), (24, 1), (31, 1), (48, 1), (51, 1), (54, 1), (55, 1), (108, 1), (145, 1), (146, 1), (147, 1), (148, 1), (149, 1), (150, 1), (151, 1), (152, 1), (153, 1), (154, 1), (155, 1), (156, 1)], [(2, 1), (8, 3), (11, 1), (26, 2), (30, 1), (35, 1), (36, 1), (41, 1), (45, 1), (52, 1), (53, 2), (56, 1), (58, 1), (64, 2), (65, 1), (80, 1), (81, 1), (82, 1), (85, 1), (88, 1), (89, 1), (93, 1), (96, 1), (99, 5), (101, 1), (102, 1), (106, 1), (114, 1), (145, 1), (151, 2), (160, 1), (163, 1), (164, 1), (171, 1), (183, 1), (194, 1), (205, 2), (216, 3), (228, 2), (229, 1), (234, 1), (236, 1), (242, 1), (248, 1), (261, 1), (262, 1), (268, 1), (270, 2), (271, 1), (281, 1), (298, 1), (327, 1), (330, 1), (333, 1), (503, 1), (508, 1), (519, 2), (537, 1), (571, 1), (591, 1), (592, 1), (629, 1), (734, 1), (779, 1), (842, 1), (915, 2), (952, 1), (1138, 1), (1139, 1), (1140, 1), (1141, 1), (1142, 1)], [(2, 1), (24, 1), (31, 1), (48, 1), (51, 1), (54, 1), (55, 1), (108, 1), (145, 1), (146, 1), (147, 1), (148, 1), (149, 1), (150, 1), (151, 1), (152, 1), (153, 1), (154, 1), (155, 1), (156, 1)], [(2, 1), (24, 1), (31, 1), (48, 1), (51, 1), (54, 1), (55, 1), (108, 1), (145, 1), (146, 1), (147, 1), (148, 1), (149, 1), (150, 1), (151, 1), (152, 1), (153, 1), (154, 1), (155, 1), (156, 1)], [(2, 1), (6, 1), (8, 2), (9, 1), (11, 1), (16, 1), (24, 1), (26, 3), (28, 1), (30, 1), (34, 1), (36, 1), (37, 2), (41, 1), (49, 1), (53, 7), (54, 1), (56, 1), (64, 1), (69, 1), (81, 1), (83, 1), (87, 1), (88, 1), (89, 1), (99, 2), (106, 1), (130, 1), (143, 1), (145, 1), (159, 1), (161, 1), (163, 1), (168, 1), (171, 1), (194, 1), (216, 1), (229, 1), (234, 1), (281, 2), (310, 1), (359, 1), (361, 1), (382, 1), (385, 1), (452, 1), (468, 1), (471, 1), (472, 1), (476, 3), (503, 1), (521, 1), (529, 1), (546, 1), (547, 1), (580, 1), (592, 1), (593, 1), (694, 1), (712, 1), (753, 1), (789, 1), (923, 1), (931, 1), (1079, 1), (1098, 1), (1139, 1), (1143, 1), (1144, 1), (1145, 1), (1146, 1), (1147, 1), (1148, 1), (1149, 1), (1150, 1), (1151, 1), (1152, 1)], [(2, 1), (24, 1), (31, 1), (48, 1), (51, 1), (54, 1), (55, 1), (108, 1), (145, 1), (146, 1), (147, 1), (148, 1), (149, 1), (150, 1), (151, 1), (152, 1), (153, 1), (154, 1), (155, 1), (156, 1)], [(0, 2), (1, 1), (2, 1), (3, 1), (8, 1), (9, 1), (13, 1), (26, 1), (30, 1), (32, 1), (36, 1), (51, 1), (56, 1), (58, 1), (114, 1), (117, 1), (130, 1), (142, 1), (163, 1), (173, 1), (185, 2), (186, 1), (187, 1), (209, 1), (211, 1), (212, 1), (227, 1), (244, 1), (251, 1), (254, 1), (274, 1), (285, 1), (332, 1), (334, 1), (341, 1), (382, 1), (395, 1), (473, 1), (489, 1), (492, 1), (571, 1), (582, 1), (585, 1), (608, 1), (626, 1), (710, 1), (937, 1), (960, 1), (1009, 1), (1091, 1), (1153, 1), (1154, 1), (1155, 1), (1156, 1), (1157, 1), (1158, 1), (1159, 1), (1160, 1)], [(1, 1), (3, 1), (8, 1), (24, 1), (31, 3), (37, 1), (39, 2), (40, 1), (51, 1), (53, 3), (54, 1), (58, 1), (65, 1), (80, 1), (81, 3), (85, 1), (88, 1), (93, 1), (95, 1), (99, 1), (106, 1), (117, 1), (120, 1), (138, 1), (142, 1), (145, 1), (152, 1), (159, 1), (161, 1), (163, 2), (173, 2), (181, 1), (194, 1), (195, 1), (202, 1), (205, 1), (248, 1), (251, 1), (260, 1), (262, 1), (271, 1), (272, 1), (274, 1), (285, 1), (342, 1), (382, 1), (396, 1), (471, 2), (477, 1), (481, 1), (503, 1), (519, 1), (524, 1), (529, 1), (546, 1), (612, 1), (645, 1), (680, 1), (762, 1), (771, 1), (772, 1), (773, 1), (875, 1), (998, 1), (999, 1), (1041, 1), (1088, 1), (1102, 1), (1117, 1), (1161, 1), (1162, 1), (1163, 1)], [(19, 1), (28, 1), (37, 1), (48, 1), (51, 1), (65, 1), (79, 1), (80, 1), (88, 1), (93, 1), (97, 1), (145, 2), (163, 2), (192, 1), (204, 1), (205, 1), (227, 1), (315, 1), (337, 1), (524, 1), (595, 1), (706, 1), (793, 1), (925, 1), (1094, 1), (1164, 1), (1165, 1), (1166, 1), (1167, 1)], [(46, 1), (54, 1), (81, 1), (95, 1), (152, 1), (174, 1), (202, 1), (718, 2), (818, 1), (1168, 1)], [(31, 1), (108, 1), (117, 1), (152, 1), (324, 1), (342, 1), (826, 1)], [(0, 1), (2, 1), (8, 1), (13, 1), (21, 1), (28, 1), (29, 1), (30, 1), (32, 1), (35, 1), (39, 1), (49, 1), (50, 1), (51, 1), (53, 3), (64, 1), (81, 1), (82, 1), (83, 1), (90, 1), (109, 1), (114, 1), (123, 1), (130, 1), (131, 1), (144, 1), (158, 1), (168, 1), (199, 1), (215, 1), (232, 1), (234, 1), (257, 1), (277, 1), (308, 1), (332, 1), (338, 1), (342, 1), (361, 1), (385, 1), (389, 1), (405, 1), (408, 1), (519, 2), (571, 1), (585, 1), (733, 1), (737, 1), (744, 1), (773, 1), (858, 1), (934, 1), (937, 1), (950, 1), (992, 1), (1000, 1), (1010, 1), (1102, 1), (1106, 1), (1116, 1), (1150, 1), (1169, 1), (1170, 1), (1171, 2), (1172, 1), (1173, 1), (1174, 1), (1175, 1), (1176, 1), (1177, 1), (1178, 1), (1179, 1), (1180, 1), (1181, 1)], [(2, 1), (9, 1), (26, 1), (30, 1), (36, 1), (56, 1), (65, 1), (88, 1), (99, 1), (108, 1), (114, 1), (145, 1), (160, 1), (173, 1), (280, 1), (319, 1), (324, 1), (361, 1), (736, 1), (826, 1)], [(8, 1), (17, 1), (18, 1), (21, 1), (24, 1), (28, 1), (29, 1), (34, 1), (36, 1), (37, 2), (48, 1), (51, 1), (65, 1), (71, 1), (74, 1), (81, 1), (85, 2), (88, 1), (95, 1), (99, 2), (108, 1), (114, 2), (117, 1), (125, 1), (133, 1), (134, 1), (163, 1), (173, 1), (187, 1), (202, 1), (211, 1), (214, 1), (248, 1), (251, 1), (257, 1), (312, 1), (317, 1), (341, 1), (358, 1), (364, 1), (401, 1), (485, 1), (487, 1), (501, 1), (519, 1), (529, 1), (591, 1), (608, 1), (610, 1), (612, 1), (680, 1), (740, 1), (744, 1), (791, 1), (795, 1), (835, 1), (836, 1), (839, 1), (1016, 1), (1023, 1), (1045, 1), (1131, 1), (1182, 1), (1183, 1)], [(2, 1), (24, 1), (31, 1), (48, 1), (51, 1), (54, 1), (55, 1), (108, 1), (145, 1), (146, 1), (147, 1), (148, 1), (149, 1), (150, 1), (151, 1), (152, 1), (153, 1), (154, 1), (155, 1), (156, 1)], [(2, 1), (24, 1), (31, 1), (48, 1), (51, 1), (54, 1), (55, 1), (108, 1), (145, 1), (146, 1), (147, 1), (148, 1), (149, 1), (150, 1), (151, 1), (152, 1), (153, 1), (154, 1), (155, 1), (156, 1)], [(2, 1), (24, 1), (31, 1), (48, 1), (51, 1), (54, 1), (55, 1), (108, 1), (145, 1), (146, 1), (147, 1), (148, 1), (149, 1), (150, 1), (151, 1), (152, 1), (153, 1), (154, 1), (155, 1), (156, 1)], [(5, 1), (8, 2), (13, 1), (17, 2), (24, 2), (26, 1), (30, 1), (31, 5), (34, 2), (36, 1), (39, 1), (54, 1), (55, 1), (62, 1), (65, 1), (72, 1), (81, 2), (88, 1), (91, 1), (98, 1), (99, 4), (107, 1), (109, 1), (110, 1), (131, 1), (135, 1), (142, 2), (160, 1), (163, 3), (164, 3), (173, 1), (176, 1), (186, 1), (206, 1), (221, 1), (232, 1), (242, 1), (247, 1), (257, 1), (261, 1), (274, 1), (278, 1), (280, 1), (285, 1), (332, 1), (334, 1), (349, 1), (361, 1), (395, 1), (399, 1), (432, 2), (479, 1), (489, 1), (496, 1), (530, 1), (547, 1), (600, 1), (644, 1), (688, 1), (701, 1), (712, 1), (735, 1), (854, 2), (883, 1), (1012, 1), (1158, 1), (1184, 2), (1185, 1), (1186, 1), (1187, 1), (1188, 1), (1189, 1), (1190, 1), (1191, 1), (1192, 1), (1193, 1), (1194, 1), (1195, 1), (1196, 1), (1197, 1), (1198, 1), (1199, 1)], [(2, 2), (11, 1), (17, 1), (18, 1), (26, 1), (30, 1), (34, 1), (36, 1), (52, 1), (53, 1), (54, 1), (81, 1), (88, 1), (99, 2), (106, 1), (109, 1), (123, 1), (129, 1), (160, 1), (161, 1), (164, 1), (170, 1), (227, 1), (271, 1), (318, 1), (319, 1), (320, 1), (406, 1), (419, 1), (452, 1), (609, 1), (711, 1), (790, 1), (848, 1), (1023, 1), (1115, 1), (1118, 1), (1200, 1), (1201, 1)], [(2, 1), (24, 1), (31, 1), (48, 1), (51, 1), (54, 1), (55, 1), (108, 1), (145, 1), (146, 1), (147, 1), (148, 1), (149, 1), (150, 1), (151, 1), (152, 1), (153, 1), (154, 1), (155, 1), (156, 1)], [(55, 1), (56, 1), (72, 1), (74, 1), (109, 1), (251, 1), (260, 1), (270, 1), (324, 1), (339, 1), (342, 1), (455, 1), (559, 1), (642, 1), (1115, 1), (1118, 1)], [(2, 1), (24, 1), (31, 1), (48, 1), (51, 1), (54, 1), (55, 1), (108, 1), (145, 1), (146, 1), (147, 1), (148, 1), (149, 1), (150, 1), (151, 1), (152, 1), (153, 1), (154, 1), (155, 1), (156, 1)], [(16, 1), (26, 1), (31, 2), (34, 1), (37, 1), (58, 1), (88, 1), (109, 1), (114, 1), (170, 1), (171, 1), (174, 1), (185, 1), (187, 1), (214, 1), (221, 1), (253, 1), (291, 1), (293, 1), (359, 1), (488, 1), (578, 1), (1098, 1), (1202, 1), (1203, 1), (1204, 1), (1205, 1)], [(2, 1), (9, 1), (26, 1), (31, 2), (56, 1), (64, 1), (80, 1), (88, 1), (130, 1), (171, 1), (185, 2), (187, 1), (189, 1), (191, 1), (223, 1), (242, 1), (300, 1), (359, 1), (675, 1), (1017, 1), (1206, 1), (1207, 1)], [(8, 1), (11, 1), (16, 1), (35, 1), (39, 1), (41, 1), (53, 2), (54, 1), (57, 1), (64, 1), (80, 1), (81, 2), (88, 1), (95, 2), (97, 1), (99, 2), (106, 2), (114, 1), (130, 1), (159, 1), (160, 1), (161, 1), (163, 1), (164, 1), (173, 1), (201, 1), (202, 2), (228, 1), (242, 2), (248, 1), (281, 1), (306, 1), (755, 1), (787, 1), (1091, 2), (1208, 1), (1209, 2)], [(2, 1), (17, 1), (18, 1), (19, 1), (28, 1), (29, 1), (30, 1), (31, 3), (34, 1), (36, 2), (40, 1), (48, 1), (53, 1), (58, 1), (61, 1), (64, 1), (70, 1), (81, 1), (88, 1), (95, 1), (97, 1), (99, 2), (114, 1), (125, 1), (130, 1), (137, 1), (145, 1), (149, 1), (152, 1), (163, 3), (173, 1), (195, 1), (205, 1), (244, 1), (249, 1), (269, 1), (272, 1), (274, 1), (285, 1), (309, 1), (318, 1), (319, 1), (451, 1), (460, 1), (489, 1), (514, 1), (519, 1), (680, 1), (769, 1), (793, 1), (982, 1), (996, 1), (1105, 1), (1210, 1), (1211, 1), (1212, 1)], [(2, 1), (24, 1), (31, 1), (48, 1), (51, 1), (54, 1), (55, 1), (108, 1), (145, 1), (146, 1), (147, 1), (148, 1), (149, 1), (150, 1), (151, 1), (152, 1), (153, 1), (154, 1), (155, 1), (156, 1)], [(65, 1), (109, 1), (114, 1), (174, 1), (326, 1), (485, 1), (487, 1), (680, 1), (1213, 1), (1214, 1)], [(1, 1), (2, 1), (8, 1), (26, 1), (34, 1), (37, 1), (45, 1), (53, 1), (87, 1), (88, 1), (99, 1), (109, 1), (145, 1), (161, 1), (204, 1), (257, 1), (342, 1), (395, 1), (451, 1), (783, 1)], [(0, 2), (2, 2), (5, 1), (8, 1), (16, 2), (19, 1), (24, 3), (26, 1), (31, 2), (32, 1), (34, 1), (37, 3), (45, 1), (48, 1), (55, 1), (58, 1), (65, 1), (66, 1), (81, 1), (82, 1), (83, 2), (88, 2), (93, 1), (99, 3), (108, 1), (109, 1), (114, 2), (117, 1), (131, 1), (145, 1), (160, 1), (174, 1), (186, 1), (189, 2), (195, 1), (227, 1), (243, 1), (266, 1), (272, 1), (275, 1), (299, 1), (312, 1), (317, 1), (318, 1), (319, 1), (320, 1), (339, 1), (341, 1), (358, 1), (442, 1), (447, 2), (448, 2), (476, 1), (489, 1), (521, 1), (524, 1), (560, 1), (585, 1), (615, 1), (632, 1), (778, 1), (858, 1), (885, 1), (907, 1), (920, 1), (927, 1), (991, 1), (1094, 1), (1215, 1), (1216, 1)], [(8, 1), (16, 1), (17, 1), (18, 1), (24, 1), (26, 1), (28, 1), (39, 1), (40, 1), (51, 1), (53, 3), (58, 2), (65, 1), (72, 1), (79, 1), (81, 1), (85, 1), (93, 1), (99, 1), (108, 1), (109, 1), (110, 1), (117, 1), (157, 1), (158, 1), (163, 1), (171, 1), (173, 1), (244, 1), (249, 1), (253, 2), (281, 2), (317, 1), (320, 1), (329, 1), (385, 3), (408, 1), (447, 1), (451, 1), (519, 1), (524, 1), (764, 1), (929, 1), (984, 3), (998, 1), (1201, 1), (1217, 1), (1218, 1), (1219, 1)], [(2, 1), (24, 1), (31, 1), (48, 1), (51, 1), (54, 1), (55, 1), (108, 1), (145, 1), (146, 1), (147, 1), (148, 1), (149, 1), (150, 1), (151, 1), (152, 1), (153, 1), (154, 1), (155, 1), (156, 1)], [(2, 1), (24, 1), (31, 1), (48, 1), (51, 1), (54, 1), (55, 1), (108, 1), (145, 1), (146, 1), (147, 1), (148, 1), (149, 1), (150, 1), (151, 1), (152, 1), (153, 1), (154, 1), (155, 1), (156, 1)], [(8, 1), (17, 1), (18, 1), (24, 1), (31, 1), (39, 1), (45, 1), (48, 1), (61, 1), (64, 1), (70, 1), (81, 3), (82, 1), (83, 1), (85, 1), (88, 1), (91, 1), (95, 1), (97, 1), (99, 3), (102, 1), (110, 1), (114, 1), (133, 1), (134, 1), (152, 1), (163, 1), (183, 1), (189, 1), (192, 1), (194, 1), (205, 1), (209, 1), (215, 2), (227, 1), (229, 1), (234, 1), (251, 1), (295, 1), (307, 1), (315, 1), (319, 1), (321, 1), (367, 1), (391, 1), (396, 1), (435, 1), (451, 2), (455, 1), (468, 1), (503, 2), (508, 1), (513, 1), (574, 1), (575, 1), (583, 1), (587, 1), (588, 1), (591, 1), (654, 1), (737, 1), (744, 1), (947, 1), (999, 1), (1078, 1), (1107, 2), (1114, 1), (1220, 1), (1221, 1), (1222, 1), (1223, 1), (1224, 1), (1225, 1), (1226, 1), (1227, 1), (1228, 1)], [(2, 1), (8, 2), (18, 1), (26, 1), (36, 1), (51, 1), (53, 2), (69, 1), (72, 1), (83, 1), (85, 1), (88, 1), (89, 2), (99, 1), (107, 1), (108, 1), (109, 1), (117, 1), (145, 1), (152, 1), (163, 1), (171, 1), (211, 1), (215, 1), (227, 1), (244, 1), (245, 1), (249, 1), (251, 1), (252, 1), (281, 1), (291, 1), (320, 1), (327, 1), (342, 1), (367, 1), (386, 1), (408, 1), (415, 1), (451, 1), (502, 1), (505, 1), (519, 1), (550, 1), (580, 1), (582, 1), (599, 1), (654, 1), (656, 1), (710, 1), (757, 1), (796, 1), (797, 1), (1063, 1), (1078, 1), (1107, 1), (1217, 2), (1229, 1), (1230, 1), (1231, 1), (1232, 1), (1233, 1), (1234, 1)], [(1, 1), (11, 1), (17, 1), (18, 1), (24, 1), (26, 1), (28, 1), (31, 1), (36, 1), (37, 1), (39, 1), (48, 1), (51, 1), (52, 1), (65, 1), (69, 2), (81, 2), (83, 1), (88, 3), (95, 1), (99, 5), (108, 1), (137, 1), (143, 2), (149, 1), (160, 1), (163, 1), (189, 1), (197, 1), (199, 1), (202, 1), (204, 1), (205, 2), (211, 1), (212, 1), (227, 1), (244, 1), (248, 1), (253, 1), (262, 1), (294, 1), (298, 1), (301, 1), (305, 1), (308, 1), (320, 1), (391, 1), (393, 1), (408, 1), (415, 1), (504, 1), (513, 1), (528, 1), (546, 1), (559, 1), (580, 1), (642, 1), (927, 1), (1235, 1), (1236, 1), (1237, 1), (1238, 1), (1239, 1), (1240, 1)], [(2, 1), (24, 1), (31, 1), (48, 1), (51, 1), (54, 1), (55, 1), (108, 1), (145, 1), (146, 1), (147, 1), (148, 1), (149, 1), (150, 1), (151, 1), (152, 1), (153, 1), (154, 1), (155, 1), (156, 1)], [(16, 1), (31, 1), (34, 1), (35, 1), (37, 1), (49, 1), (64, 1), (80, 1), (99, 1), (117, 1), (125, 2), (130, 1), (142, 1), (152, 1), (171, 1), (228, 1), (248, 1), (251, 1), (281, 1), (298, 1), (336, 1), (342, 1), (510, 1), (612, 1), (693, 1), (1067, 1)], [(0, 1), (1, 2), (2, 2), (3, 2), (8, 1), (17, 1), (28, 1), (31, 1), (35, 1), (36, 1), (64, 2), (74, 1), (81, 4), (88, 1), (91, 1), (99, 1), (138, 1), (147, 1), (148, 2), (170, 1), (171, 1), (172, 1), (188, 1), (215, 1), (216, 2), (225, 1), (227, 1), (281, 1), (291, 1), (324, 1), (385, 1), (431, 1), (435, 1), (490, 1), (668, 1), (826, 1), (1045, 1), (1118, 1), (1241, 1), (1242, 1), (1243, 1), (1244, 1), (1245, 1), (1246, 1), (1247, 1), (1248, 1), (1249, 1), (1250, 1), (1251, 1), (1252, 1), (1253, 1)], [(2, 1), (24, 1), (31, 1), (48, 1), (51, 1), (54, 1), (55, 1), (108, 1), (145, 1), (146, 1), (147, 1), (148, 1), (149, 1), (150, 1), (151, 1), (152, 1), (153, 1), (154, 1), (155, 1), (156, 1)], [(31, 1), (37, 1), (45, 1), (51, 1), (85, 1), (88, 1), (97, 1), (114, 1), (127, 1), (133, 1), (134, 1), (147, 1), (148, 1), (204, 1), (248, 1), (289, 1), (296, 1), (311, 1), (329, 1), (341, 1), (435, 1), (511, 1), (559, 1), (573, 1), (614, 1), (624, 1), (642, 1), (800, 1), (1254, 1)], [(2, 1), (24, 1), (31, 1), (48, 1), (51, 1), (54, 1), (55, 1), (108, 1), (145, 1), (146, 1), (147, 1), (148, 1), (149, 1), (150, 1), (151, 1), (152, 1), (153, 1), (154, 1), (155, 1), (156, 1)], [(546, 1)], [(1, 2), (18, 1), (19, 1), (28, 1), (34, 1), (35, 1), (37, 2), (45, 1), (48, 1), (49, 1), (51, 1), (65, 1), (81, 1), (85, 1), (88, 1), (108, 1), (109, 1), (135, 1), (173, 1), (190, 1), (194, 1), (196, 1), (201, 1), (203, 1), (225, 1), (245, 2), (281, 1), (313, 1), (355, 1), (367, 1), (451, 1), (471, 2), (488, 1), (685, 1), (687, 1), (688, 1), (712, 1), (1091, 1), (1255, 4)], [(2, 1), (48, 1), (68, 1), (69, 1), (85, 1), (88, 1), (108, 1), (109, 1), (117, 1), (160, 1), (164, 1), (194, 1), (205, 1), (216, 1), (312, 1), (317, 1), (319, 1), (395, 1), (476, 1), (503, 1), (580, 1), (756, 1), (853, 1), (1256, 1), (1257, 1)], [(8, 2), (11, 1), (16, 1), (31, 2), (37, 1), (54, 1), (67, 1), (69, 1), (79, 1), (80, 1), (88, 1), (93, 1), (109, 1), (114, 1), (133, 1), (143, 1), (145, 1), (151, 1), (160, 1), (163, 2), (164, 2), (197, 1), (199, 1), (202, 1), (205, 1), (216, 1), (228, 1), (229, 1), (231, 1), (232, 1), (234, 1), (242, 1), (291, 1), (297, 1), (313, 1), (337, 1), (396, 1), (436, 1), (476, 1), (482, 1), (521, 1), (524, 2), (571, 1), (579, 1), (589, 1), (617, 1), (624, 1), (800, 1), (927, 1), (1056, 1), (1258, 1), (1259, 1), (1260, 1), (1261, 1), (1262, 1), (1263, 1)], [(2, 1), (24, 1), (31, 1), (48, 1), (51, 1), (54, 1), (55, 1), (108, 1), (145, 1), (146, 1), (147, 1), (148, 1), (149, 1), (150, 1), (151, 1), (152, 1), (153, 1), (154, 1), (155, 1), (156, 1)], [(109, 1), (148, 1), (570, 1), (668, 1)], [(2, 1), (24, 1), (31, 1), (48, 1), (51, 1), (54, 1), (55, 1), (108, 1), (145, 1), (146, 1), (147, 1), (148, 1), (149, 1), (150, 1), (151, 1), (152, 1), (153, 1), (154, 1), (155, 1), (156, 1)], [(18, 1), (40, 1), (51, 1), (55, 1), (274, 1), (289, 1), (296, 1), (342, 1), (404, 1), (489, 1), (1264, 1)], [(227, 1), (294, 1), (1265, 1), (1266, 1), (1267, 1), (1268, 1)], [(2, 1), (24, 1), (31, 1), (48, 1), (51, 1), (54, 1), (55, 1), (108, 1), (145, 1), (146, 1), (147, 1), (148, 1), (149, 1), (150, 1), (151, 1), (152, 1), (153, 1), (154, 1), (155, 1), (156, 1)], [(2, 1), (3, 1), (24, 1), (35, 1), (40, 1), (51, 1), (58, 1), (61, 1), (64, 1), (70, 1), (74, 1), (80, 1), (81, 1), (85, 1), (88, 1), (99, 2), (108, 2), (109, 1), (114, 1), (127, 1), (137, 1), (138, 1), (145, 2), (147, 1), (148, 1), (160, 1), (163, 1), (183, 1), (189, 1), (204, 1), (281, 1), (342, 1), (385, 1), (408, 1), (484, 1), (544, 1), (593, 1), (829, 1), (858, 1), (998, 1), (1079, 1), (1080, 1), (1269, 1), (1270, 1), (1271, 1)], [(16, 1), (30, 1), (37, 1), (61, 1), (64, 1), (69, 1), (70, 1), (80, 1), (88, 1), (90, 1), (114, 1), (124, 1), (261, 1), (365, 1), (435, 1), (484, 1), (833, 1), (1272, 1), (1273, 1)], [(0, 1), (17, 1), (24, 1), (26, 1), (28, 1), (30, 1), (31, 4), (32, 1), (34, 2), (36, 1), (37, 1), (46, 1), (54, 1), (58, 1), (61, 1), (64, 1), (65, 1), (66, 1), (70, 1), (76, 1), (77, 1), (80, 1), (85, 1), (88, 1), (93, 1), (98, 1), (99, 3), (109, 1), (117, 1), (119, 1), (125, 1), (141, 2), (145, 1), (163, 1), (185, 1), (194, 1), (201, 2), (202, 1), (205, 1), (215, 1), (234, 1), (237, 1), (257, 1), (261, 2), (298, 1), (318, 1), (336, 1), (353, 1), (361, 1), (382, 1), (389, 1), (442, 1), (465, 1), (469, 4), (484, 1), (522, 1), (546, 1), (572, 1), (599, 1), (608, 1), (613, 1), (693, 1), (769, 1), (851, 1), (856, 1), (858, 1), (888, 1), (1009, 1), (1023, 1), (1107, 1), (1145, 1), (1274, 1), (1275, 1), (1276, 1), (1277, 1), (1278, 1), (1279, 1), (1280, 1), (1281, 1), (1282, 1), (1283, 1), (1284, 1), (1285, 1), (1286, 1), (1287, 1)], [(2, 1), (3, 1), (11, 1), (18, 1), (26, 1), (31, 1), (34, 1), (37, 7), (45, 1), (50, 1), (51, 1), (54, 1), (64, 1), (66, 1), (74, 1), (88, 1), (99, 1), (114, 1), (121, 1), (137, 1), (145, 2), (163, 4), (164, 1), (173, 1), (185, 5), (187, 1), (214, 1), (221, 1), (225, 1), (242, 1), (259, 1), (281, 1), (291, 1), (305, 1), (313, 1), (327, 1), (337, 1), (362, 1), (413, 1), (451, 1), (469, 1), (471, 1), (484, 1), (502, 1), (571, 1), (609, 1), (626, 1), (629, 1), (632, 1), (755, 1), (790, 1), (842, 1), (1036, 4), (1079, 1), (1288, 1), (1289, 1), (1290, 1), (1291, 1)], [(2, 2), (8, 1), (30, 1), (34, 2), (51, 1), (61, 1), (70, 1), (84, 1), (99, 1), (108, 1), (164, 1), (171, 1), (189, 1), (216, 1), (232, 1), (242, 2), (361, 1), (484, 1), (490, 1), (544, 1), (551, 1), (1292, 1), (1293, 1)], [(2, 1), (8, 1), (17, 1), (19, 1), (28, 1), (30, 1), (35, 1), (36, 1), (37, 1), (65, 1), (79, 1), (81, 2), (87, 1), (88, 1), (93, 1), (95, 1), (98, 1), (99, 3), (103, 1), (108, 1), (110, 1), (111, 1), (114, 1), (125, 2), (130, 1), (142, 1), (152, 1), (158, 1), (160, 1), (161, 1), (162, 2), (163, 2), (173, 3), (185, 1), (195, 1), (202, 1), (209, 1), (214, 1), (251, 1), (257, 1), (272, 1), (298, 1), (318, 1), (324, 1), (361, 1), (382, 1), (391, 1), (405, 1), (429, 1), (455, 1), (528, 1), (532, 1), (560, 1), (700, 1), (712, 1), (729, 1), (754, 1), (1168, 1), (1283, 1), (1294, 1)], [(2, 1), (24, 1), (31, 1), (48, 1), (51, 1), (54, 1), (55, 1), (108, 1), (145, 1), (146, 1), (147, 1), (148, 1), (149, 1), (150, 1), (151, 1), (152, 1), (153, 1), (154, 1), (155, 1), (156, 1)], [(259, 1), (359, 1), (905, 1), (1126, 1), (1266, 1), (1268, 1), (1295, 1), (1296, 1)], [(25, 1), (33, 1), (53, 1), (64, 1), (82, 1), (84, 1), (133, 1), (134, 1), (176, 1), (215, 1), (294, 1), (324, 1), (582, 1), (616, 1), (652, 1), (689, 1), (737, 1), (767, 1), (1080, 1), (1297, 1), (1298, 1), (1299, 1), (1300, 1)], [(2, 1), (24, 1), (31, 1), (48, 1), (51, 1), (54, 1), (55, 1), (108, 1), (145, 1), (146, 1), (147, 1), (148, 1), (149, 1), (150, 1), (151, 1), (152, 1), (153, 1), (154, 1), (155, 1), (156, 1)], [(2, 1), (24, 1), (31, 1), (48, 1), (51, 1), (54, 1), (55, 1), (108, 1), (145, 1), (146, 1), (147, 1), (148, 1), (149, 1), (150, 1), (151, 1), (152, 1), (153, 1), (154, 1), (155, 1), (156, 1)], [(1, 1), (2, 1), (17, 1), (19, 1), (24, 2), (26, 1), (28, 1), (30, 1), (37, 2), (61, 1), (70, 1), (81, 1), (82, 1), (83, 1), (88, 1), (93, 1), (99, 3), (114, 1), (137, 1), (171, 1), (173, 1), (324, 1), (361, 1), (476, 1), (606, 1), (826, 1), (1301, 1)], [(2, 1), (24, 1), (31, 1), (48, 1), (51, 1), (54, 1), (55, 1), (108, 1), (145, 1), (146, 1), (147, 1), (148, 1), (149, 1), (150, 1), (151, 1), (152, 1), (153, 1), (154, 1), (155, 1), (156, 1)], [(11, 1), (24, 1), (31, 1), (48, 1), (49, 1), (61, 1), (70, 1), (88, 1), (99, 1), (108, 1), (137, 1), (142, 1), (163, 2), (242, 1), (306, 1), (309, 1), (319, 1), (324, 1), (794, 1), (795, 1), (826, 1), (1302, 1)], [(91, 1), (473, 1), (1007, 1)], [(2, 1), (24, 1), (31, 1), (48, 1), (51, 1), (54, 1), (55, 1), (108, 1), (145, 1), (146, 1), (147, 1), (148, 1), (149, 1), (150, 1), (151, 1), (152, 1), (153, 1), (154, 1), (155, 1), (156, 1)], [(2, 1), (24, 1), (31, 1), (48, 1), (51, 1), (54, 1), (55, 1), (108, 1), (145, 1), (146, 1), (147, 1), (148, 1), (149, 1), (150, 1), (151, 1), (152, 1), (153, 1), (154, 1), (155, 1), (156, 1)], [(2, 1), (24, 1), (31, 1), (48, 1), (51, 1), (54, 1), (55, 1), (108, 1), (145, 1), (146, 1), (147, 1), (148, 1), (149, 1), (150, 1), (151, 1), (152, 1), (153, 1), (154, 1), (155, 1), (156, 1)], [(2, 1), (24, 1), (31, 1), (48, 1), (51, 1), (54, 1), (55, 1), (108, 1), (145, 1), (146, 1), (147, 1), (148, 1), (149, 1), (150, 1), (151, 1), (152, 1), (153, 1), (154, 1), (155, 1), (156, 1)], [(2, 1), (24, 1), (31, 1), (48, 1), (51, 1), (54, 1), (55, 1), (108, 1), (145, 1), (146, 1), (147, 1), (148, 1), (149, 1), (150, 1), (151, 1), (152, 1), (153, 1), (154, 1), (155, 1), (156, 1)], [(18, 1), (30, 1), (31, 1), (34, 1), (39, 1), (45, 1), (52, 1), (56, 1), (57, 1), (62, 1), (65, 1), (93, 1), (99, 2), (106, 1), (108, 1), (122, 1), (130, 1), (142, 1), (160, 1), (173, 1), (186, 1), (201, 1), (204, 1), (211, 1), (212, 1), (227, 1), (242, 1), (251, 1), (262, 1), (271, 1), (273, 1), (309, 1), (313, 1), (317, 1), (319, 1), (342, 2), (361, 1), (401, 1), (404, 1), (442, 1), (452, 1), (469, 1), (485, 1), (487, 1), (501, 1), (546, 1), (636, 1), (694, 2), (753, 1), (1149, 1), (1206, 1), (1303, 1), (1304, 1), (1305, 1), (1306, 1), (1307, 1), (1308, 1), (1309, 1)], [(2, 1), (24, 1), (31, 1), (48, 1), (51, 1), (54, 1), (55, 1), (108, 1), (145, 1), (146, 1), (147, 1), (148, 1), (149, 1), (150, 1), (151, 1), (152, 1), (153, 1), (154, 1), (155, 1), (156, 1)], [(2, 1), (24, 1), (31, 1), (48, 1), (51, 1), (54, 1), (55, 1), (108, 1), (145, 1), (146, 1), (147, 1), (148, 1), (149, 1), (150, 1), (151, 1), (152, 1), (153, 1), (154, 1), (155, 1), (156, 1)], [(2, 2), (8, 1), (9, 1), (26, 2), (31, 1), (34, 1), (36, 1), (50, 1), (51, 1), (54, 1), (56, 1), (68, 1), (69, 3), (81, 1), (88, 2), (91, 1), (99, 1), (109, 1), (128, 1), (131, 1), (142, 1), (146, 1), (160, 1), (163, 2), (168, 1), (171, 1), (185, 1), (186, 1), (212, 1), (227, 1), (268, 1), (291, 1), (295, 1), (305, 1), (311, 1), (318, 1), (320, 1), (327, 1), (366, 1), (395, 1), (396, 1), (469, 1), (482, 1), (502, 1), (519, 1), (546, 1), (551, 1), (609, 1), (619, 2), (655, 1), (718, 1), (938, 1), (956, 1), (1036, 1), (1045, 1), (1310, 1), (1311, 1), (1312, 1), (1313, 2), (1314, 1), (1315, 3), (1316, 1), (1317, 1), (1318, 1), (1319, 1), (1320, 1), (1321, 1), (1322, 1)], [(0, 1), (2, 1), (6, 1), (7, 1), (8, 2), (9, 1), (11, 1), (16, 1), (24, 1), (26, 1), (32, 1), (54, 1), (56, 1), (62, 1), (83, 1), (88, 2), (99, 2), (125, 1), (129, 1), (146, 1), (148, 1), (164, 2), (184, 1), (211, 1), (212, 1), (227, 1), (228, 1), (229, 1), (230, 1), (232, 1), (234, 1), (327, 2), (330, 2), (335, 1), (342, 1), (385, 1), (405, 1), (408, 1), (428, 2), (447, 1), (451, 1), (454, 1), (485, 1), (487, 1), (488, 1), (572, 1), (636, 1), (668, 1), (680, 1), (685, 1), (718, 1), (741, 1), (1078, 1), (1102, 1), (1203, 1), (1261, 1), (1301, 2), (1323, 1), (1324, 1), (1325, 1), (1326, 1), (1327, 1)], [(37, 2), (53, 1), (85, 1), (88, 1), (114, 1), (194, 1), (205, 1), (493, 1), (1136, 1)], [(2, 1), (24, 1), (31, 1), (48, 1), (51, 1), (54, 1), (55, 1), (108, 1), (145, 1), (146, 1), (147, 1), (148, 1), (149, 1), (150, 1), (151, 1), (152, 1), (153, 1), (154, 1), (155, 1), (156, 1)], [(19, 1), (21, 1), (24, 1), (50, 1), (51, 1), (56, 1), (64, 1), (88, 1), (99, 1), (108, 1), (147, 1), (152, 1), (185, 1), (187, 1), (195, 1), (313, 1), (490, 1), (715, 1), (734, 1)], [(0, 2), (2, 1), (17, 1), (19, 1), (24, 1), (28, 1), (30, 1), (31, 1), (35, 1), (36, 1), (48, 1), (49, 1), (58, 1), (81, 2), (85, 1), (88, 1), (89, 1), (93, 2), (99, 4), (108, 1), (111, 1), (114, 1), (125, 1), (129, 1), (136, 1), (137, 1), (145, 1), (158, 1), (160, 2), (163, 1), (164, 1), (173, 1), (185, 1), (189, 1), (194, 1), (205, 1), (244, 1), (261, 2), (313, 2), (326, 1), (361, 1), (367, 1), (382, 1), (416, 1), (452, 1), (471, 2), (524, 1), (571, 1), (594, 1), (666, 1), (685, 1), (773, 1), (842, 1), (854, 1), (909, 1), (1328, 1), (1329, 1)], [(2, 1), (3, 1), (16, 1), (31, 2), (37, 5), (58, 1), (85, 1), (88, 1), (102, 1), (192, 1), (194, 1), (205, 1), (240, 1), (447, 1), (508, 2), (809, 1), (981, 1), (1080, 1), (1180, 1), (1330, 1), (1331, 1), (1332, 1), (1333, 1), (1334, 1), (1335, 1)], [(109, 1), (324, 1), (826, 1)], [(2, 1), (24, 1), (31, 1), (48, 1), (51, 1), (54, 1), (55, 1), (108, 1), (145, 1), (146, 1), (147, 1), (148, 1), (149, 1), (150, 1), (151, 1), (152, 1), (153, 1), (154, 1), (155, 1), (156, 1)], [(0, 3), (1, 1), (2, 4), (11, 1), (16, 2), (17, 1), (24, 1), (30, 1), (34, 1), (35, 1), (36, 2), (37, 8), (41, 1), (43, 1), (45, 1), (51, 1), (53, 1), (54, 2), (58, 1), (60, 1), (61, 1), (64, 1), (65, 2), (66, 1), (67, 1), (69, 1), (70, 1), (80, 1), (81, 2), (82, 1), (83, 1), (88, 4), (90, 1), (91, 2), (99, 4), (102, 1), (106, 2), (110, 1), (114, 1), (140, 1), (145, 1), (147, 1), (151, 1), (157, 1), (159, 2), (163, 2), (164, 1), (168, 1), (169, 1), (170, 1), (171, 1), (183, 1), (188, 1), (190, 1), (201, 1), (205, 1), (216, 1), (225, 1), (229, 1), (232, 1), (248, 2), (257, 1), (270, 1), (273, 1), (291, 3), (293, 1), (294, 1), (308, 1), (310, 1), (313, 1), (320, 3), (324, 3), (330, 1), (336, 1), (382, 3), (385, 3), (395, 2), (415, 1), (432, 1), (468, 1), (469, 3), (473, 1), (483, 1), (489, 1), (508, 1), (541, 1), (547, 1), (559, 2), (564, 1), (578, 1), (591, 1), (593, 1), (619, 1), (642, 2), (643, 2), (682, 1), (683, 1), (764, 1), (818, 1), (858, 1), (873, 2), (907, 1), (921, 1), (945, 1), (998, 1), (1030, 1), (1066, 1), (1079, 1), (1116, 1), (1178, 1), (1285, 1), (1336, 1), (1337, 1), (1338, 1), (1339, 1), (1340, 1), (1341, 1), (1342, 1), (1343, 1), (1344, 1), (1345, 1), (1346, 1), (1347, 1), (1348, 1), (1349, 2), (1350, 1)], [(2, 1), (8, 1), (16, 1), (19, 1), (30, 1), (31, 3), (45, 1), (49, 1), (51, 1), (58, 1), (64, 1), (88, 2), (98, 1), (99, 1), (114, 1), (117, 1), (137, 1), (138, 1), (139, 1), (149, 1), (158, 1), (160, 1), (163, 1), (191, 1), (204, 1), (214, 1), (215, 1), (221, 1), (236, 1), (242, 1), (251, 1), (280, 1), (281, 1), (289, 1), (295, 1), (301, 1), (309, 1), (311, 1), (312, 1), (317, 1), (324, 1), (334, 3), (341, 1), (362, 1), (367, 1), (368, 1), (413, 1), (431, 1), (489, 1), (490, 1), (504, 1), (548, 1), (599, 1), (648, 1), (680, 1), (683, 1), (717, 1), (718, 1), (791, 1), (826, 1), (854, 1), (883, 1), (889, 1), (956, 1), (998, 1), (1016, 1), (1140, 1), (1335, 1), (1351, 1), (1352, 1), (1353, 1), (1354, 1), (1355, 1), (1356, 1), (1357, 1)], [(2, 1), (24, 1), (31, 1), (48, 1), (51, 1), (54, 1), (55, 1), (108, 1), (145, 1), (146, 1), (147, 1), (148, 1), (149, 1), (150, 1), (151, 1), (152, 1), (153, 1), (154, 1), (155, 1), (156, 1)], [(2, 1), (24, 1), (31, 1), (48, 1), (51, 1), (54, 1), (55, 1), (108, 1), (145, 1), (146, 1), (147, 1), (148, 1), (149, 1), (150, 1), (151, 1), (152, 1), (153, 1), (154, 1), (155, 1), (156, 1)], [(2, 1), (24, 1), (31, 1), (48, 1), (51, 1), (54, 1), (55, 1), (108, 1), (145, 1), (146, 1), (147, 1), (148, 1), (149, 1), (150, 1), (151, 1), (152, 1), (153, 1), (154, 1), (155, 1), (156, 1)], [(24, 2), (31, 2), (46, 1), (152, 1), (170, 1), (171, 1), (227, 1), (242, 1), (327, 1), (462, 1), (489, 2), (741, 2), (756, 1), (908, 1), (1045, 1), (1066, 1), (1358, 1), (1359, 1), (1360, 1), (1361, 1), (1362, 1), (1363, 1), (1364, 1), (1365, 1)], [(1, 1), (2, 1), (3, 1), (8, 1), (24, 1), (31, 3), (34, 2), (36, 1), (39, 1), (41, 1), (48, 1), (51, 1), (58, 1), (64, 2), (66, 1), (79, 1), (80, 2), (81, 1), (93, 1), (99, 1), (106, 1), (108, 1), (140, 1), (145, 2), (147, 1), (163, 1), (171, 1), (189, 1), (228, 1), (242, 1), (281, 1), (327, 1), (329, 1), (342, 1), (362, 1), (451, 1), (462, 1), (469, 1), (501, 1), (544, 1), (676, 2), (693, 1), (858, 1), (998, 1), (1366, 1), (1367, 1), (1368, 1), (1369, 1), (1370, 1), (1371, 1), (1372, 1), (1373, 1), (1374, 1), (1375, 1), (1376, 1)], [(24, 1), (324, 1), (741, 1), (826, 1)], [(8, 1), (16, 2), (17, 1), (28, 1), (29, 1), (30, 1), (31, 1), (34, 1), (36, 1), (51, 1), (56, 1), (58, 1), (81, 1), (85, 1), (88, 1), (93, 1), (99, 3), (108, 1), (109, 1), (117, 1), (121, 1), (131, 1), (133, 1), (134, 1), (138, 1), (161, 1), (171, 1), (173, 1), (179, 1), (220, 1), (227, 1), (229, 1), (234, 1), (248, 2), (281, 1), (295, 1), (298, 1), (333, 1), (343, 1), (358, 1), (361, 1), (382, 1), (455, 1), (465, 1), (470, 1), (579, 1), (666, 1), (915, 1), (1098, 1)], [(2, 1), (24, 1), (31, 1), (48, 1), (51, 1), (54, 1), (55, 1), (108, 1), (145, 1), (146, 1), (147, 1), (148, 1), (149, 1), (150, 1), (151, 1), (152, 1), (153, 1), (154, 1), (155, 1), (156, 1)], [(2, 1), (24, 1), (31, 1), (48, 1), (51, 1), (54, 1), (55, 1), (108, 1), (145, 1), (146, 1), (147, 1), (148, 1), (149, 1), (150, 1), (151, 1), (152, 1), (153, 1), (154, 1), (155, 1), (156, 1)], [(1, 1), (3, 1), (8, 1), (30, 1), (33, 1), (34, 1), (49, 1), (58, 1), (145, 1), (253, 1), (281, 1), (1181, 1), (1377, 1)], [(2, 1), (24, 1), (31, 1), (48, 1), (51, 1), (54, 1), (55, 1), (108, 1), (145, 1), (146, 1), (147, 1), (148, 1), (149, 1), (150, 1), (151, 1), (152, 1), (153, 1), (154, 1), (155, 1), (156, 1)], [(2, 1), (24, 1), (31, 1), (48, 1), (51, 1), (54, 1), (55, 1), (108, 1), (145, 1), (146, 1), (147, 1), (148, 1), (149, 1), (150, 1), (151, 1), (152, 1), (153, 1), (154, 1), (155, 1), (156, 1)], [(1, 1), (8, 1), (17, 1), (24, 1), (26, 1), (28, 2), (29, 1), (30, 1), (31, 1), (34, 2), (36, 1), (54, 3), (55, 1), (62, 1), (65, 2), (70, 1), (74, 1), (81, 2), (83, 1), (88, 1), (99, 3), (106, 1), (130, 2), (131, 1), (137, 1), (142, 2), (143, 2), (160, 1), (161, 1), (163, 2), (164, 1), (184, 1), (202, 1), (229, 1), (230, 1), (232, 1), (234, 1), (261, 1), (295, 1), (298, 1), (300, 1), (362, 1), (380, 1), (399, 1), (401, 1), (416, 1), (499, 1), (527, 1), (564, 1), (654, 1), (666, 1), (668, 1), (674, 1), (825, 1), (854, 2), (1021, 1), (1297, 1), (1299, 1), (1378, 1), (1379, 1), (1380, 1), (1381, 1), (1382, 1)], [(2, 1), (8, 1), (16, 1), (17, 1), (19, 1), (31, 3), (34, 1), (36, 1), (55, 1), (58, 1), (62, 1), (67, 1), (81, 1), (88, 1), (99, 2), (106, 1), (109, 1), (110, 2), (113, 1), (117, 1), (131, 1), (145, 1), (160, 1), (164, 1), (172, 1), (173, 1), (185, 2), (216, 2), (268, 1), (269, 1), (304, 1), (313, 1), (435, 1), (469, 1), (488, 1), (489, 1), (540, 1), (546, 1), (564, 1), (572, 1), (612, 1), (694, 1), (713, 1), (760, 1), (945, 1), (1383, 1), (1384, 1), (1385, 1), (1386, 1), (1387, 1)], [(24, 1), (228, 1)], [(0, 1), (35, 1), (39, 1), (51, 1), (64, 1), (66, 1), (83, 1), (88, 1), (102, 1), (114, 1), (160, 1), (199, 1), (211, 1), (261, 1), (289, 1), (296, 1), (489, 1), (640, 1), (733, 1), (950, 1), (980, 1), (1045, 1), (1388, 1), (1389, 1), (1390, 1)], [(2, 1), (24, 1), (31, 1), (48, 1), (51, 1), (54, 1), (55, 1), (108, 1), (145, 1), (146, 1), (147, 1), (148, 1), (149, 1), (150, 1), (151, 1), (152, 1), (153, 1), (154, 1), (155, 1), (156, 1)], [(109, 1), (117, 1), (274, 1), (285, 1), (309, 1), (489, 1)], [(2, 1), (24, 1), (31, 1), (48, 1), (51, 1), (54, 1), (55, 1), (108, 1), (145, 1), (146, 1), (147, 1), (148, 1), (149, 1), (150, 1), (151, 1), (152, 1), (153, 1), (154, 1), (155, 1), (156, 1)], [(17, 1), (28, 1), (32, 1), (36, 1), (48, 1), (50, 1), (51, 1), (54, 1), (58, 1), (64, 1), (67, 1), (69, 1), (99, 2), (109, 1), (140, 1), (160, 1), (189, 1), (209, 1), (212, 1), (227, 1), (242, 2), (282, 1), (297, 1), (436, 1), (453, 1), (514, 1), (733, 1), (781, 1), (822, 1), (934, 1), (980, 1), (1391, 1), (1392, 1), (1393, 1), (1394, 1), (1395, 1), (1396, 1)], [(0, 1), (2, 1), (8, 1), (24, 1), (142, 1), (640, 1)], [(0, 2), (2, 5), (8, 2), (19, 2), (28, 2), (30, 1), (31, 1), (37, 2), (61, 1), (62, 1), (66, 1), (81, 1), (85, 1), (88, 2), (102, 1), (142, 2), (145, 1), (163, 2), (216, 1), (228, 1), (234, 1), (291, 1), (337, 1), (359, 1), (361, 1), (413, 1), (452, 1), (465, 1), (508, 1), (511, 1), (744, 1), (753, 1), (858, 2), (962, 4), (1012, 1), (1045, 1), (1285, 1), (1397, 1), (1398, 1), (1399, 1), (1400, 1), (1401, 1)], [(2, 1), (24, 1), (31, 1), (48, 1), (51, 1), (54, 1), (55, 1), (108, 1), (145, 1), (146, 1), (147, 1), (148, 1), (149, 1), (150, 1), (151, 1), (152, 1), (153, 1), (154, 1), (155, 1), (156, 1)], [(0, 1), (2, 3), (16, 1), (24, 1), (30, 1), (37, 2), (46, 2), (48, 1), (53, 1), (58, 1), (64, 1), (68, 1), (81, 1), (82, 1), (83, 1), (88, 1), (102, 1), (106, 1), (108, 1), (110, 1), (113, 1), (132, 1), (156, 1), (160, 1), (163, 1), (172, 1), (228, 1), (242, 1), (248, 2), (353, 1), (355, 1), (361, 1), (371, 1), (442, 1), (508, 1), (544, 1), (571, 1), (584, 1), (685, 1), (842, 1), (934, 1), (1019, 2), (1045, 1), (1116, 1), (1204, 1), (1315, 2), (1402, 1), (1403, 1), (1404, 1), (1405, 1), (1406, 1), (1407, 1), (1408, 1), (1409, 1), (1410, 1), (1411, 1), (1412, 1)], [(2, 1), (24, 1), (31, 1), (48, 1), (51, 1), (54, 1), (55, 1), (108, 1), (145, 1), (146, 1), (147, 1), (148, 1), (149, 1), (150, 1), (151, 1), (152, 1), (153, 1), (154, 1), (155, 1), (156, 1)], [(2, 1), (16, 1), (17, 1), (26, 1), (30, 1), (31, 1), (34, 2), (36, 1), (37, 1), (45, 1), (56, 1), (58, 1), (61, 1), (66, 1), (70, 1), (74, 1), (88, 2), (99, 2), (102, 1), (130, 1), (148, 1), (160, 1), (171, 1), (173, 1), (202, 1), (211, 1), (225, 1), (269, 1), (281, 1), (295, 1), (308, 1), (320, 1), (327, 1), (361, 1), (364, 1), (382, 1), (451, 1), (468, 1), (471, 1), (476, 1), (482, 1), (489, 1), (501, 1), (508, 1), (521, 1), (553, 1), (559, 1), (564, 1), (572, 1), (603, 1), (642, 1), (655, 1), (664, 1), (680, 1), (689, 1), (753, 1), (755, 1), (814, 1), (904, 1), (945, 1), (954, 1), (1000, 1), (1150, 1), (1413, 1), (1414, 1), (1415, 1), (1416, 1), (1417, 1), (1418, 1), (1419, 1), (1420, 1), (1421, 1), (1422, 1), (1423, 1), (1424, 1), (1425, 1)], [(2, 1), (24, 1), (31, 1), (48, 1), (51, 1), (54, 1), (55, 1), (108, 1), (145, 1), (146, 1), (147, 1), (148, 1), (149, 1), (150, 1), (151, 1), (152, 1), (153, 1), (154, 1), (155, 1), (156, 1)], [(2, 1), (24, 1), (31, 1), (48, 1), (51, 1), (54, 1), (55, 1), (108, 1), (145, 1), (146, 1), (147, 1), (148, 1), (149, 1), (150, 1), (151, 1), (152, 1), (153, 1), (154, 1), (155, 1), (156, 1)], [(31, 2), (36, 1), (49, 1), (58, 1), (66, 1), (74, 1), (81, 1), (93, 1), (95, 1), (103, 1), (145, 1), (152, 1), (171, 1), (185, 2), (186, 1), (187, 2), (188, 1), (195, 1), (248, 1), (251, 1), (348, 1), (382, 1), (455, 1), (524, 1), (1241, 1), (1426, 1), (1427, 1), (1428, 1), (1429, 1)], [(54, 1), (67, 1), (106, 1), (151, 1), (217, 1), (353, 1), (436, 1), (564, 1), (716, 1), (942, 1), (1058, 1), (1286, 1), (1430, 1), (1431, 1), (1432, 1), (1433, 1)], [(17, 1), (18, 1), (31, 1), (34, 2), (37, 3), (38, 1), (39, 1), (40, 1), (41, 1), (48, 1), (54, 1), (88, 2), (91, 1), (98, 1), (102, 1), (103, 1), (108, 1), (114, 1), (130, 1), (135, 1), (160, 1), (164, 1), (240, 1), (244, 1), (251, 1), (252, 1), (291, 1), (312, 1), (319, 1), (392, 1), (415, 1), (451, 1), (454, 1), (468, 1), (489, 1), (497, 1), (508, 1), (547, 1), (571, 1), (582, 1), (707, 1), (760, 1), (1332, 1), (1434, 1), (1435, 1), (1436, 1), (1437, 1)], [(2, 1), (24, 1), (31, 1), (48, 1), (51, 1), (54, 1), (55, 1), (108, 1), (145, 1), (146, 1), (147, 1), (148, 1), (149, 1), (150, 1), (151, 1), (152, 1), (153, 1), (154, 1), (155, 1), (156, 1)], [(232, 1), (469, 1), (1043, 1), (1370, 1), (1373, 2)], [(2, 1), (24, 1), (31, 1), (48, 1), (51, 1), (54, 1), (55, 1), (108, 1), (145, 1), (146, 1), (147, 1), (148, 1), (149, 1), (150, 1), (151, 1), (152, 1), (153, 1), (154, 1), (155, 1), (156, 1)], [(31, 2), (48, 1), (49, 1), (54, 1), (108, 1), (109, 1), (145, 1), (160, 2), (192, 1), (248, 1), (251, 1), (252, 2), (262, 1), (270, 1), (305, 1), (319, 1), (484, 1), (511, 1), (548, 1), (756, 1), (942, 1)], [(0, 1), (2, 2), (3, 1), (5, 1), (37, 4), (51, 1), (64, 1), (81, 1), (85, 1), (88, 1), (95, 1), (109, 1), (114, 1), (173, 1), (190, 1), (192, 1), (194, 1), (202, 1), (205, 1), (243, 1), (248, 1), (261, 2), (334, 1), (358, 1), (469, 1), (483, 1), (489, 1), (584, 1), (632, 1), (686, 1), (744, 1), (934, 1), (951, 1), (980, 1), (1045, 1), (1127, 1), (1438, 1), (1439, 1), (1440, 1)], [(0, 1), (8, 2), (16, 2), (17, 1), (24, 1), (28, 1), (29, 1), (31, 1), (34, 2), (35, 1), (36, 1), (37, 1), (41, 1), (48, 1), (58, 1), (93, 1), (99, 2), (110, 1), (120, 1), (125, 1), (130, 1), (131, 1), (137, 1), (138, 1), (142, 1), (148, 1), (159, 1), (160, 1), (163, 2), (164, 1), (173, 1), (184, 1), (185, 3), (201, 1), (243, 1), (259, 1), (281, 1), (288, 1), (313, 1), (333, 1), (361, 1), (385, 1), (483, 1), (524, 1), (531, 1), (534, 1), (678, 1), (718, 1), (741, 1), (767, 1), (1002, 1), (1103, 1), (1441, 1), (1442, 1), (1443, 1)], [(2, 1), (24, 1), (31, 1), (48, 1), (51, 1), (54, 1), (55, 1), (108, 1), (145, 1), (146, 1), (147, 1), (148, 1), (149, 1), (150, 1), (151, 1), (152, 1), (153, 1), (154, 1), (155, 1), (156, 1)], [(1, 2), (3, 1), (7, 1), (8, 2), (11, 1), (19, 1), (28, 1), (31, 2), (34, 1), (39, 1), (51, 1), (52, 1), (53, 2), (54, 1), (56, 1), (64, 1), (80, 1), (81, 3), (88, 1), (103, 1), (137, 1), (138, 1), (145, 2), (159, 1), (163, 2), (164, 1), (192, 1), (233, 1), (269, 1), (305, 1), (406, 1), (546, 2), (551, 1), (575, 1), (585, 1), (781, 1), (937, 1), (1167, 1), (1375, 1), (1442, 1), (1444, 1), (1445, 1), (1446, 1), (1447, 1), (1448, 1), (1449, 1), (1450, 1), (1451, 1), (1452, 1), (1453, 1), (1454, 1), (1455, 1), (1456, 1), (1457, 1)], [(0, 1), (6, 1), (8, 1), (16, 1), (24, 1), (34, 1), (65, 1), (74, 1), (85, 1), (88, 1), (99, 1), (108, 1), (109, 1), (123, 1), (171, 1), (183, 1), (248, 1), (319, 1), (358, 1), (452, 1), (496, 1), (519, 1), (593, 1), (597, 1), (848, 1), (882, 1), (1079, 1), (1154, 1), (1426, 1), (1458, 1), (1459, 1), (1460, 1), (1461, 1)], [(2, 1), (24, 1), (31, 1), (48, 1), (51, 1), (54, 1), (55, 1), (108, 1), (145, 1), (146, 1), (147, 1), (148, 1), (149, 1), (150, 1), (151, 1), (152, 1), (153, 1), (154, 1), (155, 1), (156, 1)], [(2, 1), (24, 1), (31, 2), (37, 4), (58, 1), (61, 1), (64, 1), (70, 1), (71, 1), (85, 1), (114, 1), (125, 1), (171, 1), (190, 1), (192, 1), (211, 1), (225, 1), (245, 1), (248, 1), (259, 1), (277, 2), (280, 1), (281, 1), (327, 1), (503, 1), (537, 1), (571, 1), (640, 1), (653, 1), (842, 1), (1044, 1), (1162, 1), (1462, 1), (1463, 1)], [(0, 1), (6, 1), (9, 1), (16, 1), (19, 1), (26, 1), (31, 2), (34, 1), (35, 1), (37, 1), (40, 1), (45, 1), (50, 1), (51, 1), (56, 2), (58, 1), (64, 1), (81, 1), (88, 2), (89, 1), (99, 1), (109, 1), (129, 1), (131, 1), (137, 1), (138, 1), (162, 1), (163, 2), (173, 1), (185, 1), (191, 1), (221, 1), (242, 1), (251, 1), (261, 1), (309, 1), (359, 1), (382, 1), (452, 1), (490, 1), (546, 1), (663, 1), (849, 1), (927, 1), (1464, 1), (1465, 1)], [(31, 1), (47, 1), (74, 1), (87, 1), (109, 1), (110, 1), (163, 1), (291, 1), (325, 1), (334, 1), (349, 1), (395, 1), (599, 1), (614, 1), (899, 1), (1045, 1), (1052, 1), (1466, 1), (1467, 1), (1468, 1)], [(0, 1), (1, 1), (2, 1), (3, 1), (8, 1), (19, 1), (34, 1), (35, 1), (37, 1), (41, 1), (48, 1), (49, 1), (52, 1), (53, 2), (56, 1), (64, 1), (81, 1), (83, 1), (88, 1), (91, 1), (102, 1), (106, 2), (108, 1), (110, 1), (140, 1), (160, 1), (173, 1), (189, 1), (211, 1), (242, 1), (281, 1), (367, 1), (454, 1), (469, 1), (489, 1), (503, 1), (612, 1), (858, 1), (878, 1), (950, 1), (951, 1), (962, 1), (980, 2), (1045, 1), (1177, 1), (1179, 1), (1181, 2), (1303, 1), (1352, 1), (1388, 1), (1409, 1), (1469, 1), (1470, 1), (1471, 1), (1472, 1), (1473, 1), (1474, 1), (1475, 1), (1476, 1), (1477, 2), (1478, 1), (1479, 1), (1480, 1), (1481, 1), (1482, 1), (1483, 1), (1484, 1)], [(2, 1), (18, 1), (19, 1), (30, 1), (31, 1), (34, 1), (36, 1), (49, 1), (54, 2), (61, 1), (64, 1), (70, 1), (71, 1), (80, 1), (82, 1), (85, 1), (88, 1), (109, 1), (113, 1), (126, 1), (144, 1), (173, 2), (191, 1), (194, 1), (199, 1), (205, 1), (242, 1), (251, 1), (252, 2), (270, 1), (312, 1), (317, 1), (341, 1), (361, 1), (413, 1), (415, 1), (465, 1), (476, 1), (484, 1), (492, 1), (501, 1), (517, 1), (548, 1), (571, 1), (572, 1), (579, 1), (622, 1), (668, 1), (712, 1), (794, 1), (950, 1), (1252, 1), (1434, 1), (1485, 1), (1486, 1), (1487, 1), (1488, 1)], [(2, 1), (24, 1), (31, 1), (48, 1), (51, 1), (54, 1), (55, 1), (108, 1), (145, 1), (146, 1), (147, 1), (148, 1), (149, 1), (150, 1), (151, 1), (152, 1), (153, 1), (154, 1), (155, 1), (156, 1)], [(7, 2), (31, 1), (40, 1), (45, 1), (50, 1), (51, 2), (56, 1), (58, 1), (64, 1), (82, 1), (83, 1), (88, 1), (93, 1), (114, 1), (130, 1), (137, 1), (164, 1), (173, 1), (204, 1), (211, 1), (232, 1), (247, 1), (330, 1), (342, 1), (431, 1), (446, 1), (451, 2), (493, 1), (551, 2), (571, 1), (582, 1), (619, 1), (719, 1), (720, 1), (759, 1), (908, 1), (927, 1), (998, 1), (1136, 1), (1219, 1), (1301, 1), (1465, 1), (1489, 1), (1490, 1), (1491, 1), (1492, 1), (1493, 1), (1494, 1), (1495, 1), (1496, 1), (1497, 1)], [(2, 1), (24, 1), (31, 1), (48, 1), (51, 1), (54, 1), (55, 1), (108, 1), (145, 1), (146, 1), (147, 1), (148, 1), (149, 1), (150, 1), (151, 1), (152, 1), (153, 1), (154, 1), (155, 1), (156, 1)], [(2, 1), (8, 1), (19, 1), (37, 1), (56, 1), (81, 1), (88, 1), (138, 1), (160, 1), (190, 1), (205, 1), (315, 1), (319, 1), (337, 1), (391, 1), (514, 1), (584, 1), (678, 1), (707, 1), (934, 1), (962, 1), (1442, 1)], [(2, 1), (24, 1), (31, 1), (48, 1), (51, 1), (54, 1), (55, 1), (108, 1), (145, 1), (146, 1), (147, 1), (148, 1), (149, 1), (150, 1), (151, 1), (152, 1), (153, 1), (154, 1), (155, 1), (156, 1)], [(0, 1), (11, 1), (17, 1), (19, 1), (24, 1), (30, 1), (31, 4), (34, 2), (35, 1), (36, 1), (37, 2), (45, 1), (46, 1), (54, 1), (56, 2), (80, 1), (88, 1), (99, 4), (124, 1), (145, 1), (151, 1), (171, 1), (187, 1), (191, 1), (204, 1), (221, 1), (223, 1), (248, 1), (251, 1), (281, 1), (286, 1), (324, 1), (337, 1), (358, 1), (359, 1), (361, 1), (385, 2), (612, 2), (858, 1), (1059, 1), (1302, 1), (1309, 1), (1398, 1), (1498, 1)], [(5, 1), (8, 1), (9, 1), (17, 3), (18, 1), (19, 1), (21, 1), (24, 1), (26, 1), (28, 1), (29, 1), (35, 1), (37, 1), (48, 1), (49, 2), (54, 1), (56, 1), (58, 1), (64, 1), (76, 1), (81, 2), (87, 1), (88, 1), (93, 1), (99, 5), (106, 1), (109, 1), (117, 1), (124, 1), (125, 1), (129, 1), (130, 1), (131, 2), (136, 1), (160, 1), (170, 1), (173, 1), (185, 2), (209, 1), (229, 1), (234, 1), (247, 1), (253, 1), (259, 1), (262, 1), (281, 4), (291, 2), (295, 1), (298, 1), (319, 1), (327, 1), (332, 1), (333, 1), (389, 1), (395, 2), (476, 1), (524, 1), (560, 1), (564, 1), (571, 1), (668, 2), (995, 1), (998, 1), (1021, 1), (1499, 1), (1500, 1), (1501, 1)], [(2, 1), (24, 1), (31, 1), (48, 1), (51, 1), (54, 1), (55, 1), (108, 1), (145, 1), (146, 1), (147, 1), (148, 1), (149, 1), (150, 1), (151, 1), (152, 1), (153, 1), (154, 1), (155, 1), (156, 1)], [(2, 1), (3, 1), (17, 1), (19, 1), (24, 1), (31, 1), (36, 1), (37, 1), (39, 1), (48, 1), (54, 2), (58, 1), (88, 1), (117, 1), (140, 1), (142, 1), (171, 1), (173, 1), (228, 1), (253, 2), (281, 1), (325, 1), (362, 1), (484, 1), (860, 1), (980, 1), (1002, 1), (1502, 1), (1503, 1), (1504, 1), (1505, 1)], [(0, 1), (17, 1), (28, 1), (30, 1), (31, 2), (34, 1), (36, 1), (43, 1), (45, 1), (56, 1), (62, 1), (81, 1), (85, 1), (88, 1), (92, 1), (99, 2), (102, 1), (110, 1), (114, 1), (145, 1), (151, 2), (192, 1), (198, 1), (204, 1), (205, 1), (207, 1), (214, 1), (258, 1), (291, 1), (333, 1), (361, 1), (413, 1), (414, 1), (465, 1), (468, 1), (469, 1), (508, 1), (551, 1), (564, 1), (580, 1), (643, 1), (744, 1), (753, 1), (784, 1), (904, 1), (991, 1), (1008, 1), (1262, 1), (1325, 1), (1497, 1), (1506, 1), (1507, 1), (1508, 1), (1509, 1), (1510, 1), (1511, 1), (1512, 1), (1513, 1), (1514, 1), (1515, 1)], [(2, 1), (5, 1), (8, 2), (9, 1), (11, 1), (16, 2), (17, 1), (26, 1), (28, 1), (30, 1), (34, 3), (36, 1), (39, 1), (45, 1), (48, 1), (49, 2), (56, 1), (58, 1), (61, 1), (64, 1), (66, 1), (70, 1), (72, 1), (80, 1), (81, 3), (88, 1), (92, 1), (99, 3), (103, 1), (108, 1), (109, 1), (110, 2), (114, 1), (120, 1), (129, 1), (130, 1), (131, 1), (133, 1), (137, 1), (140, 1), (142, 1), (163, 2), (193, 1), (195, 1), (202, 1), (204, 1), (215, 1), (216, 1), (230, 1), (234, 1), (251, 1), (252, 1), (253, 1), (260, 1), (306, 1), (361, 1), (386, 1), (389, 1), (396, 1), (465, 1), (489, 1), (546, 1), (549, 1), (550, 1), (595, 1), (680, 1), (712, 1), (1038, 1), (1099, 1), (1393, 1), (1516, 1), (1517, 1)], [(0, 1), (2, 2), (3, 1), (16, 1), (37, 1), (39, 1), (48, 1), (51, 1), (53, 1), (54, 1), (81, 1), (83, 1), (99, 4), (102, 2), (137, 1), (138, 1), (145, 1), (147, 1), (158, 1), (189, 1), (210, 1), (211, 1), (242, 1), (243, 1), (286, 1), (320, 1), (395, 1), (455, 1), (482, 2), (484, 1), (489, 2), (508, 1), (540, 1), (612, 1), (640, 1), (680, 1), (733, 1), (767, 1), (792, 1), (858, 1), (980, 1), (1181, 1), (1350, 1), (1388, 1), (1390, 1), (1409, 1), (1518, 1), (1519, 1), (1520, 1), (1521, 1), (1522, 1), (1523, 1), (1524, 1)], [(2, 2), (24, 1), (30, 1), (37, 2), (40, 1), (45, 1), (51, 1), (53, 2), (56, 1), (58, 1), (61, 1), (64, 1), (70, 1), (80, 1), (81, 1), (82, 1), (85, 1), (88, 1), (99, 1), (101, 1), (108, 1), (114, 1), (124, 1), (133, 1), (134, 1), (168, 1), (186, 1), (248, 1), (251, 1), (260, 1), (312, 1), (317, 1), (324, 1), (339, 1), (358, 1), (359, 1), (382, 2), (395, 1), (448, 1), (451, 1), (455, 1), (494, 1), (511, 1), (636, 1), (753, 1), (810, 1), (905, 1), (1109, 1), (1296, 1), (1525, 1), (1526, 1)], [(31, 1), (343, 1), (732, 1), (851, 1), (1068, 1), (1167, 1), (1451, 1), (1527, 1), (1528, 1), (1529, 1), (1530, 1), (1531, 1), (1532, 1)], [(26, 1), (58, 1), (64, 1), (69, 1), (72, 1), (88, 1), (109, 1), (114, 1), (135, 1), (137, 1), (163, 1), (286, 1), (291, 1), (391, 1), (395, 1), (405, 1), (408, 1), (412, 1), (451, 1), (503, 1), (528, 1), (559, 1), (642, 1), (934, 1), (962, 1), (1533, 1)], [(0, 1), (17, 1), (24, 1), (28, 1), (31, 1), (52, 1), (55, 2), (64, 1), (70, 1), (80, 1), (91, 1), (97, 1), (99, 2), (117, 1), (138, 1), (145, 1), (173, 1), (174, 1), (189, 1), (195, 1), (248, 1), (286, 1), (300, 1), (358, 1), (385, 1), (488, 1), (489, 1), (572, 1), (711, 1), (945, 1), (1088, 1), (1246, 1), (1251, 1), (1350, 1), (1393, 1), (1501, 1), (1534, 1), (1535, 1), (1536, 1)], [(1, 1), (2, 1), (3, 1), (5, 1), (6, 2), (8, 1), (16, 1), (30, 1), (31, 1), (34, 2), (39, 1), (40, 1), (55, 1), (58, 1), (61, 1), (64, 1), (65, 1), (70, 1), (74, 1), (80, 1), (91, 1), (99, 1), (114, 1), (125, 1), (132, 1), (135, 1), (160, 1), (171, 1), (183, 1), (185, 3), (214, 1), (216, 1), (221, 1), (229, 1), (234, 1), (236, 1), (245, 1), (248, 1), (253, 1), (281, 1), (312, 1), (317, 1), (324, 1), (358, 1), (362, 1), (385, 1), (496, 1), (532, 1), (547, 1), (688, 1), (1017, 1), (1045, 1), (1223, 1), (1371, 1), (1537, 1), (1538, 1), (1539, 1), (1540, 1)], [(2, 1), (24, 1), (31, 1), (48, 1), (51, 1), (54, 1), (55, 1), (108, 1), (145, 1), (146, 1), (147, 1), (148, 1), (149, 1), (150, 1), (151, 1), (152, 1), (153, 1), (154, 1), (155, 1), (156, 1)], [(0, 2), (2, 1), (8, 1), (17, 1), (19, 1), (31, 1), (36, 1), (65, 1), (88, 1), (99, 2), (109, 1), (145, 1), (202, 1), (248, 1), (291, 1), (298, 1), (395, 1), (415, 1), (469, 1), (546, 1), (616, 1), (668, 1)], [(8, 1), (31, 1), (37, 2), (85, 1), (88, 1), (97, 1), (234, 1), (300, 1), (435, 2), (451, 1), (511, 1), (521, 1), (620, 1), (641, 1), (1305, 1), (1541, 1), (1542, 1)], [(2, 1), (24, 1), (31, 1), (48, 1), (51, 1), (54, 1), (55, 1), (108, 1), (145, 1), (146, 1), (147, 1), (148, 1), (149, 1), (150, 1), (151, 1), (152, 1), (153, 1), (154, 1), (155, 1), (156, 1)], [(97, 1)], [(2, 1), (24, 1), (31, 1), (48, 1), (51, 1), (54, 1), (55, 1), (108, 1), (145, 1), (146, 1), (147, 1), (148, 1), (149, 1), (150, 1), (151, 1), (152, 1), (153, 1), (154, 1), (155, 1), (156, 1)], [(2, 1), (46, 1), (53, 1), (80, 1), (88, 1), (97, 1), (145, 1), (160, 1), (185, 1), (248, 1), (700, 1), (718, 1), (1008, 1), (1012, 1), (1045, 1), (1299, 1)], [(2, 1), (24, 1), (31, 1), (48, 1), (51, 1), (54, 1), (55, 1), (108, 1), (145, 1), (146, 1), (147, 1), (148, 1), (149, 1), (150, 1), (151, 1), (152, 1), (153, 1), (154, 1), (155, 1), (156, 1)], [(24, 1), (34, 1), (37, 1), (53, 1), (65, 1), (88, 1), (99, 1), (114, 1), (145, 1), (163, 1), (216, 1), (580, 1), (943, 1), (1055, 1), (1543, 1), (1544, 1), (1545, 1), (1546, 1)], [(2, 1), (24, 1), (31, 1), (48, 1), (51, 1), (54, 1), (55, 1), (108, 1), (145, 1), (146, 1), (147, 1), (148, 1), (149, 1), (150, 1), (151, 1), (152, 1), (153, 1), (154, 1), (155, 1), (156, 1)], [(8, 1), (31, 1), (39, 1), (41, 1), (45, 1), (64, 1), (80, 1), (81, 1), (91, 1), (110, 1), (124, 1), (151, 1), (160, 1), (183, 1), (204, 1), (291, 1), (332, 1), (341, 1), (382, 1), (395, 2), (564, 1)], [(2, 1), (3, 1), (8, 1), (30, 1), (31, 2), (70, 1), (80, 2), (83, 1), (106, 1), (142, 1), (163, 1), (173, 1), (185, 1), (248, 1), (281, 1), (286, 1), (295, 1), (342, 1), (361, 1), (465, 1), (484, 1), (539, 1), (603, 1), (640, 1), (700, 1), (858, 1), (1412, 2)], [(1, 1), (17, 1), (24, 1), (30, 1), (36, 1), (81, 1), (99, 2), (123, 1), (145, 1), (227, 1), (242, 1), (315, 2), (319, 1), (361, 1), (640, 1), (1045, 1), (1547, 1), (1548, 1)], [(266, 1), (355, 1), (376, 1), (1363, 1), (1549, 1), (1550, 1), (1551, 1), (1552, 1)], [(26, 1), (31, 2), (37, 2), (49, 1), (54, 1), (64, 1), (85, 1), (88, 1), (99, 1), (100, 1), (171, 2), (190, 1), (228, 2), (229, 1), (234, 1), (261, 1), (277, 2), (551, 2), (652, 1), (1553, 1)], [(17, 1), (30, 1), (31, 2), (34, 1), (36, 1), (37, 2), (45, 1), (58, 1), (64, 1), (71, 1), (72, 1), (80, 1), (85, 1), (88, 2), (99, 2), (114, 1), (125, 1), (133, 1), (137, 1), (163, 1), (173, 1), (174, 1), (184, 1), (192, 1), (193, 1), (196, 1), (202, 1), (205, 1), (261, 1), (269, 1), (274, 1), (285, 1), (291, 1), (294, 1), (315, 1), (327, 1), (349, 1), (359, 1), (369, 1), (385, 1), (395, 1), (471, 1), (483, 1), (489, 1), (503, 1), (559, 1), (571, 1), (591, 1), (608, 1), (620, 1), (642, 1), (666, 1), (680, 1), (745, 1), (794, 1), (842, 1), (926, 1), (934, 1), (980, 1), (982, 1), (1012, 1), (1234, 1), (1330, 1), (1336, 1), (1506, 1), (1554, 1), (1555, 1), (1556, 1), (1557, 1), (1558, 1), (1559, 1)], [(2, 1), (8, 1), (37, 1), (85, 1), (88, 1), (114, 1), (133, 1), (134, 1), (137, 1), (145, 1), (160, 1), (190, 1), (251, 1), (337, 1), (455, 1), (654, 1), (962, 1), (991, 1), (1510, 1)], [(0, 1), (11, 1), (16, 1), (37, 1), (49, 1), (54, 1), (66, 1), (70, 1), (85, 1), (109, 1), (114, 1), (133, 1), (134, 1), (137, 1), (142, 1), (149, 1), (160, 2), (164, 1), (189, 1), (242, 1), (245, 1), (248, 1), (277, 1), (306, 1), (358, 1), (508, 1), (544, 1), (553, 1), (948, 1), (1088, 1), (1212, 1), (1560, 1), (1561, 1), (1562, 1), (1563, 1)], [(660, 1), (1126, 1), (1564, 1)], [(2, 1), (24, 1), (31, 1), (48, 1), (51, 1), (54, 1), (55, 1), (108, 1), (145, 1), (146, 1), (147, 1), (148, 1), (149, 1), (150, 1), (151, 1), (152, 1), (153, 1), (154, 1), (155, 1), (156, 1)], [(2, 1), (19, 1), (81, 1), (88, 1), (106, 1), (114, 1), (131, 1), (145, 2), (163, 1), (191, 1), (192, 1), (291, 1), (324, 1), (359, 1), (389, 1), (413, 1), (540, 1), (715, 1), (826, 1), (1519, 1), (1541, 1)], [(31, 1), (248, 1), (277, 1), (489, 1)], [(2, 1), (24, 1), (31, 1), (48, 1), (51, 1), (54, 1), (55, 1), (108, 1), (145, 1), (146, 1), (147, 1), (148, 1), (149, 1), (150, 1), (151, 1), (152, 1), (153, 1), (154, 1), (155, 1), (156, 1)], [(2, 1), (24, 1), (31, 1), (48, 1), (51, 1), (54, 1), (55, 1), (108, 1), (145, 1), (146, 1), (147, 1), (148, 1), (149, 1), (150, 1), (151, 1), (152, 1), (153, 1), (154, 1), (155, 1), (156, 1)], [(2, 1), (24, 1), (31, 1), (163, 1), (484, 1)], [(31, 2), (34, 2), (35, 1), (46, 1), (58, 1), (64, 1), (80, 1), (88, 1), (97, 1), (99, 1), (108, 1), (117, 1), (124, 1), (142, 1), (145, 1), (161, 1), (163, 1), (172, 1), (185, 1), (221, 1), (251, 1), (252, 1), (261, 1), (263, 1), (274, 1), (285, 1), (291, 1), (327, 1), (385, 1), (389, 2), (406, 1), (489, 1), (599, 1), (680, 1), (718, 1), (856, 1), (980, 1), (1250, 1), (1366, 1), (1565, 1), (1566, 1)], [(0, 1), (8, 1), (13, 1), (17, 1), (19, 1), (28, 1), (31, 2), (35, 1), (49, 1), (64, 2), (81, 1), (88, 1), (91, 1), (99, 2), (103, 1), (106, 1), (108, 1), (110, 1), (132, 1), (145, 1), (160, 1), (163, 2), (168, 1), (173, 1), (183, 2), (185, 1), (189, 1), (205, 1), (242, 1), (248, 1), (259, 1), (261, 2), (268, 1), (277, 1), (359, 1), (432, 1), (546, 1), (594, 1), (666, 1), (712, 1), (778, 1), (982, 1), (1058, 1), (1168, 1), (1567, 1), (1568, 1), (1569, 1), (1570, 1), (1571, 1), (1572, 1)]]\n"
     ]
    }
   ],
   "source": [
    "print(doc_term_matrix_description)"
   ]
  },
  {
   "cell_type": "code",
   "execution_count": 37,
   "metadata": {},
   "outputs": [],
   "source": [
    "ldamodel_description = LDA_topic_modelling(doc_term_matrix_description, dictionary_description, num_topics=3, passes=1)"
   ]
  },
  {
   "cell_type": "code",
   "execution_count": 38,
   "metadata": {},
   "outputs": [
    {
     "name": "stdout",
     "output_type": "stream",
     "text": [
      "Dataframe has 436 rows and 14 columns.\n"
     ]
    },
    {
     "data": {
      "text/html": [
       "<div>\n",
       "<style scoped>\n",
       "    .dataframe tbody tr th:only-of-type {\n",
       "        vertical-align: middle;\n",
       "    }\n",
       "\n",
       "    .dataframe tbody tr th {\n",
       "        vertical-align: top;\n",
       "    }\n",
       "\n",
       "    .dataframe thead th {\n",
       "        text-align: right;\n",
       "    }\n",
       "</style>\n",
       "<table border=\"1\" class=\"dataframe\">\n",
       "  <thead>\n",
       "    <tr style=\"text-align: right;\">\n",
       "      <th></th>\n",
       "      <th>latitude</th>\n",
       "      <th>longitude</th>\n",
       "      <th>bedrooms</th>\n",
       "      <th>bathrooms</th>\n",
       "      <th>finishedSqFt</th>\n",
       "      <th>lotSizeSqFt</th>\n",
       "      <th>yearBuilt</th>\n",
       "      <th>yearUpdated</th>\n",
       "      <th>numFloors</th>\n",
       "      <th>parkingType</th>\n",
       "      <th>heatingSources</th>\n",
       "      <th>heatingSystem</th>\n",
       "      <th>rooms</th>\n",
       "      <th>value</th>\n",
       "    </tr>\n",
       "    <tr>\n",
       "      <th>zpid</th>\n",
       "      <th></th>\n",
       "      <th></th>\n",
       "      <th></th>\n",
       "      <th></th>\n",
       "      <th></th>\n",
       "      <th></th>\n",
       "      <th></th>\n",
       "      <th></th>\n",
       "      <th></th>\n",
       "      <th></th>\n",
       "      <th></th>\n",
       "      <th></th>\n",
       "      <th></th>\n",
       "      <th></th>\n",
       "    </tr>\n",
       "  </thead>\n",
       "  <tbody>\n",
       "    <tr>\n",
       "      <th>40000010</th>\n",
       "      <td>40.648331</td>\n",
       "      <td>-74.390096</td>\n",
       "      <td>3.0</td>\n",
       "      <td>2.0</td>\n",
       "      <td>1415.0</td>\n",
       "      <td>7405.0</td>\n",
       "      <td>1950.0</td>\n",
       "      <td>2008.0</td>\n",
       "      <td>2.0</td>\n",
       "      <td>Garage - Attached</td>\n",
       "      <td>Gas</td>\n",
       "      <td>Baseboard, Other</td>\n",
       "      <td>Office, Workshop, Family room, Laundry room</td>\n",
       "      <td>16980.0</td>\n",
       "    </tr>\n",
       "    <tr>\n",
       "      <th>40000018</th>\n",
       "      <td>40.648321</td>\n",
       "      <td>-74.389390</td>\n",
       "      <td>3.0</td>\n",
       "      <td>2.0</td>\n",
       "      <td>1610.0</td>\n",
       "      <td>7405.0</td>\n",
       "      <td>1960.0</td>\n",
       "      <td>2008.0</td>\n",
       "      <td>1.0</td>\n",
       "      <td>Garage - Attached</td>\n",
       "      <td>Gas</td>\n",
       "      <td>Forced air</td>\n",
       "      <td>Dining room</td>\n",
       "      <td>9660.0</td>\n",
       "    </tr>\n",
       "    <tr>\n",
       "      <th>40000025</th>\n",
       "      <td>40.646639</td>\n",
       "      <td>-74.388248</td>\n",
       "      <td>3.0</td>\n",
       "      <td>2.0</td>\n",
       "      <td>1289.0</td>\n",
       "      <td>6969.0</td>\n",
       "      <td>1925.0</td>\n",
       "      <td>2001.0</td>\n",
       "      <td>4.0</td>\n",
       "      <td>Garage - Detached</td>\n",
       "      <td>Gas</td>\n",
       "      <td>Baseboard</td>\n",
       "      <td>Family room, Pantry</td>\n",
       "      <td>30936.0</td>\n",
       "    </tr>\n",
       "    <tr>\n",
       "      <th>40000028</th>\n",
       "      <td>40.647154</td>\n",
       "      <td>-74.387803</td>\n",
       "      <td>5.0</td>\n",
       "      <td>4.0</td>\n",
       "      <td>3993.0</td>\n",
       "      <td>21052.0</td>\n",
       "      <td>2013.0</td>\n",
       "      <td>2013.0</td>\n",
       "      <td>2.0</td>\n",
       "      <td>Garage - Attached</td>\n",
       "      <td>Gas</td>\n",
       "      <td>Forced air</td>\n",
       "      <td>Dining room, Family room, Laundry room, Master...</td>\n",
       "      <td>159720.0</td>\n",
       "    </tr>\n",
       "    <tr>\n",
       "      <th>40000029</th>\n",
       "      <td>40.647189</td>\n",
       "      <td>-74.387409</td>\n",
       "      <td>4.0</td>\n",
       "      <td>3.0</td>\n",
       "      <td>1712.0</td>\n",
       "      <td>11848.0</td>\n",
       "      <td>1932.0</td>\n",
       "      <td>2008.0</td>\n",
       "      <td>2.0</td>\n",
       "      <td>Garage - Detached</td>\n",
       "      <td>Gas</td>\n",
       "      <td>Forced air</td>\n",
       "      <td>Dining room, Family room, Master bath, Mud room</td>\n",
       "      <td>41088.0</td>\n",
       "    </tr>\n",
       "  </tbody>\n",
       "</table>\n",
       "</div>"
      ],
      "text/plain": [
       "           latitude  longitude  bedrooms  bathrooms  finishedSqFt  \\\n",
       "zpid                                                                \n",
       "40000010  40.648331 -74.390096       3.0        2.0        1415.0   \n",
       "40000018  40.648321 -74.389390       3.0        2.0        1610.0   \n",
       "40000025  40.646639 -74.388248       3.0        2.0        1289.0   \n",
       "40000028  40.647154 -74.387803       5.0        4.0        3993.0   \n",
       "40000029  40.647189 -74.387409       4.0        3.0        1712.0   \n",
       "\n",
       "          lotSizeSqFt  yearBuilt  yearUpdated  numFloors        parkingType  \\\n",
       "zpid                                                                          \n",
       "40000010       7405.0     1950.0       2008.0        2.0  Garage - Attached   \n",
       "40000018       7405.0     1960.0       2008.0        1.0  Garage - Attached   \n",
       "40000025       6969.0     1925.0       2001.0        4.0  Garage - Detached   \n",
       "40000028      21052.0     2013.0       2013.0        2.0  Garage - Attached   \n",
       "40000029      11848.0     1932.0       2008.0        2.0  Garage - Detached   \n",
       "\n",
       "         heatingSources     heatingSystem  \\\n",
       "zpid                                        \n",
       "40000010            Gas  Baseboard, Other   \n",
       "40000018            Gas        Forced air   \n",
       "40000025            Gas         Baseboard   \n",
       "40000028            Gas        Forced air   \n",
       "40000029            Gas        Forced air   \n",
       "\n",
       "                                                      rooms     value  \n",
       "zpid                                                                   \n",
       "40000010        Office, Workshop, Family room, Laundry room   16980.0  \n",
       "40000018                                        Dining room    9660.0  \n",
       "40000025                                Family room, Pantry   30936.0  \n",
       "40000028  Dining room, Family room, Laundry room, Master...  159720.0  \n",
       "40000029    Dining room, Family room, Master bath, Mud room   41088.0  "
      ]
     },
     "execution_count": 38,
     "metadata": {},
     "output_type": "execute_result"
    }
   ],
   "source": [
    "print(\"Dataframe has {} rows and {} columns.\".format(*df.shape))\n",
    "df.head()"
   ]
  },
  {
   "cell_type": "code",
   "execution_count": 39,
   "metadata": {},
   "outputs": [
    {
     "name": "stdout",
     "output_type": "stream",
     "text": [
      "Dataframe has 436 rows and 237 columns.\n"
     ]
    }
   ],
   "source": [
    "# Dummy encoding\n",
    "categorical_feats = ['parkingType', 'heatingSources', 'heatingSystem','rooms' ]\n",
    "df = pd.get_dummies(df, columns=categorical_feats, drop_first=False)\n",
    "print(\"Dataframe has {} rows and {} columns.\".format(*df.shape))"
   ]
  },
  {
   "cell_type": "code",
   "execution_count": 40,
   "metadata": {},
   "outputs": [],
   "source": [
    "# Create response and target variable\n",
    "target = 'value'\n",
    "X = df.drop(target, axis=1)\n",
    "y = df[target]"
   ]
  },
  {
   "cell_type": "code",
   "execution_count": 41,
   "metadata": {},
   "outputs": [],
   "source": [
    "# Train test split\n",
    "test_size = 0.2\n",
    "seed = 50\n",
    "\n",
    "X_train, X_test, y_train, y_test = train_test_split(X, y, test_size=test_size, random_state=seed)"
   ]
  },
  {
   "cell_type": "code",
   "execution_count": 42,
   "metadata": {},
   "outputs": [],
   "source": [
    "#Linear Regression\n",
    "from sklearn import linear_model\n",
    "from sklearn.metrics import mean_squared_error, r2_score"
   ]
  },
  {
   "cell_type": "code",
   "execution_count": 43,
   "metadata": {},
   "outputs": [
    {
     "data": {
      "text/plain": [
       "LinearRegression(copy_X=True, fit_intercept=True, n_jobs=1, normalize=False)"
      ]
     },
     "execution_count": 43,
     "metadata": {},
     "output_type": "execute_result"
    }
   ],
   "source": [
    "# Create linear regression object\n",
    "regr = linear_model.LinearRegression()\n",
    "\n",
    "# Train the model using the training sets\n",
    "regr.fit(X_train, y_train)"
   ]
  },
  {
   "cell_type": "code",
   "execution_count": 44,
   "metadata": {},
   "outputs": [
    {
     "name": "stdout",
     "output_type": "stream",
     "text": [
      "Mean squared error: 699335947.87\n",
      "Variance score: 0.45\n"
     ]
    }
   ],
   "source": [
    "# Make predictions using the testing set\n",
    "regr_y_pred = regr.predict(X_test)\n",
    "\n",
    "# The mean squared error\n",
    "print(\"Mean squared error: %.2f\" % mean_squared_error(y_test, regr_y_pred))\n",
    "# Explained variance score: 1 is perfect prediction\n",
    "print('Variance score: %.2f' % r2_score(y_test, regr_y_pred))"
   ]
  },
  {
   "cell_type": "code",
   "execution_count": null,
   "metadata": {},
   "outputs": [],
   "source": []
  },
  {
   "cell_type": "code",
   "execution_count": 45,
   "metadata": {},
   "outputs": [
    {
     "data": {
      "text/plain": [
       "[('home', 403),\n",
       " ('room', 331),\n",
       " ('2', 290),\n",
       " ('train', 257),\n",
       " ('family', 255),\n",
       " ('3', 244),\n",
       " ('walk', 229),\n",
       " ('close', 227),\n",
       " ('kitchen', 214),\n",
       " ('shopping', 197),\n",
       " ('bus', 187),\n",
       " ('well', 183),\n",
       " ('new', 181),\n",
       " ('neighborhood', 181),\n",
       " ('center', 180),\n",
       " ('convenient', 171),\n",
       " ('need', 169),\n",
       " ('floor', 168),\n",
       " ('block', 166),\n",
       " ('prime', 160)]"
      ]
     },
     "execution_count": 45,
     "metadata": {},
     "output_type": "execute_result"
    }
   ],
   "source": [
    "# BOW across all listings\n",
    "bow = Counter(itertools.chain(*processed_corpus_description))\n",
    "bow.most_common(20)"
   ]
  },
  {
   "cell_type": "code",
   "execution_count": 46,
   "metadata": {},
   "outputs": [
    {
     "name": "stdout",
     "output_type": "stream",
     "text": [
      "home 2\n",
      "basement 2\n",
      "room 2\n",
      "full 2\n",
      "half 2\n"
     ]
    }
   ],
   "source": [
    "# Top 5 BOW per listing\n",
    "doc = doc_term_matrix_description[435]\n",
    "bow_doc = sorted(doc, key=lambda w: w[1], reverse=True)\n",
    "for word_id, word_count in bow_doc[:5]:\n",
    "    print(dictionary_description.get(word_id), word_count)"
   ]
  },
  {
   "cell_type": "code",
   "execution_count": 47,
   "metadata": {},
   "outputs": [],
   "source": [
    "# Total frequency across all listings\n",
    "totalfreq = defaultdict(int)\n",
    "for word_id, freq in itertools.chain.from_iterable(doc_term_matrix_description):\n",
    "    totalfreq[word_id] += freq"
   ]
  },
  {
   "cell_type": "code",
   "execution_count": 48,
   "metadata": {},
   "outputs": [
    {
     "name": "stdout",
     "output_type": "stream",
     "text": [
      "[(183, 0.2581147398173826), (1567, 0.23277729568994798), (1568, 0.23277729568994798), (1569, 0.23277729568994798), (1570, 0.23277729568994798)]\n",
      "key\n"
     ]
    }
   ],
   "source": [
    "# TF-IDF model fitted on corpus, showing per doc\n",
    "tfidf = TfidfModel(doc_term_matrix_description)\n",
    "tfidf_weights = tfidf[doc]\n",
    "sorted_tfidf_weights = sorted(tfidf_weights, key=lambda w: w[1], reverse=True)\n",
    "print(sorted_tfidf_weights[:5])\n",
    "print(dictionary_description.get(198))"
   ]
  },
  {
   "cell_type": "code",
   "execution_count": null,
   "metadata": {},
   "outputs": [],
   "source": []
  }
 ],
 "metadata": {
  "kernelspec": {
   "display_name": "Python 3",
   "language": "python",
   "name": "python3"
  },
  "language_info": {
   "codemirror_mode": {
    "name": "ipython",
    "version": 3
   },
   "file_extension": ".py",
   "mimetype": "text/x-python",
   "name": "python",
   "nbconvert_exporter": "python",
   "pygments_lexer": "ipython3",
   "version": "3.6.5"
  }
 },
 "nbformat": 4,
 "nbformat_minor": 2
}
